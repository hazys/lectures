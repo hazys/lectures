{
 "cells": [
  {
   "cell_type": "markdown",
   "id": "0f808ade-602a-447d-8621-3de0be4fb800",
   "metadata": {},
   "source": [
    "# Деревья поиска"
   ]
  },
  {
   "cell_type": "code",
   "execution_count": 7,
   "id": "27e9ce53-552e-4167-9a8c-f721747a534c",
   "metadata": {},
   "outputs": [],
   "source": [
    "#include <iostream>\n",
    "#include <stack>\n",
    "\n",
    "using namespace std;"
   ]
  },
  {
   "cell_type": "markdown",
   "id": "949166f8-f4eb-4aa0-b6be-d59442aa23a0",
   "metadata": {},
   "source": [
    "## Дерево поиска"
   ]
  },
  {
   "cell_type": "markdown",
   "id": "7ce553e4-5c8e-43eb-ad1c-3a7b5aafd1f2",
   "metadata": {},
   "source": [
    "классическое дерево поиска"
   ]
  },
  {
   "cell_type": "code",
   "execution_count": 1,
   "id": "968ac041-854b-4561-8c03-9a6400325ee9",
   "metadata": {},
   "outputs": [],
   "source": [
    "struct SearchTreeNode {\n",
    "    int key;\n",
    "    int data;\n",
    "    SearchTreeNode *left, *right;\n",
    "};"
   ]
  },
  {
   "cell_type": "code",
   "execution_count": 2,
   "id": "c4e405c2-b12e-444e-ac06-2f42418a0385",
   "metadata": {},
   "outputs": [],
   "source": [
    "class SearchTree {\n",
    "private:\n",
    "\n",
    "    SearchTreeNode *root;\n",
    "    int count;\n",
    "    int invalid;\n",
    "public:\n",
    "    SearchTree(int invalidData);\n",
    "    ~SearchTree();\n",
    "\n",
    "    void print();\n",
    "    int minKeyData();\n",
    "    int maxKeyData();\n",
    "    int getDataByKey(int key);\n",
    "    void insert(int key, int data);\n",
    "    void deleteNode(int key);\n",
    "};"
   ]
  },
  {
   "cell_type": "code",
   "execution_count": 3,
   "id": "d8a69eff-920c-4f58-8e5a-8a1dea2226fc",
   "metadata": {},
   "outputs": [],
   "source": [
    "SearchTreeNode *newNodeSearch(int item, int data) {\n",
    "    auto *temp = new SearchTreeNode;\n",
    "    temp->key = item;\n",
    "    temp->data = data;\n",
    "    temp->left = temp->right = nullptr;\n",
    "    return temp;\n",
    "}\n"
   ]
  },
  {
   "cell_type": "code",
   "execution_count": 4,
   "id": "154ed79e-fe73-4ad4-907c-9c5d378fbc86",
   "metadata": {},
   "outputs": [],
   "source": [
    "SearchTree::SearchTree(int invalidData) {\n",
    "    root = nullptr;\n",
    "    count = 0;\n",
    "    invalid = invalidData;\n",
    "}"
   ]
  },
  {
   "cell_type": "code",
   "execution_count": 8,
   "id": "1812e5d4-125b-47ab-8b6b-c4be15e7b038",
   "metadata": {},
   "outputs": [],
   "source": [
    "SearchTree::~SearchTree() {\n",
    "    count = 0;\n",
    "\n",
    "    stack<SearchTreeNode*> stack;\n",
    "    stack.push(root);\n",
    "\n",
    "    while (true){\n",
    "        if (stack.empty())\n",
    "            break;\n",
    "\n",
    "        auto curr = stack.top(); stack.pop();\n",
    "\n",
    "        if (curr != nullptr){\n",
    "            stack.push(curr->left);\n",
    "            stack.push(curr->right);\n",
    "            delete curr;\n",
    "        }\n",
    "    }\n",
    "\n",
    "}"
   ]
  },
  {
   "cell_type": "code",
   "execution_count": 9,
   "id": "132c5111-9906-45bc-8fa4-8b0fcd665101",
   "metadata": {},
   "outputs": [],
   "source": [
    "void inorder(SearchTreeNode *root) {\n",
    "    if (root != nullptr) {\n",
    "        inorder(root->left);\n",
    "        cout << root->key << \" -> \";\n",
    "        inorder(root->right);\n",
    "    }\n",
    "}"
   ]
  },
  {
   "cell_type": "code",
   "execution_count": 10,
   "id": "c9a626f8-8aef-4a5e-a4b3-378d029ab305",
   "metadata": {},
   "outputs": [],
   "source": [
    "void SearchTree::print() {\n",
    "    inorder(root);\n",
    "}"
   ]
  },
  {
   "cell_type": "code",
   "execution_count": 11,
   "id": "cfc334fe-d413-4854-bac5-8aec07322b89",
   "metadata": {},
   "outputs": [],
   "source": [
    "SearchTreeNode* leftStep(SearchTreeNode* root){\n",
    "    if (root != nullptr)\n",
    "        return root->left;\n",
    "    return nullptr;\n",
    "}"
   ]
  },
  {
   "cell_type": "code",
   "execution_count": 12,
   "id": "31bbb6a1-c8f5-4ed6-b7eb-6aac386c47d8",
   "metadata": {},
   "outputs": [],
   "source": [
    "int SearchTree::minKeyData(){\n",
    "    auto tmp = root;\n",
    "    if (tmp == nullptr)\n",
    "        return invalid;\n",
    "    while (tmp != nullptr)\n",
    "        tmp = leftStep(tmp);\n",
    "    return tmp->data;\n",
    "}"
   ]
  },
  {
   "cell_type": "code",
   "execution_count": 13,
   "id": "ebcf1f70-ea21-4910-bc55-878dd9ae12ea",
   "metadata": {},
   "outputs": [],
   "source": [
    "SearchTreeNode* rightStep(SearchTreeNode* root){\n",
    "    if (root != nullptr)\n",
    "        return root->right;\n",
    "    return nullptr;\n",
    "}"
   ]
  },
  {
   "cell_type": "code",
   "execution_count": 14,
   "id": "12cd49da-6e62-41f3-93b4-6940e01eaa25",
   "metadata": {},
   "outputs": [],
   "source": [
    "int SearchTree::maxKeyData(){\n",
    "    auto tmp = root;\n",
    "    if (tmp == nullptr)\n",
    "        return invalid;\n",
    "    while (tmp != nullptr)\n",
    "        tmp = rightStep(tmp);\n",
    "    return tmp->data;\n",
    "}"
   ]
  },
  {
   "cell_type": "code",
   "execution_count": 15,
   "id": "3ed94c71-6f9a-4cc5-ba1b-2d859cba7651",
   "metadata": {},
   "outputs": [],
   "source": [
    "SearchTreeNode* search(SearchTreeNode* root, int key){\n",
    "    if (root == nullptr || root->key == key)\n",
    "        return root;\n",
    "    if (root->key < key)\n",
    "        return search(root->right, key);\n",
    "    return search(root->left, key);\n",
    "}"
   ]
  },
  {
   "cell_type": "code",
   "execution_count": 16,
   "id": "4eebdfdd-0db8-476e-ba5b-e9de380265d2",
   "metadata": {},
   "outputs": [],
   "source": [
    "int SearchTree::getDataByKey(int key){\n",
    "    auto node = search(root, key);\n",
    "    if (node != nullptr)\n",
    "        return node->data;\n",
    "    return invalid;\n",
    "}"
   ]
  },
  {
   "cell_type": "code",
   "execution_count": 17,
   "id": "58746b7e-fbf6-4f38-a7ea-1471513110dd",
   "metadata": {},
   "outputs": [],
   "source": [
    "SearchTreeNode* insert(SearchTreeNode *node, int key, int data) {\n",
    "    if (node == nullptr) return newNodeSearch(key, data);\n",
    "\n",
    "    if (key < node->key)\n",
    "        node->left = insert(node->left, key, data);\n",
    "    else\n",
    "        node->right = insert(node->right, key, data);\n",
    "\n",
    "    return node;\n",
    "}"
   ]
  },
  {
   "cell_type": "code",
   "execution_count": 18,
   "id": "b604417f-63d2-46be-bdca-e87051fe0e44",
   "metadata": {},
   "outputs": [],
   "source": [
    "void SearchTree::insert(int key, int data){\n",
    "    root = ::insert(root, key, data);\n",
    "}"
   ]
  },
  {
   "cell_type": "code",
   "execution_count": 19,
   "id": "f3fa5f54-d5da-4212-b543-295def2ad029",
   "metadata": {},
   "outputs": [],
   "source": [
    "SearchTreeNode* searchParent(SearchTreeNode* root, int key){\n",
    "    if (root == nullptr)\n",
    "        return root;\n",
    "    if ((root->left != nullptr) && (root->left->data == key))\n",
    "        return  root;\n",
    "    if ((root->right != nullptr) && (root->right->data == key))\n",
    "        return  root;\n",
    "    if (root->key < key)\n",
    "        return search(root->right, key);\n",
    "    return search(root->left, key);\n",
    "}"
   ]
  },
  {
   "cell_type": "code",
   "execution_count": 20,
   "id": "0053bd2c-5e95-49e8-8f28-12db0d50cdfe",
   "metadata": {},
   "outputs": [],
   "source": [
    "SearchTreeNode* deleteNode(SearchTreeNode* root, int key){\n",
    "    if (root == nullptr) return root;\n",
    "\n",
    "    if (key < root->key)\n",
    "        root->left = deleteNode(root->left, key);\n",
    "    else if (key > root->key)\n",
    "        root->right = deleteNode(root->right, key);\n",
    "    else {\n",
    "        if (root->left == nullptr) {\n",
    "            auto temp = root->right;\n",
    "            delete root;\n",
    "            return temp;\n",
    "        } else if (root->right == nullptr) {\n",
    "            auto  *temp = root->left;\n",
    "            delete root;\n",
    "            return temp;\n",
    "        }\n",
    "\n",
    "        //если узел в корне надо в правом дереве найти минимум и поставить в корень\n",
    "        auto prnt = root;\n",
    "        auto curr = root->right;\n",
    "        while (curr->left != nullptr) {\n",
    "            prnt = curr;\n",
    "            curr = curr->left;\n",
    "        }\n",
    "        root->key = curr->key;\n",
    "        root->right = deleteNode(root->right, curr->key);\n",
    "    }\n",
    "    return root;\n",
    "}"
   ]
  },
  {
   "cell_type": "code",
   "execution_count": 21,
   "id": "7b2ac5bd-d520-40d9-801c-daaec05f5d0a",
   "metadata": {},
   "outputs": [],
   "source": [
    "void SearchTree::deleteNode(int key) {\n",
    "    root = ::deleteNode(root, key);\n",
    "}"
   ]
  },
  {
   "cell_type": "markdown",
   "id": "e6b248b4-e79c-4150-b249-32d707603a37",
   "metadata": {},
   "source": [
    "## AVL-дерево"
   ]
  },
  {
   "cell_type": "markdown",
   "id": "8b2f58bb-6caa-45a8-8d7c-9d7d8fbd9afa",
   "metadata": {},
   "source": [
    "### Концепция поворотов"
   ]
  },
  {
   "cell_type": "code",
   "execution_count": null,
   "id": "d55a962b-59ff-45f5-a1f3-410a82ba5f1f",
   "metadata": {},
   "outputs": [],
   "source": []
  },
  {
   "cell_type": "markdown",
   "id": "b09289f4-4b7b-4e0d-9dd8-e038c2728ab6",
   "metadata": {},
   "source": [
    "реализация"
   ]
  },
  {
   "cell_type": "markdown",
   "id": "808e1779-2ad4-466b-8cc5-f90b8d11bb9c",
   "metadata": {},
   "source": [
    "Концепция: разность высот 2-х поддеревьев не больше чем 1."
   ]
  },
  {
   "cell_type": "code",
   "execution_count": 22,
   "id": "a5839111-c4f3-47cc-a982-0aaebee7f976",
   "metadata": {},
   "outputs": [],
   "source": [
    "class AVLTreeNode {\n",
    "public:\n",
    "    int key;\n",
    "    int data;\n",
    "    AVLTreeNode *left;\n",
    "    AVLTreeNode *right;\n",
    "    int height;\n",
    "};"
   ]
  },
  {
   "cell_type": "code",
   "execution_count": 23,
   "id": "276329e7-a9a5-4a28-9478-692279573a3e",
   "metadata": {},
   "outputs": [],
   "source": [
    "class AVLTree {\n",
    "private:\n",
    "    AVLTreeNode *root;\n",
    "    int count;\n",
    "    int invalid;\n",
    "public:\n",
    "    AVLTree(int invalid);\n",
    "    ~AVLTree();\n",
    "\n",
    "    void print();\n",
    "    int minKeyData();\n",
    "    int maxKeyData();\n",
    "    int getDataByKey(int key);\n",
    "    void insert(int key, int data);\n",
    "    void deleteNode(int key);\n",
    "};"
   ]
  },
  {
   "cell_type": "code",
   "execution_count": 24,
   "id": "c8883fc1-acfa-4b44-9448-b33faf3642e5",
   "metadata": {},
   "outputs": [],
   "source": [
    "#include <iostream>\n",
    "#include <stack>\n",
    "#include <string>\n",
    "using namespace std;"
   ]
  },
  {
   "cell_type": "code",
   "execution_count": null,
   "id": "5bae6168-09ac-4281-8f7d-4bb0ca2798a6",
   "metadata": {},
   "outputs": [],
   "source": []
  },
  {
   "cell_type": "code",
   "execution_count": 25,
   "id": "290eec90-17f0-4bfe-af5b-7b2777700a0a",
   "metadata": {},
   "outputs": [],
   "source": [
    "AVLTreeNode *newNode(int key, int data) {\n",
    "    auto node = new AVLTreeNode;\n",
    "    node->key = key;\n",
    "    node->data = data;\n",
    "    node->left = nullptr;\n",
    "    node->right = nullptr;\n",
    "    node->height = 1;\n",
    "    return node;\n",
    "}"
   ]
  },
  {
   "cell_type": "code",
   "execution_count": 26,
   "id": "4c52bfe2-3177-4d77-ae3e-45c83661ef40",
   "metadata": {},
   "outputs": [],
   "source": [
    "int max(int a, int b) {\n",
    "    return (a > b) ? a : b;\n",
    "}"
   ]
  },
  {
   "cell_type": "code",
   "execution_count": 27,
   "id": "e515046f-83fe-428e-8f5e-179a3687c2a2",
   "metadata": {},
   "outputs": [],
   "source": [
    "int height(AVLTreeNode *N) {\n",
    "    if (N == nullptr)\n",
    "        return 0;\n",
    "    return N->height;\n",
    "}"
   ]
  },
  {
   "cell_type": "code",
   "execution_count": 28,
   "id": "314688e1-f85f-4ae0-91dc-4c1643028ac1",
   "metadata": {},
   "outputs": [],
   "source": [
    "AVLTreeNode *rightRotate(AVLTreeNode *y) {\n",
    "    auto x = y->left;\n",
    "    auto t2 = x->right;\n",
    "    x->right = y;\n",
    "    y->left = t2;\n",
    "    y->height = max(height(y->left),height(y->right)) + 1;\n",
    "    x->height = max(height(x->left),height(x->right)) + 1;\n",
    "    return x;\n",
    "}"
   ]
  },
  {
   "cell_type": "code",
   "execution_count": 29,
   "id": "badc002d-7181-42c4-bf10-d058a09acd79",
   "metadata": {},
   "outputs": [],
   "source": [
    "AVLTreeNode *leftRotate(AVLTreeNode *x) {\n",
    "    auto y = x->right;\n",
    "    auto T2 = y->left;\n",
    "    y->left = x;\n",
    "    x->right = T2;\n",
    "    x->height = max(height(x->left),height(x->right)) + 1;\n",
    "    y->height = max(height(y->left),height(y->right)) + 1;\n",
    "    return y;\n",
    "}"
   ]
  },
  {
   "cell_type": "code",
   "execution_count": 30,
   "id": "22d1ad4f-3621-439d-8881-4bb65d75a620",
   "metadata": {},
   "outputs": [],
   "source": [
    "int getBalanceFactor(AVLTreeNode *node) {\n",
    "    if (node == nullptr)\n",
    "        return 0;\n",
    "    return height(node->left) - height(node->right);\n",
    "}"
   ]
  },
  {
   "cell_type": "code",
   "execution_count": 31,
   "id": "83c02a04-ca88-4104-990c-9429907fe998",
   "metadata": {},
   "outputs": [],
   "source": [
    "AVLTreeNode *minNode(AVLTreeNode *node) {\n",
    "    AVLTreeNode *current = node;\n",
    "    while (current->left != nullptr)\n",
    "        current = current->left;\n",
    "    return current;\n",
    "}"
   ]
  },
  {
   "cell_type": "code",
   "execution_count": 32,
   "id": "d77e06d6-2ae2-4c12-80d1-df8477a1911e",
   "metadata": {},
   "outputs": [],
   "source": [
    "AVLTree::AVLTree(int invalid){\n",
    "    root = nullptr;\n",
    "    count = 0;\n",
    "    this->invalid = invalid;\n",
    "}"
   ]
  },
  {
   "cell_type": "code",
   "execution_count": 33,
   "id": "a11437c8-27a0-4a63-b084-3dbd46b62aeb",
   "metadata": {},
   "outputs": [],
   "source": [
    "AVLTree::~AVLTree(){\n",
    "    count = 0;\n",
    "\n",
    "    stack<AVLTreeNode*> stack;\n",
    "    stack.push(root);\n",
    "\n",
    "    while (true){\n",
    "        if (stack.empty())\n",
    "            break;\n",
    "\n",
    "        auto curr = stack.top(); stack.pop();\n",
    "\n",
    "        if (curr != nullptr){\n",
    "            stack.push(curr->left);\n",
    "            stack.push(curr->right);\n",
    "            delete curr;\n",
    "        }\n",
    "    }\n",
    "}"
   ]
  },
  {
   "cell_type": "code",
   "execution_count": 34,
   "id": "419cf36a-903a-499f-8972-a6515b0d3849",
   "metadata": {},
   "outputs": [],
   "source": [
    "void printTree(AVLTreeNode *root, string indent, bool last) {\n",
    "    if (root != nullptr) {\n",
    "        cout << indent;\n",
    "        if (last) {\n",
    "            cout << \"R----\";\n",
    "            indent += \"   \";\n",
    "        } else {\n",
    "            cout << \"L----\";\n",
    "            indent += \"|  \";\n",
    "        }\n",
    "        cout << root->key << endl;\n",
    "        printTree(root->left, indent, false);\n",
    "        printTree(root->right, indent, true);\n",
    "    }\n",
    "}"
   ]
  },
  {
   "cell_type": "code",
   "execution_count": 35,
   "id": "496b770d-51e8-41a1-8290-02c16ac33fc3",
   "metadata": {},
   "outputs": [],
   "source": [
    "void AVLTree::print(){\n",
    "    printTree(root, \"\", true);\n",
    "}"
   ]
  },
  {
   "cell_type": "code",
   "execution_count": 36,
   "id": "080adffb-cda0-485a-8168-12f7bd3e2a5e",
   "metadata": {},
   "outputs": [],
   "source": [
    "int AVLTree::minKeyData(){\n",
    "    auto curr = root;\n",
    "    while (curr->left != nullptr) {\n",
    "        curr = curr->left;\n",
    "    }\n",
    "    return curr->data;\n",
    "}"
   ]
  },
  {
   "cell_type": "code",
   "execution_count": 37,
   "id": "b6782b5d-e512-446b-ba95-06404baafbfc",
   "metadata": {},
   "outputs": [],
   "source": [
    "int AVLTree::maxKeyData(){\n",
    "    auto curr = root;\n",
    "    while (curr->right != nullptr) {\n",
    "        curr = curr->right;\n",
    "    }\n",
    "    return curr->data;\n",
    "}"
   ]
  },
  {
   "cell_type": "code",
   "execution_count": 38,
   "id": "c941fc5c-1f75-4696-8714-4953363faee0",
   "metadata": {},
   "outputs": [],
   "source": [
    "AVLTreeNode* search(AVLTreeNode* root, int key){\n",
    "    if (root == nullptr || root->key == key)\n",
    "        return root;\n",
    "    if (root->key < key)\n",
    "        return search(root->right, key);\n",
    "    return search(root->left, key);\n",
    "}"
   ]
  },
  {
   "cell_type": "code",
   "execution_count": 39,
   "id": "15888a80-d5f9-4664-834c-73009760ae1e",
   "metadata": {},
   "outputs": [],
   "source": [
    "int AVLTree::getDataByKey(int key){\n",
    "    auto node = search(root, key);\n",
    "    if (node != nullptr)\n",
    "        return node->data;\n",
    "    return invalid;\n",
    "}"
   ]
  },
  {
   "cell_type": "code",
   "execution_count": 40,
   "id": "1a687e22-0254-40d6-8ce7-646f9e7d0ba5",
   "metadata": {},
   "outputs": [],
   "source": [
    "AVLTreeNode *insertNode(AVLTreeNode *node, int key, int data) {\n",
    "\n",
    "    if (node == nullptr)\n",
    "        return (newNode(key, data));\n",
    "    if (key < node->key)\n",
    "        node->left = insertNode(node->left, key,data);\n",
    "    else if (key > node->key)\n",
    "        node->right = insertNode(node->right, key, data);\n",
    "    else {\n",
    "        node->data = data;\n",
    "        return node;\n",
    "    }\n",
    "\n",
    "    node->height = 1 + max(height(node->left),height(node->right));\n",
    "    int balanceFactor = getBalanceFactor(node);\n",
    "    if (balanceFactor > 1) {\n",
    "        if (key < node->left->key) {\n",
    "            return rightRotate(node);\n",
    "        } else if (key > node->left->key) {\n",
    "            node->left = leftRotate(node->left);\n",
    "            return rightRotate(node);\n",
    "        }\n",
    "    }\n",
    "    if (balanceFactor < -1) {\n",
    "        if (key > node->right->key) {\n",
    "            return leftRotate(node);\n",
    "        } else if (key < node->right->key) {\n",
    "            node->right = rightRotate(node->right);\n",
    "            return leftRotate(node);\n",
    "        }\n",
    "    }\n",
    "    return node;\n",
    "}"
   ]
  },
  {
   "cell_type": "code",
   "execution_count": 41,
   "id": "3288a8a9-b267-4d50-9745-63d959937548",
   "metadata": {},
   "outputs": [],
   "source": [
    "void AVLTree::insert(int key, int data){\n",
    "    root = insertNode(root, key, data);\n",
    "}"
   ]
  },
  {
   "cell_type": "code",
   "execution_count": 42,
   "id": "6b6087a1-c146-49ee-b54a-1576cc985911",
   "metadata": {},
   "outputs": [],
   "source": [
    "AVLTreeNode *deleteNode(AVLTreeNode *root, int key) {\n",
    "\n",
    "    if (root == nullptr)\n",
    "        return root;\n",
    "    if (key < root->key)\n",
    "        root->left = deleteNode(root->left, key);\n",
    "    else if (key > root->key)\n",
    "        root->right = deleteNode(root->right, key);\n",
    "    else {\n",
    "        if ((root->left == nullptr) ||\n",
    "            (root->right == nullptr)) {\n",
    "            auto temp = root->left ? root->left : root->right;\n",
    "            if (temp == nullptr) {\n",
    "                temp = root;\n",
    "                root = nullptr;\n",
    "            } else\n",
    "                *root = *temp;\n",
    "            delete temp;\n",
    "        } else {\n",
    "            auto temp = minNode(root->right);\n",
    "            root->key = temp->key;\n",
    "            root->right = deleteNode(root->right,temp->key);\n",
    "        }\n",
    "    }\n",
    "    if (root == nullptr)\n",
    "        return root;\n",
    "\n",
    "    root->height = 1 + max(height(root->left),height(root->right));\n",
    "    int balanceFactor = getBalanceFactor(root);\n",
    "    if (balanceFactor > 1) {\n",
    "        if (getBalanceFactor(root->left) >= 0) {\n",
    "            return rightRotate(root);\n",
    "        } else {\n",
    "            root->left = leftRotate(root->left);\n",
    "            return rightRotate(root);\n",
    "        }\n",
    "    }\n",
    "    if (balanceFactor < -1) {\n",
    "        if (getBalanceFactor(root->right) <= 0) {\n",
    "            return leftRotate(root);\n",
    "        } else {\n",
    "            root->right = rightRotate(root->right);\n",
    "            return leftRotate(root);\n",
    "        }\n",
    "    }\n",
    "    return root;\n",
    "}"
   ]
  },
  {
   "cell_type": "code",
   "execution_count": 43,
   "id": "1a4e9b24-a2be-4f27-bfb1-9ee2649b4cd2",
   "metadata": {},
   "outputs": [],
   "source": [
    "void AVLTree::deleteNode(int key){\n",
    "    root = ::deleteNode(root, key);\n",
    "}"
   ]
  },
  {
   "cell_type": "markdown",
   "id": "88c1d533-a375-4d8a-99c4-75d059154a58",
   "metadata": {},
   "source": [
    "## Красно-черное дерево"
   ]
  },
  {
   "cell_type": "markdown",
   "id": "ef79b792-647b-44c7-9686-d4ab1de3e55d",
   "metadata": {},
   "source": [
    "Свойства:\n",
    "1. Каждый узел красный или черный\n",
    "2. Корень и листья - черные\n",
    "3. У красного узла родительский узел - черный\n",
    "4. Все простые пути из любого узла Х к листьям содержат одинаковое кол-во черных узлов"
   ]
  },
  {
   "cell_type": "markdown",
   "id": "76213538-9e1b-4aa7-a4a5-f393cfc56087",
   "metadata": {},
   "source": [
    "Будем называть чёрной высотой (англ. black-height) вершины x число чёрных вершин на пути из x в лист."
   ]
  },
  {
   "cell_type": "markdown",
   "id": "b6f8750b-3265-4cf9-b7ae-5028de6f0d2d",
   "metadata": {},
   "source": [
    "Лемма. В КЧД с черной высотой b не менее $2^b - 1$ узлов\n",
    "\n",
    "Докажем по индукции по обычной высоте h(x), что поддерево любого узла x с черной высотой hb(x) содержит не менее $2^{hb(x−1)}−1$ внутренних узлов. Здесь h(x) — кратчайшее расстояние от вершины x до какого-то из листьев. \n",
    "\n",
    "База индукции:\n",
    "\n",
    "Если высота узла x\n",
    "равна 1, то x — это лист, hb(x)=1, $2^{1−1}−1=0$. \n",
    "\n",
    "Переход:\n",
    "Так как любая внутренняя вершина (вершина, у которой высота положительна) имеет двух потомков, то применим предположение индукции к ним — их высоты на единицу меньше высоты x. Тогда черные высоты детей могут быть hb(x) или hb(x)−1 — если потомок красный или черный соответственно. \n",
    "Тогда по предположению индукции в каждом из поддеревьев не менее $2^{hb(x)−2}−1$ вершин. Тогда всего в поддереве не менее $2(2^{hb(x)−2}−1)+1=2^{hb(x)−1}−1$ вершин (+1 — мы учли еще саму вершину x). \n",
    "Переход доказан. Теперь, если мы рассмотрим корень всего дерева в качестве x, то получится, что всего вершин в дереве не менее $2^{hb−1}−1$.\n",
    "Следовательно, утверждение верно и для всего дерева."
   ]
  },
  {
   "cell_type": "markdown",
   "id": "5203c8c3-01d3-4f85-8d76-87d906cea4bb",
   "metadata": {},
   "source": [
    "Теорема. КЧД имеет высоту O(logN)\n",
    "\n",
    "Рассмотрим красно-чёрное дерево с высотой h. Так как у красной вершины чёрные дети (по свойству 3) количество красных вершин не больше h/2. Тогда чёрных вершин не меньше, чем h/2−1.\n",
    "По доказанной лемме, для количества внутренних вершин в дереве N выполняется неравенство:\n",
    "$N⩾2^{h/2}−1$\n",
    "Прологарифмировав неравенство, имеем:<br>\n",
    "log(N+1)⩾h2<br>\n",
    "2log(N+1)⩾h<br>\n",
    "h⩽2log(N+1)<br>"
   ]
  },
  {
   "cell_type": "markdown",
   "id": "9b96f10a-94a0-463c-a623-fb18273fa365",
   "metadata": {},
   "source": [
    "Добавление"
   ]
  },
  {
   "cell_type": "markdown",
   "id": "bb0bd0a7-6f7f-432a-9b8c-1bd37f2e48da",
   "metadata": {},
   "source": [
    "Каждый элемент вставляется вместо листа, поэтому для выбора места вставки идём от корня до тех пор, пока указатель на следующего сына не станет nil (то есть этот сын — лист). Вставляем вместо него новый элемент с нулевыми потомками и красным цветом. Теперь проверяем балансировку. Если отец нового элемента черный, то никакое из свойств дерева не нарушено. Если же он красный, то нарушается свойство 3, для исправления достаточно рассмотреть два случая: "
   ]
  },
  {
   "cell_type": "markdown",
   "id": "6e415a21-8c58-4378-b83e-32b0ff20ee2e",
   "metadata": {},
   "source": [
    "\"Дядя\" этого узла тоже красный. Тогда, чтобы сохранить свойства 3 и 4, просто перекрашиваем \"отца\" и \"дядю\" в чёрный цвет, а \"деда\" — в красный. В таком случае черная высота в этом поддереве одинакова для всех листьев и у всех красных вершин \"отцы\" черные. Проверяем, не нарушена ли балансировка. Если в результате этих перекрашиваний мы дойдём до корня, то в нём в любом случае ставим "
   ]
  },
  {
   "cell_type": "markdown",
   "id": "9277ddfb-1f43-4fdc-ab65-9a741a7000ad",
   "metadata": {},
   "source": [
    "![jupyter](img/lesson_10_add_1.png)\n"
   ]
  },
  {
   "cell_type": "markdown",
   "id": "40cd15d6-aec0-4beb-8c69-1f27ab8aa3d4",
   "metadata": {},
   "source": [
    "\"Дядя\" чёрный. Если выполнить только перекрашивание, то может нарушиться постоянство чёрной высоты дерева по всем ветвям. Поэтому выполняем поворот. Если добавляемый узел был правым потомком, то необходимо сначала выполнить левое вращение, которое сделает его левым потомком. Таким образом, свойство 3 и постоянство черной высоты сохраняются."
   ]
  },
  {
   "cell_type": "markdown",
   "id": "548bd9cb-95d1-42c6-b542-ab675540aaac",
   "metadata": {},
   "source": [
    "![jupyter](img/lesson_10_add_2.png)"
   ]
  },
  {
   "cell_type": "markdown",
   "id": "10e410b7-0d5f-4ba3-9d6a-c004ec8e204c",
   "metadata": {},
   "source": [
    "Удаление"
   ]
  },
  {
   "cell_type": "markdown",
   "id": "7784aec1-6543-4130-84f3-ae390cdbe31b",
   "metadata": {},
   "source": [
    "При удалении вершины могут возникнуть три случая в зависимости от количества её детей:\n",
    "* Если у вершины нет детей, то изменяем указатель на неё у родителя на nil\n",
    "* Если у неё только один ребёнок, то делаем у родителя ссылку на него вместо этой вершины.\n",
    "* Если же имеются оба ребёнка, то находим вершину со следующим значением ключа. У такой вершины нет левого ребёнка (так как такая вершина находится в правом поддереве исходной вершины и она самая левая в нем, иначе бы мы взяли ее левого ребенка. Иными словами сначала мы переходим в правое поддерево, а после спускаемся вниз в левое до тех пор, пока у вершины есть левый ребенок). Удаляем уже эту вершину описанным во втором пункте способом, скопировав её ключ в изначальную вершину."
   ]
  },
  {
   "cell_type": "markdown",
   "id": "e9c830cf-16b8-4de4-936f-9f6360df902e",
   "metadata": {},
   "source": [
    "Проверим балансировку дерева. Так как при удалении красной вершины свойства дерева не нарушаются, то восстановление балансировки потребуется только при удалении чёрной. Рассмотрим ребёнка удалённой вершины. "
   ]
  },
  {
   "cell_type": "markdown",
   "id": "561e53e5-fb18-4d00-a779-b71556d486bb",
   "metadata": {},
   "source": [
    "1. Если брат этого ребёнка красный, то делаем вращение вокруг ребра между отцом и братом, тогда брат становится родителем отца. Красим его в чёрный, а отца — в красный цвет, сохраняя таким образом черную высоту дерева. Хотя все пути по-прежнему содержат одинаковое количество чёрных узлов, сейчас x имеет чёрного брата и красного отца. Таким образом, мы можем перейти к следующему шагу. \n"
   ]
  },
  {
   "cell_type": "markdown",
   "id": "c94cc95b-45bd-4a06-b094-d1fc7ea63e02",
   "metadata": {},
   "source": [
    "![jupyter](img/lesson_10_delete_1.png)"
   ]
  },
  {
   "cell_type": "markdown",
   "id": "79d0d894-b9ad-494e-867c-c7cdcb97b6ec",
   "metadata": {},
   "source": [
    "2. Если брат текущей вершины был чёрным, то получаем три случая:\n",
    "\n",
    "* Оба ребёнка у брата чёрные. Красим брата в красный цвет и рассматриваем далее отца вершины. Делаем его черным, это не повлияет на количество чёрных узлов на путях, проходящих через b, но добавит один к числу чёрных узлов на путях, проходящих через x, восстанавливая тем самым влиянние удаленного чёрного узла. Таким образом, после удаления вершины черная глубина от отца этой вершины до всех листьев в этом поддереве будет одинаковой.\n"
   ]
  },
  {
   "cell_type": "markdown",
   "id": "713f3667-e641-4c32-9988-f89f4b83e32e",
   "metadata": {},
   "source": [
    "![jupyter](img/lesson_10_delete_2.png)"
   ]
  },
  {
   "cell_type": "markdown",
   "id": "5d529e89-8628-4296-85ca-9a489055c30f",
   "metadata": {},
   "source": [
    "* Если у брата правый ребёнок чёрный, а левый красный, то перекрашиваем брата и его левого сына и делаем вращение. Все пути по-прежнему содержат одинаковое количество чёрных узлов, но теперь у x есть чёрный брат с красным правым потомком, и мы переходим к следующему случаю. Ни x, ни его отец не влияют на эту трансформацию. "
   ]
  },
  {
   "cell_type": "markdown",
   "id": "46cf765a-a2c4-4275-be52-b7d3acfa73f4",
   "metadata": {},
   "source": [
    "![jupyter](img/lesson_10_delete_3.png)"
   ]
  },
  {
   "cell_type": "markdown",
   "id": "55638099-2c28-4f0a-bdc9-f387d0e59b0b",
   "metadata": {},
   "source": [
    "* Если у брата правый ребёнок красный, то перекрашиваем брата в цвет отца, его ребёнка и отца — в чёрный, делаем вращение. Поддерево по-прежнему имеет тот же цвет корня, поэтому свойство 3 и 4 не нарушаются. Но у x теперь появился дополнительный чёрный предок: либо a стал чёрным, или он и был чёрным и b был добавлен в качестве чёрного дедушки. Таким образом, проходящие через x пути проходят через один дополнительный чёрный узел. Выходим из алгоритма. "
   ]
  },
  {
   "cell_type": "markdown",
   "id": "9f693595-6a1c-475b-b7d5-240f67e259e1",
   "metadata": {},
   "source": [
    "![jupyter](img/lesson_10_delete_4.png)"
   ]
  },
  {
   "cell_type": "markdown",
   "id": "3d001cb3-383d-4c1c-a46b-d57431205107",
   "metadata": {},
   "source": [
    "Продолжаем тот же алгоритм, пока текущая вершина чёрная и мы не дошли до корня дерева. Из рассмотренных случаев ясно, что при удалении выполняется не более трёх вращений. "
   ]
  },
  {
   "cell_type": "markdown",
   "id": "80c7b7b9-cbca-4023-b48c-c6ad29e33c27",
   "metadata": {},
   "source": [
    "Объединение"
   ]
  },
  {
   "cell_type": "markdown",
   "id": "9d15a7dc-f8f0-46e1-ad6b-06ea1882a4b2",
   "metadata": {},
   "source": [
    "Объединение двух красно-чёрных деревьев T1 и T2 по ключу k возвращает дерево с элементами из T2, T1 и k. Требование: ключ k — разделяющий. То есть ∀k1∈T1,k2∈T2:k1⩽k⩽k2.\n",
    "Если оба дерева имеют одинаковую черную высоту, то результатом будет дерево с черным корнем k, левым и правым поддеревьями k1 и k2 соответствено.\n",
    "Теперь пусть у T1\n",
    "черная высота больше (иначе аналогично).\n",
    "1. Находим в дереве T1 вершину y на черной высоте, как у дерева T2 вершину с максимальным ключом. Это делается несложно (особенно если мы знаем черную высоту дерева): спускаемся вниз, поддерживая текущую черную высоту.\n",
    "* Идем вправо. Когда высота станет равной высоте T2, остановимся. Заметим, что черная высота T2⩾2. Поэтому в дереве T1 мы не будем ниже, чем 2. Пусть мы не можем повернуть направо (сын нулевой), тогда наша высота 2 (если мы в черной вершине) или 1 (если в красной). Второго случая быть не может, ибо высота T2⩾2, а в первом случае мы должны были завершить алгоритм, когда пришли в эту вершину. Очевидно, мы окажемся в черной вершине (ибо следующий шаг даст высоту меньше). Очевидно, мы оказались на нужной высоте.     Теперь пусть мы попали не туда. То есть существует путь от корня до другой вершины. Посмотрим на то место, где мы не туда пошли. Если мы пошли вправо, а надо бы влево, то x     имеет больший ключ (по свойству дерева поиска). А если пошли влево, а не вправо, значит правого сына и нет (точнее, есть, но он нулевой), значит в правом поддереве вообще нет вершин. Более того, все вершины с высотами меньше y, которые имеют ключ больше y, будут находиться в поддереве y. Действительно, мы всегда идем вправо. Инвариант алгоритма на каждом шаге — в поддереве текущей вершины содержатся все вершины, ключ которых больше текущего. Проверяется очевидно. Еще поймем, как будем хранить черную высоту дерева. Изначально она нулевая (в пустом дереве). Далее просто поддерживаем ее при операциях вставки и удаления.\n",
    "2. Объединим поддерево. k будет корнем, левым и правым сыновьями будут Ty и T2 соответственно. Покажем, что свойства дерева поиска не нарушены. Так как все ключи поддерева y не более k и все ключи T2 не менее k, то в новом поддереве с корнем k свойства выполняются. Так как k больше любого ключа из T1, то выполняется и для всего дерева.\n",
    "3. Красим k в красный цвет. Тогда свойство 4 будет выполнено. Далее поднимаемся вверх, как во вставке операциях, поворотами исправляя нарушение правила 3\n",
    "4. В конце корень красим в черный, если до этого был красный (это всегда можно сделать, ничего не нарушив). "
   ]
  },
  {
   "cell_type": "raw",
   "id": "88efb5f8-ad06-485a-8e45-74042deda096",
   "metadata": {},
   "source": [
    "func join(T_1, T_2, k)\n",
    "    if черные высоты равны\n",
    "        return Node(k, black, T_1, T_2)\n",
    "    if высота T_1 больше\n",
    "        T' = joinToRight(T_1, T_2, k)\n",
    "        T'.color = black\n",
    "        return T'\n",
    "    else\n",
    "        T' = joinToLeft(T_1, T_2, k)\n",
    "        T'.color = black\n",
    "        return T'\n",
    "\n",
    "func joinToRight(T_1, T_2, k)\n",
    "    Y = find(T_1, bh(T_2))\n",
    "    T' = Node(k, red, Y, T_2)\n",
    "    while нарушение\n",
    "        действуем как во вставке\n",
    "    return T'\n",
    "\n",
    "func find(T, h)\n",
    "    curBH = bh(T)\n",
    "    curV = T\n",
    "    while curBH != h\n",
    "        curV = curV.right\n",
    "        if curV.color == black\n",
    "            --curBH\n",
    "    return curV"
   ]
  },
  {
   "cell_type": "markdown",
   "id": "df513e2f-1099-4ae7-8c6d-287ff7370b10",
   "metadata": {
    "tags": []
   },
   "source": [
    "Сложность: O(T1.h−T2.h)=O(log(n))"
   ]
  },
  {
   "cell_type": "markdown",
   "id": "bdec595c-308f-448e-9e42-b8e8eb5cb465",
   "metadata": {},
   "source": [
    "Разрезание"
   ]
  },
  {
   "cell_type": "markdown",
   "id": "fdf78473-80da-4ab2-a00f-1fcafbc92b29",
   "metadata": {},
   "source": [
    "Разрезание дерева по ключу k вернет два дерева, ключи первого меньше k, а второго — не меньше.\n",
    "Пройдем вниз как во время поиска. Все левые поддеревья вершин пути, корень которых не в пути, будут в первом поддереве. Аналогично правые — в правом. Теперь поднимаемся и последовательно сливаем деревья справа и слева с ответами.\n",
    "За счет того, что функция join работает за разницу высот, и мы объединяем снизу, то, благодаря телескопическому эффекту на работу времени будут влиять только крайние слагаемые, которые порядка глубины дерева. "
   ]
  },
  {
   "cell_type": "raw",
   "id": "b82049a2-ad3c-4539-8482-3ae59aa61841",
   "metadata": {},
   "source": [
    "func split(T, k)\n",
    "    if T = nil\n",
    "        return ⟨nil, nil⟩\n",
    "    if k < T.key\n",
    "        ⟨L',R'⟩ = split(L,k)\n",
    "        return ⟨L',join(R',T.key,R)⟩\n",
    "    else \n",
    "        ⟨L',R'⟩ = split(R,k)\n",
    "        return ⟨join(L,T.key,L'),R)⟩"
   ]
  },
  {
   "cell_type": "markdown",
   "id": "89d40e01-22d3-40dc-97df-08f033f5f223",
   "metadata": {},
   "source": [
    "Сложность: O(log(n))"
   ]
  },
  {
   "cell_type": "markdown",
   "id": "bb4be5e7-cdce-4655-9737-4b7a9250530e",
   "metadata": {},
   "source": [
    "Преимущества красно-чёрных деревьев"
   ]
  },
  {
   "cell_type": "markdown",
   "id": "f89290ab-d80c-43c9-8258-c2eba6796e09",
   "metadata": {},
   "source": [
    "* Самое главное преимущество красно-черных деревьев в том, что при вставке выполняется не более O(1)\n",
    "вращений. Это важно, например, в алгоритме построения динамической выпуклой оболочки. Ещё важно, что примерно половина вставок и удалений произойдут задаром.\n",
    "* Процедуру балансировки практически всегда можно выполнять параллельно с процедурами поиска, так как алгоритм поиска не зависит от атрибута цвета узлов.\n",
    "* Сбалансированность этих деревьев хуже, чем у АВЛ, но работа по поддержанию сбалансированности в красно-чёрных деревьях обычно эффективнее. Для балансировки красно-чёрного дерева производится минимальная работа по сравнению с АВЛ-деревьями.\n",
    "* Использует всего 1 бит дополнительной памяти для хранения цвета вершины. Но на самом деле в современных вычислительных системах память выделяется кратно байтам, поэтому это не является преимуществом относительно, например, АВЛ-дерева, которое хранит 2 бита. Однако есть реализации красно-чёрного дерева, которые хранят значение цвета в бите. Пример — Boost Multiindex. В этой реализации уменьшается потребление памяти красно-чёрным деревом, так как бит цвета хранится не в отдельной переменной, а в одном из указателей узла дерева."
   ]
  },
  {
   "cell_type": "markdown",
   "id": "874654f1-0f90-472a-b335-f93d5590eb23",
   "metadata": {},
   "source": [
    "Реализация"
   ]
  },
  {
   "cell_type": "code",
   "execution_count": 2,
   "id": "94071492-fb97-4734-8368-007ea576938d",
   "metadata": {},
   "outputs": [],
   "source": [
    "#define RED true\n",
    "#define BLACK false"
   ]
  },
  {
   "cell_type": "code",
   "execution_count": 3,
   "id": "9a366762-e33a-4555-b305-f8348d221baa",
   "metadata": {},
   "outputs": [],
   "source": [
    "class RBTreeNode {\n",
    "public:\n",
    "    int key;\n",
    "    int data;\n",
    "    bool color; // true = red, false = black\n",
    "    RBTreeNode *left;\n",
    "    RBTreeNode *right;\n",
    "    RBTreeNode *parent;\n",
    "};"
   ]
  },
  {
   "cell_type": "code",
   "execution_count": 4,
   "id": "3d2bc473-2d0a-4757-a02e-c18075bc1297",
   "metadata": {},
   "outputs": [],
   "source": [
    "class RBTree {\n",
    "private:\n",
    "    RBTreeNode *root;\n",
    "    RBTreeNode *nil;\n",
    "    int count;\n",
    "    int invalid;\n",
    "public:\n",
    "    RBTree(int invalid);\n",
    "    ~RBTree();\n",
    "\n",
    "    void print();\n",
    "    int getDataByKey(int key);\n",
    "    void add(int key, int data);\n",
    "    void remove(int key);\n",
    "};"
   ]
  },
  {
   "cell_type": "code",
   "execution_count": 5,
   "id": "bc175c4a-70cc-45e1-9a8d-2071a03d9ca9",
   "metadata": {},
   "outputs": [],
   "source": [
    "#include <iostream>\n",
    "#include <stack>\n",
    "#include <string>\n",
    "using namespace std;"
   ]
  },
  {
   "cell_type": "code",
   "execution_count": 23,
   "id": "66eba2ff-5049-4632-960a-60a46b2ff3f1",
   "metadata": {},
   "outputs": [],
   "source": [
    "RBTreeNode *newRBTreeNode(int key, int data, bool color = BLACK) {\n",
    "    auto node = new RBTreeNode;\n",
    "    node->key = key;\n",
    "    node->data = data;\n",
    "    node->left = nullptr;\n",
    "    node->right = nullptr;\n",
    "    node->parent = nullptr;\n",
    "    node->color = color;\n",
    "    return node;\n",
    "}"
   ]
  },
  {
   "cell_type": "markdown",
   "id": "c913df99-18df-4982-b429-5c9a1e3a0039",
   "metadata": {},
   "source": [
    "повороты"
   ]
  },
  {
   "cell_type": "code",
   "execution_count": 7,
   "id": "987b40df-0c1d-4b07-95ca-17a735ba036a",
   "metadata": {},
   "outputs": [],
   "source": [
    "RBTreeNode* leftRotate(RBTreeNode* root, RBTreeNode** tree_root){\n",
    "    if (root == nullptr)\n",
    "        return nullptr;\n",
    "    if(root->right == nullptr)\n",
    "        return root->left;\n",
    "\n",
    "    auto connect = root->parent;\n",
    "    auto left = (connect != nullptr) and (connect->left == root);\n",
    "    auto x = root;\n",
    "    auto y = x->right;\n",
    "    auto a = x->left;\n",
    "    auto b = y->left;\n",
    "    auto c = y->right;\n",
    "\n",
    "    x->left = a;\n",
    "    a->parent = x;\n",
    "\n",
    "    x->right = b;\n",
    "    b->parent = x;\n",
    "\n",
    "    y->right = c;\n",
    "    c->parent = y;\n",
    "\n",
    "    y->left = x;\n",
    "    x->parent = y;\n",
    "\n",
    "    if (connect == nullptr) {\n",
    "        y->parent = nullptr;\n",
    "        *tree_root = y;\n",
    "    }else{\n",
    "        if (left)\n",
    "            connect->left = y;\n",
    "        else\n",
    "            connect->right = y;\n",
    "        y->parent = connect;\n",
    "    }\n",
    "    return y;\n",
    "}\n"
   ]
  },
  {
   "cell_type": "code",
   "execution_count": 8,
   "id": "e6a3456c-6cf8-4698-8f17-8aa9411ecd19",
   "metadata": {},
   "outputs": [],
   "source": [
    "RBTreeNode* rightRotate(RBTreeNode* root, RBTreeNode** tree_root){\n",
    "    if (root == nullptr)\n",
    "        return nullptr;\n",
    "    if(root->left == nullptr)\n",
    "        return root->right;\n",
    "\n",
    "    auto connect = root->parent;\n",
    "    auto left = (connect != nullptr) and (connect->left == root);\n",
    "    auto y = root;\n",
    "    auto x = y->left;\n",
    "    auto a = x->left;\n",
    "    auto b = x->right;\n",
    "    auto c = y->right;\n",
    "\n",
    "    y->left = b;\n",
    "    b->parent = y;\n",
    "\n",
    "    y->right = c;\n",
    "    c->parent = y;\n",
    "\n",
    "    x->left = a;\n",
    "    a->parent = x;\n",
    "\n",
    "    x->right = y;\n",
    "    y->parent = x;\n",
    "\n",
    "    if (connect == nullptr) {\n",
    "        x->parent = nullptr;\n",
    "        *tree_root = x;\n",
    "    }else{\n",
    "        if (left)\n",
    "            connect->left = x;\n",
    "        else\n",
    "            connect->right = x;\n",
    "        x->parent = connect;\n",
    "    }\n",
    "\n",
    "    return x;\n",
    "}"
   ]
  },
  {
   "cell_type": "markdown",
   "id": "795673ee-35b7-4dc8-a784-3247703ecee8",
   "metadata": {},
   "source": [
    "конструктор/деструктор"
   ]
  },
  {
   "cell_type": "code",
   "execution_count": 9,
   "id": "990bafd2-0f68-4d2e-83da-3997bd36f893",
   "metadata": {},
   "outputs": [],
   "source": [
    "RBTree::RBTree(int invalid){\n",
    "    nil = newRBTreeNode(invalid, invalid, BLACK);\n",
    "    root = nil;\n",
    "    count = 0;\n",
    "    this->invalid = invalid;\n",
    "}"
   ]
  },
  {
   "cell_type": "code",
   "execution_count": 10,
   "id": "59588e44-fe1c-49ce-90fb-4886cf9afe76",
   "metadata": {},
   "outputs": [],
   "source": [
    "RBTree::~RBTree(){\n",
    "    count = 0;\n",
    "\n",
    "    stack<RBTreeNode*> stack;\n",
    "    stack.push(root);\n",
    "\n",
    "    while (true){\n",
    "        if (stack.empty())\n",
    "            break;\n",
    "\n",
    "        auto curr = stack.top(); stack.pop();\n",
    "\n",
    "        if (curr != nil){\n",
    "            stack.push(curr->left);\n",
    "            stack.push(curr->right);\n",
    "            delete curr;\n",
    "        }\n",
    "    }\n",
    "    delete nil;\n",
    "}"
   ]
  },
  {
   "cell_type": "markdown",
   "id": "836efe62-155c-4f92-a798-1398c7d15caa",
   "metadata": {},
   "source": [
    "печать"
   ]
  },
  {
   "cell_type": "code",
   "execution_count": 11,
   "id": "b6adb8bc-38ad-49da-a4bd-b02349b0a6f3",
   "metadata": {},
   "outputs": [],
   "source": [
    "void printTree(RBTreeNode *root, string indent, bool last) {\n",
    "    if (root != nullptr) {\n",
    "        cout << indent;\n",
    "        if (last) {\n",
    "            cout << \"R----\";\n",
    "            indent += \"   \";\n",
    "        } else {\n",
    "            cout << \"L----\";\n",
    "            indent += \"|  \";\n",
    "        }\n",
    "        cout << \"( key: \" <<root->key << \", data: \" << root->data << \", color: \" << root->color <<\")\" << endl;\n",
    "        printTree(root->left, indent, false);\n",
    "        printTree(root->right, indent, true);\n",
    "    }\n",
    "}"
   ]
  },
  {
   "cell_type": "code",
   "execution_count": 12,
   "id": "140b24b7-f453-44c1-899b-f20c5dc7d788",
   "metadata": {},
   "outputs": [],
   "source": [
    "void RBTree::print(){\n",
    "    printTree(root, \"\", true);\n",
    "}"
   ]
  },
  {
   "cell_type": "markdown",
   "id": "28a8f4a8-bc50-49c7-9a67-540a7778a112",
   "metadata": {},
   "source": [
    "поиск"
   ]
  },
  {
   "cell_type": "code",
   "execution_count": 13,
   "id": "0645b66d-9376-4ced-81be-53ed2a5951d4",
   "metadata": {},
   "outputs": [],
   "source": [
    "RBTreeNode* search(RBTreeNode* root, int key, RBTreeNode* nil){\n",
    "    if (root == nil || root->key == key)\n",
    "        return root;\n",
    "    if (key < root->key)\n",
    "        return search(root->left, key, nil);\n",
    "    return search(root->right, key, nil);\n",
    "}"
   ]
  },
  {
   "cell_type": "code",
   "execution_count": 15,
   "id": "387c11ba-3904-470c-babe-bde4f10993cb",
   "metadata": {},
   "outputs": [
    {
     "name": "stderr",
     "output_type": "stream",
     "text": [
      "\u001b[1minput_line_22:1:13: \u001b[0m\u001b[0;1;31merror: \u001b[0m\u001b[1mredefinition of 'getDataByKey'\u001b[0m\n",
      "int RBTree::getDataByKey(int key){\n",
      "\u001b[0;1;32m            ^\n",
      "\u001b[0m\u001b[1minput_line_21:1:13: \u001b[0m\u001b[0;1;30mnote: \u001b[0mprevious definition is here\u001b[0m\n",
      "int RBTree::getDataByKey(int key){\n",
      "\u001b[0;1;32m            ^\n",
      "\u001b[0m"
     ]
    },
    {
     "ename": "Interpreter Error",
     "evalue": "",
     "output_type": "error",
     "traceback": [
      "Interpreter Error: "
     ]
    }
   ],
   "source": [
    "int RBTree::getDataByKey(int key){\n",
    "    auto node = search(root, key, nil);\n",
    "    if (node != nil)\n",
    "        return node->data;\n",
    "    return invalid;\n",
    "}"
   ]
  },
  {
   "cell_type": "markdown",
   "id": "955225c1-4566-474c-94ec-00ef2d778a0e",
   "metadata": {},
   "source": [
    "добавление"
   ]
  },
  {
   "cell_type": "code",
   "execution_count": 16,
   "id": "95e7329c-41df-4ee7-9f8d-c20d861ed108",
   "metadata": {},
   "outputs": [],
   "source": [
    "RBTreeNode* goDown(RBTreeNode* root, int key, RBTreeNode* nil){\n",
    "    RBTreeNode* node = root;\n",
    "    RBTreeNode* parent = nullptr;\n",
    "    while ((node != nil) and (node->key != key)){\n",
    "        parent = node;\n",
    "        if (key < node->key)\n",
    "            node = node->left;\n",
    "        else\n",
    "            node = node->right;\n",
    "    }\n",
    "    return parent;\n",
    "}\n"
   ]
  },
  {
   "cell_type": "code",
   "execution_count": 17,
   "id": "7a12a8f0-dd47-421a-9c74-791dfa061f24",
   "metadata": {},
   "outputs": [],
   "source": [
    "void fixAdd(RBTreeNode*& root, RBTreeNode* node) {\n",
    "    if(root == node){\n",
    "        root->color = BLACK;\n",
    "        return;\n",
    "    }\n",
    "    while ((node->parent != nullptr) && (node->parent->color == RED)){\n",
    "        auto parent = node->parent;\n",
    "        auto grandfather = parent->parent;\n",
    "\n",
    "        if (parent == grandfather->left){ //отец левый ребенок\n",
    "            auto uncle = grandfather->right;\n",
    "            if (uncle->color == RED){ // есть красный дядя\n",
    "                parent->color = BLACK;\n",
    "                uncle->color = BLACK;\n",
    "                grandfather->color = RED;\n",
    "                node = parent->parent;\n",
    "            } else { // нет красного дяди\n",
    "                if (node == parent->right){ //доворот\n",
    "                    node = parent;\n",
    "                    leftRotate(node, &root);\n",
    "                }\n",
    "                parent->color = BLACK;\n",
    "                grandfather->color = RED;\n",
    "                rightRotate(grandfather, &root);\n",
    "            }\n",
    "        } else { // отец правый ребенок\n",
    "            auto uncle = grandfather->left;\n",
    "            if (uncle->color == RED){ // есть красный дядя\n",
    "                parent->color = BLACK;\n",
    "                uncle->color = BLACK;\n",
    "                grandfather->color = RED;\n",
    "                node = parent->parent;\n",
    "            } else { // нет красного дяди\n",
    "                if (node == parent->left){ //доворот\n",
    "                    node = parent;\n",
    "                    rightRotate(node, &root);\n",
    "                }\n",
    "                parent->color = BLACK;\n",
    "                grandfather->color = RED;\n",
    "                leftRotate(grandfather, &root);\n",
    "            }\n",
    "        }\n",
    "    }\n",
    "    root->color = BLACK;\n",
    "}"
   ]
  },
  {
   "cell_type": "code",
   "execution_count": 24,
   "id": "3053b3ee-fc29-4e9d-855f-71cce22af1ba",
   "metadata": {},
   "outputs": [
    {
     "name": "stderr",
     "output_type": "stream",
     "text": [
      "\u001b[1minput_line_31:1:14: \u001b[0m\u001b[0;1;31merror: \u001b[0m\u001b[1mredefinition of 'add'\u001b[0m\n",
      "void RBTree::add(int key, int data) {\n",
      "\u001b[0;1;32m             ^\n",
      "\u001b[0m\u001b[1minput_line_25:1:14: \u001b[0m\u001b[0;1;30mnote: \u001b[0mprevious definition is here\u001b[0m\n",
      "void RBTree::add(int key, int data) {\n",
      "\u001b[0;1;32m             ^\n",
      "\u001b[0m"
     ]
    },
    {
     "ename": "Interpreter Error",
     "evalue": "",
     "output_type": "error",
     "traceback": [
      "Interpreter Error: "
     ]
    }
   ],
   "source": [
    "void RBTree::add(int key, int data) {\n",
    "    auto parent = goDown(root, key, nil);\n",
    "\n",
    "    if(parent == nullptr) {\n",
    "        root = newRBTreeNode(key, data, BLACK);\n",
    "        root->left = root->right = nil;\n",
    "    } else if (parent->key == key){ // обновление данных\n",
    "        parent->data = data;\n",
    "    } else {\n",
    "        auto node = newRBTreeNode(key, data, RED);\n",
    "        node->left = node->right = nil;\n",
    "        node->parent = parent;\n",
    "        if (key < parent->key)\n",
    "            parent->left = node;\n",
    "        else\n",
    "            parent->right = node;\n",
    "        fixAdd(root, node);\n",
    "    }\n",
    "}\n"
   ]
  },
  {
   "cell_type": "markdown",
   "id": "97784203-7448-4525-83f5-4c8dde097445",
   "metadata": {},
   "source": [
    "удаление"
   ]
  },
  {
   "cell_type": "code",
   "execution_count": 19,
   "id": "9a60ea33-f52e-4c3b-b706-5b8a53007aba",
   "metadata": {},
   "outputs": [],
   "source": [
    "RBTreeNode* findNext(RBTreeNode* root, RBTreeNode* nil){\n",
    "    RBTreeNode* node = root->right;\n",
    "    RBTreeNode* parent = root;\n",
    "    while (node != nil){\n",
    "        parent = node;\n",
    "        node = node->left;\n",
    "    }\n",
    "    return parent;\n",
    "}"
   ]
  },
  {
   "cell_type": "code",
   "execution_count": 21,
   "id": "f6218454-ddfc-40cc-b65e-3d96abb1ecf4",
   "metadata": {},
   "outputs": [],
   "source": [
    "RBTreeNode* fixRemove(RBTreeNode* root, RBTreeNode* node){\n",
    "    while ((node->color == BLACK) and (node != root)) {\n",
    "        auto parent = node->parent;\n",
    "        if (node == parent->left) { // узел левый ребенок\n",
    "            auto brother = parent->right;\n",
    "            if (brother->color == RED) { // брат красный\n",
    "                brother->color = BLACK;\n",
    "                parent->color = RED;\n",
    "                leftRotate(parent, &root);\n",
    "            }\n",
    "            if ((brother->left->color == BLACK) and (brother->right->color == BLACK)) { //у брата черные дети\n",
    "                brother->color = RED;\n",
    "                node = node->parent;\n",
    "            } else {\n",
    "                if (brother->right->color == BLACK) { // брат красный с черным правым ребенком\n",
    "                    brother->left->color = BLACK;\n",
    "                    brother->color = RED;\n",
    "                    rightRotate(brother, &root);\n",
    "                    //brother = node->parent->right;\n",
    "                }\n",
    "                brother->color = parent->color;\n",
    "                parent->color = BLACK;\n",
    "                brother->right->color = BLACK;\n",
    "                leftRotate(parent, &root);\n",
    "                node = root; // условие завершения цикла\n",
    "            }\n",
    "        } else { // узел правый ребенок\n",
    "            auto brother = parent->left;\n",
    "            if (brother->color == RED) { // брат красный\n",
    "                brother->color = BLACK;\n",
    "                parent->color = RED;\n",
    "                rightRotate(parent, &root);\n",
    "            }\n",
    "            if ((brother->left->color == BLACK) and (brother->right->color == BLACK)) { //у брата черные дети\n",
    "                brother->color = RED;\n",
    "                node = node->parent;\n",
    "            } else {\n",
    "                if (brother->left->color == BLACK) { // брат красный с черным правым ребенком\n",
    "                    brother->right->color = BLACK;\n",
    "                    brother->color = RED;\n",
    "                    leftRotate(brother, &root);                    \n",
    "                }\n",
    "                brother->color = parent->color;\n",
    "                parent->color = BLACK;\n",
    "                brother->left->color = BLACK;\n",
    "                rightRotate(parent, &root);\n",
    "                node = root; // условие завершения цикла\n",
    "            }\n",
    "        }\n",
    "    }\n",
    "    node->color = BLACK;\n",
    "    root->color = BLACK;\n",
    "    return root;\n",
    "}"
   ]
  },
  {
   "cell_type": "code",
   "execution_count": 22,
   "id": "f515087b-f999-4a0e-87ea-b11b73762631",
   "metadata": {},
   "outputs": [],
   "source": [
    "void RBTree::remove(int key) {\n",
    "    RBTreeNode* real = nil;\n",
    "    auto node = search(root, key, nil);\n",
    "\n",
    "    if((node->left == nil) or (node->right == nil)) // 1 сын\n",
    "        real = node;\n",
    "    else\n",
    "        real = findNext(node, nil);\n",
    "\n",
    "    // дважды черная\n",
    "    RBTreeNode* tmp = real->left != nil ? real->left : real->right;\n",
    "    tmp->parent = real->parent;\n",
    "\n",
    "    if (real->parent == nil) // корень\n",
    "        root = tmp;\n",
    "    else if (real == real->parent->left)\n",
    "        real->parent->left = tmp;\n",
    "    else if (real == real->parent->right)\n",
    "        real->parent->right = tmp;\n",
    "\n",
    "    if (real != node){\n",
    "        node->key = real->key;\n",
    "        node->data = real->data;\n",
    "    }\n",
    "    if(real->color == BLACK)\n",
    "        root = fixRemove(root, tmp);\n",
    "\n",
    "    delete real;\n",
    "\n",
    "}\n"
   ]
  },
  {
   "cell_type": "markdown",
   "id": "179d30b3-bfe7-4e90-95e2-a6185ba76741",
   "metadata": {},
   "source": [
    "## Декартово дерево"
   ]
  },
  {
   "cell_type": "markdown",
   "id": "4468bd18-a4e5-49b9-a915-261326a77485",
   "metadata": {},
   "source": [
    "Дерамида, курево, дуча"
   ]
  },
  {
   "cell_type": "markdown",
   "id": "19385524-a9e7-4393-ac88-f4bff04c9295",
   "metadata": {},
   "source": [
    "!!!ОСТОРОЖНО КУРЕВО!!!"
   ]
  },
  {
   "cell_type": "code",
   "execution_count": 1,
   "id": "1da37748-e1d1-4201-8748-092a1fe960d6",
   "metadata": {},
   "outputs": [],
   "source": [
    "struct CartesianTreeNode {\n",
    "    int key;\n",
    "    int factor;\n",
    "    int data;\n",
    "    CartesianTreeNode *left, *right;\n",
    "};"
   ]
  },
  {
   "cell_type": "code",
   "execution_count": 2,
   "id": "ce4467ed-d4f9-4238-9cf6-b9a29240363e",
   "metadata": {},
   "outputs": [],
   "source": [
    "class CartesianTree {\n",
    "private:\n",
    "\n",
    "    CartesianTreeNode *root;\n",
    "    int count;\n",
    "    int invalid;\n",
    "public:\n",
    "    CartesianTree(int invalidData);\n",
    "    ~CartesianTree();\n",
    "\n",
    "    void print();\n",
    "    CartesianTree split(int key);\n",
    "    void merge(CartesianTree* tree1, CartesianTree* tree2);\n",
    "    int getDataByKey(int key);\n",
    "    void add(int key, int data);\n",
    "    void remove(int key);\n",
    "};\n"
   ]
  },
  {
   "cell_type": "code",
   "execution_count": 3,
   "id": "1159f120-43ca-468f-b4ec-1a214e61a77e",
   "metadata": {},
   "outputs": [],
   "source": [
    "#include <cstdlib>\n",
    "#include <stack>\n",
    "#include <iostream>\n",
    "\n",
    "using namespace std;"
   ]
  },
  {
   "cell_type": "code",
   "execution_count": 4,
   "id": "e532e234-ce1b-4192-b573-cbab3fd9846d",
   "metadata": {},
   "outputs": [],
   "source": [
    "CartesianTreeNode *newCatresianTreeNode(int key, int data, int factor = rand()) {\n",
    "    auto *temp = new CartesianTreeNode;\n",
    "    temp->key = key;\n",
    "    temp->data = data;\n",
    "    temp->factor = factor;\n",
    "    temp->left = temp->right = nullptr;\n",
    "    return temp;\n",
    "}"
   ]
  },
  {
   "cell_type": "code",
   "execution_count": 5,
   "id": "489cfbfe-def5-4540-a0e6-c0c19a8f8b42",
   "metadata": {},
   "outputs": [],
   "source": [
    "CartesianTree::CartesianTree(int invalidData){\n",
    "    root = nullptr;\n",
    "    count = 0;\n",
    "    invalid = invalidData;\n",
    "}"
   ]
  },
  {
   "cell_type": "code",
   "execution_count": 6,
   "id": "f3b4908b-700b-44e8-9887-c9d9d924c23c",
   "metadata": {},
   "outputs": [],
   "source": [
    "CartesianTree::~CartesianTree(){\n",
    "    count = 0;\n",
    "\n",
    "    stack<CartesianTreeNode*> stack;\n",
    "    stack.push(root);\n",
    "\n",
    "    while (true){\n",
    "        if (stack.empty())\n",
    "            break;\n",
    "\n",
    "        auto curr = stack.top(); stack.pop();\n",
    "\n",
    "        if (curr != nullptr){\n",
    "            stack.push(curr->left);\n",
    "            stack.push(curr->right);\n",
    "            delete curr;\n",
    "        }\n",
    "    }\n",
    "}"
   ]
  },
  {
   "cell_type": "code",
   "execution_count": 7,
   "id": "74479ef6-463a-40a9-84cf-538fbdb66cbd",
   "metadata": {},
   "outputs": [],
   "source": [
    "void inorder(CartesianTreeNode *root) {\n",
    "    if (root != nullptr) {\n",
    "        inorder(root->left);\n",
    "        cout << root->key << \" -> \";\n",
    "        inorder(root->right);\n",
    "    }\n",
    "}"
   ]
  },
  {
   "cell_type": "code",
   "execution_count": 8,
   "id": "ed5e6f66-1d08-475a-a0c2-a1ac85abee19",
   "metadata": {},
   "outputs": [],
   "source": [
    "void CartesianTree::print(){\n",
    "    inorder(root);\n",
    "}"
   ]
  },
  {
   "cell_type": "code",
   "execution_count": 9,
   "id": "3ad7d5c4-92f1-46ca-823d-d0c93975af47",
   "metadata": {},
   "outputs": [],
   "source": [
    "void split(CartesianTreeNode* node, int key, CartesianTreeNode*& left, CartesianTreeNode*& right){\n",
    "    if (node == nullptr) {\n",
    "        left = right = nullptr;\n",
    "        return;\n",
    "    }\n",
    "    CartesianTreeNode *l, *r;\n",
    "    if(node->key < key) {\n",
    "        split(node->right, key, l, r);\n",
    "        node->right = l;\n",
    "        left = node;\n",
    "        right = r;\n",
    "    } else {\n",
    "        split(node->left, key, l, r);\n",
    "        node->left = r;\n",
    "        left = l;\n",
    "        right = node;\n",
    "    }\n",
    "}"
   ]
  },
  {
   "cell_type": "code",
   "execution_count": 10,
   "id": "f949f0f6-4744-4555-85f3-0c12cb86e363",
   "metadata": {},
   "outputs": [],
   "source": [
    "CartesianTree CartesianTree::split(int key)\n",
    "{\n",
    "    CartesianTree result(invalid);\n",
    "    CartesianTreeNode *left, *right;\n",
    "    ::split(root, key, left, right);\n",
    "    root = left;\n",
    "    result.root = right;\n",
    "    return result;\n",
    "}"
   ]
  },
  {
   "cell_type": "code",
   "execution_count": 11,
   "id": "8fb47f13-4267-4cbc-b93f-bc18cfb5ee1f",
   "metadata": {},
   "outputs": [],
   "source": [
    "CartesianTreeNode* merge(CartesianTreeNode* tree1, CartesianTreeNode* tree2){\n",
    "    if (tree1 == nullptr)\n",
    "        return tree2;\n",
    "    if (tree2 == nullptr)\n",
    "        return tree1;\n",
    "    if (tree1->factor > tree2->factor){\n",
    "        tree1->right = merge(tree1->right, tree2);\n",
    "        return tree1;\n",
    "    } else {\n",
    "        tree2->left = merge(tree1, tree2->left);\n",
    "        return tree2;\n",
    "    }\n",
    "}"
   ]
  },
  {
   "cell_type": "code",
   "execution_count": null,
   "id": "a674969b-b5fe-4fb0-aa3c-d9dd3f24b2ac",
   "metadata": {},
   "outputs": [],
   "source": [
    "void CartesianTree::merge(CartesianTree* tree1, CartesianTree* tree2){\n",
    "    root = ::merge(tree1->root, tree2->root);\n",
    "    tree2->root = nullptr;\n",
    "}"
   ]
  },
  {
   "cell_type": "code",
   "execution_count": 12,
   "id": "2153b565-a8e6-486e-8ea5-14ceac4473bc",
   "metadata": {},
   "outputs": [],
   "source": [
    "CartesianTreeNode* search(CartesianTreeNode* root, int key){\n",
    "    if (root == nullptr || root->key == key)\n",
    "        return root;\n",
    "    if (root->key < key)\n",
    "        return search(root->right, key);\n",
    "    return search(root->left, key);\n",
    "}"
   ]
  },
  {
   "cell_type": "code",
   "execution_count": 13,
   "id": "798b5e21-61bb-4f0a-90cb-bfa12440f814",
   "metadata": {},
   "outputs": [],
   "source": [
    "int CartesianTree::getDataByKey(int key){\n",
    "    auto node = search(root, key);\n",
    "    if (node != nullptr)\n",
    "        return node->data;\n",
    "    return invalid;\n",
    "}"
   ]
  },
  {
   "cell_type": "code",
   "execution_count": 14,
   "id": "3ec27cbb-8585-4d8e-b790-56dfeee7dbed",
   "metadata": {},
   "outputs": [],
   "source": [
    "CartesianTreeNode* add(CartesianTreeNode* tree, CartesianTreeNode* x){\n",
    "    if (tree == nullptr)\n",
    "        return x;\n",
    "    if (x == nullptr)\n",
    "        return tree;\n",
    "    if (x->factor > tree->factor){\n",
    "        //новый корень\n",
    "        CartesianTreeNode *left, *right;\n",
    "        split(tree, x->key, left, right);\n",
    "        x->left = left;\n",
    "        x->right = right;\n",
    "        return x;\n",
    "    }\n",
    "    if (x->key < tree->key)\n",
    "        tree->left = add(tree->left, x);\n",
    "    else\n",
    "        tree->right = add(tree->right, x);\n",
    "    return tree;\n",
    "}"
   ]
  },
  {
   "cell_type": "code",
   "execution_count": 15,
   "id": "b0f65682-611f-4832-b758-e35de4e58d23",
   "metadata": {},
   "outputs": [],
   "source": [
    "void CartesianTree::add(int key, int data){\n",
    "    CartesianTreeNode* node = newCatresianTreeNode(key, data);\n",
    "    root = ::add(root, node);\n",
    "}"
   ]
  },
  {
   "cell_type": "code",
   "execution_count": 16,
   "id": "60a1ce8e-0cdc-4927-ac50-df1bbe0afe01",
   "metadata": {},
   "outputs": [],
   "source": [
    "CartesianTreeNode* remove(CartesianTreeNode* tree, int key){\n",
    "    if (tree->key == key){\n",
    "        CartesianTreeNode* left = tree->left;\n",
    "        CartesianTreeNode* right = tree->right;\n",
    "        delete tree;\n",
    "        return merge(left, right);\n",
    "    }\n",
    "    if (key < tree->key) {\n",
    "        tree->left = remove(tree->left, key);\n",
    "    } else {\n",
    "        tree->right = remove(tree->right, key);\n",
    "    }\n",
    "    return tree;\n",
    "}"
   ]
  },
  {
   "cell_type": "code",
   "execution_count": 17,
   "id": "8ef0127f-c18d-4b96-8735-7aed8b6202af",
   "metadata": {},
   "outputs": [],
   "source": [
    "void CartesianTree::remove(int key){\n",
    "    root = ::remove(root, key);\n",
    "}"
   ]
  },
  {
   "cell_type": "code",
   "execution_count": null,
   "id": "96cea1d7-6b54-4012-b5e3-83055a0b4a70",
   "metadata": {},
   "outputs": [],
   "source": []
  },
  {
   "cell_type": "code",
   "execution_count": null,
   "id": "53275820-b45d-4c5a-980c-b68508b479ef",
   "metadata": {},
   "outputs": [],
   "source": []
  },
  {
   "cell_type": "code",
   "execution_count": null,
   "id": "af697cfb-b6c9-48ca-bbe2-c325b73da80d",
   "metadata": {},
   "outputs": [],
   "source": []
  },
  {
   "cell_type": "markdown",
   "id": "5b0ea7d9-fb4f-4d13-914d-bee6843a4735",
   "metadata": {},
   "source": [
    "## Декартово дерево по неявному ключу"
   ]
  },
  {
   "cell_type": "code",
   "execution_count": 18,
   "id": "865093b9-dc17-49d8-bcb4-63814715881c",
   "metadata": {},
   "outputs": [],
   "source": [
    "struct ImplicitKeyTreapNode {\n",
    "    int count;\n",
    "    int factor;\n",
    "    int data;\n",
    "    ImplicitKeyTreapNode *left, *right;\n",
    "};"
   ]
  },
  {
   "cell_type": "code",
   "execution_count": 19,
   "id": "1434adad-12c6-42e4-b318-b7ac166af7b5",
   "metadata": {},
   "outputs": [],
   "source": [
    "class ImplicitKeyTreap {\n",
    "private:\n",
    "\n",
    "    ImplicitKeyTreapNode *root;\n",
    "    int count;\n",
    "    int invalid;\n",
    "public:\n",
    "    ImplicitKeyTreap(int invalidData);\n",
    "    ~ImplicitKeyTreap();\n",
    "\n",
    "    void print();\n",
    "    ImplicitKeyTreap split(int index);\n",
    "    void merge(ImplicitKeyTreap* tree1, ImplicitKeyTreap* tree2);\n",
    "    int at(int index);\n",
    "    void add(int index, int data);\n",
    "    void remove(int index);\n",
    "};"
   ]
  },
  {
   "cell_type": "code",
   "execution_count": 20,
   "id": "d3591b96-ab6c-46ff-af4d-51515f80b438",
   "metadata": {},
   "outputs": [],
   "source": [
    "#include <cstdlib>\n",
    "#include <stack>\n",
    "#include <iostream>\n",
    "\n",
    "using namespace std;"
   ]
  },
  {
   "cell_type": "code",
   "execution_count": 21,
   "id": "337d3efd-5036-4d7c-aef2-a47d7026a53d",
   "metadata": {},
   "outputs": [],
   "source": [
    "ImplicitKeyTreapNode *newImplicitTreeNodeNode(int data, int factor = rand()) {\n",
    "    auto *temp = new ImplicitKeyTreapNode;\n",
    "    temp->count = 1;\n",
    "    temp->data = data;\n",
    "    temp->factor = factor;\n",
    "    temp->left = temp->right = nullptr;\n",
    "    return temp;\n",
    "}"
   ]
  },
  {
   "cell_type": "code",
   "execution_count": 22,
   "id": "87c345ee-50dd-4bc6-958e-df47222c476d",
   "metadata": {},
   "outputs": [],
   "source": [
    "ImplicitKeyTreap::ImplicitKeyTreap(int invalidData){\n",
    "    root = nullptr;\n",
    "    count = 0;\n",
    "    invalid = invalidData;\n",
    "}"
   ]
  },
  {
   "cell_type": "code",
   "execution_count": 23,
   "id": "1f436d31-0693-4e2e-b4f2-7dc4ab89d975",
   "metadata": {},
   "outputs": [],
   "source": [
    "ImplicitKeyTreap::~ImplicitKeyTreap(){\n",
    "    count = 0;\n",
    "\n",
    "    stack<ImplicitKeyTreapNode*> stack;\n",
    "    stack.push(root);\n",
    "\n",
    "    while (true){\n",
    "        if (stack.empty())\n",
    "            break;\n",
    "\n",
    "        auto curr = stack.top(); stack.pop();\n",
    "\n",
    "        if (curr != nullptr){\n",
    "            stack.push(curr->left);\n",
    "            stack.push(curr->right);\n",
    "            delete curr;\n",
    "        }\n",
    "    }\n",
    "}"
   ]
  },
  {
   "cell_type": "code",
   "execution_count": 24,
   "id": "80d1c40d-afd7-4696-beca-5da727724053",
   "metadata": {},
   "outputs": [],
   "source": [
    "void inorder(ImplicitKeyTreapNode *root) {\n",
    "    if (root != nullptr) {\n",
    "        inorder(root->left);\n",
    "        cout << root->data << \" -> \";\n",
    "        //cout << root->count << \" -> \";\n",
    "        inorder(root->right);\n",
    "    }\n",
    "}"
   ]
  },
  {
   "cell_type": "code",
   "execution_count": 25,
   "id": "8b0ceac0-73da-4507-baf0-4e92c163dd4c",
   "metadata": {},
   "outputs": [],
   "source": [
    "void ImplicitKeyTreap::print(){\n",
    "    inorder(root);\n",
    "}"
   ]
  },
  {
   "cell_type": "code",
   "execution_count": 26,
   "id": "85d723d1-43cc-42c7-88fa-950af14521a0",
   "metadata": {},
   "outputs": [],
   "source": [
    "ImplicitKeyTreapNode* search(ImplicitKeyTreapNode* root, int index){\n",
    "    if ((root == nullptr) or (index < 0))\n",
    "        return nullptr;\n",
    "    if (root->left == nullptr)\n",
    "        if (index == 0)\n",
    "            return root;\n",
    "        else\n",
    "            return search(root->right, index - 1);\n",
    "    else\n",
    "        if (index - root->left->count == 0)\n",
    "            return root;\n",
    "        else\n",
    "            if (index < root->left->count)\n",
    "                return search(root->left, index);\n",
    "            else\n",
    "                return search(root->right, index - root->left->count - 1);\n",
    "}"
   ]
  },
  {
   "cell_type": "code",
   "execution_count": 27,
   "id": "b329a7f7-1e37-4bed-9e41-9b4451d4b463",
   "metadata": {},
   "outputs": [],
   "source": [
    "int ImplicitKeyTreap::at(int index){\n",
    "    ImplicitKeyTreapNode* node = ::search(root, index);\n",
    "    if (node == nullptr)\n",
    "        return invalid;\n",
    "    else\n",
    "        return node->data;\n",
    "}"
   ]
  },
  {
   "cell_type": "code",
   "execution_count": 28,
   "id": "98979563-6fdb-4f14-8932-bbf679703821",
   "metadata": {},
   "outputs": [],
   "source": [
    "int recount(ImplicitKeyTreapNode* node){\n",
    "    if (node == nullptr)\n",
    "        return 0;\n",
    "    int cnt = (node->left == nullptr) ? 0 : node->left->count;\n",
    "    cnt += (node->right == nullptr) ? 0 : node->right->count;\n",
    "    return cnt;\n",
    "}"
   ]
  },
  {
   "cell_type": "code",
   "execution_count": 29,
   "id": "4a1df43e-dadc-4166-8d14-9dc7c70cd95e",
   "metadata": {},
   "outputs": [],
   "source": [
    "int count(ImplicitKeyTreapNode* node){\n",
    "    if (node == nullptr)\n",
    "        return 0;\n",
    "    return node->count;\n",
    "}"
   ]
  },
  {
   "cell_type": "code",
   "execution_count": 30,
   "id": "0b68469f-4087-4c47-a791-ec1086e8901c",
   "metadata": {},
   "outputs": [],
   "source": [
    "void split(ImplicitKeyTreapNode* node, int index, ImplicitKeyTreapNode*& left, ImplicitKeyTreapNode*& right){\n",
    "    if (node == nullptr) {\n",
    "        left = right = nullptr;\n",
    "        return;\n",
    "    }\n",
    "    ImplicitKeyTreapNode *l, *r;\n",
    "    if(index <= count(node->left)) {\n",
    "        split(node->left, index, l, r);\n",
    "        node->left = r;\n",
    "        node->count = recount(node) + 1;\n",
    "        left = l;\n",
    "        right = node;\n",
    "    } else {\n",
    "        split(node->right, index - count(node->left) - 1, l, r);\n",
    "        node->right = l;\n",
    "        node->count = recount(node) + 1;\n",
    "        left = node;\n",
    "        right = r;\n",
    "    }\n",
    "}"
   ]
  },
  {
   "cell_type": "code",
   "execution_count": 31,
   "id": "be5f95b3-2a9b-424b-b88c-c9a89b061339",
   "metadata": {},
   "outputs": [],
   "source": [
    "ImplicitKeyTreap ImplicitKeyTreap::split(int index){\n",
    "    ImplicitKeyTreap result(invalid);\n",
    "    ImplicitKeyTreapNode *left, *right;\n",
    "    ::split(root, index, left, right);\n",
    "    root = left;\n",
    "    result.root = right;\n",
    "    return result;\n",
    "}"
   ]
  },
  {
   "cell_type": "code",
   "execution_count": 32,
   "id": "a39ee091-ae01-4d9d-a595-a4c8365424c1",
   "metadata": {},
   "outputs": [],
   "source": [
    "ImplicitKeyTreapNode* merge(ImplicitKeyTreapNode* tree1, ImplicitKeyTreapNode* tree2){\n",
    "    if (tree1 == nullptr)\n",
    "        return tree2;\n",
    "    if (tree2 == nullptr)\n",
    "        return tree1;\n",
    "    if (tree1->factor > tree2->factor){\n",
    "        tree1->right = merge(tree1->right, tree2);\n",
    "        tree1->count = recount(tree1);\n",
    "        return tree1;\n",
    "    } else {\n",
    "        tree2->left = merge(tree1, tree2->left);\n",
    "        tree2->count = recount(tree1);\n",
    "        return tree2;\n",
    "    }\n",
    "}"
   ]
  },
  {
   "cell_type": "code",
   "execution_count": 33,
   "id": "4d91f5f1-6bf6-4424-aa6d-b5609ff632ec",
   "metadata": {},
   "outputs": [],
   "source": [
    "void ImplicitKeyTreap::merge(ImplicitKeyTreap* tree1, ImplicitKeyTreap* tree2){\n",
    "    root = ::merge(tree1->root, tree2->root);\n",
    "    tree2->root = nullptr;\n",
    "}"
   ]
  },
  {
   "cell_type": "code",
   "execution_count": 34,
   "id": "c0630fd0-7bd3-4e2e-8219-2ff8fc6387aa",
   "metadata": {},
   "outputs": [],
   "source": [
    "ImplicitKeyTreapNode* add(ImplicitKeyTreapNode* tree, ImplicitKeyTreapNode* x, int index){\n",
    "    if (tree == nullptr)\n",
    "        return x;\n",
    "    if (x == nullptr)\n",
    "        return tree;\n",
    "    if (x->factor > tree->factor){\n",
    "        //новый корень\n",
    "        ImplicitKeyTreapNode *left, *right;\n",
    "        split(tree, index, left, right);\n",
    "        x->left = left;\n",
    "        x->right = right;\n",
    "        x->count = recount(x) + 1;\n",
    "        return x;\n",
    "    }\n",
    "\n",
    "    if (index <= count(tree->left)) {\n",
    "        tree->left = add(tree->left, x, index);\n",
    "        tree->left->count = recount(tree->left) + 1;\n",
    "    } else {\n",
    "        tree->right = add(tree->right, x, index - count(tree->left) - 1);\n",
    "        tree->right->count = recount(tree->right) + 1;\n",
    "    }\n",
    "    return tree;\n",
    "}"
   ]
  },
  {
   "cell_type": "code",
   "execution_count": 35,
   "id": "3d2191e3-a4b9-4fd4-b94e-e56396c9370d",
   "metadata": {},
   "outputs": [],
   "source": [
    "void ImplicitKeyTreap::add(int index, int data){\n",
    "    ImplicitKeyTreapNode* node = newImplicitTreeNodeNode(data);\n",
    "    root = ::add(root, node, index);\n",
    "    root->count = ::recount(root) + 1;\n",
    "}"
   ]
  },
  {
   "cell_type": "code",
   "execution_count": 36,
   "id": "1221db5c-a9ce-4de5-9a0c-db8880b4918e",
   "metadata": {},
   "outputs": [
    {
     "name": "stderr",
     "output_type": "stream",
     "text": [
      "\u001b[1minput_line_44:14:5: \u001b[0m\u001b[0;1;35mwarning: \u001b[0m\u001b[1madd explicit braces to avoid dangling else [-Wdangling-else]\u001b[0m\n",
      "    else\n",
      "\u001b[0;1;32m    ^\n",
      "\u001b[0m"
     ]
    }
   ],
   "source": [
    "ImplicitKeyTreapNode* remove(ImplicitKeyTreapNode* tree, int index){\n",
    "    if (count(tree->left) == index){\n",
    "        ImplicitKeyTreapNode* left = tree->left;\n",
    "        ImplicitKeyTreapNode* right = tree->right;\n",
    "        delete tree;\n",
    "        ImplicitKeyTreapNode* tmp = merge(left, right);\n",
    "        return tmp;\n",
    "    }\n",
    "    if (index < count(tree->left))\n",
    "        if (tree->left != nullptr) {\n",
    "            tree->left = remove(tree->left, index);\n",
    "            tree->left->count = recount(tree->left);\n",
    "        }\n",
    "    else\n",
    "        if (tree->right != nullptr){\n",
    "            tree->right = remove(tree->right, index);\n",
    "            tree->right->count = recount(tree->right);\n",
    "        }\n",
    "    return tree;\n",
    "}"
   ]
  },
  {
   "cell_type": "code",
   "execution_count": 37,
   "id": "f9c63f0e-f955-4021-9140-fa87d09cec6f",
   "metadata": {},
   "outputs": [],
   "source": [
    "void ImplicitKeyTreap::remove(int index){\n",
    "    root = ::remove(root, index);\n",
    "}\n"
   ]
  },
  {
   "cell_type": "code",
   "execution_count": null,
   "id": "54364f9f-c9aa-45d4-88d3-885ac41a295b",
   "metadata": {},
   "outputs": [],
   "source": []
  },
  {
   "cell_type": "markdown",
   "id": "9716f21a-1163-4ffc-b058-ffb174562104",
   "metadata": {},
   "source": [
    "# Небинарные деревья поиска"
   ]
  },
  {
   "cell_type": "markdown",
   "id": "43bfc4d8-d377-44a3-886e-a52555af5c48",
   "metadata": {},
   "source": [
    "## B-дерево"
   ]
  },
  {
   "cell_type": "markdown",
   "id": "045a2e96-cc4f-4cd7-9858-87f93cca253f",
   "metadata": {},
   "source": [
    "Структура B-дерева применяется для организации индексов во многих современных СУБД.\n",
    "\n",
    "B-дерево может применяться для структурирования (индексирования) информации на жёстком диске (как правило, метаданных). Время доступа к произвольному блоку на жёстком диске очень велико (порядка миллисекунд), поскольку оно определяется скоростью вращения диска и перемещения головок. Поэтому важно уменьшить количество узлов, просматриваемых при каждой операции. Использование поиска по списку каждый раз для нахождения случайного блока могло бы привести к чрезмерному количеству обращений к диску вследствие необходимости последовательного прохода по всем его элементам, предшествующим заданному, тогда как поиск в B-дереве, благодаря свойствам сбалансированности и высокой ветвистости, позволяет значительно сократить количество таких операций.\n",
    "\n",
    "Относительно простая реализация алгоритмов и существование готовых библиотек (в том числе для C) для работы со структурой B-дерева обеспечивают популярность применения такой организации памяти в самых разнообразных программах, работающих с большими объёмами данных. "
   ]
  },
  {
   "cell_type": "markdown",
   "id": "50d3d074-d73b-4b1b-99e0-6e98f5263613",
   "metadata": {},
   "source": [
    "B-дерево является идеально сбалансированным, то есть глубина всех его листьев одинакова. B-дерево имеет следующие свойства (t — параметр дерева, называемый минимальной степенью B-дерева, не меньший 2.): \n",
    "* Каждый узел, кроме корня, содержит не менее t−1 ключей, и каждый внутренний узел имеет по меньшей мере t дочерних узлов. Если дерево не является пустым, корень должен содержать как минимум один ключ.\n",
    "* Каждый узел, кроме корня, содержит не более 2t−1 ключей и не более чем 2t сыновей во внутренних узлах\n",
    "* Корень содержит от 1 до 2t−1 ключей, если дерево не пусто и от 2 до 2t детей при высоте большей 0 .\n",
    "* Каждый узел дерева, кроме листьев, содержащий ключи k1,...,kn, имеет n+1 сына. i-й сын содержит ключи из отрезка $[k_{i−1};k_i]$, $k_0=-\\infty,k_{n+1}=\\infty$\n",
    ".\n",
    "Ключи в каждом узле упорядочены по неубыванию.\n",
    "Все листья находятся на одном уровне."
   ]
  },
  {
   "cell_type": "markdown",
   "id": "072304d7-1d81-4b4c-83cc-d4274d14dca4",
   "metadata": {},
   "source": [
    "Основные достоинства\n",
    "* Во всех случаях полезное использование пространства вторичной памяти составляет свыше 50 %. С ростом степени полезного использования памяти не происходит снижения качества обслуживания.\n",
    "* Произвольный доступ к записи реализуется посредством малого количества подопераций (обращения к физическим блокам).\n",
    "* В среднем достаточно эффективно реализуются операции включения и удаления записей; при этом сохраняется естественный порядок ключей с целью последовательной обработки, а также соответствующий баланс дерева для обеспечения быстрой произвольной выборки.\n",
    "* Неизменная упорядоченность по ключу обеспечивает возможность эффективной пакетной обработки."
   ]
  },
  {
   "cell_type": "markdown",
   "id": "2d330130-19c8-4963-a5a4-194434ac9c68",
   "metadata": {},
   "source": [
    "Основной недостаток В-деревьев состоит в отсутствии для них эффективных средств выборки данных (то есть метода обхода дерева), упорядоченных по свойству, отличному от выбранного ключа. "
   ]
  },
  {
   "cell_type": "markdown",
   "id": "cce02c3f-389b-4508-b26f-b68b7520bbaa",
   "metadata": {},
   "source": [
    "## 2-3 Дерево"
   ]
  },
  {
   "cell_type": "markdown",
   "id": "7ec420c5-3cd2-424a-a557-7f1f610c9633",
   "metadata": {},
   "source": [
    "2-3 дерево (англ. 2-3 tree) — структура данных, представляющая собой сбалансированное дерево поиска, такое что из каждого узла может выходить две или три ветви и глубина всех листьев одинакова. Является частным случаем B+ дерева. "
   ]
  },
  {
   "cell_type": "markdown",
   "id": "db66747a-cf0f-4a37-92d3-0bdcaf71b555",
   "metadata": {},
   "source": [
    "Свойства:\n",
    "* нелистовые вершины имеют либо 2, либо 3 сына \n",
    "* нелистовая вершина, имеющая двух сыновей, хранит максимум левого поддерева. Нелистовая вершина, имеющая трех сыновей, хранит два значения. Первое значение хранит максимум левого поддерева, второе максимум центрального поддерева\n",
    "* сыновья упорядочены по значению максимума поддерева сына\n",
    "* все листья лежат на одной глубине\n",
    "* высота 2-3 дерева O(logn), где n — количество элементов в дереве.\n"
   ]
  },
  {
   "cell_type": "code",
   "execution_count": null,
   "id": "eeaf9a42-5621-4b63-b04f-a506b23cb6b6",
   "metadata": {},
   "outputs": [],
   "source": []
  },
  {
   "cell_type": "markdown",
   "id": "b8eac8c4-534f-4bf1-a02f-720a530fd470",
   "metadata": {},
   "source": [
    "## Splay дерево"
   ]
  },
  {
   "cell_type": "code",
   "execution_count": 20,
   "id": "60314481-4f1c-47a0-b8cc-3383fdfa4664",
   "metadata": {},
   "outputs": [],
   "source": [
    "class SplayTreeNode {\n",
    "public:\n",
    "    int key;\n",
    "    int data;\n",
    "    SplayTreeNode *left;\n",
    "    SplayTreeNode *right;\n",
    "};\n"
   ]
  },
  {
   "cell_type": "code",
   "execution_count": 21,
   "id": "0d26c245-58ad-4ef8-89fb-d715c1377133",
   "metadata": {},
   "outputs": [],
   "source": [
    "class SplayTree {\n",
    "private:\n",
    "    SplayTreeNode *root;\n",
    "    int count;\n",
    "    int invalid;\n",
    "public:\n",
    "    SplayTree(int invalid);\n",
    "    ~SplayTree();\n",
    "\n",
    "    void print();\n",
    "    int getDataByKey(int key);\n",
    "    void add(int key, int data);\n",
    "    void remove(int key);\n",
    "};\n"
   ]
  },
  {
   "cell_type": "code",
   "execution_count": 22,
   "id": "5bfb07b6-ae80-4dc6-bde2-ddb4302861bc",
   "metadata": {},
   "outputs": [],
   "source": [
    "#include <iostream>\n",
    "#include <stack>\n",
    "#include <string>\n",
    "using namespace std;"
   ]
  },
  {
   "cell_type": "code",
   "execution_count": 23,
   "id": "64eaaa96-36b1-427c-ad49-bc744d7bf0f4",
   "metadata": {},
   "outputs": [],
   "source": [
    "SplayTreeNode *newSplayTreeNode(int key, int data) {\n",
    "    auto node = new SplayTreeNode;\n",
    "    node->key = key;\n",
    "    node->data = data;\n",
    "    node->left = nullptr;\n",
    "    node->right = nullptr;\n",
    "    return node;\n",
    "}"
   ]
  },
  {
   "cell_type": "code",
   "execution_count": 24,
   "id": "f45bf9b8-8703-4376-b8d0-503953889e45",
   "metadata": {},
   "outputs": [],
   "source": [
    "SplayTree::SplayTree(int invalid){\n",
    "    root = nullptr;\n",
    "    count = 0;\n",
    "    this->invalid = invalid;\n",
    "}"
   ]
  },
  {
   "cell_type": "code",
   "execution_count": 25,
   "id": "a728b490-18f7-42ad-ad5b-a9257b5dec8c",
   "metadata": {},
   "outputs": [],
   "source": [
    "SplayTree::~SplayTree(){\n",
    "    count = 0;\n",
    "\n",
    "    stack<SplayTreeNode*> stack;\n",
    "    stack.push(root);\n",
    "\n",
    "    while (true){\n",
    "        if (stack.empty())\n",
    "            break;\n",
    "\n",
    "        auto curr = stack.top(); stack.pop();\n",
    "\n",
    "        if (curr != nullptr){\n",
    "            stack.push(curr->left);\n",
    "            stack.push(curr->right);\n",
    "            delete curr;\n",
    "        }\n",
    "    }\n",
    "}"
   ]
  },
  {
   "cell_type": "code",
   "execution_count": 26,
   "id": "1fa13085-0f4f-428c-b41d-29762c2e977a",
   "metadata": {},
   "outputs": [],
   "source": [
    "void printTree(SplayTreeNode *root, string indent, bool last) {\n",
    "    if (root != nullptr) {\n",
    "        cout << indent;\n",
    "        if (last) {\n",
    "            cout << \"R----\";\n",
    "            indent += \"   \";\n",
    "        } else {\n",
    "            cout << \"L----\";\n",
    "            indent += \"|  \";\n",
    "        }\n",
    "        cout << \"(\" <<root->key << \", \" << root->data << \")\" << endl;\n",
    "        printTree(root->left, indent, false);\n",
    "        printTree(root->right, indent, true);\n",
    "    }\n",
    "}"
   ]
  },
  {
   "cell_type": "code",
   "execution_count": 27,
   "id": "322882d0-176f-4a08-bb99-6978421b4e57",
   "metadata": {},
   "outputs": [],
   "source": [
    "void SplayTree::print(){\n",
    "    printTree(root, \"\", true);\n",
    "}"
   ]
  },
  {
   "cell_type": "code",
   "execution_count": 28,
   "id": "25c0b5d3-771f-49a5-83a2-ab1000ff0c5d",
   "metadata": {},
   "outputs": [],
   "source": [
    "SplayTreeNode *rightRotate(SplayTreeNode *x)\n",
    "{\n",
    "    SplayTreeNode *y = x->left;\n",
    "    x->left = y->right;\n",
    "    y->right = x;\n",
    "    return y;\n",
    "}"
   ]
  },
  {
   "cell_type": "code",
   "execution_count": 29,
   "id": "b85d168a-ae53-4717-9526-c4ec16363151",
   "metadata": {},
   "outputs": [],
   "source": [
    "SplayTreeNode *leftRotate(SplayTreeNode *x)\n",
    "{\n",
    "    SplayTreeNode *y = x->right;\n",
    "    x->right = y->left;\n",
    "    y->left = x;\n",
    "    return y;\n",
    "}"
   ]
  },
  {
   "cell_type": "code",
   "execution_count": 30,
   "id": "4f1a8e6a-60bf-4def-a33a-cc08b8a3230c",
   "metadata": {},
   "outputs": [],
   "source": [
    "SplayTreeNode *splay(SplayTreeNode *&root, int key)\n",
    "{\n",
    "    if (root == nullptr || root->key == key)\n",
    "        return root;\n",
    "\n",
    "    // Ключ лежит в левом поддереве\n",
    "    if (root->key > key)\n",
    "    {\n",
    "        // Ключа нет в дереве, мы закончили\n",
    "        if (root->left == nullptr) return root;\n",
    "\n",
    "        // Zig-Zig (Левый-левый)\n",
    "        if (root->left->key > key)\n",
    "        {\n",
    "            // Сначала рекурсивно поднимем\n",
    "            // ключ как корень left-left\n",
    "            root->left->left = splay(root->left->left, key);\n",
    "\n",
    "            // Первый разворот для root,\n",
    "            // второй разворот выполняется после else\n",
    "            root = rightRotate(root);\n",
    "        }\n",
    "        else if (root->left->key < key) // Zig-Zag (Левый-правый)\n",
    "        {\n",
    "            // Сначала рекурсивно поднимаем\n",
    "            // ключ как корень left-right\n",
    "            root->left->right = splay(root->left->right, key);\n",
    "\n",
    "            // Выполняем первый разворот для root->left\n",
    "            if (root->left->right != nullptr)\n",
    "                root->left = leftRotate(root->left);\n",
    "        }\n",
    "\n",
    "        // Выполняем второй разворот для корня\n",
    "        return (root->left == nullptr)? root: rightRotate(root);\n",
    "    }\n",
    "    else // Ключ находится в правом поддереве\n",
    "    {\n",
    "        // Ключа нет в дереве, мы закончили\n",
    "        if (root->right == nullptr) return root;\n",
    "\n",
    "        // Zag-Zig (Правый-левый)\n",
    "        if (root->right->key > key)\n",
    "        {\n",
    "            // Поднять ключ как корень right-left\n",
    "            root->right->left = splay(root->right->left, key);\n",
    "\n",
    "            // Выполняем первый поворот для root->right\n",
    "            if (root->right->left != nullptr)\n",
    "                root->right = rightRotate(root->right);\n",
    "        }\n",
    "        else if (root->right->key < key)// Zag-Zag (Правый-правый)\n",
    "        {\n",
    "            // Поднимаем ключ как корень\n",
    "            // right-right и выполняем первый разворот\n",
    "            root->right->right = splay(root->right->right, key);\n",
    "            root = leftRotate(root);\n",
    "        }\n",
    "\n",
    "        // Выполняем второй разворот для root\n",
    "        return (root->right == nullptr)? root: leftRotate(root);\n",
    "    }\n",
    "}"
   ]
  },
  {
   "cell_type": "code",
   "execution_count": 31,
   "id": "1c83079a-1d3c-46a3-8adf-1795d5fc8d1a",
   "metadata": {},
   "outputs": [],
   "source": [
    "int SplayTree::getDataByKey(int key){\n",
    "    root = splay(root, key);;\n",
    "    if (root != nullptr)\n",
    "        return root->data;\n",
    "    return invalid;\n",
    "}"
   ]
  },
  {
   "cell_type": "code",
   "execution_count": 32,
   "id": "60c6cc9f-29c2-489a-ae86-1dea9678af35",
   "metadata": {},
   "outputs": [],
   "source": [
    "SplayTreeNode* insert(SplayTreeNode *node, int key, int data) {\n",
    "    if (node == nullptr) return newSplayTreeNode(key, data);\n",
    "\n",
    "    if (key < node->key)\n",
    "        node->left = insert(node->left, key, data);\n",
    "    else\n",
    "        node->right = insert(node->right, key, data);\n",
    "\n",
    "    return node;\n",
    "}"
   ]
  },
  {
   "cell_type": "code",
   "execution_count": 33,
   "id": "a9c0727a-3a1f-4468-8a34-8a9f05e146d6",
   "metadata": {},
   "outputs": [],
   "source": [
    "void SplayTree::add(int key, int data){\n",
    "    root = ::insert(root, key, data);\n",
    "}"
   ]
  },
  {
   "cell_type": "code",
   "execution_count": 34,
   "id": "8beb5ac1-5b2c-4a27-9119-e336f7a4603b",
   "metadata": {},
   "outputs": [],
   "source": [
    "SplayTreeNode* deleteNode(SplayTreeNode* root, int key){\n",
    "    if (root == nullptr) return root;\n",
    "\n",
    "    if (key < root->key)\n",
    "        root->left = deleteNode(root->left, key);\n",
    "    else if (key > root->key)\n",
    "        root->right = deleteNode(root->right, key);\n",
    "    else {\n",
    "        if (root->left == nullptr) {\n",
    "            auto temp = root->right;\n",
    "            delete root;\n",
    "            return temp;\n",
    "        } else if (root->right == nullptr) {\n",
    "            auto  *temp = root->left;\n",
    "            delete root;\n",
    "            return temp;\n",
    "        }\n",
    "\n",
    "        //если узел в корне надо в правом дереве найти минимум и поставить в корень\n",
    "        auto prnt = root;\n",
    "        auto curr = root->right;\n",
    "        while (curr->left != nullptr) {\n",
    "            prnt = curr;\n",
    "            curr = curr->left;\n",
    "        }\n",
    "        root->key = curr->key;\n",
    "        root->data = curr->data;\n",
    "        root->right = deleteNode(root->right, curr->key);\n",
    "    }\n",
    "    return root;\n",
    "}\n"
   ]
  },
  {
   "cell_type": "code",
   "execution_count": 35,
   "id": "d8502bb9-ae01-4bb1-980d-efc9a58da1d9",
   "metadata": {},
   "outputs": [],
   "source": [
    "void SplayTree::remove(int key){\n",
    "    root = ::deleteNode(root, key);\n",
    "}"
   ]
  },
  {
   "cell_type": "code",
   "execution_count": null,
   "id": "16e46596-0694-4bd2-80e8-d2ef4dfd39fd",
   "metadata": {},
   "outputs": [],
   "source": []
  },
  {
   "cell_type": "code",
   "execution_count": null,
   "id": "097935f9-7610-4d51-b6d4-2a2100116db1",
   "metadata": {},
   "outputs": [],
   "source": []
  },
  {
   "cell_type": "code",
   "execution_count": null,
   "id": "08cfc669-3108-4485-a6b5-a1b8d5a9f868",
   "metadata": {},
   "outputs": [],
   "source": []
  },
  {
   "cell_type": "code",
   "execution_count": null,
   "id": "962d7611-7b2e-4b53-9390-0dd166953827",
   "metadata": {},
   "outputs": [],
   "source": []
  },
  {
   "cell_type": "markdown",
   "id": "13e97822-a849-4aa8-be36-a81869637691",
   "metadata": {},
   "source": [
    "## Scapegoat дерево"
   ]
  },
  {
   "cell_type": "code",
   "execution_count": 5,
   "id": "ba45e7a5-dae6-4855-af36-8a0eeb616279",
   "metadata": {},
   "outputs": [],
   "source": [
    "#include <cmath>\n",
    "#include <iostream>\n",
    "#include <stack>"
   ]
  },
  {
   "cell_type": "code",
   "execution_count": 6,
   "id": "4ba6b6de-b74f-429e-8653-eb14d8398e30",
   "metadata": {},
   "outputs": [],
   "source": [
    "using namespace std;"
   ]
  },
  {
   "cell_type": "code",
   "execution_count": 1,
   "id": "ea5bf6d9-285b-4391-9f9a-b79aa5922723",
   "metadata": {},
   "outputs": [],
   "source": [
    "struct ScapegoatTreeNode{\n",
    "\n",
    "    ScapegoatTreeNode *left, *right, *parent;\n",
    "    int key;\n",
    "    int data;\n",
    "    int size;\n",
    "\n",
    "    ScapegoatTreeNode(){\n",
    "        key = data = size = 0;\n",
    "        left = right = parent = nullptr;\n",
    "    }\n",
    "\n",
    "    ScapegoatTreeNode(int key, int data, int size = 1){\n",
    "        this->key = key;\n",
    "        this->data = data;\n",
    "        this->size = size;\n",
    "        left = right = parent = nullptr;\n",
    "    }\n",
    "};\n"
   ]
  },
  {
   "cell_type": "code",
   "execution_count": 2,
   "id": "c1777c3d-be83-4081-90ec-0f8c8d1c12fc",
   "metadata": {},
   "outputs": [],
   "source": [
    "class ScapegoatTree\n",
    "{\n",
    "private:\n",
    "    ScapegoatTreeNode *root;\n",
    "    int count;  // Number of nodes in Tree\n",
    "    int invalid;\n",
    "\n",
    "\n",
    "    bool isEmpty();\n",
    "    void makeEmpty();\n",
    "    int size();\n",
    "    float alpha;\n",
    "\n",
    "    int recountSize(ScapegoatTreeNode* root);\n",
    "    //void rebuild(ScapegoatTreeNode *&root);\n",
    "public:\n",
    "    ScapegoatTree(float alpha, int invalid);\n",
    "    ~ScapegoatTree();\n",
    "\n",
    "    void print();\n",
    "    int getDataByKey(int key);\n",
    "    void add(int key, int data);\n",
    "    void remove(int key);\n",
    "\n",
    "};"
   ]
  },
  {
   "cell_type": "code",
   "execution_count": 3,
   "id": "85c17582-629f-4e73-a177-5908a57b25fb",
   "metadata": {},
   "outputs": [],
   "source": [
    "ScapegoatTree::ScapegoatTree(float alpha, int invalid){\n",
    "    root = nullptr;\n",
    "    this->alpha = alpha;\n",
    "    this->invalid = invalid;\n",
    "    count = 0;\n",
    "}"
   ]
  },
  {
   "cell_type": "code",
   "execution_count": 4,
   "id": "bb1d87c2-a540-41a6-99e1-f065d38fefa2",
   "metadata": {},
   "outputs": [
    {
     "name": "stderr",
     "output_type": "stream",
     "text": [
      "\u001b[1minput_line_10:3:5: \u001b[0m\u001b[0;1;31merror: \u001b[0m\u001b[1muse of undeclared identifier 'stack'\u001b[0m\n",
      "    stack<ScapegoatTreeNode*> stack;\n",
      "\u001b[0;1;32m    ^\n",
      "\u001b[0m\u001b[1minput_line_10:3:11: \u001b[0m\u001b[0;1;31merror: \u001b[0m\u001b[1m'ScapegoatTreeNode' does not refer to a value\u001b[0m\n",
      "    stack<ScapegoatTreeNode*> stack;\n",
      "\u001b[0;1;32m          ^\n",
      "\u001b[0m\u001b[1minput_line_7:1:8: \u001b[0m\u001b[0;1;30mnote: \u001b[0mdeclared here\u001b[0m\n",
      "struct ScapegoatTreeNode{\n",
      "\u001b[0;1;32m       ^\n",
      "\u001b[0m\u001b[1minput_line_10:3:29: \u001b[0m\u001b[0;1;31merror: \u001b[0m\u001b[1mexpected expression\u001b[0m\n",
      "    stack<ScapegoatTreeNode*> stack;\n",
      "\u001b[0;1;32m                            ^\n",
      "\u001b[0m\u001b[1minput_line_10:3:31: \u001b[0m\u001b[0;1;31merror: \u001b[0m\u001b[1muse of undeclared identifier 'stack'\u001b[0m\n",
      "    stack<ScapegoatTreeNode*> stack;\n",
      "\u001b[0;1;32m                              ^\n",
      "\u001b[0m\u001b[1minput_line_10:4:5: \u001b[0m\u001b[0;1;31merror: \u001b[0m\u001b[1muse of undeclared identifier 'stack'\u001b[0m\n",
      "    stack.push(root);\n",
      "\u001b[0;1;32m    ^\n",
      "\u001b[0m\u001b[1minput_line_10:6:13: \u001b[0m\u001b[0;1;31merror: \u001b[0m\u001b[1muse of undeclared identifier 'stack'\u001b[0m\n",
      "        if (stack.empty())\n",
      "\u001b[0;1;32m            ^\n",
      "\u001b[0m\u001b[1minput_line_10:8:21: \u001b[0m\u001b[0;1;31merror: \u001b[0m\u001b[1muse of undeclared identifier 'stack'\u001b[0m\n",
      "        auto curr = stack.top(); stack.pop();\n",
      "\u001b[0;1;32m                    ^\n",
      "\u001b[0m\u001b[1minput_line_10:8:34: \u001b[0m\u001b[0;1;31merror: \u001b[0m\u001b[1muse of undeclared identifier 'stack'\u001b[0m\n",
      "        auto curr = stack.top(); stack.pop();\n",
      "\u001b[0;1;32m                                 ^\n",
      "\u001b[0m\u001b[1minput_line_10:10:13: \u001b[0m\u001b[0;1;31merror: \u001b[0m\u001b[1muse of undeclared identifier 'stack'\u001b[0m\n",
      "            stack.push(curr->left);\n",
      "\u001b[0;1;32m            ^\n",
      "\u001b[0m\u001b[1minput_line_10:11:13: \u001b[0m\u001b[0;1;31merror: \u001b[0m\u001b[1muse of undeclared identifier 'stack'\u001b[0m\n",
      "            stack.push(curr->right);\n",
      "\u001b[0;1;32m            ^\n",
      "\u001b[0m"
     ]
    },
    {
     "ename": "Interpreter Error",
     "evalue": "",
     "output_type": "error",
     "traceback": [
      "Interpreter Error: "
     ]
    }
   ],
   "source": [
    "ScapegoatTree::~ScapegoatTree(){\n",
    "    count = 0;\n",
    "\n",
    "    stack<ScapegoatTreeNode*> stack;\n",
    "    stack.push(root);\n",
    "\n",
    "    while (true){\n",
    "        if (stack.empty())\n",
    "            break;\n",
    "\n",
    "        auto curr = stack.top(); stack.pop();\n",
    "\n",
    "        if (curr != nullptr){\n",
    "            stack.push(curr->left);\n",
    "            stack.push(curr->right);\n",
    "            delete curr;\n",
    "        }\n",
    "    }\n",
    "}"
   ]
  },
  {
   "cell_type": "code",
   "execution_count": 7,
   "id": "5c0cb094-e450-478c-9f48-c26c5887fe9b",
   "metadata": {},
   "outputs": [],
   "source": [
    "void printTree(ScapegoatTreeNode *root, string indent, bool last) {\n",
    "    if (root != nullptr) {\n",
    "        cout << indent;\n",
    "        if (last) {\n",
    "            cout << \"R----\";\n",
    "            indent += \"   \";\n",
    "        } else {\n",
    "            cout << \"L----\";\n",
    "            indent += \"|  \";\n",
    "        }\n",
    "        cout << \"(\" <<root->key << \", \" << root->data << \")\" << endl;\n",
    "        printTree(root->left, indent, false);\n",
    "        printTree(root->right, indent, true);\n",
    "    }\n",
    "}"
   ]
  },
  {
   "cell_type": "code",
   "execution_count": 8,
   "id": "facf2e90-1f5b-4291-b37b-e3e175fc7b9d",
   "metadata": {},
   "outputs": [],
   "source": [
    "void ScapegoatTree::print(){\n",
    "    printTree(root, \"\", true);\n",
    "}"
   ]
  },
  {
   "cell_type": "code",
   "execution_count": 9,
   "id": "39ddada4-ef27-4cd3-89fe-4e1bfe1a8c65",
   "metadata": {},
   "outputs": [],
   "source": [
    "ScapegoatTreeNode* search(ScapegoatTreeNode* root, int key){\n",
    "    if (root == nullptr || root->key == key)\n",
    "        return root;\n",
    "    if (root->key < key)\n",
    "        return search(root->right, key);\n",
    "    return search(root->left, key);\n",
    "}"
   ]
  },
  {
   "cell_type": "code",
   "execution_count": 10,
   "id": "6f972512-0312-41f3-9e4e-0ad87975ea59",
   "metadata": {},
   "outputs": [],
   "source": [
    "int ScapegoatTree::getDataByKey(int key){\n",
    "    auto node = search(root, key);\n",
    "    if (node != nullptr)\n",
    "        return node->data;\n",
    "    return invalid;\n",
    "}"
   ]
  },
  {
   "cell_type": "code",
   "execution_count": 11,
   "id": "7107da55-6431-4154-8990-ac22b2fd670a",
   "metadata": {},
   "outputs": [],
   "source": [
    "ScapegoatTreeNode* addWithSize(ScapegoatTreeNode *root, ScapegoatTreeNode *&node, int key, int data) {\n",
    "    if (root == nullptr){\n",
    "        node = new ScapegoatTreeNode(key, data, 1);\n",
    "        return node;\n",
    "    }\n",
    "    if (key < root->key) {\n",
    "        root->left = addWithSize(root->left, node, key, data);\n",
    "        root->left->parent = root;\n",
    "        root->size++;\n",
    "    }else{\n",
    "        root->right = addWithSize(root->right, node, key, data);\n",
    "        root->right->parent = root;\n",
    "        root->size++;\n",
    "    }\n",
    "    return root;\n",
    "}"
   ]
  },
  {
   "cell_type": "code",
   "execution_count": 12,
   "id": "de59a348-61dc-4922-9c26-7ac88ab47607",
   "metadata": {},
   "outputs": [],
   "source": [
    "int nodesize(ScapegoatTreeNode* node){\n",
    "    if (node == nullptr)\n",
    "        return 0;\n",
    "    return node->size;\n",
    "}"
   ]
  },
  {
   "cell_type": "code",
   "execution_count": 13,
   "id": "2ecf3dbd-f09b-49a2-ae67-5ad7c0beb432",
   "metadata": {},
   "outputs": [],
   "source": [
    "ScapegoatTreeNode* findHighestDisbalance(ScapegoatTreeNode* node, float factor){\n",
    "    ScapegoatTreeNode* res = nullptr;\n",
    "    while (node != nullptr){\n",
    "        if ((nodesize(node->left) > nodesize(node) * factor) || (nodesize(node->right) > nodesize(node) * factor))\n",
    "            res = node;\n",
    "        node = node->parent;\n",
    "    }\n",
    "    return res;\n",
    "}"
   ]
  },
  {
   "cell_type": "code",
   "execution_count": 14,
   "id": "4dfe8455-0363-44b2-b599-5bec62dd380b",
   "metadata": {},
   "outputs": [],
   "source": [
    "int packIntoArray(ScapegoatTreeNode* root, ScapegoatTreeNode* result[], int index) {\n",
    "    if (root == nullptr) {\n",
    "        return index;\n",
    "    }\n",
    "    index = packIntoArray(root->left, result, index);\n",
    "    result[index++] = root;\n",
    "    return packIntoArray(root->right, result, index);\n",
    "}"
   ]
  },
  {
   "cell_type": "code",
   "execution_count": 15,
   "id": "45466497-5c4f-4a96-b25f-5ff30a6542ac",
   "metadata": {},
   "outputs": [],
   "source": [
    "ScapegoatTreeNode* buildBalanced(ScapegoatTreeNode* tree_in_array[], int index, int size) {\n",
    "    if (size == 0)\n",
    "        return nullptr;\n",
    "    int m = size / 2;\n",
    "    tree_in_array[index + m]->left = buildBalanced(tree_in_array, index, m);\n",
    "    if (tree_in_array[index + m]->left != nullptr)\n",
    "        tree_in_array[index + m]->left->parent = tree_in_array[index + m];\n",
    "    tree_in_array[index + m]->right = buildBalanced(tree_in_array, index + m + 1, size - m - 1);\n",
    "    if (tree_in_array[index + m]->right != nullptr)\n",
    "        tree_in_array[index + m]->right->parent = tree_in_array[index + m];\n",
    "    tree_in_array[index + m]->size = size;\n",
    "    return tree_in_array[index + m];\n",
    "}"
   ]
  },
  {
   "cell_type": "code",
   "execution_count": 16,
   "id": "33da4fc6-f5e0-4e0d-8d5f-3bb690504ac6",
   "metadata": {},
   "outputs": [],
   "source": [
    "void rebuild(ScapegoatTreeNode *&root) {\n",
    "    if (root == nullptr)\n",
    "        return;\n",
    "    int size = root->size;\n",
    "    ScapegoatTreeNode* parent = root->parent;\n",
    "    ScapegoatTreeNode** array = new ScapegoatTreeNode*[size];\n",
    "    packIntoArray(root, array, 0);\n",
    "    if (parent == nullptr) {\n",
    "        root = buildBalanced(array, 0, size);\n",
    "        root->parent = nullptr;\n",
    "    } else if (parent->right == root) {\n",
    "        parent->right = buildBalanced(array, 0, size);\n",
    "        parent->right->parent = parent;\n",
    "    } else {\n",
    "        parent->left = buildBalanced(array, 0, size);\n",
    "        parent->left->parent = parent;\n",
    "    }\n",
    "    delete[] array;\n",
    "}"
   ]
  },
  {
   "cell_type": "code",
   "execution_count": 17,
   "id": "07332e58-6a46-4e28-97a1-fd3a29a4db0b",
   "metadata": {},
   "outputs": [],
   "source": [
    "void ScapegoatTree::add(int key, int data){\n",
    "    ScapegoatTreeNode* node; // узел для начала подъема\n",
    "    root = addWithSize(root, node, key, data);\n",
    "    auto disbalanced = findHighestDisbalance(node, alpha);\n",
    "    if (disbalanced == root)\n",
    "        rebuild(root);\n",
    "    else\n",
    "        rebuild(disbalanced);\n",
    "}"
   ]
  },
  {
   "cell_type": "code",
   "execution_count": 18,
   "id": "3b2d2d63-ec2f-49d0-b797-234693293c17",
   "metadata": {},
   "outputs": [],
   "source": [
    "ScapegoatTreeNode* deleteNode(ScapegoatTreeNode* root, ScapegoatTreeNode *&parent, int key){\n",
    "    if (root == nullptr) return root;\n",
    "\n",
    "    root->size--;\n",
    "    if (key < root->key) {\n",
    "        root->left = deleteNode(root->left, parent, key);\n",
    "    } else if (key > root->key) {\n",
    "        root->right = deleteNode(root->right, parent, key);\n",
    "    } else {\n",
    "        if ((root->left == nullptr) && (root->right == nullptr)) {\n",
    "            //auto temp = root->right;\n",
    "            parent = root->parent;\n",
    "            if (parent->left == root)\n",
    "                parent->left = nullptr;\n",
    "            else\n",
    "                parent->right = nullptr;\n",
    "            delete root;\n",
    "            return nullptr;\n",
    "        }\n",
    "\n",
    "        auto prnt = root;\n",
    "        auto curr = root;\n",
    "\n",
    "        if (root->right != nullptr){ //если узел в корне надо в правом дереве найти минимум и поставить в корень\n",
    "\n",
    "            curr = root->right;\n",
    "            while (curr->left != nullptr) {\n",
    "                prnt = curr;\n",
    "                curr = curr->left;\n",
    "            }\n",
    "\n",
    "        }else{ //если узел в корне надо в левом дереве найти максимум и поставить в корень\n",
    "\n",
    "            curr = root->left;\n",
    "            while (curr->right != nullptr) {\n",
    "                prnt = curr;\n",
    "                curr = curr->right;\n",
    "            }\n",
    "        }\n",
    "        root->key = curr->key;\n",
    "        root->data = curr->data;\n",
    "        parent = prnt;\n",
    "        if (parent->right == curr)\n",
    "            parent->right = nullptr;\n",
    "        else\n",
    "            parent->left = nullptr;\n",
    "        delete curr;\n",
    "\n",
    "    }\n",
    "    return root;\n",
    "}"
   ]
  },
  {
   "cell_type": "code",
   "execution_count": 19,
   "id": "af713dde-e156-40a0-af13-026189c834af",
   "metadata": {},
   "outputs": [],
   "source": [
    "void ScapegoatTree::remove(int key){\n",
    "    ScapegoatTreeNode* node;\n",
    "    root = ::deleteNode(root, node, key);\n",
    "    auto disbalanced = findHighestDisbalance(node, alpha);\n",
    "    if (disbalanced == root)\n",
    "        rebuild(root);\n",
    "    else\n",
    "        rebuild(disbalanced);\n",
    "}"
   ]
  }
 ],
 "metadata": {
  "kernelspec": {
   "display_name": "C++14",
   "language": "C++14",
   "name": "xcpp14"
  },
  "language_info": {
   "codemirror_mode": "text/x-c++src",
   "file_extension": ".cpp",
   "mimetype": "text/x-c++src",
   "name": "c++",
   "version": "14"
  }
 },
 "nbformat": 4,
 "nbformat_minor": 5
}
