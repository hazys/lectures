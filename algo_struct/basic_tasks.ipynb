{
 "cells": [
  {
   "cell_type": "markdown",
   "id": "af6b6d9f-7fb0-4946-877e-82a1c4f0b160",
   "metadata": {},
   "source": [
    "# Базовые задачи"
   ]
  },
  {
   "cell_type": "markdown",
   "id": "72c46a17-1373-424c-b76f-5b0ebbe3821c",
   "metadata": {},
   "source": [
    "данная тетрадка будет содержать самые распространенные и базовые практические задачи задачи"
   ]
  },
  {
   "cell_type": "markdown",
   "id": "aab1e3ef-09f2-4477-bea5-f8aff925eb01",
   "metadata": {},
   "source": [
    "## LIP (поиск самой длинной возрастающей последовательности)"
   ]
  },
  {
   "cell_type": "markdown",
   "id": "90027275-f63f-41aa-a6d4-4444ae5d649c",
   "metadata": {},
   "source": [
    "Решение за O(2^n) - простой перебор"
   ]
  },
  {
   "cell_type": "markdown",
   "id": "43cf18f5-3f6a-4dd2-83b8-3ea6ed8460a3",
   "metadata": {},
   "source": [
    "Решение за O(n!) - перебор с возвратом"
   ]
  },
  {
   "cell_type": "markdown",
   "id": "0d2653ae-bab5-4d0a-b404-a646169a8d9d",
   "metadata": {},
   "source": [
    "Решение за O(n^2) - запоминаем какая последовательность заканчивается в данной конкретной ячейке"
   ]
  },
  {
   "cell_type": "markdown",
   "id": "18eefb48-9e5f-4a1c-a9d3-4ab05e89ce5e",
   "metadata": {},
   "source": [
    "Обратный ход алгоритма"
   ]
  },
  {
   "cell_type": "markdown",
   "id": "f9c5cc53-bd33-488e-bf66-7ea1ba9a130b",
   "metadata": {},
   "source": [
    "Решение за O(n^2) - динамика с конца в начало"
   ]
  },
  {
   "cell_type": "markdown",
   "id": "33ce3e8b-84dd-481f-aecb-835b04f5088f",
   "metadata": {},
   "source": [
    "Решение за O(nlogn) - запоминаем на что может закончиться последовательность длиною k, бинарным поиском ищем подходящий вариант"
   ]
  },
  {
   "cell_type": "markdown",
   "id": "8345293d-e161-415b-bfdc-bfe11d91dd00",
   "metadata": {},
   "source": [
    "# Метод 2-х указателей"
   ]
  },
  {
   "cell_type": "markdown",
   "id": "1f06a8bd-5a9b-4f2a-a832-6876d722da1d",
   "metadata": {},
   "source": [
    "#### пример бинарный поиск"
   ]
  },
  {
   "cell_type": "markdown",
   "id": "50202bac-2274-4472-899e-369e2546c07e",
   "metadata": {},
   "source": [
    "### Задача: дана последовательность неотрицательных чисел, дано число M, необходимо найти последовательность максимальной длины, сумма которой не превосходит M."
   ]
  },
  {
   "cell_type": "markdown",
   "id": "c9ad08e0-4585-4ae5-b6bd-fa9bc9b904e2",
   "metadata": {},
   "source": [
    "Решение за n^3, перебор всех границ и суммирование между ними"
   ]
  },
  {
   "cell_type": "markdown",
   "id": "ba986cc1-bb4f-4fff-92df-f1748ab2a83d",
   "metadata": {},
   "source": [
    "Префиксные суммы."
   ]
  },
  {
   "cell_type": "markdown",
   "id": "40a650a8-f304-45a9-8caa-7df2142a2473",
   "metadata": {},
   "source": [
    "Решение за n^2, перебор 2х концов и поиск сум между ними на основе префиксных сум."
   ]
  },
  {
   "cell_type": "markdown",
   "id": "92e3266d-11ff-41b1-a064-aa1d2fe5081a",
   "metadata": {},
   "source": [
    "Решение за nlogn, перебор всех l, для каждого l ищем r бинарным поиском."
   ]
  },
  {
   "cell_type": "markdown",
   "id": "b7f1f666-887d-48e5-af8e-3380832982d8",
   "metadata": {},
   "source": [
    "Решение за n. Проходим по всем l, идем вправо до достижения S = M увеличивая r и S+=a_r, на следующем шаге уменьшим S на a_l и найдем новый r. "
   ]
  },
  {
   "cell_type": "markdown",
   "id": "2a0cad8e-860f-4463-a9ce-cbcea415a9c0",
   "metadata": {},
   "source": [
    "# Обработка событий"
   ]
  },
  {
   "cell_type": "markdown",
   "id": "d3edc4ce-16c0-457e-8e60-ddc99cc8802b",
   "metadata": {},
   "source": [
    "### Задача: есть множество отрезков на прямой, необходимо найти любую точку с максимальной степенью вложенностью."
   ]
  },
  {
   "cell_type": "markdown",
   "id": "cc2d223c-1881-49e2-872e-70874d9d5f3e",
   "metadata": {},
   "source": [
    "O(n^2) берем каждую точку начала или конца отрезка и проверяем в сколько отрезков он входит."
   ]
  },
  {
   "cell_type": "markdown",
   "id": "8c440b19-bf8a-4e36-a74e-f9779c252da2",
   "metadata": {},
   "source": [
    "O(nlogn) создаем массив из новых событий: событие началось, событие закончилось. Сортируем (nlogn). Итерируемся, если слбытие началось +1 к вложенности, -1 если событие завершилось. Сложность при смыкании закрывающихся и открывающихся отрезков."
   ]
  },
  {
   "cell_type": "markdown",
   "id": "3c8ddf52-900f-4d5d-b280-56a137751348",
   "metadata": {},
   "source": [
    "O(n) тоже самое, только сортировка за n"
   ]
  },
  {
   "cell_type": "markdown",
   "id": "3f0a9206-f47a-4835-9994-d5d04938784d",
   "metadata": {},
   "source": [
    "#  Динамическое программирование"
   ]
  },
  {
   "cell_type": "markdown",
   "id": "c8642219-435b-4aed-9efc-65ecd26fef03",
   "metadata": {},
   "source": [
    "## Числа фиббоначи"
   ]
  },
  {
   "cell_type": "markdown",
   "id": "492f14ec-f726-4fff-a0f7-b508852118f2",
   "metadata": {},
   "source": [
    "$f_i = f_{i-1}+f_{i-2}$, $f_0 = 0$, $f_1 = 1$, $f_2 = 1$"
   ]
  },
  {
   "cell_type": "markdown",
   "id": "e2e89841-ccf0-4921-a1d5-f63f41aac31c",
   "metadata": {},
   "source": [
    "Решение 1.Рекурсивное решение. O(2^N)"
   ]
  },
  {
   "cell_type": "markdown",
   "id": "0f873ee9-1bbd-4f0a-a6d9-aea9fd5aa4ef",
   "metadata": {},
   "source": [
    "Решние 2. Сжатие путей / перебор с возвратом. O(Nlog*(N))"
   ]
  },
  {
   "cell_type": "markdown",
   "id": "6e059e5b-3df5-4161-ac7a-1d7973da36cb",
   "metadata": {},
   "source": [
    "Решение 3. Дп на массиве. Динамика вперед. O(N)"
   ]
  },
  {
   "cell_type": "markdown",
   "id": "29aeb382-0fe6-4cf7-9527-1aaa655e5118",
   "metadata": {},
   "source": [
    "Решение 4. Дп на 2х переменных. O(N), малый расход памяти."
   ]
  },
  {
   "cell_type": "markdown",
   "id": "8ce86e76-4b2a-4b31-a35a-e97865da0014",
   "metadata": {},
   "source": [
    "Решение 5. Матричное представление !!!!! и быстрое возведение в степень за O(logN)."
   ]
  },
  {
   "cell_type": "markdown",
   "id": "4dd4ea04-0966-445e-9f6e-f54c48d27bf4",
   "metadata": {},
   "source": [
    "Решение 6. Применение формулы. O(1)"
   ]
  },
  {
   "cell_type": "markdown",
   "id": "d4c01bf7-ffbe-4ceb-840f-f42b3ef1e644",
   "metadata": {},
   "source": [
    "## ДП вперед/назад"
   ]
  },
  {
   "cell_type": "markdown",
   "id": "0c066ff7-6e59-42a9-ab32-d6a21b91bf7e",
   "metadata": {},
   "source": [
    "## Кузнечик"
   ]
  },
  {
   "cell_type": "markdown",
   "id": "c122ac9a-5c91-49b3-8434-a543b4c62912",
   "metadata": {},
   "source": [
    "Кузнечик прыгает на 1 или 2 клетки.\n",
    "* количество путей\n",
    "* максимальная сумма наград"
   ]
  },
  {
   "cell_type": "markdown",
   "id": "7b459367-06e3-4be6-9445-ac49fcc7bd57",
   "metadata": {},
   "source": [
    "Кузнечик прыгает на k клеток\n",
    "* количество путей\n",
    "* максимальная сумма наград"
   ]
  },
  {
   "cell_type": "markdown",
   "id": "e5e473f6-853f-40ae-8e26-d186a1a3e8c8",
   "metadata": {},
   "source": [
    "Кузнечик в 2д двигается:\n",
    "* на 1 влево, вправо\n",
    "* по диагонали"
   ]
  },
  {
   "cell_type": "markdown",
   "id": "570205a8-6db0-4153-9b0f-38bc166bd830",
   "metadata": {},
   "source": [
    "Кузнечик играет в прыжки"
   ]
  },
  {
   "cell_type": "markdown",
   "id": "19ce438e-5696-41a4-89b1-18d945292c17",
   "metadata": {},
   "source": [
    "Кузнечик в 2д на к клеток вправо, вниз, по диагонали."
   ]
  },
  {
   "cell_type": "markdown",
   "id": "520780eb-f2a8-4ec8-b459-de88ca32e743",
   "metadata": {},
   "source": [
    "Утилита diff, антиплагиат:\n",
    "* расстояние Левенштейна\n",
    "* расстояние Демрау-Левенштейна"
   ]
  },
  {
   "cell_type": "code",
   "execution_count": null,
   "id": "79250d05-f0bc-41be-bff9-29d2bd8b12bc",
   "metadata": {},
   "outputs": [],
   "source": []
  },
  {
   "cell_type": "code",
   "execution_count": null,
   "id": "586a138c-8782-4c70-9ed4-828516f5409b",
   "metadata": {},
   "outputs": [],
   "source": []
  },
  {
   "cell_type": "code",
   "execution_count": null,
   "id": "d13e9b65-8562-4b98-b496-96dbec2c5d68",
   "metadata": {},
   "outputs": [],
   "source": []
  }
 ],
 "metadata": {
  "kernelspec": {
   "display_name": "C++14",
   "language": "C++14",
   "name": "xcpp14"
  },
  "language_info": {
   "codemirror_mode": "text/x-c++src",
   "file_extension": ".cpp",
   "mimetype": "text/x-c++src",
   "name": "c++",
   "version": "14"
  }
 },
 "nbformat": 4,
 "nbformat_minor": 5
}
