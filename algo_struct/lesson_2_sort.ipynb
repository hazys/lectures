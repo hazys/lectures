{
 "cells": [
  {
   "cell_type": "markdown",
   "id": "02816cbd-eff4-4b90-8f38-e8e15cf000f1",
   "metadata": {},
   "source": [
    "# Алгоритмы сортировки"
   ]
  },
  {
   "cell_type": "markdown",
   "id": "e5f38262-e65d-4344-9498-8de5e3473994",
   "metadata": {},
   "source": [
    "операция обмена"
   ]
  },
  {
   "cell_type": "code",
   "execution_count": 1,
   "id": "bcccb638-47e3-417e-b682-02e2a006cb92",
   "metadata": {},
   "outputs": [],
   "source": [
    "#include <iostream>\n",
    "using namespace std;"
   ]
  },
  {
   "cell_type": "code",
   "execution_count": 2,
   "id": "43b970b5-a4d8-4afa-8a2b-b65b2a3d3d47",
   "metadata": {
    "tags": []
   },
   "outputs": [],
   "source": [
    "void swap(int& a, int& b){\n",
    "    int tmp = a;\n",
    "    a = b;\n",
    "    b = tmp;\n",
    "}"
   ]
  },
  {
   "cell_type": "markdown",
   "id": "422c2d83-7c5d-43ab-9c50-e8a05e79e92e",
   "metadata": {},
   "source": [
    "* in-place\n",
    "* stable"
   ]
  },
  {
   "cell_type": "markdown",
   "id": "750318a4-4d5c-408d-89f5-ac245d1e0c47",
   "metadata": {},
   "source": [
    "# Сортировка выбором наибольшего элемента"
   ]
  },
  {
   "cell_type": "markdown",
   "id": "42323f9c-342c-4e03-a2cd-934ac00fbd3f",
   "metadata": {},
   "source": [
    "Идеи:\n",
    "* выбор большего/меньшего элемента"
   ]
  },
  {
   "cell_type": "code",
   "execution_count": 3,
   "id": "a44611ff-80f5-4358-aec0-1d0ba9b6484d",
   "metadata": {},
   "outputs": [],
   "source": [
    "void selectionSort(int* a, int size){\n",
    "    for (int i = 0; i < size; i++) {\n",
    "        int max = a[i], max_idx = i;\n",
    "        for (int j = i + 1; j < size; j++)\n",
    "            if (max < a[j])\n",
    "                max = a[j], max_idx = j;\n",
    "        swap(a[i], a[max_idx]);\n",
    "    }\n",
    "}"
   ]
  },
  {
   "cell_type": "code",
   "execution_count": 4,
   "id": "ff870f38-c9d5-4cbd-8707-17e90954e5e7",
   "metadata": {},
   "outputs": [
    {
     "name": "stdout",
     "output_type": "stream",
     "text": [
      "45\n",
      "16\n",
      "10\n",
      "9\n",
      "7\n",
      "7\n",
      "5\n",
      "3\n",
      "2\n",
      "1\n"
     ]
    }
   ],
   "source": [
    "int a[] = {1, 3, 2, 7, 5, 16, 7, 45, 9, 10};\n",
    "selectionSort(a, 10);\n",
    "for (int i = 0; i < 10; i++)\n",
    "    std::cout << a[i] << std::endl;"
   ]
  },
  {
   "cell_type": "markdown",
   "id": "648de057-8863-460b-aa92-83ac980c7493",
   "metadata": {},
   "source": [
    "возможные оптимизации:"
   ]
  },
  {
   "cell_type": "markdown",
   "id": "eb272a39-bf61-48e4-a5ab-07887c8cbe5d",
   "metadata": {},
   "source": [
    "* поиск min и max одновременно"
   ]
  },
  {
   "cell_type": "markdown",
   "id": "5307056e-b4e7-470e-8e79-47058d923ea5",
   "metadata": {},
   "source": [
    "# Сортировка вставками"
   ]
  },
  {
   "cell_type": "code",
   "execution_count": 5,
   "id": "3eb0dd8c-8999-4b60-9521-8136420a7ee3",
   "metadata": {},
   "outputs": [],
   "source": [
    "void insertionSort(int* a, int size){\n",
    "    for (int i = 1; i < size; i++) {\n",
    "        for (int j = i; j > 0; j--)\n",
    "            if (a[j] > a[j-1])\n",
    "                swap(a[j], a[j-1]);\n",
    "            else\n",
    "                break;\n",
    "    }\n",
    "}"
   ]
  },
  {
   "cell_type": "code",
   "execution_count": 6,
   "id": "4ebdb917-06d3-48f9-9ca7-0a9ff57d5766",
   "metadata": {},
   "outputs": [
    {
     "name": "stdout",
     "output_type": "stream",
     "text": [
      "45\n",
      "16\n",
      "10\n",
      "9\n",
      "7\n",
      "7\n",
      "5\n",
      "3\n",
      "2\n",
      "1\n"
     ]
    }
   ],
   "source": [
    "int a[] = {1, 3, 2, 7, 5, 16, 7, 45, 9, 10};\n",
    "insertionSort(a, 10);\n",
    "for (int i = 0; i < 10; i++)\n",
    "    std::cout << a[i] << std::endl;"
   ]
  },
  {
   "cell_type": "markdown",
   "id": "d1578001-ff24-42f0-81d9-753c59acfa93",
   "metadata": {},
   "source": [
    "возможные оптимизации:"
   ]
  },
  {
   "cell_type": "markdown",
   "id": "6275046d-9456-4226-b5db-720605df2ba1",
   "metadata": {},
   "source": [
    "* ранняя остановка"
   ]
  },
  {
   "cell_type": "markdown",
   "id": "3a18c492-9376-47e7-a81f-a61201795582",
   "metadata": {},
   "source": [
    "# Сортировка пузырьком"
   ]
  },
  {
   "cell_type": "code",
   "execution_count": 7,
   "id": "103c6eaa-9416-461e-bc6d-37cae5bc3b3a",
   "metadata": {},
   "outputs": [],
   "source": [
    "void bubbleSort(int* a, int size){\n",
    "    for (int i = 0; i < size; i++) {\n",
    "        bool fl = true;\n",
    "        for (int j = 0; j < size-i-1; j++)\n",
    "            if (a[j] < a[j+1])\n",
    "                swap(a[j], a[j+1]), fl = false;\n",
    "        if (fl) return;\n",
    "    }\n",
    "}"
   ]
  },
  {
   "cell_type": "code",
   "execution_count": 8,
   "id": "29b54878-39f6-465b-9e93-fb9596905f9e",
   "metadata": {},
   "outputs": [
    {
     "name": "stdout",
     "output_type": "stream",
     "text": [
      "45\n",
      "16\n",
      "10\n",
      "9\n",
      "7\n",
      "7\n",
      "5\n",
      "3\n",
      "2\n",
      "1\n"
     ]
    }
   ],
   "source": [
    "int a[] = {1, 3, 2, 7, 5, 16, 7, 45, 9, 10};\n",
    "bubbleSort(a, 10);\n",
    "for (int i = 0; i < 10; i++)\n",
    "    std::cout << a[i] << std::endl;"
   ]
  },
  {
   "cell_type": "markdown",
   "id": "727b8e0a-e96b-4ff5-a9ce-3cc9b4f3964f",
   "metadata": {},
   "source": [
    "возможные оптимизации:"
   ]
  },
  {
   "cell_type": "markdown",
   "id": "d675b00c-7d04-4800-95d2-0d01fdddf859",
   "metadata": {},
   "source": [
    "* ранняя остановка"
   ]
  },
  {
   "cell_type": "markdown",
   "id": "7822e3c4-db33-446f-b790-1341420ef12c",
   "metadata": {},
   "source": [
    "#  Разделяй и властвуй"
   ]
  },
  {
   "cell_type": "markdown",
   "id": "caa137f6-6e62-49e5-9899-93d78bb87e28",
   "metadata": {},
   "source": [
    "Описание метода"
   ]
  },
  {
   "cell_type": "markdown",
   "id": "869c4804-f838-495e-aa40-2b579d31f1b0",
   "metadata": {},
   "source": [
    "# Сортировка слиянием"
   ]
  },
  {
   "cell_type": "code",
   "execution_count": 9,
   "id": "5bcd337f-c59a-4778-b1ea-17d36007389e",
   "metadata": {},
   "outputs": [],
   "source": [
    "void _merge(int* a, int* b, int* res, int size_a, int size_b) {\n",
    "    int i = 0, j = 0, k = 0;\n",
    "    while ((i < size_a) || (j < size_b))\n",
    "        if((j >= size_b) || ((i < size_a) && (a[i] >= b[j])))\n",
    "            res[k++] = a[i++];            \n",
    "        else\n",
    "            res[k++] = b[j++];\n",
    "}"
   ]
  },
  {
   "cell_type": "code",
   "execution_count": 10,
   "id": "93fd369a-f5eb-4a01-88b3-d90282ee8b3b",
   "metadata": {},
   "outputs": [],
   "source": [
    "int* _msplit(int* a, int size){\n",
    "    if (size == 1){\n",
    "        int* res = new int[1];\n",
    "        res[0] = a[0];\n",
    "        return res;\n",
    "    } else {\n",
    "        int center = size / 2;\n",
    "        int* res = new int[size+1];\n",
    "        int* l = _msplit(a, center);\n",
    "        int* r = _msplit(&a[center], size - center);\n",
    "        _merge(l, r, res, center, size-center);\n",
    "        delete [] l;\n",
    "        delete [] r;\n",
    "        return res;\n",
    "    }\n",
    "}\n"
   ]
  },
  {
   "cell_type": "code",
   "execution_count": 11,
   "id": "a09438c5-11b7-4472-9b7b-0ddd0adbb32c",
   "metadata": {},
   "outputs": [],
   "source": [
    "void mergeSort(int* a, int size){\n",
    "    int* res = _msplit(a, size);\n",
    "    for(int i=0; i<size; i++) a[i] = res[i];\n",
    "    delete [] res;\n",
    "}"
   ]
  },
  {
   "cell_type": "code",
   "execution_count": 12,
   "id": "eee428ac-4462-4654-baf8-0475b3b021ae",
   "metadata": {},
   "outputs": [
    {
     "name": "stdout",
     "output_type": "stream",
     "text": [
      "45\n",
      "16\n",
      "10\n",
      "9\n",
      "7\n",
      "7\n",
      "5\n",
      "3\n",
      "2\n",
      "1\n"
     ]
    }
   ],
   "source": [
    "int a[] = {1, 3, 2, 7, 5, 16, 7, 45, 9, 10};\n",
    "mergeSort(a, 10);\n",
    "for (int i = 0; i < 10; i++)\n",
    "    std::cout << a[i] << std::endl;"
   ]
  },
  {
   "cell_type": "markdown",
   "id": "bef46a19-df38-4e7d-a984-61884dec327d",
   "metadata": {},
   "source": [
    "Способы организации merge\n",
    "* i-> <-j\n",
    "* i-> j->"
   ]
  },
  {
   "cell_type": "markdown",
   "id": "bc0da092-86ad-4416-a4e5-caba5d6934bd",
   "metadata": {},
   "source": [
    "возможные оптимизации\n",
    "* дополнительная память\n",
    "* без дополнительной памяти\n",
    "* уход от рекурсии"
   ]
  },
  {
   "cell_type": "markdown",
   "id": "b8a06601-5cba-4e5d-beb3-b15f888dc5f0",
   "metadata": {},
   "source": [
    "рассказть про случай без доп памяти 1/4+1/4+1/2"
   ]
  },
  {
   "cell_type": "markdown",
   "id": "f06acb7d-5fe1-4049-85fb-aef2eb256b01",
   "metadata": {},
   "source": [
    "# Быстрая сортировка"
   ]
  },
  {
   "cell_type": "code",
   "execution_count": 13,
   "id": "7787d5a7-70fa-4e44-a16d-40776cff8a39",
   "metadata": {},
   "outputs": [],
   "source": [
    "int _partition (int* a, int l, int r)\n",
    "{\n",
    "    int p = a[r], i = l - 1;\n",
    "    for (int j = l; j <= r - 1; j++)\n",
    "        if (a[j] >= p)\n",
    "            swap(a[++i], a[j]);\n",
    "    swap(a[i+1], a[r]);\n",
    "    return ++i;\n",
    "}"
   ]
  },
  {
   "cell_type": "code",
   "execution_count": 14,
   "id": "a5166eec-7887-4ba4-940b-62ea6ff06118",
   "metadata": {},
   "outputs": [],
   "source": [
    "void _quick(int* a, int l, int r)\n",
    "{\n",
    "    if (l < r){\n",
    "        int pi = _partition(a, l, r);\n",
    "        _quick(a, l, pi - 1);\n",
    "        _quick(a, pi + 1, r);\n",
    "    }\n",
    "}"
   ]
  },
  {
   "cell_type": "code",
   "execution_count": 15,
   "id": "1fac4ea2-888b-41fb-b70c-e1198cc78645",
   "metadata": {},
   "outputs": [],
   "source": [
    "void quickSort(int* a, int size){\n",
    "    _quick(a, 0, size - 1);\n",
    "}"
   ]
  },
  {
   "cell_type": "code",
   "execution_count": 16,
   "id": "d570db08-0d07-480e-9d32-a74e1bc9518c",
   "metadata": {},
   "outputs": [
    {
     "name": "stdout",
     "output_type": "stream",
     "text": [
      "45\n",
      "16\n",
      "10\n",
      "9\n",
      "7\n",
      "7\n",
      "5\n",
      "3\n",
      "2\n",
      "1\n"
     ]
    }
   ],
   "source": [
    "int a[] = {1, 3, 2, 7, 5, 16, 7, 45, 9, 10};\n",
    "quickSort(a, 10);\n",
    "for (int i = 0; i < 10; i++)\n",
    "    std::cout << a[i] << std::endl;"
   ]
  },
  {
   "cell_type": "markdown",
   "id": "5c04c677-86db-4191-874e-e3130f371caf",
   "metadata": {},
   "source": [
    "### Оптимизации"
   ]
  },
  {
   "cell_type": "markdown",
   "id": "f8bd1be3-1374-4439-8068-9f6a9b4ad09b",
   "metadata": {},
   "source": [
    "возможные оптимизации\n",
    "* выбор опорного элемента рандомизированный\n",
    "* выбор опорного элемента эверестический из 3, 5... элементов\n",
    "* выбор опорного элемента детерминированный (разбивка по 5 -> медиана -> медиана медиан)\n",
    "* обрезка хвостовой рекурсии\n",
    "* обработка коротких массивов\n",
    "* уход от рекурсии"
   ]
  },
  {
   "cell_type": "markdown",
   "id": "8228cfa1-7065-4adf-8066-f8f52875cafa",
   "metadata": {},
   "source": [
    "# TimSort"
   ]
  },
  {
   "cell_type": "markdown",
   "id": "628118fc-59f1-4232-a449-91127da303b9",
   "metadata": {},
   "source": []
  },
  {
   "cell_type": "markdown",
   "id": "b23d656b-b1b8-4e91-8012-6f310f49643b",
   "metadata": {},
   "source": []
  },
  {
   "cell_type": "markdown",
   "id": "5cc2f9e1-9ee6-4533-948c-bdaf488d1602",
   "metadata": {},
   "source": []
  },
  {
   "cell_type": "markdown",
   "id": "a32615e2-3951-49b8-ac88-8a9c007cbdaa",
   "metadata": {},
   "source": []
  },
  {
   "cell_type": "markdown",
   "id": "1b2d0bac-f1ed-415e-83e2-238f65faccdd",
   "metadata": {},
   "source": [
    "# Время работы алгоритмов сортировки"
   ]
  },
  {
   "cell_type": "markdown",
   "id": "4c9067b2-076a-4349-b3db-685889667c21",
   "metadata": {},
   "source": [
    "Доказать nlog(n), первая лекция computer science center новосибирск"
   ]
  },
  {
   "cell_type": "markdown",
   "id": "03f467d8-e16d-49eb-b80d-fe914f85165a",
   "metadata": {},
   "source": [
    "Дано: массив ключи, можно делать только операции сравнения"
   ]
  },
  {
   "cell_type": "markdown",
   "id": "7c507c7c-1c5a-429b-8e1f-931547ca2ee3",
   "metadata": {},
   "source": [
    "модель разрешающих деревьев descision tree"
   ]
  },
  {
   "cell_type": "markdown",
   "id": "93d81e48-616b-4567-908c-2c315d87f5cc",
   "metadata": {},
   "source": [
    "дерево сравнений, содержит все перестановки"
   ]
  },
  {
   "cell_type": "markdown",
   "id": "df72dc7f-5f0b-4b5a-9930-d91a105069af",
   "metadata": {},
   "source": [
    "число листьев не менее n! чтобы иметь все перестановки для n"
   ]
  },
  {
   "cell_type": "markdown",
   "id": "2d832982-bb11-4eff-a86c-418fdd4d4870",
   "metadata": {},
   "source": [
    "h - макс длина пути в дереве = log(2, n!)"
   ]
  },
  {
   "cell_type": "markdown",
   "id": "9b86b007-e711-49c4-8c5b-7924f2e9ffb1",
   "metadata": {},
   "source": [
    "формула стирлинга"
   ]
  },
  {
   "cell_type": "markdown",
   "id": "3582794f-5fc7-442c-a71d-121e44976bfe",
   "metadata": {},
   "source": [
    "h >= log(2, n!) >=nlog(n)"
   ]
  },
  {
   "cell_type": "markdown",
   "id": "97bebaa6-3f4d-44c3-a9f9-a0f4bcca9ca1",
   "metadata": {},
   "source": [
    "# Корзинная сортировка (bucket sort)"
   ]
  },
  {
   "cell_type": "code",
   "execution_count": 17,
   "id": "7690ab94-ad6e-4033-806b-9d77ae71af6a",
   "metadata": {},
   "outputs": [],
   "source": [
    "void bucketSort(int* a, int size, int num_buckets, int max_elemet){\n",
    "    int** buckets = new int*[num_buckets];\n",
    "    int* idx = new int [num_buckets];\n",
    "    for(int i=0; i < num_buckets; i++){\n",
    "        buckets[i] = new int [size];\n",
    "        idx[i] = 0;\n",
    "    }\n",
    "\n",
    "    int div = (max_elemet + num_buckets) / num_buckets;\n",
    "    for (int i=0; i<size; i++){\n",
    "        int b_idx = a[i] / div;\n",
    "        buckets[b_idx][idx[b_idx]++] = a[i];\n",
    "    }\n",
    "\n",
    "    for (int i = 0; i < num_buckets; i++)\n",
    "        quickSort(buckets[i], idx[i]);\n",
    "\n",
    "    int k = 0;\n",
    "    for (int i = num_buckets-1; i >= 0; i--)\n",
    "        for (int j = 0; j < idx[i]; j++)\n",
    "            a[k++] = buckets[i][j];\n",
    "\n",
    "    delete [] idx;\n",
    "    for(int i=0; i < num_buckets; i++)\n",
    "        delete [] buckets[i];\n",
    "    delete [] buckets;\n",
    "\n",
    "\n",
    "}"
   ]
  },
  {
   "cell_type": "code",
   "execution_count": 18,
   "id": "7b51a573-52c9-4dec-b2bb-4a61d3ccf4fc",
   "metadata": {},
   "outputs": [
    {
     "name": "stdout",
     "output_type": "stream",
     "text": [
      "45\n",
      "16\n",
      "10\n",
      "9\n",
      "7\n",
      "7\n",
      "5\n",
      "3\n",
      "2\n",
      "1\n"
     ]
    }
   ],
   "source": [
    "int a[] = {1, 3, 2, 7, 5, 16, 7, 45, 9, 10};\n",
    "bucketSort(a, 10, 3, 45);\n",
    "for (int i = 0; i < 10; i++)\n",
    "    std::cout << a[i] << std::endl;"
   ]
  },
  {
   "cell_type": "markdown",
   "id": "cd16555b-9de6-49f8-9314-48f243246f07",
   "metadata": {},
   "source": [
    "возможные оптимизации:\n",
    "* правильный менеджмент памяти\n",
    "* правильный алгоритм сортировки"
   ]
  },
  {
   "cell_type": "markdown",
   "id": "bd0f6f11-2dd8-4504-81d3-050421ed1707",
   "metadata": {},
   "source": [
    "# Поразрядная сортировка (Radix Sort)"
   ]
  },
  {
   "cell_type": "markdown",
   "id": "92413bb2-034e-4c85-aa12-e0984ed64751",
   "metadata": {},
   "source": [
    "Два способа реализации\n",
    "* дерево\n",
    "* bucket sort"
   ]
  },
  {
   "cell_type": "markdown",
   "id": "ec716138-bcdb-419d-9a42-c10a4c5abc0a",
   "metadata": {},
   "source": [
    "# Сортировка подсчетами"
   ]
  },
  {
   "cell_type": "code",
   "execution_count": 19,
   "id": "bf6d642c-0aa6-42ed-91d3-b96322ff0402",
   "metadata": {},
   "outputs": [],
   "source": [
    "void countSort(int* a, int size, int max_elemet){\n",
    "    int* elements = new int [max_elemet+1];\n",
    "    for(int i=0; i < max_elemet+1; i++){\n",
    "        elements[i] = 0;\n",
    "    }\n",
    "\n",
    "    for (int i=0; i<size; i++){\n",
    "        elements[a[i]]++;\n",
    "    }\n",
    "\n",
    "    int k =0;\n",
    "    for (int i = max_elemet; i >= 0; i--)\n",
    "        for(int j= 0; j<elements[i]; j++)\n",
    "            a[k++] = i;\n",
    "\n",
    "    delete [] elements;\n",
    "}"
   ]
  },
  {
   "cell_type": "code",
   "execution_count": 20,
   "id": "775173c0-6641-46cf-bfb5-035338ee74b6",
   "metadata": {},
   "outputs": [
    {
     "name": "stdout",
     "output_type": "stream",
     "text": [
      "45\n",
      "16\n",
      "10\n",
      "9\n",
      "7\n",
      "7\n",
      "5\n",
      "3\n",
      "2\n",
      "1\n"
     ]
    }
   ],
   "source": [
    "int a[] = {1, 3, 2, 7, 5, 16, 7, 45, 9, 10};\n",
    "countSort(a, 10, 50);\n",
    "for (int i = 0; i < 10; i++)\n",
    "    std::cout << a[i] << std::endl;"
   ]
  },
  {
   "cell_type": "markdown",
   "id": "3eb65e30-cc02-4eb3-9ee3-153d925e2a2f",
   "metadata": {},
   "source": [
    "возможные оптимизации:\n",
    "* правильный менеджмент памяти"
   ]
  },
  {
   "cell_type": "markdown",
   "id": "579d3ed7-e9eb-454a-b3ab-0773ae579495",
   "metadata": {},
   "source": [
    "# Сравнение скорости работы различных алгоритмов сортировки"
   ]
  },
  {
   "cell_type": "code",
   "execution_count": 21,
   "id": "84a7a1d6-1ff9-4005-b0f4-2b38ef4905e4",
   "metadata": {},
   "outputs": [],
   "source": [
    "#define N 10000\n",
    "#define M 1000"
   ]
  },
  {
   "cell_type": "code",
   "execution_count": 22,
   "id": "027acf0f-fb52-4f23-bf51-be039240bbf4",
   "metadata": {},
   "outputs": [],
   "source": [
    "void random_array(int array[]){\n",
    "    for (int i=0; i<N; i++){\n",
    "        array[i] = rand() % M;\n",
    "    }\n",
    "}"
   ]
  },
  {
   "cell_type": "code",
   "execution_count": 23,
   "id": "fc40f7ef-b468-4deb-be45-63388b544d9f",
   "metadata": {},
   "outputs": [
    {
     "name": "stdout",
     "output_type": "stream",
     "text": [
      "Selection sort time = 484279[µs]\n",
      "Bubble sort time = 1302917[µs]\n",
      "Insertion sort time = 523334[µs]\n",
      "Merge sort time = 3726[µs]\n",
      "Quick sort time = 3376[µs]\n",
      "Bucket sort time = 3221[µs]\n",
      "Count sort time = 132[µs]\n"
     ]
    }
   ],
   "source": [
    "int a[N];\n",
    "\n",
    "random_array(a);\n",
    "std::chrono::steady_clock::time_point begin = std::chrono::steady_clock::now();\n",
    "selectionSort(a, N);\n",
    "std::chrono::steady_clock::time_point end = std::chrono::steady_clock::now();\n",
    "std::cout << \"Selection sort time = \" << std::chrono::duration_cast<std::chrono::microseconds>(end - begin).count() << \"[µs]\" << std::endl;\n",
    "\n",
    "random_array(a);\n",
    "begin = std::chrono::steady_clock::now();\n",
    "bubbleSort(a, N);\n",
    "end = std::chrono::steady_clock::now();\n",
    "std::cout << \"Bubble sort time = \" << std::chrono::duration_cast<std::chrono::microseconds>(end - begin).count() << \"[µs]\" << std::endl;\n",
    "\n",
    "random_array(a);\n",
    "begin = std::chrono::steady_clock::now();\n",
    "insertionSort(a, N);\n",
    "end = std::chrono::steady_clock::now();\n",
    "std::cout << \"Insertion sort time = \" << std::chrono::duration_cast<std::chrono::microseconds>(end - begin).count() << \"[µs]\" << std::endl;\n",
    "\n",
    "\n",
    "random_array(a);\n",
    "begin = std::chrono::steady_clock::now();\n",
    "mergeSort(a, N);\n",
    "end = std::chrono::steady_clock::now();\n",
    "std::cout << \"Merge sort time = \" << std::chrono::duration_cast<std::chrono::microseconds>(end - begin).count() << \"[µs]\" << std::endl;\n",
    "\n",
    "random_array(a);\n",
    "begin = std::chrono::steady_clock::now();\n",
    "quickSort(a, N);\n",
    "end = std::chrono::steady_clock::now();\n",
    "std::cout << \"Quick sort time = \" << std::chrono::duration_cast<std::chrono::microseconds>(end - begin).count() << \"[µs]\" << std::endl;\n",
    "\n",
    "random_array(a);\n",
    "begin = std::chrono::steady_clock::now();\n",
    "bucketSort(a, N, N/100, M);\n",
    "end = std::chrono::steady_clock::now();\n",
    "std::cout << \"Bucket sort time = \" << std::chrono::duration_cast<std::chrono::microseconds>(end - begin).count() << \"[µs]\" << std::endl;\n",
    "\n",
    "random_array(a);\n",
    "begin = std::chrono::steady_clock::now();\n",
    "countSort(a, N, M);\n",
    "end = std::chrono::steady_clock::now();\n",
    "std::cout << \"Count sort time = \" << std::chrono::duration_cast<std::chrono::microseconds>(end - begin).count() << \"[µs]\" << std::endl;\n"
   ]
  },
  {
   "cell_type": "markdown",
   "id": "f99bfe6a-70dc-433f-86d3-a8509cae025e",
   "metadata": {},
   "source": [
    "# Юнит тесты"
   ]
  },
  {
   "cell_type": "markdown",
   "id": "aa9b0512-7ea6-491c-bbbd-df43649f5268",
   "metadata": {},
   "source": [
    "Пример юнит-тестов на примере квадратного уравнения"
   ]
  },
  {
   "cell_type": "markdown",
   "id": "add4dbd1-8d5b-43d6-a172-1e5ae23febc8",
   "metadata": {},
   "source": [
    "Более навороченный апмсер юнит-тестов"
   ]
  },
  {
   "cell_type": "markdown",
   "id": "90dcaa52-d593-4671-b834-8f0f3507b5d8",
   "metadata": {},
   "source": [
    "# Домашнее задание"
   ]
  },
  {
   "cell_type": "markdown",
   "id": "d8fb179b-df32-4700-98bd-a09e630d33ee",
   "metadata": {},
   "source": [
    "* написать самую неоптимальную версию алгоритмов quickSort, mergeSort\n",
    "* написать самые оптимальные версии алгоритмов quickSort, mergeSort"
   ]
  }
 ],
 "metadata": {
  "kernelspec": {
   "display_name": "C++14",
   "language": "C++14",
   "name": "xcpp14"
  },
  "language_info": {
   "codemirror_mode": "text/x-c++src",
   "file_extension": ".cpp",
   "mimetype": "text/x-c++src",
   "name": "c++",
   "version": "14"
  }
 },
 "nbformat": 4,
 "nbformat_minor": 5
}
