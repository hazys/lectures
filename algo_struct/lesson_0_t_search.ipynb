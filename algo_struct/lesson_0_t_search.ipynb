{
 "cells": [
  {
   "cell_type": "markdown",
   "metadata": {},
   "source": [
    "# Что такое алгоритм?"
   ]
  },
  {
   "cell_type": "markdown",
   "metadata": {},
   "source": [
    "* последовательность действий\n",
    "* конечных\n",
    "* приводит к результату"
   ]
  },
  {
   "cell_type": "markdown",
   "metadata": {},
   "source": [
    "входные данные -> алго -> выходные данные"
   ]
  },
  {
   "cell_type": "markdown",
   "metadata": {},
   "source": [
    "# Что такое структура данных?"
   ]
  },
  {
   "cell_type": "markdown",
   "metadata": {},
   "source": [
    "* даннные\n",
    "* структура их хранения\n",
    "* операции над данными"
   ]
  },
  {
   "cell_type": "markdown",
   "metadata": {},
   "source": [
    "<b>самое важное - операции над данными</b>"
   ]
  },
  {
   "cell_type": "markdown",
   "metadata": {},
   "source": [
    "# Простейший алгоритм"
   ]
  },
  {
   "cell_type": "markdown",
   "metadata": {},
   "source": [
    "сумма массива"
   ]
  },
  {
   "cell_type": "markdown",
   "metadata": {},
   "source": [
    "s = 0 (T = 1)\n",
    "для i=1..n (T = 4n)\n",
    "    s = s + a[i] (T = 4n)\n",
    "вывод s (T = 100)\n",
    "\n",
    "памяти - n"
   ]
  },
  {
   "cell_type": "markdown",
   "metadata": {},
   "source": [
    "# Оценка алгоритма"
   ]
  },
  {
   "cell_type": "markdown",
   "metadata": {},
   "source": [
    "идеи по оценке алгоритма"
   ]
  },
  {
   "cell_type": "markdown",
   "metadata": {},
   "source": [
    "сложность по времени\n"
   ]
  },
  {
   "cell_type": "markdown",
   "metadata": {},
   "source": [
    "сложность по памяти"
   ]
  },
  {
   "cell_type": "markdown",
   "metadata": {},
   "source": [
    "# RAM-модель"
   ]
  },
  {
   "cell_type": "markdown",
   "metadata": {},
   "source": [
    "рассказ, про то RAM-модель"
   ]
  },
  {
   "cell_type": "markdown",
   "metadata": {},
   "source": [
    "# Pointer Machine Model"
   ]
  },
  {
   "cell_type": "markdown",
   "metadata": {},
   "source": [
    "Указатели. Указатель Null."
   ]
  },
  {
   "cell_type": "markdown",
   "metadata": {},
   "source": [
    "Применение: сборщик мусора"
   ]
  },
  {
   "cell_type": "markdown",
   "metadata": {},
   "source": [
    "#  Оценки"
   ]
  },
  {
   "cell_type": "markdown",
   "metadata": {},
   "source": [
    "* $O$ $\\exists n_0, c$ $\\forall n \\geq n_0$ $f(n) \\leq cg(n)$\n",
    "* $\\Omega$ $\\exists n_0, c$ $\\forall n \\geq n_0$ $f(n) \\geq cg(n)$\n",
    "* $\\Theta$ $\\Omega$=O"
   ]
  },
  {
   "cell_type": "markdown",
   "metadata": {},
   "source": [
    "# Примеры оценок различных алгоритмов "
   ]
  },
  {
   "cell_type": "markdown",
   "metadata": {},
   "source": [
    "O(n)\n",
    "for i=1..n\n",
    "    a[i] += 1"
   ]
  },
  {
   "cell_type": "markdown",
   "metadata": {},
   "source": [
    "O(n^2)\n",
    "for i=1..n\n",
    "    for j=1..n\n",
    "        a[i][j] += 1"
   ]
  },
  {
   "cell_type": "markdown",
   "metadata": {},
   "source": [
    "O(n)\n",
    "i = 0\n",
    "while i < n\n",
    "    a[i++]++"
   ]
  },
  {
   "cell_type": "markdown",
   "metadata": {},
   "source": [
    "O(sqrt(n))\n",
    "i = 1\n",
    "while i * i < n\n",
    "    a[i] += 1\n",
    "    i++"
   ]
  },
  {
   "cell_type": "markdown",
   "metadata": {},
   "source": [
    "O(log(n))\n",
    "i = 1\n",
    "while i < n\n",
    "    a[i] += 1\n",
    "    i *= 2"
   ]
  },
  {
   "cell_type": "markdown",
   "metadata": {},
   "source": [
    "O(n)\n",
    "f(l, r)\n",
    "    for i=l..r\n",
    "        a[i] += 1\n",
    "    f(l, r/2)    "
   ]
  },
  {
   "cell_type": "markdown",
   "metadata": {},
   "source": [
    "O(nlog(n))\n",
    "f(l, r)\n",
    "    for i=l..r\n",
    "        a[i] += 1\n",
    "    f(l, r/2)\n",
    "    f(r/n, r)\n"
   ]
  },
  {
   "cell_type": "markdown",
   "metadata": {},
   "source": [
    "O(n^(log(2,3)) = 3^(log(2,n)))\n",
    "f(l, r)\n",
    "    for i=l..r\n",
    "        a[i] += 1\n",
    "    f(l, r/2)\n",
    "    f(l, r/2)\n",
    "    f(r/n, r)"
   ]
  },
  {
   "cell_type": "markdown",
   "metadata": {},
   "source": [
    "# Реальная оценка работы алгоритмов"
   ]
  },
  {
   "cell_type": "markdown",
   "metadata": {},
   "source": [
    "тактовая частота современных процессоров компьютера обычно от 1 * 10^9 до 5 * 10^9"
   ]
  },
  {
   "cell_type": "markdown",
   "metadata": {},
   "source": [
    "За такт выполняется от одной до нескольких операций, но обычно операции не однотактовые. Поэтому будем считать, что современный процессор способен выполнять за такт 10^8 операций."
   ]
  },
  {
   "cell_type": "markdown",
   "metadata": {},
   "source": [
    "Тогда получим следуюшие ограничения на входные данные для алгоритмов следующей сложности"
   ]
  },
  {
   "cell_type": "markdown",
   "metadata": {},
   "source": [
    "O(n^n) - максимальное n = 9"
   ]
  },
  {
   "cell_type": "markdown",
   "metadata": {},
   "source": [
    "O(n!) - максимальное n = 12"
   ]
  },
  {
   "cell_type": "markdown",
   "metadata": {},
   "source": [
    "O(2^n) - максимальное n = 29"
   ]
  },
  {
   "cell_type": "markdown",
   "metadata": {},
   "source": [
    "O(n^4) - максимальное n = 100"
   ]
  },
  {
   "cell_type": "markdown",
   "metadata": {},
   "source": [
    "O(n^4) - максимальное n = 100"
   ]
  },
  {
   "cell_type": "markdown",
   "metadata": {},
   "source": [
    "O(n^3) - максимальное n = 500"
   ]
  },
  {
   "cell_type": "markdown",
   "metadata": {},
   "source": [
    "O(n^2) - максимальное n = 10000"
   ]
  },
  {
   "cell_type": "markdown",
   "metadata": {},
   "source": [
    "O(n*sqrt(n)) - максимальное n = 250000"
   ]
  },
  {
   "cell_type": "markdown",
   "metadata": {},
   "source": [
    "O(n*log(n)*log(n)) - максимальное n = 400000"
   ]
  },
  {
   "cell_type": "markdown",
   "metadata": {},
   "source": [
    "O(n*log(n)) - максимальное n = 10 000 000"
   ]
  },
  {
   "cell_type": "markdown",
   "metadata": {},
   "source": [
    "O(n) - максимальное n = 100 000 000"
   ]
  },
  {
   "cell_type": "markdown",
   "metadata": {},
   "source": [
    "O(sqrt(n)) - максимальное n = 10^16"
   ]
  },
  {
   "cell_type": "markdown",
   "metadata": {},
   "source": [
    "O(log(n)) - практически неважно"
   ]
  },
  {
   "cell_type": "markdown",
   "metadata": {},
   "source": [
    "O(1) - неважно"
   ]
  },
  {
   "cell_type": "markdown",
   "metadata": {},
   "source": [
    "## Антипаттерн: Преждевременная оптимизация"
   ]
  },
  {
   "cell_type": "markdown",
   "metadata": {},
   "source": [
    "# Поиск обычный"
   ]
  },
  {
   "cell_type": "code",
   "execution_count": 5,
   "metadata": {},
   "outputs": [],
   "source": [
    "#include <iostream>"
   ]
  },
  {
   "cell_type": "code",
   "execution_count": 2,
   "metadata": {},
   "outputs": [],
   "source": [
    "int find_element_simple(int element, int* a, int size) {\n",
    "    for (int i=0; i<size; i++)\n",
    "        if (a[i] == element)\n",
    "            return i;\n",
    "    return -1;\n",
    "}"
   ]
  },
  {
   "cell_type": "code",
   "execution_count": 7,
   "metadata": {},
   "outputs": [
    {
     "name": "stdout",
     "output_type": "stream",
     "text": [
      "4\n"
     ]
    }
   ],
   "source": [
    "int a[] = {1, 2, 3, 4, 5, 6, 7, 8, 9, 10};\n",
    "std::cout << find_element_simple(5, a, 10) << std::endl;"
   ]
  },
  {
   "cell_type": "markdown",
   "metadata": {},
   "source": [
    "#  Поиск бинарный"
   ]
  },
  {
   "cell_type": "code",
   "execution_count": 9,
   "metadata": {},
   "outputs": [],
   "source": [
    "int _binary(int element, int* a, int left, int right) {\n",
    "    if ((right - left) > 1) {\n",
    "        int center = (left + right) / 2;\n",
    "        if (a[center] > element)\n",
    "            return _binary(element, a, left, center);\n",
    "        else if (a[center] < element)\n",
    "            return _binary(element, a, center, right);\n",
    "        else\n",
    "            return center;\n",
    "    } else {\n",
    "        if (a[left] == element)\n",
    "            return left;\n",
    "        return -1;\n",
    "    };\n",
    "}"
   ]
  },
  {
   "cell_type": "code",
   "execution_count": 10,
   "metadata": {},
   "outputs": [],
   "source": [
    "int find_element_binary(int element, int* a, int size){\n",
    "    return _binary(element, a, 0, size-1);\n",
    "}"
   ]
  },
  {
   "cell_type": "code",
   "execution_count": 12,
   "metadata": {},
   "outputs": [
    {
     "name": "stdout",
     "output_type": "stream",
     "text": [
      "2\n"
     ]
    }
   ],
   "source": [
    "int a[] = {1, 2, 3, 4, 5, 6, 7, 8, 9, 10};\n",
    "std::cout << find_element_binary(3, a, 10) << std::endl;"
   ]
  },
  {
   "cell_type": "markdown",
   "metadata": {},
   "source": [
    "# Троичный поиск"
   ]
  },
  {
   "cell_type": "markdown",
   "metadata": {},
   "source": [
    "рекурсивный вариант"
   ]
  },
  {
   "cell_type": "markdown",
   "metadata": {},
   "source": [
    "double ternarySearchMin(double f(), double left, double right, double eps):\n",
    "    if right - left < eps\n",
    "        return (left + right) / 2\n",
    "    a = (left * 2 + right) / 3\n",
    "    b = (left + right * 2) / 3\n",
    "    if f(a) < f(b)\n",
    "        return ternarySearchMin(f, left, b, eps)\n",
    "    else\n",
    "        return ternarySearchMin(f, a, right, eps)"
   ]
  },
  {
   "cell_type": "markdown",
   "metadata": {},
   "source": [
    "итеративный вариант"
   ]
  },
  {
   "cell_type": "markdown",
   "metadata": {},
   "source": [
    "double ternarySearchMin(double f(), double left, double right, double eps): \n",
    "    while right - left > eps \n",
    "        a = (left * 2 + right) / 3\n",
    "        b = (left + right * 2) / 3\n",
    "        if f(a) < f(b)\n",
    "            right = b\n",
    "        else\n",
    "            left = a\n",
    "    return (left + right) / 2"
   ]
  },
  {
   "cell_type": "markdown",
   "metadata": {},
   "source": [
    "Если имеется тяжелый шаг, то идеально было бы считать каждый раз только 1 шаг. Тогда:"
   ]
  },
  {
   "cell_type": "markdown",
   "metadata": {},
   "source": [
    "если $\\alpha$ - расстояние до точки $m_1$, координаты $m_2$ = 1 - $\\alpha$, тогда выражая $m_2$ двумя способами получим"
   ]
  },
  {
   "cell_type": "markdown",
   "metadata": {},
   "source": [
    "1 - $\\alpha$ = $\\alpha$ + $\\alpha$($\\alpha$ - $\\alpha$)"
   ]
  },
  {
   "cell_type": "markdown",
   "metadata": {},
   "source": [
    "$\\alpha^2$ - 3$\\alpha$ + 1 = 0"
   ]
  },
  {
   "cell_type": "markdown",
   "metadata": {},
   "source": [
    "$\\alpha = \\frac{3 \\pm \\sqrt{5}}{2}$, $\\alpha \\leq 1$, $\\alpha = \\frac{3 - \\sqrt{5}}{2} \\approx 0,382$ "
   ]
  },
  {
   "cell_type": "markdown",
   "metadata": {},
   "source": [
    "что является золотым сечением"
   ]
  },
  {
   "cell_type": "markdown",
   "metadata": {},
   "source": [
    "# Задачи на бинарный поиск"
   ]
  },
  {
   "cell_type": "markdown",
   "metadata": {},
   "source": [
    "### Условие применения бинарного поиска. Если x - подходит и любой x+n подходит - применяй бинарный поиск."
   ]
  },
  {
   "cell_type": "markdown",
   "metadata": {},
   "source": [
    "Задача 1. Имеется k прямоугольников размера m на n. Необходимо вписать их в квадрат размером x на x, причем x должен быть минимальным."
   ]
  },
  {
   "cell_type": "markdown",
   "metadata": {},
   "source": [
    "Задача 2. Группа друзей живет на 1ой улице. В разных домах. Они хотят встречи, причем так, чтобы время через которое они встретятся было минимальным. Помогите найти им оптимальный номер дома для встречи. Друзья двигаются с постоянной скоростью и проходят 1 дом за минуту."
   ]
  },
  {
   "cell_type": "markdown",
   "metadata": {},
   "source": [
    "Задача 3. Есть k отсортированных массивов длиною n необходимо уметь быстро находить сколько элементов этих массивов больше x, а сколько меньше."
   ]
  }
 ],
 "metadata": {
  "kernelspec": {
   "display_name": "C++14 [conda env:ai_3_7] *",
   "language": "C++14",
   "name": "conda-env-ai_3_7-xcpp14"
  },
  "language_info": {
   "codemirror_mode": "text/x-c++src",
   "file_extension": ".cpp",
   "mimetype": "text/x-c++src",
   "name": "c++",
   "version": "14"
  }
 },
 "nbformat": 4,
 "nbformat_minor": 4
}
