{
 "cells": [
  {
   "cell_type": "markdown",
   "id": "5c107c84-c1b4-4bbe-9ec1-00184f643973",
   "metadata": {},
   "source": [
    "# Наименьший общий предок"
   ]
  },
  {
   "cell_type": "code",
   "execution_count": null,
   "id": "36061891-8735-4bbf-a314-f09001eaea48",
   "metadata": {},
   "outputs": [],
   "source": []
  },
  {
   "cell_type": "code",
   "execution_count": null,
   "id": "4401d2ea-dd2c-4125-b579-ad30b3efe698",
   "metadata": {},
   "outputs": [],
   "source": []
  },
  {
   "cell_type": "code",
   "execution_count": null,
   "id": "d07e774c-710a-4b4c-a762-c041f7510639",
   "metadata": {},
   "outputs": [],
   "source": []
  },
  {
   "cell_type": "code",
   "execution_count": null,
   "id": "49cc387e-0a21-4ee3-a153-1de9736d488a",
   "metadata": {},
   "outputs": [],
   "source": []
  },
  {
   "cell_type": "code",
   "execution_count": null,
   "id": "303ddf70-9629-4fd9-a0cd-45d0d752c796",
   "metadata": {},
   "outputs": [],
   "source": []
  },
  {
   "cell_type": "code",
   "execution_count": null,
   "id": "38d84b82-cbfa-42fb-a23f-2e059f9e0fd8",
   "metadata": {},
   "outputs": [],
   "source": []
  },
  {
   "cell_type": "code",
   "execution_count": null,
   "id": "dd52571f-98bc-4710-b607-776a2681e00d",
   "metadata": {},
   "outputs": [],
   "source": []
  },
  {
   "cell_type": "code",
   "execution_count": null,
   "id": "0d800b6a-d4a7-4e30-8091-8805c5d8354f",
   "metadata": {},
   "outputs": [],
   "source": []
  }
 ],
 "metadata": {
  "kernelspec": {
   "display_name": "C++14 [conda env:ai_3_7] *",
   "language": "C++14",
   "name": "conda-env-ai_3_7-xcpp14"
  },
  "language_info": {
   "codemirror_mode": "text/x-c++src",
   "file_extension": ".cpp",
   "mimetype": "text/x-c++src",
   "name": "c++",
   "version": "14"
  }
 },
 "nbformat": 4,
 "nbformat_minor": 5
}
