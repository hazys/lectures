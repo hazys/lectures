{
 "cells": [
  {
   "cell_type": "markdown",
   "id": "f3717ecc-3222-4ec1-b8cc-0a526e615627",
   "metadata": {},
   "source": [
    "# Дерево отрезков. Операции на отрезке"
   ]
  },
  {
   "cell_type": "code",
   "execution_count": 2,
   "id": "5b6caaf0-c5bc-4b76-a5f1-093ed961e6a7",
   "metadata": {},
   "outputs": [],
   "source": [
    "#include <vector>\n",
    "using namespace std;"
   ]
  },
  {
   "cell_type": "markdown",
   "id": "27151c1c-6ba8-4b1a-8b03-e30051d695ea",
   "metadata": {},
   "source": [
    "## Дерево отрезков"
   ]
  },
  {
   "cell_type": "code",
   "execution_count": 3,
   "id": "b46a9a6e-8f1b-4e7f-b633-c802ce7f0fb3",
   "metadata": {},
   "outputs": [],
   "source": [
    "class RangeTree {\n",
    "private:\n",
    "\n",
    "public:\n",
    "    RangeTree(int size);\n",
    "    ~RangeTree();\n",
    "    void set(int idx, int value);\n",
    "    int sum(int from, int to); // [from, to)\n",
    "    std::vector<int> tree;\n",
    "    int size;\n",
    "    int size2;\n",
    "\n",
    "    void _set(int idx, int val, int x, int lx, int rx);\n",
    "    int _sum(int l, int r, int x, int lx, int rx);\n",
    "};"
   ]
  },
  {
   "cell_type": "code",
   "execution_count": 6,
   "id": "92bb663f-7365-42e3-8663-d287790e0c6f",
   "metadata": {},
   "outputs": [],
   "source": [
    "int round2UP(int x){\n",
    "    unsigned int p, dp;\n",
    "    for(p=1<<((sizeof(unsigned int)<<2)-1), dp=sizeof(unsigned int)<<1; dp; dp>>=1) {\n",
    "        if(p==x) return p;\n",
    "        else p = p<x ? p<<dp : p>>dp;\n",
    "    }\n",
    "    return p>=x ? p : p<<1;\n",
    "}"
   ]
  },
  {
   "cell_type": "code",
   "execution_count": 5,
   "id": "cae04670-0573-4170-bb39-3c7362cc4099",
   "metadata": {},
   "outputs": [],
   "source": [
    "int roundUP2(int x)\n",
    "{\n",
    "    x = x - 1;\n",
    "    x = x | (x >> 1);\n",
    "    x = x | (x >> 2);\n",
    "    x = x | (x >> 4);\n",
    "    x = x | (x >> 8);\n",
    "    x = x | (x >> 16);\n",
    "    return x + 1;\n",
    "}"
   ]
  },
  {
   "cell_type": "code",
   "execution_count": 9,
   "id": "7dafec20-5fe9-4e9e-8fb6-15df72d6f0f2",
   "metadata": {},
   "outputs": [
    {
     "name": "stderr",
     "output_type": "stream",
     "text": [
      "\u001b[1minput_line_16:1:12: \u001b[0m\u001b[0;1;31merror: \u001b[0m\u001b[1mredefinition of 'RangeTree'\u001b[0m\n",
      "RangeTree::RangeTree(int size){\n",
      "\u001b[0;1;32m           ^\n",
      "\u001b[0m\u001b[1minput_line_14:1:12: \u001b[0m\u001b[0;1;30mnote: \u001b[0mprevious definition is here\u001b[0m\n",
      "RangeTree::RangeTree(int size){\n",
      "\u001b[0;1;32m           ^\n",
      "\u001b[0m"
     ]
    },
    {
     "ename": "Interpreter Error",
     "evalue": "",
     "output_type": "error",
     "traceback": [
      "Interpreter Error: "
     ]
    }
   ],
   "source": [
    "RangeTree::RangeTree(int size){\n",
    "    this->size = size;\n",
    "    this->size2 = round2UP(size);\n",
    "    this->tree.resize(size2 + size2 - 1);\n",
    "\n",
    "}"
   ]
  },
  {
   "cell_type": "code",
   "execution_count": 10,
   "id": "77594902-4c45-40e5-92b5-ef5c158a0826",
   "metadata": {},
   "outputs": [],
   "source": [
    "RangeTree::~RangeTree(){\n",
    "\n",
    "}\n"
   ]
  },
  {
   "cell_type": "code",
   "execution_count": 11,
   "id": "d5c603a1-612b-4b27-8c2a-71d5fe618a28",
   "metadata": {},
   "outputs": [],
   "source": [
    "void RangeTree::_set(int idx, int val, int x, int lx, int rx){\n",
    "    if (rx - lx == 1) {\n",
    "        tree[x] = val;\n",
    "    } else {\n",
    "        int m = (lx + rx) / 2;\n",
    "        if (idx < m)\n",
    "            _set(idx, val, 2 * x + 1, lx, m);\n",
    "        else\n",
    "            _set(idx, val, 2 * x + 2, m, rx);\n",
    "        tree[x] = tree[2 * x + 1] + tree[2 * x + 2];\n",
    "    }\n",
    "\n",
    "}"
   ]
  },
  {
   "cell_type": "code",
   "execution_count": 12,
   "id": "8be7e1df-3fc3-45aa-ade8-cda440c8302e",
   "metadata": {},
   "outputs": [],
   "source": [
    "void RangeTree::set(int idx, int value){\n",
    "    _set(size2 + idx - 1, value, 0, size2 - 1, size2 + size2 - 1);\n",
    "\n",
    "}\n"
   ]
  },
  {
   "cell_type": "code",
   "execution_count": 13,
   "id": "a84d0b11-785f-41f4-8c03-06311fad0ad3",
   "metadata": {},
   "outputs": [],
   "source": [
    "int RangeTree::_sum(int l, int r, int x, int lx, int rx){\n",
    "    if ((l >= rx) or (lx >= r))\n",
    "        return 0;\n",
    "    if((l <= lx) and (rx <= r))\n",
    "        return tree[x];\n",
    "    int m = (lx + rx) / 2;\n",
    "    int s1 =  _sum(l, r, 2 * x + 1, lx, m);\n",
    "    int s2 =  _sum(l, r, 2 * x + 2, m, rx);\n",
    "    return s1 + s2;\n",
    "\n",
    "\n",
    "}"
   ]
  },
  {
   "cell_type": "code",
   "execution_count": 14,
   "id": "385a165b-07b6-4ff6-bdc6-a95c00b87d63",
   "metadata": {},
   "outputs": [],
   "source": [
    "int RangeTree::sum(int from, int to){\n",
    "    return _sum(from, to, 0, 0, size2 - 1);\n",
    "\n",
    "}"
   ]
  },
  {
   "cell_type": "markdown",
   "id": "83f0c6ea-5af4-4046-9878-c3ef98799727",
   "metadata": {},
   "source": [
    "## Дерево отрезков без рекурсии"
   ]
  },
  {
   "cell_type": "code",
   "execution_count": 15,
   "id": "faded977-b821-4e11-849a-4dae975f8c22",
   "metadata": {},
   "outputs": [],
   "source": [
    "class RangeTreeNoRec {\n",
    "\n",
    "private:\n",
    "    std::vector<int> tree;\n",
    "    int size;\n",
    "    int size2;\n",
    "\n",
    "    void _set(int idx, int val, int x, int lx, int rx);\n",
    "    int _sum(int l, int r, int x, int lx, int rx);\n",
    "public:\n",
    "    RangeTreeNoRec(int size);\n",
    "    ~RangeTreeNoRec();\n",
    "    void set(int idx, int value);\n",
    "    int sum(int from, int to); // [from, to)\n",
    "};\n"
   ]
  },
  {
   "cell_type": "code",
   "execution_count": 16,
   "id": "8609f233-1e89-4d26-afbf-53bdf78dfd2b",
   "metadata": {},
   "outputs": [],
   "source": [
    "int round2UP2(int x)\n",
    "{\n",
    "    x = x - 1;\n",
    "    x = x | (x >> 1);\n",
    "    x = x | (x >> 2);\n",
    "    x = x | (x >> 4);\n",
    "    x = x | (x >> 8);\n",
    "    x = x | (x >> 16);\n",
    "    return x + 1;\n",
    "}"
   ]
  },
  {
   "cell_type": "code",
   "execution_count": 17,
   "id": "bc908332-71c7-48a2-bf07-fc337d068209",
   "metadata": {},
   "outputs": [],
   "source": [
    "RangeTreeNoRec::RangeTreeNoRec(int size){\n",
    "    this->size = size;\n",
    "    this->size2 = round2UP2(size);\n",
    "    this->tree.resize(size2 + size2 - 1);\n",
    "}"
   ]
  },
  {
   "cell_type": "code",
   "execution_count": 18,
   "id": "c431be3f-23e7-4ebd-9634-152c68a109ed",
   "metadata": {},
   "outputs": [],
   "source": [
    "RangeTreeNoRec::~RangeTreeNoRec(){\n",
    "\n",
    "}"
   ]
  },
  {
   "cell_type": "code",
   "execution_count": 19,
   "id": "8d6dc733-e4f0-4f23-8184-f0fef1283201",
   "metadata": {},
   "outputs": [],
   "source": [
    "void RangeTreeNoRec::set(int idx, int value){\n",
    "    int x = idx + size2 - 1;\n",
    "    int delta = value - tree[x];\n",
    "    while (x >= 0){\n",
    "        tree[x] += delta;\n",
    "        x = (x + 1) / 2 - 1;\n",
    "\n",
    "    }\n",
    "}"
   ]
  },
  {
   "cell_type": "code",
   "execution_count": 20,
   "id": "dd32039d-22aa-4f0d-80ba-c3addb9bf9bf",
   "metadata": {},
   "outputs": [],
   "source": [
    "int RangeTreeNoRec::sum(int from, int to){\n",
    "    from = size2 - 1 + from;\n",
    "    to = size2 - 1 + to;\n",
    "    int res = 0, r1 = 0, r2 = 0;\n",
    "    while (from <= to){\n",
    "        if (from % 2 == 0){\n",
    "            //r1 = r1 + tree[from]\n",
    "            res += tree[from];\n",
    "        }\n",
    "        from = from / 2;\n",
    "        if (to % 2 == 1){\n",
    "            //r2 = tree[to] + r2;\n",
    "            res += tree[to];\n",
    "        }\n",
    "        to = to / 2 - 1;\n",
    "    }\n",
    "    return res ;\n",
    "}"
   ]
  },
  {
   "cell_type": "markdown",
   "id": "1f931393-d6ba-49e0-9caa-cbb8995b5a6c",
   "metadata": {},
   "source": [
    "## Операции на отрезке"
   ]
  },
  {
   "cell_type": "code",
   "execution_count": 23,
   "id": "19c7abbe-6e29-447b-a202-271e473fd4ce",
   "metadata": {},
   "outputs": [],
   "source": [
    "class RangeOperation {\n",
    "\n",
    "private:\n",
    "    vector<int> tree;\n",
    "    int size;\n",
    "    int size2;\n",
    "    int _get(int idx, int val, int x, int lx, int rx);\n",
    "    void _add(int l, int r, int v, int x, int lx, int rx);\n",
    "\n",
    "public:\n",
    "    RangeOperation(int size);\n",
    "    ~RangeOperation();\n",
    "    void add(int from, int to, int value);\n",
    "    int get(int idx);\n",
    "};"
   ]
  },
  {
   "cell_type": "code",
   "execution_count": 24,
   "id": "61a6bca3-c063-4f04-b4cd-1365b1c96a40",
   "metadata": {},
   "outputs": [],
   "source": [
    "int ro_round2UP(int x){\n",
    "    unsigned int p, dp;\n",
    "    for(p=1<<((sizeof(unsigned int)<<2)-1), dp=sizeof(unsigned int)<<1; dp; dp>>=1) {\n",
    "        if(p==x) return p;\n",
    "        else p = p<x ? p<<dp : p>>dp;\n",
    "    }\n",
    "    return p>=x ? p : p<<1;\n",
    "}"
   ]
  },
  {
   "cell_type": "code",
   "execution_count": 25,
   "id": "57d5e8dd-076d-4756-85d0-3f112f2cb4d6",
   "metadata": {},
   "outputs": [],
   "source": [
    "RangeOperation::RangeOperation(int size){\n",
    "    this->size = size;\n",
    "    this->size2 = ro_round2UP(size);\n",
    "    this->tree.resize(size2 + size2 - 1);\n",
    "}"
   ]
  },
  {
   "cell_type": "code",
   "execution_count": 26,
   "id": "1aa41c7e-ff92-4c6c-8824-39de0e4b55ff",
   "metadata": {},
   "outputs": [],
   "source": [
    "RangeOperation::~RangeOperation(){\n",
    "\n",
    "}"
   ]
  },
  {
   "cell_type": "code",
   "execution_count": 27,
   "id": "7adf0842-83f7-43c5-9647-1fc0518b2cb6",
   "metadata": {},
   "outputs": [],
   "source": [
    "int RangeOperation::_get(int i, int d, int x, int lx, int rx){\n",
    "    if (rx - lx == 1) {\n",
    "        return tree[x] + d;\n",
    "    } else {\n",
    "        int m = (lx + rx) / 2;\n",
    "        if (i < m)\n",
    "            return _get(i, d + tree[x], 2 * x + 1, lx, m);\n",
    "        else\n",
    "            return _get(i, d + tree[x], 2 * x + 2, m, rx);\n",
    "    }\n",
    "}"
   ]
  },
  {
   "cell_type": "code",
   "execution_count": 28,
   "id": "0269afd1-f947-4661-91e4-88be3213fd07",
   "metadata": {},
   "outputs": [],
   "source": [
    "void RangeOperation::_add(int l, int r, int v, int x, int lx, int rx){\n",
    "    if ((lx >= r) or (l >= rx))\n",
    "        return;\n",
    "    if ((l <= lx) and (rx <= r)){\n",
    "        tree[x] += v;\n",
    "        return;\n",
    "    }\n",
    "    int m = (lx + rx) / 2;\n",
    "    _add(l, r, v, 2 * x + 1, lx, m);\n",
    "    _add(l, r, v, 2 * x + 2, m, rx);\n",
    "}"
   ]
  },
  {
   "cell_type": "code",
   "execution_count": 29,
   "id": "75290338-fb83-4d70-9b4f-c75a01c849ce",
   "metadata": {},
   "outputs": [],
   "source": [
    "void RangeOperation::add(int from, int to, int value){\n",
    "    _add(size2 + from - 1, size2 + to, value, 0, size2 - 1, size2 + size2 - 1);\n",
    "}"
   ]
  },
  {
   "cell_type": "code",
   "execution_count": 30,
   "id": "388d6c84-cbfa-40fc-9949-0db9078b3dcb",
   "metadata": {},
   "outputs": [],
   "source": [
    "int RangeOperation::get(int idx){\n",
    "    return _get(size2 + idx - 1, 0, 0, size2 - 1, size2 + size2 - 1);\n",
    "}"
   ]
  },
  {
   "cell_type": "markdown",
   "id": "c988a75a-7d96-49c1-abb2-8bb58de9f721",
   "metadata": {},
   "source": [
    "## Персистентное дерево отрезков"
   ]
  },
  {
   "cell_type": "markdown",
   "id": "a1111c84-9377-444b-8b50-f448de049c7e",
   "metadata": {},
   "source": [
    "1. Делаем на дереве"
   ]
  },
  {
   "cell_type": "markdown",
   "id": "e76f07c0-71a2-4b4a-88ee-d5178d2ff774",
   "metadata": {},
   "source": [
    "2. На каждом шаге добавляем элементы в дерево. Параллельно текущим."
   ]
  },
  {
   "cell_type": "markdown",
   "id": "f70517fa-81ca-41a6-af63-4515d7d3c1eb",
   "metadata": {},
   "source": [
    "3. Храним все изменения в дереве с указанием версий."
   ]
  },
  {
   "cell_type": "markdown",
   "id": "99f93e0b-1175-441a-8c2b-e87c79220d0e",
   "metadata": {},
   "source": [
    "## Дерево отрезков в общем виде"
   ]
  },
  {
   "cell_type": "code",
   "execution_count": null,
   "id": "11dfdc16-9611-4653-809b-fac7360ca2cf",
   "metadata": {},
   "outputs": [],
   "source": []
  },
  {
   "cell_type": "code",
   "execution_count": null,
   "id": "7a84a151-af51-40f4-b971-29797b92b098",
   "metadata": {},
   "outputs": [],
   "source": []
  },
  {
   "cell_type": "code",
   "execution_count": null,
   "id": "5396c7df-91ea-45bd-b662-ce4e74a6699a",
   "metadata": {},
   "outputs": [],
   "source": []
  },
  {
   "cell_type": "markdown",
   "id": "2de8b71e-f212-4ad4-accc-14ce10ad4c60",
   "metadata": {},
   "source": [
    "## Дерево Фенвика"
   ]
  },
  {
   "cell_type": "markdown",
   "id": "3582d0ca-0240-49cc-bf42-9745a5f1010b",
   "metadata": {},
   "source": [
    "$$f[i] = \\sum_{j=p(x)}^{i}a[j]$$"
   ]
  },
  {
   "cell_type": "markdown",
   "id": "b2cdb683-29f6-41bb-840b-1fd650020e83",
   "metadata": {},
   "source": [
    " <center> p(x) = x & (x + 1) </center>"
   ]
  },
  {
   "cell_type": "code",
   "execution_count": 31,
   "id": "3d38ed87-099a-4f6d-8524-9ce147c704f6",
   "metadata": {},
   "outputs": [],
   "source": [
    "#include <vector>\n",
    "using namespace std;"
   ]
  },
  {
   "cell_type": "code",
   "execution_count": 33,
   "id": "80e18bac-d79f-446a-b7a4-43fb42e6a416",
   "metadata": {},
   "outputs": [],
   "source": [
    "class BinaryIndexedTree {\n",
    "private:\n",
    "    vector<int> data;\n",
    "    int _sum(int right);\n",
    "public:\n",
    "    BinaryIndexedTree(int size);\n",
    "    ~BinaryIndexedTree();\n",
    "    int sum(int from, int to);\n",
    "    int inc(int index, int value);\n",
    "};"
   ]
  },
  {
   "cell_type": "code",
   "execution_count": 34,
   "id": "72516eed-6664-4353-a369-cf15ce2daf6f",
   "metadata": {},
   "outputs": [],
   "source": [
    "BinaryIndexedTree::BinaryIndexedTree(int size) {\n",
    "    data.resize(size);\n",
    "}"
   ]
  },
  {
   "cell_type": "code",
   "execution_count": 35,
   "id": "34179937-58fb-40bc-9efa-f4b9dcdc1bc7",
   "metadata": {},
   "outputs": [],
   "source": [
    "BinaryIndexedTree::~BinaryIndexedTree() {\n",
    "\n",
    "}"
   ]
  },
  {
   "cell_type": "code",
   "execution_count": 36,
   "id": "33e88701-5d2c-4c91-805b-60da95070d51",
   "metadata": {},
   "outputs": [],
   "source": [
    "int BinaryIndexedTree::_sum(int right){\n",
    "    //int x = right - 1;\n",
    "    int x = right;\n",
    "    int res = 0;\n",
    "    while (x >= 0){\n",
    "        res += data[x];\n",
    "        x = (x & (x + 1)) - 1;\n",
    "    }\n",
    "    return res;\n",
    "}"
   ]
  },
  {
   "cell_type": "code",
   "execution_count": 37,
   "id": "1c60699d-56eb-4dbc-ae97-df570f06fae9",
   "metadata": {},
   "outputs": [],
   "source": [
    "int BinaryIndexedTree::sum(int from, int to){\n",
    "    return _sum(to) - _sum(from);\n",
    "}"
   ]
  },
  {
   "cell_type": "code",
   "execution_count": 38,
   "id": "6c324633-0bc7-4b8d-826f-430e0a32a711",
   "metadata": {},
   "outputs": [
    {
     "name": "stderr",
     "output_type": "stream",
     "text": [
      "\u001b[1minput_line_46:7:1: \u001b[0m\u001b[0;1;31merror: \u001b[0m\u001b[1mcontrol reaches end of non-void function [-Werror,-Wreturn-type]\u001b[0m\n",
      "}\n",
      "\u001b[0;1;32m^\n",
      "\u001b[0m"
     ]
    }
   ],
   "source": [
    "int BinaryIndexedTree::inc(int index, int value){\n",
    "    int i = index;\n",
    "    while (i < data.size()){\n",
    "        data[i] += value;\n",
    "        i = i | (i + 1);\n",
    "    }\n",
    "}"
   ]
  },
  {
   "cell_type": "markdown",
   "id": "1f301090-a96d-4484-88cc-58ff6e1e8ba5",
   "metadata": {},
   "source": [
    "## Разряженные таблицы"
   ]
  },
  {
   "cell_type": "markdown",
   "id": "cb59176f-a422-46bc-b019-7f7b85314b67",
   "metadata": {},
   "source": [
    "$$min[i, j] = min(a[i ... i + 2^j - 1])$$"
   ]
  },
  {
   "cell_type": "markdown",
   "id": "fd4a4c6d-b2a2-49d9-a483-92252b19bc12",
   "metadata": {},
   "source": []
  },
  {
   "cell_type": "markdown",
   "id": "074d152e-a1a9-4a88-9c98-aa9efa551045",
   "metadata": {},
   "source": []
  },
  {
   "cell_type": "code",
   "execution_count": 39,
   "id": "f4d27b65-870d-49e6-9170-6ed7dafbfeb4",
   "metadata": {},
   "outputs": [],
   "source": [
    "class SparseTable {\n",
    "private:\n",
    "    int size;\n",
    "    vector<vector<int>> table;\n",
    "public:\n",
    "    SparseTable(int array[], int size);\n",
    "    ~SparseTable();\n",
    "    int min(int from, int to);\n",
    "};"
   ]
  },
  {
   "cell_type": "code",
   "execution_count": 40,
   "id": "e32be626-361e-4665-b9cc-8d9841ab9e36",
   "metadata": {},
   "outputs": [],
   "source": [
    "SparseTable::SparseTable(int array[], int size){\n",
    "\n",
    "    int depth = (int)(log2(size) + 1);\n",
    "    table.resize(size);\n",
    "    for(int i=0; i<size; i++)\n",
    "        table[i].resize(depth);\n",
    "    this->size = size;\n",
    "\n",
    "    for (int i = 0; i < size; i++)\n",
    "        table[i][0] = array[i];\n",
    "\n",
    "    for (int j = 1; (1 << j) <= size; j++) {\n",
    "        for (int i = 0; (i + (1 << j) - 1) < size; i++) {\n",
    "            int idx = i + (1 << (j - 1));\n",
    "            if (table[i][j - 1] < table[idx][j - 1])\n",
    "                table[i][j] = table[i][j - 1];\n",
    "            else\n",
    "                table[i][j] = table[idx][j - 1];\n",
    "        }\n",
    "    }\n",
    "}"
   ]
  },
  {
   "cell_type": "code",
   "execution_count": 41,
   "id": "797ce2d7-d407-4fe0-bf6f-5cc61e17b8bd",
   "metadata": {},
   "outputs": [],
   "source": [
    "SparseTable::~SparseTable(){\n",
    "}"
   ]
  },
  {
   "cell_type": "code",
   "execution_count": 42,
   "id": "9e6333a4-4a97-490f-a4fe-7664b9242d46",
   "metadata": {},
   "outputs": [],
   "source": [
    "int SparseTable::min(int from, int to){\n",
    "    int j = (int)log2(to - from + 1);\n",
    "\n",
    "    if (table[from][j] <= table[to - (1 << j) + 1][j])\n",
    "        return table[from][j];\n",
    "\n",
    "    else\n",
    "        return table[to - (1 << j) + 1][j];\n",
    "}"
   ]
  },
  {
   "cell_type": "code",
   "execution_count": null,
   "id": "205bb441-a46d-459b-9d15-fd697327bd8c",
   "metadata": {},
   "outputs": [],
   "source": []
  },
  {
   "cell_type": "code",
   "execution_count": null,
   "id": "55a6b251-eb16-4502-9a48-39241de94b31",
   "metadata": {},
   "outputs": [],
   "source": []
  },
  {
   "cell_type": "markdown",
   "id": "1c30e8c0-c65c-4bf9-a993-bec484491dfb",
   "metadata": {},
   "source": [
    "## Двумерное дерево отрезков"
   ]
  },
  {
   "cell_type": "code",
   "execution_count": null,
   "id": "9d1bdb33-5eef-4325-b3cb-459221cddf05",
   "metadata": {},
   "outputs": [],
   "source": []
  },
  {
   "cell_type": "code",
   "execution_count": null,
   "id": "dc57a205-fb2a-471f-8293-d738ac489f53",
   "metadata": {},
   "outputs": [],
   "source": []
  },
  {
   "cell_type": "code",
   "execution_count": null,
   "id": "2fd5f538-1cfc-4370-bfaa-13157395d655",
   "metadata": {},
   "outputs": [],
   "source": []
  },
  {
   "cell_type": "code",
   "execution_count": null,
   "id": "2bc89910-7967-41c5-be35-c252401c3308",
   "metadata": {},
   "outputs": [],
   "source": []
  },
  {
   "cell_type": "markdown",
   "id": "b4876f4a-367e-4bef-9127-698f1b1b1b2b",
   "metadata": {},
   "source": [
    "## Задачи на дереве отрезков"
   ]
  },
  {
   "cell_type": "code",
   "execution_count": null,
   "id": "fd58e38a-c661-4b4f-ba46-115ec5c4e08b",
   "metadata": {},
   "outputs": [],
   "source": []
  },
  {
   "cell_type": "code",
   "execution_count": null,
   "id": "aa39fc40-e865-41b9-aabb-ee7e41c117b2",
   "metadata": {},
   "outputs": [],
   "source": []
  }
 ],
 "metadata": {
  "kernelspec": {
   "display_name": "C++14",
   "language": "C++14",
   "name": "xcpp14"
  },
  "language_info": {
   "codemirror_mode": "text/x-c++src",
   "file_extension": ".cpp",
   "mimetype": "text/x-c++src",
   "name": "c++",
   "version": "14"
  }
 },
 "nbformat": 4,
 "nbformat_minor": 5
}
