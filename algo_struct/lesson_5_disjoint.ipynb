{
 "cells": [
  {
   "cell_type": "markdown",
   "id": "e1932788-4f04-419c-97c1-f9986b84c710",
   "metadata": {},
   "source": [
    "# Disjoint Sets (непересекающиеся множества)"
   ]
  },
  {
   "cell_type": "markdown",
   "id": "b0c5f596-09ab-40e4-9df7-d2e66960467a",
   "metadata": {},
   "source": [
    "## Непересекающиеся множества на массиве"
   ]
  },
  {
   "cell_type": "markdown",
   "id": "ef31f4a1-2441-48d2-a627-427cba1f53c6",
   "metadata": {},
   "source": [
    "Иногда требуется структура данных, которая умеет выполнять следующие операции:\n",
    "* union (O(n))\n",
    "* find (O(1))"
   ]
  },
  {
   "cell_type": "code",
   "execution_count": 1,
   "id": "3a87f417-5590-400b-8b18-1cf08a2c493b",
   "metadata": {},
   "outputs": [],
   "source": [
    "class DisjointSetArray {\n",
    "private:\n",
    "    std::vector<int> sets;\n",
    "public:\n",
    "    DisjointSetArray(int size);\n",
    "    virtual ~DisjointSetArray();\n",
    "\n",
    "    void unionSets(int x, int y);\n",
    "    int find(int x);\n",
    "\n",
    "};"
   ]
  },
  {
   "cell_type": "code",
   "execution_count": 2,
   "id": "d7bb1c86-a7bd-4100-b4fa-b576de558a8c",
   "metadata": {},
   "outputs": [],
   "source": [
    "DisjointSetArray::DisjointSetArray(int size) {\n",
    "    sets.resize(size);\n",
    "    for (int i=0; i<size; i++)\n",
    "        sets[i] = i;\n",
    "}"
   ]
  },
  {
   "cell_type": "code",
   "execution_count": 3,
   "id": "df12be9b-0fb6-458a-a8f1-a224d1bc1660",
   "metadata": {},
   "outputs": [],
   "source": [
    "DisjointSetArray::~DisjointSetArray() {\n",
    "}"
   ]
  },
  {
   "cell_type": "code",
   "execution_count": 4,
   "id": "bed5ded5-a3d8-4d49-bc45-92c7adad7580",
   "metadata": {},
   "outputs": [],
   "source": [
    "void DisjointSetArray::unionSets(int main, int other) {\n",
    "    if (sets[main] == sets[other])\n",
    "        return;\n",
    "    else {\n",
    "        int t = sets[other];\n",
    "        for (int i = 0; i < sets.size(); i++)\n",
    "            if (sets[i] == t)\n",
    "                sets[i] = sets[main];\n",
    "    }\n",
    "}"
   ]
  },
  {
   "cell_type": "code",
   "execution_count": 5,
   "id": "437099dd-ae41-4b1c-949c-56855278be52",
   "metadata": {},
   "outputs": [],
   "source": [
    "int DisjointSetArray::find(int x) {\n",
    "    return sets[x];\n",
    "}"
   ]
  },
  {
   "cell_type": "markdown",
   "id": "aedfe999-e5cb-4721-9310-5883dc827cb2",
   "metadata": {},
   "source": [
    "## Непересекающиеся множества на дереве (с упаковкой в массив)"
   ]
  },
  {
   "cell_type": "markdown",
   "id": "8992fbca-81cd-45dd-8bc6-572dbc6b0007",
   "metadata": {},
   "source": [
    "Каждое множество хранится в виде дерева. Элементы множества хранятся в вершиных дерева. У каждого множества есть его представитель — один из элементов этого множества, он хранится в корне дерева. В каждом узле, кроме корня, хранится ссылка на \"родителя\".\n",
    "При объединении двух множеств, корень одного дерева подвешивается к другому (операция union). Таким образом, чтобы определить, в каком множестве находится элемент достаточно пройтись по ссылкам по дереву вверх до корня (операция get).\n",
    "Без использования дополнительных \"улучшений\", такое дерево может выродиться в линейный список, где get\n",
    "будет работать за линейное время, и никакого выигрыша по сравнению с наивными реализациями не будет. Выигрыш в скорости можно получить, используя две эвристики: объединение по рангу (union by rank) и сжатие пути (path compression). "
   ]
  },
  {
   "cell_type": "markdown",
   "id": "aa9018db-80f6-4333-80f2-72aaf7a9560d",
   "metadata": {},
   "source": [
    "Объединение по рангу\n",
    "Эта эвристика аналогична весовой эвристике у связных списков. Идея в том, чтобы при объединении подвешивать дерево с меньшей глубиной к дереву с большей.\n",
    "Вместо того, чтобы явно хранить высоту дерева, можно хранить его ранг, который по сути является некой верхней оценкой высоты дерева. У дерева, состоящего ровно из одного элемента ранг равен 0\n",
    ". При объединении дерево с меньшим рангом подвешивается к дереву с большим, и ранг объединенного дерева становится равным большему из этих двух рангов. Если ранги объединяемых деревьев равны, то не важно какое к какому дереву подвешивать, но ранг объединенного дерева следует делать большим на 1\n",
    ".\n"
   ]
  },
  {
   "cell_type": "markdown",
   "id": "08c0f835-e53d-4fd4-b522-201c069e5b41",
   "metadata": {},
   "source": [
    "Сжатие пути\n",
    "Эта эвристика несколько модифицирует операцию get. Операция get вызывается для элемента x, проходит через несколько вершин и попадает в корень. Все пройденные в этом процессе вершины принадлежат тому же множеству, что и x. Поэтому мы можем подвесить (изменить ссылки) эти вершины напрямую к корню дерева и, таким образом, уменьшить его высоту. При нерекурсивной реализации операция get становится двухпроходной. "
   ]
  },
  {
   "cell_type": "markdown",
   "id": "34bb7c98-86eb-45bf-b7f1-0c02b6c37b56",
   "metadata": {},
   "source": [
    "После всех модификаций получаем сложность:\n",
    "* union O(logN)\n",
    "* find O(logN)"
   ]
  },
  {
   "cell_type": "code",
   "execution_count": 6,
   "id": "05931967-1e9f-461b-b6ab-cf17bc010952",
   "metadata": {},
   "outputs": [],
   "source": [
    "class DisjointSetTree {\n",
    "\n",
    "    std::vector<int> parents;\n",
    "    std::vector<int> ranks;\n",
    "public:\n",
    "    DisjointSetTree(int size);\n",
    "    virtual ~DisjointSetTree();\n",
    "\n",
    "    void unionSets(int x, int y);\n",
    "    int find(int x);\n",
    "\n",
    "};"
   ]
  },
  {
   "cell_type": "code",
   "execution_count": 7,
   "id": "de85982b-a44e-4fac-bdaf-a6784587492b",
   "metadata": {},
   "outputs": [],
   "source": [
    "DisjointSetTree::DisjointSetTree(int size) {\n",
    "    ranks.resize(size);\n",
    "    parents.resize(size);\n",
    "    for (int i = 0; i < size; i++){\n",
    "        parents[i] = i;\n",
    "        ranks[i] = 0;\n",
    "    }\n",
    "}"
   ]
  },
  {
   "cell_type": "code",
   "execution_count": 8,
   "id": "9f7c1542-1839-4060-b54b-72a8d38abbb4",
   "metadata": {},
   "outputs": [],
   "source": [
    "DisjointSetTree::~DisjointSetTree() {\n",
    "}\n"
   ]
  },
  {
   "cell_type": "code",
   "execution_count": 9,
   "id": "52d0ce16-62a7-40ef-9105-608be979b4f2",
   "metadata": {},
   "outputs": [],
   "source": [
    "void DisjointSetTree::unionSets(int main, int other) {\n",
    "    main = find(main);\n",
    "    other = find(other);\n",
    "    if (main == other)\n",
    "        return;\n",
    "    if (ranks[main] == ranks[other])\n",
    "        ranks[main]++;\n",
    "    if (ranks[main] < ranks[other])\n",
    "        parents[main] = other;\n",
    "    else\n",
    "        parents[other] = main;\n",
    "}\n"
   ]
  },
  {
   "cell_type": "code",
   "execution_count": 10,
   "id": "425b30df-364c-4f46-8186-cfd78bcc373a",
   "metadata": {},
   "outputs": [],
   "source": [
    "int DisjointSetTree::find(int x) {\n",
    "    if (parents[x] != x)\n",
    "        parents[x] = find(parents[x]);\n",
    "    return parents[x];\n",
    "}"
   ]
  },
  {
   "cell_type": "code",
   "execution_count": null,
   "id": "35794de7-e567-46fb-9e59-04e165c5c5bf",
   "metadata": {},
   "outputs": [],
   "source": []
  },
  {
   "cell_type": "code",
   "execution_count": null,
   "id": "7e20fa79-c682-4da4-bdde-321013f96e80",
   "metadata": {},
   "outputs": [],
   "source": []
  },
  {
   "cell_type": "code",
   "execution_count": null,
   "id": "cd7a3483-50e9-4ef8-8c84-0b612e257173",
   "metadata": {},
   "outputs": [],
   "source": []
  }
 ],
 "metadata": {
  "kernelspec": {
   "display_name": "C++14",
   "language": "C++14",
   "name": "xcpp14"
  },
  "language_info": {
   "codemirror_mode": "text/x-c++src",
   "file_extension": ".cpp",
   "mimetype": "text/x-c++src",
   "name": "c++",
   "version": "14"
  }
 },
 "nbformat": 4,
 "nbformat_minor": 5
}
