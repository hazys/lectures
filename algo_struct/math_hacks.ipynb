{
 "cells": [
  {
   "cell_type": "markdown",
   "id": "6a444358-f9ed-4942-9206-b4ab838a2196",
   "metadata": {},
   "source": [
    "# Математические трюки для программистов(сборник рецептов)"
   ]
  },
  {
   "cell_type": "markdown",
   "id": "32e16520-ec45-4453-9a76-56b11cc41729",
   "metadata": {},
   "source": [
    "## Битовые манипуляции"
   ]
  },
  {
   "cell_type": "markdown",
   "id": "175e8bd5-1cbb-4647-ba43-a352864dcdae",
   "metadata": {},
   "source": [
    "Проверка числа на четность"
   ]
  },
  {
   "cell_type": "markdown",
   "id": "94727f12-c1dd-4690-8c6d-eb1f2a0955cc",
   "metadata": {},
   "source": [
    "x & 1 == 0"
   ]
  },
  {
   "cell_type": "markdown",
   "id": "d6ca8435-ed00-46b1-83f0-6169d4595f51",
   "metadata": {},
   "source": [
    "Проверка числа на нечетность"
   ]
  },
  {
   "cell_type": "markdown",
   "id": "e0f6ebeb-bb0a-400e-9bd7-b01fe32679fc",
   "metadata": {},
   "source": [
    "x & 1 == 1"
   ]
  },
  {
   "cell_type": "markdown",
   "id": "ada28202-c802-4ecb-8678-8ce089e5c22f",
   "metadata": {},
   "source": [
    "Установка n-ого бита"
   ]
  },
  {
   "cell_type": "markdown",
   "id": "a20d1bdf-24ca-431a-9075-ee43000c5f62",
   "metadata": {},
   "source": [
    "x | (1<<n)"
   ]
  },
  {
   "cell_type": "markdown",
   "id": "0cbb39c8-a141-4fa7-8fe5-c94617ff1910",
   "metadata": {},
   "source": [
    "Обнуление n-ого бита"
   ]
  },
  {
   "cell_type": "markdown",
   "id": "102aa7d3-56b6-434d-9b9e-21b0b0acbacc",
   "metadata": {},
   "source": [
    "x & ~(1<<n)"
   ]
  },
  {
   "cell_type": "markdown",
   "id": "1f539956-6d86-4f36-950b-00470e34005c",
   "metadata": {},
   "source": [
    "Переключение n-ого бита"
   ]
  },
  {
   "cell_type": "markdown",
   "id": "91b10eb6-fe71-4caf-92b1-1c7138a30d2f",
   "metadata": {},
   "source": [
    "x ^ (1<<n)"
   ]
  },
  {
   "cell_type": "markdown",
   "id": "b764aed0-a057-4c46-a3ef-8fbdf1afd3ce",
   "metadata": {},
   "source": [
    "Округление до следующей степени двойки (работает только для 32битных чисел)"
   ]
  },
  {
   "cell_type": "markdown",
   "id": "27bc6ef1-1a39-4c9d-952c-31512adde473",
   "metadata": {},
   "source": [
    "//работает только для 32битных чисел\n",
    "unsigned int v; \n",
    "v--;\n",
    "v |= v >> 1;\n",
    "v |= v >> 2;\n",
    "v |= v >> 4;\n",
    "v |= v >> 8;\n",
    "v |= v >> 16;\n",
    "v++;"
   ]
  },
  {
   "cell_type": "markdown",
   "id": "3eac6a8d-e85d-4cd8-9ff9-660fc40587b7",
   "metadata": {},
   "source": [
    "Получение границ int"
   ]
  },
  {
   "cell_type": "markdown",
   "id": "ced9a8e0-946b-4199-8e83-f7697e3d55e4",
   "metadata": {},
   "source": [
    "int maxInt = ~(1 << 31);\n",
    "int maxInt = (1 << 31) - 1;\n",
    "int maxInt = (1 << -1) - 1;"
   ]
  },
  {
   "cell_type": "markdown",
   "id": "195f99e6-aeea-4b2b-9cdf-a1a0d258efaf",
   "metadata": {},
   "source": [
    "int minInt = 1 << 31;\n",
    "int minInt = 1 << -1;"
   ]
  },
  {
   "cell_type": "markdown",
   "id": "668f29b7-11cf-40c8-abb0-07ba20820c01",
   "metadata": {},
   "source": [
    "Получение максимального long"
   ]
  },
  {
   "cell_type": "markdown",
   "id": "e6478ad4-e965-4536-b5bb-f565aec4eb6a",
   "metadata": {},
   "source": [
    "long maxLong = ((long)1 << 127) - 1;"
   ]
  },
  {
   "cell_type": "markdown",
   "id": "3d911105-762f-43b6-9e47-c5613897e552",
   "metadata": {},
   "source": [
    "Умножение на 2"
   ]
  },
  {
   "cell_type": "markdown",
   "id": "0f9e67c7-4746-4867-a7d4-aa6cc629b906",
   "metadata": {},
   "source": [
    "n << 1;"
   ]
  },
  {
   "cell_type": "markdown",
   "id": "e727c35f-f37b-4f25-93d4-86fc854edf56",
   "metadata": {},
   "source": [
    "Деление на 2"
   ]
  },
  {
   "cell_type": "markdown",
   "id": "228261a9-98cb-4f74-a095-9173bb393020",
   "metadata": {},
   "source": [
    "n >> 1;"
   ]
  },
  {
   "cell_type": "markdown",
   "id": "4bb5e2bc-1d6a-4472-9df7-b8d21196b696",
   "metadata": {},
   "source": [
    "Умножение на m-тую степень 2"
   ]
  },
  {
   "cell_type": "markdown",
   "id": "47500e34-f304-469a-b569-5b43a3431104",
   "metadata": {},
   "source": [
    "n << m;"
   ]
  },
  {
   "cell_type": "markdown",
   "id": "28e2c8e1-eb3a-429e-927e-37c8fe623183",
   "metadata": {},
   "source": [
    "Деление на m-тую степень 2"
   ]
  },
  {
   "cell_type": "markdown",
   "id": "dc561a06-b3e7-410c-82c9-16db7696e9cb",
   "metadata": {},
   "source": [
    "n >> m;"
   ]
  },
  {
   "cell_type": "markdown",
   "id": "4cb4b3a5-0763-41d8-abe5-382644b5c752",
   "metadata": {},
   "source": [
    "Проверка на равенство"
   ]
  },
  {
   "cell_type": "markdown",
   "id": "d8e6966a-db0b-49d5-b63d-257f483d7f48",
   "metadata": {},
   "source": [
    "(a^b) == 0; // a == b"
   ]
  },
  {
   "cell_type": "markdown",
   "id": "a585ee29-d5b3-4628-b0ab-61ec4eea1e41",
   "metadata": {},
   "source": [
    "Обмен значениями"
   ]
  },
  {
   "cell_type": "markdown",
   "id": "c14050e0-aa25-4710-9d63-7f20dcaec17a",
   "metadata": {},
   "source": [
    "a ^= b;\n",
    "b ^= a;\n",
    "a ^= b;"
   ]
  },
  {
   "cell_type": "markdown",
   "id": "6aab9ec1-f00d-4a36-81b8-55786415ecfd",
   "metadata": {},
   "source": [
    "Модуль"
   ]
  },
  {
   "cell_type": "markdown",
   "id": "e225076a-95c2-4873-bfd8-5a6fa1a99bba",
   "metadata": {},
   "source": [
    "//версия 1\n",
    "x < 0 ? -x : x;\n",
    "\n",
    "//версия 2\n",
    "(x ^ (x >> 31)) - (x >> 31);"
   ]
  },
  {
   "cell_type": "markdown",
   "id": "9b9b962d-0340-4d80-b2e5-be4ee04aab3a",
   "metadata": {},
   "source": [
    "Максимум двух чисел"
   ]
  },
  {
   "cell_type": "markdown",
   "id": "7c3c4f77-e2d6-4f8f-af9b-c555ff5b1a03",
   "metadata": {},
   "source": [
    "b & ((a-b) >> 31) | a & (~(a-b) >> 31);"
   ]
  },
  {
   "cell_type": "markdown",
   "id": "abc0ac62-5a65-4f4e-bb0c-3cf3b8fd5024",
   "metadata": {},
   "source": [
    "Минимум двух чисел"
   ]
  },
  {
   "cell_type": "markdown",
   "id": "9f320c3a-e5e2-4730-98ce-fc50905100bb",
   "metadata": {},
   "source": [
    "a & ((a-b) >> 31) | b & (~(a-b) >> 31);"
   ]
  },
  {
   "cell_type": "markdown",
   "id": "1cd98695-dfa1-43e3-97cf-2443fe820030",
   "metadata": {},
   "source": [
    "Проверка на одинаковый знак"
   ]
  },
  {
   "cell_type": "markdown",
   "id": "d2cf8c4f-d0ee-49b9-9997-bf67b6f7aa62",
   "metadata": {},
   "source": [
    "(x ^ y) >= 0;"
   ]
  },
  {
   "cell_type": "markdown",
   "id": "c4633bb5-5ad8-4cc1-a500-c4656e1491f2",
   "metadata": {},
   "source": [
    "Смена знака"
   ]
  },
  {
   "cell_type": "markdown",
   "id": "d2163a38-b594-4ad3-82d3-a586def9e4ab",
   "metadata": {},
   "source": [
    "i = ~i + 1; // i = -i\n",
    "i = (i ^ -1) + 1; // i = -i"
   ]
  },
  {
   "cell_type": "markdown",
   "id": "e3928f15-a049-46be-9bde-6565fee00a52",
   "metadata": {},
   "source": [
    "Вычисление 2^n"
   ]
  },
  {
   "cell_type": "markdown",
   "id": "373413b2-a422-4452-8a16-e19a328f992e",
   "metadata": {},
   "source": [
    "2 << (n-1);"
   ]
  },
  {
   "cell_type": "markdown",
   "id": "8321a242-65a0-4229-bb84-d4314d480d95",
   "metadata": {},
   "source": [
    "Проверка на степень 2"
   ]
  },
  {
   "cell_type": "markdown",
   "id": "4a6e65ff-ec37-4a5b-b8ff-bee6da8b7c3f",
   "metadata": {},
   "source": [
    "n > 0 && (n & (n - 1)) == 0;"
   ]
  },
  {
   "cell_type": "markdown",
   "id": "6895db8b-b2df-4d5f-aeeb-7c5ff9eb65fc",
   "metadata": {},
   "source": [
    "Остаток от деления 2^n на m"
   ]
  },
  {
   "cell_type": "markdown",
   "id": "b519be32-a8a9-4a3d-8a7a-ded8a724357b",
   "metadata": {},
   "source": [
    "m & (n - 1);"
   ]
  },
  {
   "cell_type": "markdown",
   "id": "03009fb7-5f1d-4538-b67c-43ca6e040b5f",
   "metadata": {},
   "source": [
    "Среднее арифметическое"
   ]
  },
  {
   "cell_type": "markdown",
   "id": "735195b4-423d-4ab1-b6f1-b6379a54c42e",
   "metadata": {},
   "source": [
    "(x + y) >> 1;\n",
    "((x ^ y) >> 1) + (x & y);"
   ]
  },
  {
   "cell_type": "markdown",
   "id": "9f4b3284-476b-4227-bd22-0c68d1770883",
   "metadata": {},
   "source": [
    "Получение m-ого бита n (справа)"
   ]
  },
  {
   "cell_type": "markdown",
   "id": "0bbfab39-93a2-40ec-a672-215634aa9766",
   "metadata": {},
   "source": [
    "(n >> (m-1)) & 1;"
   ]
  },
  {
   "cell_type": "markdown",
   "id": "d85555ef-f913-48d9-a266-674ac47d8075",
   "metadata": {},
   "source": [
    "Установка m-ого бита n (справа)"
   ]
  },
  {
   "cell_type": "markdown",
   "id": "c6bdeec7-ac92-461a-a573-c079bad05dfe",
   "metadata": {},
   "source": [
    "n & ~(1 << (m-1));"
   ]
  },
  {
   "cell_type": "markdown",
   "id": "71decaf1-f509-4124-b4c4-d2a604e1c9ed",
   "metadata": {},
   "source": [
    "Проверка n-ого бита"
   ]
  },
  {
   "cell_type": "markdown",
   "id": "ba9e644c-bdad-4dc9-9a33-66183a835f2d",
   "metadata": {},
   "source": [
    "if (x & (1<<n)) {\n",
    "  n-th bit is set\n",
    "}\n",
    "else {\n",
    "  n-th bit is not set\n",
    "}"
   ]
  },
  {
   "cell_type": "markdown",
   "id": "5c5598ae-6d80-4202-afd9-8fa88ac70ca2",
   "metadata": {},
   "source": [
    "Выделение самой правой 1"
   ]
  },
  {
   "cell_type": "markdown",
   "id": "4ef12cfe-1efe-4c16-b2ef-76b0a4fffdeb",
   "metadata": {},
   "source": [
    "x & (-x)"
   ]
  },
  {
   "cell_type": "markdown",
   "id": "25c64982-0ad4-41ec-8b9c-1887b67e4359",
   "metadata": {},
   "source": [
    "Выделение самого правого 0"
   ]
  },
  {
   "cell_type": "markdown",
   "id": "b6cf4105-e5fb-4615-a155-7b8b8a10439b",
   "metadata": {},
   "source": [
    "~x & (x+1)"
   ]
  },
  {
   "cell_type": "markdown",
   "id": "5d299edc-4f56-4ea7-8420-15ed87aef6cc",
   "metadata": {},
   "source": [
    "Смена самого правого 0 на 1"
   ]
  },
  {
   "cell_type": "markdown",
   "id": "3e9f4fab-577e-4f18-9d9a-db88672d44b0",
   "metadata": {},
   "source": [
    "x | (x+1)"
   ]
  },
  {
   "cell_type": "markdown",
   "id": "f8de5fea-3370-4514-95ba-d3682481f1bc",
   "metadata": {},
   "source": [
    "n+1"
   ]
  },
  {
   "cell_type": "markdown",
   "id": "3dca0598-44d2-4f35-9267-e8abf6bb7b85",
   "metadata": {},
   "source": [
    "-~n"
   ]
  },
  {
   "cell_type": "markdown",
   "id": "1bc66042-589a-45b1-8783-f70a9c53ddf0",
   "metadata": {},
   "source": [
    "n-1"
   ]
  },
  {
   "cell_type": "markdown",
   "id": "f28d17aa-cf61-4d5d-a44f-2a88c7bb1812",
   "metadata": {},
   "source": [
    "~-n"
   ]
  },
  {
   "cell_type": "markdown",
   "id": "81c82655-bade-4161-b018-ff4b4354d912",
   "metadata": {},
   "source": [
    "if (x==a) x=b; if (x==b) x=a;"
   ]
  },
  {
   "cell_type": "markdown",
   "id": "1f3e5f77-56ca-42c5-9c32-197154a5e4dd",
   "metadata": {},
   "source": [
    "x = a ^ b ^ x;"
   ]
  },
  {
   "cell_type": "markdown",
   "id": "bf04bf3c-536a-41bb-8bdb-b24456c612c8",
   "metadata": {},
   "source": []
  },
  {
   "cell_type": "markdown",
   "id": "5aefe41d-a85f-4eae-a4c4-d98746975bb0",
   "metadata": {},
   "source": []
  }
 ],
 "metadata": {
  "kernelspec": {
   "display_name": "C++14",
   "language": "C++14",
   "name": "xcpp14"
  },
  "language_info": {
   "codemirror_mode": "text/x-c++src",
   "file_extension": ".cpp",
   "mimetype": "text/x-c++src",
   "name": "c++",
   "version": "14"
  }
 },
 "nbformat": 4,
 "nbformat_minor": 5
}
