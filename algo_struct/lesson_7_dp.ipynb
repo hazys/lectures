{
 "cells": [
  {
   "cell_type": "markdown",
   "id": "5aa6a5d4-17ac-4355-b3ae-2a36918523af",
   "metadata": {},
   "source": [
    "# Динамическое программирование"
   ]
  },
  {
   "cell_type": "markdown",
   "id": "adb67cb5-516c-45c7-b83f-58697cb4bf2f",
   "metadata": {},
   "source": [
    "## Общие идеи"
   ]
  },
  {
   "cell_type": "markdown",
   "id": "77d85617-5255-4ac8-b993-44b2031d2566",
   "metadata": {},
   "source": [
    "$V ={v_1, v_2,...,v_n}$ - множество задач, от решения которых косвенно или напрямую может зависеть решение исходной задачи. Исходная задача тоже входит в это множество.Глагол \"может\" здесь использова не случайно. Часто способ формирования решения задачи из решения подзадач (той же \"топологии\") зависит от входных данных, которые нам заранее не известны.Возможны ситуации, когда для конкретных входных данных требуется решить лишь небольшое количество задач. Множество V содержит все задачи."
   ]
  },
  {
   "cell_type": "markdown",
   "id": "ab59c9f9-f53d-4a66-b117-b34b06d1656e",
   "metadata": {},
   "source": [
    "Пример Фиббоначи"
   ]
  },
  {
   "cell_type": "markdown",
   "id": "e090696f-5fc9-452a-b2e7-472922130292",
   "metadata": {},
   "source": [
    "Пример на задаче о черепахе"
   ]
  },
  {
   "cell_type": "markdown",
   "id": "d5f8e8d3-2a1b-4b64-8e92-4820ee5e80e0",
   "metadata": {},
   "source": [
    "При решении задачи методом динамического программирования требуется найти способ формирования новых решений на основе уже найденных. Это должно быть некое правило, определяющее каким образом решение задачи выражается через решение ее подзадач. В силу того что задачи из множества V имеют одинаковую структуру (топологию), у нас есть основания полагать, что это правило будет общим."
   ]
  },
  {
   "cell_type": "markdown",
   "id": "f4a01404-6c72-4758-b520-7148ce3704e2",
   "metadata": {},
   "source": [
    "В приведенных примерах, да и в большинстве других задач, решаемых методом динамического программирования, множество задач V определяется параметрически. Вместо функции рассчете $f(v_{ij})$ можно записать f[i, j]."
   ]
  },
  {
   "cell_type": "markdown",
   "id": "b760115e-9e3d-4dd5-959b-05bcf3ded4bc",
   "metadata": {},
   "source": [
    "Функция f задается рекурсивно, $f_i = f_{i-1} ...$"
   ]
  },
  {
   "cell_type": "markdown",
   "id": "bf334162-3b9e-4929-8123-50699489536a",
   "metadata": {},
   "source": [
    "После того как сформулированы все задачи, получены все взаимосвязи между ними необходимо построить граф зависимостей. После этого уложить граф зависимостней в таблицу нужной размерности."
   ]
  },
  {
   "cell_type": "markdown",
   "id": "1271e228-742b-4b26-be66-e603e6ee682e",
   "metadata": {},
   "source": [
    "Пример работы с графом задач на примере задачи о черепашке."
   ]
  },
  {
   "cell_type": "markdown",
   "id": "765435d1-68d5-4255-aa23-366f1b644fa6",
   "metadata": {},
   "source": [
    "### Общая схема рашения задач ДП"
   ]
  },
  {
   "cell_type": "markdown",
   "id": "4be24cc9-5055-41b8-995b-561d53f83f25",
   "metadata": {},
   "source": [
    "#### 1. Задача"
   ]
  },
  {
   "cell_type": "markdown",
   "id": "9760b732-a897-41cf-86e9-03636e046b54",
   "metadata": {},
   "source": [
    "Необходимо сформулировать/переформулировать задачу. Она должна допускать разбивку на подзадачи аналогичной структуры \"топологии\", но меньшей размерности.Так получаем множество решаемых задач. Обычно речь не идет о решении первоначальной задачи."
   ]
  },
  {
   "cell_type": "markdown",
   "id": "99b4d141-9b7a-4e26-b7f4-1f5023e7dd3e",
   "metadata": {},
   "source": [
    "Что может помочь:\n",
    "* решение задачи для малых примеров, с поиском закономерностей\n",
    "* представление задачи как движение по таблицам разрой размерности\n",
    "* привязка к данным, использование их как измерений для построения подзадач\n",
    "* рисование графа решаемых подзадач"
   ]
  },
  {
   "cell_type": "markdown",
   "id": "8ab606d0-2af8-44de-be83-cc6b77e4e8a4",
   "metadata": {},
   "source": [
    "### 2. Определение функции"
   ]
  },
  {
   "cell_type": "markdown",
   "id": "7998fc5b-2e0f-46a3-87b6-fc010561dc79",
   "metadata": {},
   "source": [
    "Определение функции в виде рекурентного соотношения."
   ]
  },
  {
   "cell_type": "markdown",
   "id": "55ac393f-f296-43f9-bd3f-c243389c5afd",
   "metadata": {},
   "source": [
    "### 3. Поиск тривиальной подзадачи"
   ]
  },
  {
   "cell_type": "markdown",
   "id": "f91eb04f-0dc2-4b32-a782-012c9b95782d",
   "metadata": {},
   "source": [
    "Необходимо найти ту, задачу, которая не зависит от подзадач."
   ]
  },
  {
   "cell_type": "markdown",
   "id": "9486255f-5f4e-409c-8d42-f48dfb90c70d",
   "metadata": {},
   "source": [
    "### 4. Поиск оптимального решения"
   ]
  },
  {
   "cell_type": "markdown",
   "id": "c2128e41-a704-4e69-9f5b-400120976d32",
   "metadata": {},
   "source": [
    "Необходимо сконструировать оптимальное решение на основе оптимальных решений меньшей размерности, порядок определяется графом задач."
   ]
  },
  {
   "cell_type": "markdown",
   "id": "44d0abb2-6f08-4463-9e41-3d818630f21c",
   "metadata": {},
   "source": [
    "### 5. Оптимизация"
   ]
  },
  {
   "cell_type": "markdown",
   "id": "07e1c8fa-3ecb-4043-ae8b-4dc71bb04470",
   "metadata": {},
   "source": [
    "При решении необходимо продумать запоминание промежуточных результатов, которые требуются несколько раз, более эффективных подход к управлению памяти. Возможно уход от рекурсии."
   ]
  },
  {
   "cell_type": "markdown",
   "id": "5ef25a75-c487-4f77-985a-52a73bdbd543",
   "metadata": {},
   "source": [
    "### 6. Вывод формулы."
   ]
  },
  {
   "cell_type": "markdown",
   "id": "02c3fa91-ceac-421f-9abd-64992ccdfeac",
   "metadata": {},
   "source": [
    "Возможно задачу можно свести к применению формул, а не ДП?"
   ]
  },
  {
   "cell_type": "markdown",
   "id": "ed72d842-8727-4f8f-91d8-65d9072c5344",
   "metadata": {},
   "source": [
    "### Динамика вперед"
   ]
  },
  {
   "cell_type": "markdown",
   "id": "1b46c2a9-b15c-42d5-a010-9a9d737c731b",
   "metadata": {},
   "source": [
    "Динаика вперед считается из начального состояния и дальше."
   ]
  },
  {
   "cell_type": "markdown",
   "id": "f297943e-92d2-4cbc-b68c-fbf43939bcb1",
   "metadata": {},
   "source": [
    "Пример на числах Фибоначи"
   ]
  },
  {
   "cell_type": "markdown",
   "id": "39596817-ec9e-459d-9abf-9105a89e1cf6",
   "metadata": {},
   "source": [
    "### Динамика назад"
   ]
  },
  {
   "cell_type": "markdown",
   "id": "7e2114cf-2458-4a6e-bfd4-2fc4c20be989",
   "metadata": {},
   "source": [
    "Динамика назад связывает i-е состояние с предшествующими."
   ]
  },
  {
   "cell_type": "markdown",
   "id": "81204407-a9a9-4f96-9b59-a0e54b8cccd7",
   "metadata": {},
   "source": [
    "Пример на числах Фибоначчи."
   ]
  },
  {
   "cell_type": "markdown",
   "id": "8e10643b-087d-4e64-a953-84354cb4c929",
   "metadata": {},
   "source": [
    "## Расстояние Левенштейна"
   ]
  },
  {
   "cell_type": "code",
   "execution_count": 2,
   "id": "bd71195a-3dd2-4a30-b161-d01575cc3040",
   "metadata": {},
   "outputs": [],
   "source": [
    "#include <string>\n",
    "#include <algorithm>\n",
    "\n",
    "using namespace std;"
   ]
  },
  {
   "cell_type": "markdown",
   "id": "ae1de685-2687-4d6b-93ec-042ba6ec4bab",
   "metadata": {},
   "source": [
    "### Наивная реализация"
   ]
  },
  {
   "cell_type": "code",
   "execution_count": 3,
   "id": "ee2a88e3-88dc-4b83-8d56-f7c809dc12fa",
   "metadata": {},
   "outputs": [],
   "source": [
    "int levenstein(string s1, string s2){\n",
    "\n",
    "    int** t = new int*[s1.size()+1];\n",
    "    for (int i = 0; i < s1.size()+1;i++)\n",
    "        t[i] = new int[s2.size() + 1];\n",
    "\n",
    "    for (int i = 0; i <= s1.size(); i++)\n",
    "        for (int j = 0; j <= s2.size(); j++)\n",
    "            if ((i == 0) or (j == 0))\n",
    "                    t[i][j] = i + j;\n",
    "            else\n",
    "                if (s1[i-1] == s2[j-1])\n",
    "                    t[i][j] = t[i-1][j-1];\n",
    "                else {\n",
    "                    t[i][j] = min(t[i - 1][j], t[i][j - 1]);\n",
    "                    t[i][j] = min(t[i][j], t[i - 1][j - 1]);\n",
    "                    t[i][j]++;\n",
    "                };\n",
    "    int result = t[s1.size()][s2.size()];\n",
    "\n",
    "    for (int i = 0; i < s1.size()+1;i++)\n",
    "        delete[] t[i];\n",
    "    delete[] t;\n",
    "\n",
    "    return result;\n",
    "}"
   ]
  },
  {
   "cell_type": "markdown",
   "id": "d24cfd65-e0f2-4b95-9060-bd01dae9ea67",
   "metadata": {},
   "source": [
    "### Оптимизированный алгоритм"
   ]
  },
  {
   "cell_type": "code",
   "execution_count": 4,
   "id": "40219011-3621-4e42-804c-a96b8cfa50d6",
   "metadata": {},
   "outputs": [],
   "source": [
    "int levenstein_opt(string* s1, string* s2){\n",
    "\n",
    "    if (s1->size() > s2->size())\n",
    "        swap(s1, s2);\n",
    "\n",
    "    int* curr = new int[s1->size() + 1];\n",
    "    int* prev = new int[s1->size() + 1];\n",
    "\n",
    "    for (int i = 0; i <= s2->size(); i++) {\n",
    "        for (int j = 0; j <= s1->size(); j++)\n",
    "            if ((i == 0) or (j == 0))\n",
    "                curr[j] = i + j;\n",
    "            else if ((*s2)[i - 1] == (*s1)[j - 1])\n",
    "                curr[j] = prev[j - 1];\n",
    "            else {\n",
    "                curr[j] = min(prev[j], curr[j - 1]);\n",
    "                curr[j] = min(curr[j], prev[j - 1]);\n",
    "                curr[j]++;\n",
    "            };\n",
    "        swap(curr, prev);\n",
    "    };\n",
    "    int result = prev[s1->size()];\n",
    "\n",
    "    delete[] curr;\n",
    "    delete[] prev;\n",
    "\n",
    "    return result;\n",
    "}"
   ]
  },
  {
   "cell_type": "markdown",
   "id": "eab457d3-e46a-42b9-8e39-a42dbefb5e37",
   "metadata": {},
   "source": [
    "## Расстояние Дамерау-Левенштейна"
   ]
  },
  {
   "cell_type": "markdown",
   "id": "9b27403f-5294-416e-8972-a276c061de9e",
   "metadata": {},
   "source": [
    "### Наивная реализация"
   ]
  },
  {
   "cell_type": "code",
   "execution_count": 5,
   "id": "524fe6a8-f8a7-4f74-a911-5b72a515cba5",
   "metadata": {},
   "outputs": [],
   "source": [
    "int damerau_levenstein(string* s1, string* s2){\n",
    "    int** t = new int*[s1->size()+1];\n",
    "    for (int i = 0; i < s1->size()+1;i++)\n",
    "        t[i] = new int[s2->size() + 1];\n",
    "\n",
    "    for (int i = 0; i <= s1->size(); i++)\n",
    "        for (int j = 0; j <= s2->size(); j++)\n",
    "            if ((i == 0) or (j == 0))\n",
    "                t[i][j] = i + j;\n",
    "            else {\n",
    "                if ((*s1)[i - 1] == (*s2)[j - 1])\n",
    "                    t[i][j] = t[i - 1][j - 1];\n",
    "                else {\n",
    "                    t[i][j] = min(t[i - 1][j], t[i][j - 1]);\n",
    "                    t[i][j] = min(t[i][j], t[i - 1][j - 1]);\n",
    "                    t[i][j]++;\n",
    "                };\n",
    "                if ((i > 1) and (j > 1) and ((*s1)[i-2] == (*s2)[j-1])  and ((*s1)[i-1] == (*s2)[j-2]))\n",
    "                    t[i][j] = min(t[i][j], t[i-2][j-2] + 1);\n",
    "            }\n",
    "    int result = t[s1->size()][s2->size()];\n",
    "\n",
    "    for (int i = 0; i < s1->size()+1;i++)\n",
    "        delete[] t[i];\n",
    "    delete[] t;\n",
    "\n",
    "    return result;\n",
    "\n",
    "}"
   ]
  },
  {
   "cell_type": "markdown",
   "id": "0737f73c-8480-4c14-a4ca-f26eea996f2e",
   "metadata": {},
   "source": [
    "### Оптимизированный алгоритм"
   ]
  },
  {
   "cell_type": "code",
   "execution_count": 6,
   "id": "ee874825-04e4-49e1-8208-4a54fe13feb4",
   "metadata": {},
   "outputs": [],
   "source": [
    "int damerau_levenstein_opt(string* s1, string* s2){\n",
    "    if (s1->size() > s2->size())\n",
    "        swap(s1, s2);\n",
    "\n",
    "    int* data = new int[3 * (s1->size() + 1)];\n",
    "\n",
    "    int* curr = data;\n",
    "    int* prev = &data[s1->size() + 1];\n",
    "    int* prevprev = &data[2 * (s1->size() + 1)];\n",
    "\n",
    "    for (int i = 0; i <= s2->size(); i++) {\n",
    "        for (int j = 0; j <= s1->size(); j++)\n",
    "            if ((i == 0) or (j == 0))\n",
    "                curr[j] = i + j;\n",
    "            else {\n",
    "                if ((*s2)[i - 1] == (*s1)[j - 1])\n",
    "                    curr[j] = prev[j - 1];\n",
    "                else {\n",
    "                    curr[j] = min(prev[j], curr[j - 1]);\n",
    "                    curr[j] = min(curr[j], prev[j - 1]);\n",
    "                    curr[j]++;\n",
    "                };\n",
    "                if ((i > 1) and (j > 1) and ((*s1)[i-2] == (*s2)[j-1])  and ((*s1)[i-1] == (*s2)[j-2]))\n",
    "                    curr[j] = min(curr[j], prevprev[j-2] + 1);\n",
    "\n",
    "            };\n",
    "        swap(prevprev, curr);\n",
    "        swap(prev, prevprev);\n",
    "    };\n",
    "    int result = prev[s1->size()];\n",
    "\n",
    "    delete[] data;\n",
    "\n",
    "    return result;\n",
    "}\n"
   ]
  },
  {
   "cell_type": "markdown",
   "id": "f4ded3ec-1ef3-4f22-988e-fe7c1283fef9",
   "metadata": {},
   "source": [
    "## Быстрый и неточный алгоритм Дамерау-Левенштейна"
   ]
  },
  {
   "cell_type": "code",
   "execution_count": 8,
   "id": "0bf9f7d2-7f5b-4198-b979-4a1fb63255ca",
   "metadata": {},
   "outputs": [],
   "source": [
    "inline int MIN(int a, int b){\n",
    "    return a > b ? b : a;\n",
    "}"
   ]
  },
  {
   "cell_type": "code",
   "execution_count": 9,
   "id": "05d15c16-cc9e-45b2-b26a-ee01f9dee0e4",
   "metadata": {},
   "outputs": [],
   "source": [
    "int fuzzy_damerau_levenstein(string* s1, string* s2, int size, int inf){\n",
    "    if (s1->size() > s2->size())\n",
    "        swap(s1, s2);\n",
    "\n",
    "    size = size > s1->size() ? s1->size() : size;\n",
    "\n",
    "    int* data = new int[3 * (size + 1)];\n",
    "\n",
    "    int* curr = data;\n",
    "    int* prev = &data[size + 1];\n",
    "    int* prevprev = &data[2 * (size + 1)];\n",
    "\n",
    "    prev[size] = inf;\n",
    "    for (int j = 0; j < size; j++)\n",
    "        prev[j] = j;\n",
    "\n",
    "    for (int i = 1; i <= s2->size(); i++) {\n",
    "        curr[size] = inf;\n",
    "        for (int j = 0; j < MIN(size, s1->size() - i); j++){\n",
    "            if ((*s1)[i - 1] == (*s2)[i + j - 1])\n",
    "                curr[j] = prev[j];\n",
    "            else {\n",
    "                curr[j] = min(prev[j], prev[j + 1]);\n",
    "                if (j > 0) curr[j] = min(curr[j], curr[j - 1]);\n",
    "                curr[j]++;\n",
    "            };\n",
    "            if ((i > 1) and ((*s1)[i-2] == (*s2)[j-1])  and ((*s1)[i-1] == (*s2)[j-2]))\n",
    "                curr[j] = min(curr[j], prevprev[j] + 1);\n",
    "        };\n",
    "        swap(prevprev, curr);\n",
    "        swap(prev, prevprev);\n",
    "    };\n",
    "\n",
    "    int result = prev[0];\n",
    "    delete[] data;\n",
    "    return result;\n",
    "}"
   ]
  },
  {
   "cell_type": "markdown",
   "id": "4a375fea-6822-4ce6-aaf1-bcbab696aae5",
   "metadata": {},
   "source": [
    "## Задача о рюкзаке"
   ]
  },
  {
   "cell_type": "markdown",
   "id": "bad18f74-c53a-41ff-a20f-c1456d8a509b",
   "metadata": {},
   "source": [
    "Обычная формулировка задачи: есть n объектов, со стоимостями с1, с2 ... сn и весами w1, w2, ... wn необходимо сложить рюкзак с максимальной стоимостью и весом не превышающим S."
   ]
  },
  {
   "cell_type": "markdown",
   "id": "de82c865-a7ad-4416-91ef-4c15fb5999f6",
   "metadata": {},
   "source": [
    "Про np-полные задачи и неразрешимость в общем виде."
   ]
  },
  {
   "cell_type": "markdown",
   "id": "222e2801-b193-4c59-ad8d-f91c46450de7",
   "metadata": {},
   "source": [
    "Решаемая задача, когда s и n - небольшие."
   ]
  },
  {
   "cell_type": "markdown",
   "id": "cb0f0512-6d36-4a34-955e-257971a5c7ba",
   "metadata": {},
   "source": [
    "Узнать можно ли собрать рюкзак."
   ]
  },
  {
   "cell_type": "markdown",
   "id": "fbd26037-c87c-419d-9212-b8169417453f",
   "metadata": {},
   "source": [
    "Узнать сумму рюкзака максимальную, которую можно собрать."
   ]
  },
  {
   "cell_type": "markdown",
   "id": "e74a14f8-49d1-4624-8f59-f836002d2d7d",
   "metadata": {},
   "source": [
    "## ДП по профилю"
   ]
  },
  {
   "cell_type": "code",
   "execution_count": null,
   "id": "d942248f-3372-41c2-95a6-949876b348ef",
   "metadata": {},
   "outputs": [],
   "source": []
  },
  {
   "cell_type": "code",
   "execution_count": null,
   "id": "19e7e792-2f6a-4616-95dd-6fbabae80d69",
   "metadata": {},
   "outputs": [],
   "source": []
  },
  {
   "cell_type": "code",
   "execution_count": null,
   "id": "12883347-91fb-4399-8532-47e1880de841",
   "metadata": {},
   "outputs": [],
   "source": []
  }
 ],
 "metadata": {
  "kernelspec": {
   "display_name": "C++14",
   "language": "C++14",
   "name": "xcpp14"
  },
  "language_info": {
   "codemirror_mode": "text/x-c++src",
   "file_extension": ".cpp",
   "mimetype": "text/x-c++src",
   "name": "c++",
   "version": "14"
  }
 },
 "nbformat": 4,
 "nbformat_minor": 5
}
