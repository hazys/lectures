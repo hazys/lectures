{
 "cells": [
  {
   "cell_type": "markdown",
   "id": "7c9eee7d-88e5-4771-befc-9850a6fe1335",
   "metadata": {},
   "source": [
    "# Структуры данных"
   ]
  },
  {
   "cell_type": "markdown",
   "id": "d6b010df-7a4c-455a-b3ba-331a6aef8d6a",
   "metadata": {},
   "source": [
    "## Массив"
   ]
  },
  {
   "cell_type": "markdown",
   "id": "47adbda1-d654-42fc-ab4a-1ae8aadc49a7",
   "metadata": {},
   "source": [
    "операции:\n",
    "* получать элемент (get)"
   ]
  },
  {
   "cell_type": "markdown",
   "id": "aab69b39-bd29-422b-8487-daffaab4fdd3",
   "metadata": {},
   "source": [
    "возможная сложность:"
   ]
  },
  {
   "cell_type": "markdown",
   "id": "a4f714e6-e97c-456f-b0c3-732bb9e88fd6",
   "metadata": {},
   "source": [
    "* get - O(1)\n",
    "* put - O(1)"
   ]
  },
  {
   "cell_type": "markdown",
   "id": "ca9833ad-07f8-4d05-8108-1b7517e4bf86",
   "metadata": {},
   "source": [
    "## Динамические массивы"
   ]
  },
  {
   "cell_type": "markdown",
   "id": "3f6e008f-c64e-44db-861e-cee4439c47fc",
   "metadata": {},
   "source": [
    "операции:\n",
    "* add\n",
    "* get\n",
    "* put\n",
    "* resize"
   ]
  },
  {
   "cell_type": "markdown",
   "id": "a6f65cf8-e626-4ac7-b5b9-35a1428d0193",
   "metadata": {},
   "source": [
    "Возможная сложность:\n",
    "* add O(1)\n",
    "* get O(1)"
   ]
  },
  {
   "cell_type": "markdown",
   "id": "01c93e85-ccc5-4031-822b-9369c38b7c2e",
   "metadata": {},
   "source": [
    "## Амартизационный анализ"
   ]
  },
  {
   "cell_type": "markdown",
   "id": "dc8d50d5-4dfa-4971-a4eb-5f4160f3df7a",
   "metadata": {},
   "source": [
    "Виды анализа:\n",
    "* на пальцах\n",
    "* бухгалтерский анализ\n",
    "* метод потенциалов"
   ]
  },
  {
   "cell_type": "markdown",
   "id": "11143812-6523-469c-9dba-f00ee6901f25",
   "metadata": {},
   "source": [
    "## Корнеквадратичная декомпозиция"
   ]
  },
  {
   "cell_type": "markdown",
   "id": "561ec5d0-0a9e-4428-94e2-314ee5ebddc1",
   "metadata": {},
   "source": [
    "Возможные операции:\n",
    "* action() O(sqrt(n))  (add | ++)\n",
    "* get() O(sqrt(n))"
   ]
  },
  {
   "cell_type": "markdown",
   "id": "b915e51b-8da5-41ad-99eb-a969b7c0a081",
   "metadata": {},
   "source": [
    "Для некоторого запроса l .. r уметь находить action()"
   ]
  },
  {
   "cell_type": "markdown",
   "id": "beadd29a-db46-4259-9d33-2098a7ffc69e",
   "metadata": {},
   "source": [
    "Разложить массив в 2 по корню квадратному"
   ]
  },
  {
   "cell_type": "markdown",
   "id": "9f1116bd-a286-47ea-b1bf-cdc0f2c187da",
   "metadata": {},
   "source": [
    "## Список"
   ]
  },
  {
   "cell_type": "markdown",
   "id": "a6c51e10-cb4f-4cff-91f1-ebca9c5dbcdd",
   "metadata": {},
   "source": [
    "Просто соединение списков"
   ]
  },
  {
   "cell_type": "markdown",
   "id": "a7d5c752-4d6f-47d3-969b-2a6107850163",
   "metadata": {},
   "source": [
    "Возможная сложность:\n",
    "* add O(1)\n",
    "* get O(n)\n",
    "* delete O(1)"
   ]
  },
  {
   "cell_type": "markdown",
   "id": "b8229166-87e0-4a18-ba97-7ad3edfdbf25",
   "metadata": {},
   "source": [
    "Разновидности:\n",
    "* двусвязный\n",
    "* многосвязный\n",
    "* зацикленные"
   ]
  },
  {
   "cell_type": "markdown",
   "id": "1af5bef9-d073-4d7a-9b52-66c69b82c51a",
   "metadata": {},
   "source": [
    "## Сравнение массива и списка"
   ]
  },
  {
   "cell_type": "markdown",
   "id": "9ea4cf5e-5c91-46df-8e8d-1f144ecad235",
   "metadata": {},
   "source": [
    "## Кучи"
   ]
  },
  {
   "cell_type": "markdown",
   "id": "a5233752-3335-4b5e-a8c7-1729dddcbf2e",
   "metadata": {},
   "source": [
    "Операции:\n",
    "* add O(log)\n",
    "* getMax O(log)\n",
    "* remove\n",
    "* merge"
   ]
  },
  {
   "cell_type": "markdown",
   "id": "05362c06-62ca-4065-abeb-e66dd5fb32a8",
   "metadata": {},
   "source": [
    "Разновидности:\n",
    "* 2-3 куча\n",
    "* Двуродительская куча\n",
    "* Двоичная куча\n",
    "* Биномиальная куча\n",
    "* Очередь Бродала\n",
    "* Куча с D потомками\n",
    "* Фибоначчиева куча\n",
    "* Куча с приоритетом самого левого\n",
    "* Спаренная куча\n",
    "* Асимметричная куча\n",
    "* Мягкая куча\n",
    "* Тернарная куча\n",
    "* Декартово дерево"
   ]
  },
  {
   "cell_type": "markdown",
   "id": "4b7e6537-b830-4b9e-9ca4-f311955e9aa2",
   "metadata": {},
   "source": [
    "## Строки"
   ]
  },
  {
   "cell_type": "markdown",
   "id": "34a8d3ff-3573-410f-b59c-bff809f5d7c8",
   "metadata": {},
   "source": [
    "Реализация:\n",
    "* на массиве\n",
    "* на списке"
   ]
  },
  {
   "cell_type": "markdown",
   "id": "39e842c0-de81-4d77-9888-6488e4e12b61",
   "metadata": {},
   "source": [
    "Основные операции\n",
    "* get()\n",
    "* insert()\n",
    "* remove()"
   ]
  },
  {
   "cell_type": "markdown",
   "id": "807baaec-f67f-42f3-9922-e4727d2124e5",
   "metadata": {},
   "source": [
    "## Стек"
   ]
  },
  {
   "cell_type": "markdown",
   "id": "1c3fd92b-180d-4bee-957c-9cd8b910f834",
   "metadata": {},
   "source": [
    "FIFO"
   ]
  },
  {
   "cell_type": "markdown",
   "id": "5015d6b3-febb-4a84-a1c2-71180a33b7c5",
   "metadata": {},
   "source": [
    "Базовые операции:\n",
    "* push O(1)\n",
    "* pop O(1)"
   ]
  },
  {
   "cell_type": "markdown",
   "id": "f4df26b9-a478-4360-a316-d2ab2bd45768",
   "metadata": {},
   "source": [
    "Реализация:\n",
    "* массив\n",
    "* список"
   ]
  },
  {
   "cell_type": "markdown",
   "id": "5bdb55cc-3e4f-4f72-91b7-da7b2bc72ff5",
   "metadata": {},
   "source": [
    "## Очередь"
   ]
  },
  {
   "cell_type": "markdown",
   "id": "d085acf2-0fe8-4f31-9913-6e5fa65aeae5",
   "metadata": {},
   "source": [
    "Базовые операции:\n",
    "* enqueue\n",
    "* dequeue"
   ]
  },
  {
   "cell_type": "markdown",
   "id": "c606e2a4-dd6a-47a2-8850-82abb2490427",
   "metadata": {},
   "source": [
    "Виды:\n",
    "* на массиве (2 указателя)\n",
    "* зацикленный\n",
    "* 2 стека\n",
    "* на списке"
   ]
  },
  {
   "cell_type": "markdown",
   "id": "1866aaeb-2393-4705-8c76-ac6a3bcbe8b5",
   "metadata": {},
   "source": [
    "## Дек"
   ]
  },
  {
   "cell_type": "markdown",
   "id": "9b9f2409-f08e-4823-829f-8605f2dfd351",
   "metadata": {},
   "source": [
    "Очередь и стек в одном флаконе."
   ]
  },
  {
   "cell_type": "markdown",
   "id": "51580da2-607d-4a41-9f65-93ffc2fe1d05",
   "metadata": {},
   "source": [
    "# Очередь с приоритетом"
   ]
  },
  {
   "cell_type": "markdown",
   "id": "a215b5de-b0c4-4edc-9b33-2e1a4840ec8f",
   "metadata": {},
   "source": [
    "Операции:\n",
    "* insert\n",
    "* extract_minimum / extract_maximum"
   ]
  },
  {
   "cell_type": "markdown",
   "id": "ff59e3a4-412b-4a55-883d-997921f2855e",
   "metadata": {},
   "source": [
    "Реализация:\n",
    "* кучи\n",
    "* экзотика"
   ]
  },
  {
   "cell_type": "markdown",
   "id": "5c53dd51-afbe-4172-8ddb-9fe741c8bd44",
   "metadata": {
    "tags": []
   },
   "source": [
    "## Деревья"
   ]
  },
  {
   "cell_type": "markdown",
   "id": "81099fa2-15be-4638-b6cf-02413f4240b3",
   "metadata": {},
   "source": [
    "Операции:\n",
    "* вставка \n",
    "* поиск\n",
    "* особые операции\n",
    "..."
   ]
  },
  {
   "cell_type": "markdown",
   "id": "782c643d-16a6-4d33-a59f-ec1f13c318cd",
   "metadata": {},
   "source": [
    "Виды деревьев:\n",
    "* N-арное дерево;\n",
    "* сбалансированное дерево;\n",
    "* бинарное дерево;\n",
    "* бинарное дерево поиска;\n",
    "* дерево AVL;\n",
    "* красно-чёрное дерево;\n",
    "* 2-3 дерево.\n",
    "..."
   ]
  },
  {
   "cell_type": "markdown",
   "id": "15c429d6-6949-4dc7-b6db-9bce3bbfaf9c",
   "metadata": {},
   "source": [
    "## Хеш-таблица"
   ]
  },
  {
   "cell_type": "markdown",
   "id": "18df291a-0320-4dfe-a929-a562bbdc5a5b",
   "metadata": {},
   "source": [
    "Функция хеширования"
   ]
  },
  {
   "cell_type": "markdown",
   "id": "a3e3294c-5404-4dc8-a109-482f69dcb669",
   "metadata": {},
   "source": [
    "Коллизии"
   ]
  },
  {
   "cell_type": "markdown",
   "id": "e2ee91dc-910d-4eaa-a241-7df418bd9935",
   "metadata": {},
   "source": [
    "Разрешение коллизий"
   ]
  },
  {
   "cell_type": "markdown",
   "id": "df971b3d-5d97-4af1-906b-8bc4c2831c46",
   "metadata": {},
   "source": [
    "## Множество (Set)"
   ]
  },
  {
   "cell_type": "markdown",
   "id": "0799b4a9-8e40-4ae6-b62c-e9de2905361a",
   "metadata": {},
   "source": [
    "Операции:\n",
    "* add\n",
    "* unite\n",
    "* intersect"
   ]
  },
  {
   "cell_type": "markdown",
   "id": "70241162-7cfa-4eaf-add3-8fb85ae617c0",
   "metadata": {},
   "source": [
    "Возможные реализации:\n",
    "* массив\n",
    "* дерево, обычно красно-черное\n",
    "* хеш таблица"
   ]
  },
  {
   "cell_type": "markdown",
   "id": "8af7753c-2e44-4441-8169-712b3a55ec61",
   "metadata": {},
   "source": [
    "## Ассоциативный контейнер (map)"
   ]
  },
  {
   "cell_type": "markdown",
   "id": "433882ab-26fe-49af-9ffb-ca39aef7f02f",
   "metadata": {},
   "source": [
    "ключ - значение"
   ]
  },
  {
   "cell_type": "markdown",
   "id": "a401ac53-b93e-46d8-ba4d-a4dddedc5892",
   "metadata": {},
   "source": [
    "Реализация:\n",
    "* на основе дерева (красно-черного)\n",
    "* на основе хеш-таблицы"
   ]
  },
  {
   "cell_type": "markdown",
   "id": "081a0584-3e7d-4471-9735-6ded569018e8",
   "metadata": {},
   "source": [
    "## Графы"
   ]
  },
  {
   "cell_type": "markdown",
   "id": "06f8f09a-fb5b-4f0e-b94f-de66b6df4c0d",
   "metadata": {},
   "source": [
    "Ребра, вершины."
   ]
  },
  {
   "cell_type": "markdown",
   "id": "f3e2d732-e510-4236-8a56-280af6aa0580",
   "metadata": {},
   "source": [
    "Зранение:\n",
    "* матрица смежности\n",
    "* список смежности"
   ]
  },
  {
   "cell_type": "markdown",
   "id": "fe9b9983-8cb0-4281-b3b6-0b8ccd96f77b",
   "metadata": {},
   "source": [
    "Задачи на графах:\n",
    "* Задача о максимальном потоке\n",
    "* Задача о паросочетании\n",
    "* Задача о потоке минимальной стоимости\n",
    "* Кратчайшие пути в графах\n",
    "* Обходы графов\n",
    "* Построение остовных деревьев\n",
    "* Раскраски графов\n",
    "* Укладки графов"
   ]
  },
  {
   "cell_type": "markdown",
   "id": "d0ee147d-7e82-42c4-85e9-48a861195f59",
   "metadata": {},
   "source": [
    "## Персистентные структуры данных"
   ]
  },
  {
   "cell_type": "markdown",
   "id": "74ae7a3d-ae45-4457-be4c-36d038fa28b9",
   "metadata": {},
   "source": [
    "Стек"
   ]
  },
  {
   "cell_type": "markdown",
   "id": "f859e5b2-669e-44cd-a257-7699d226d086",
   "metadata": {},
   "source": [
    "Очередь"
   ]
  },
  {
   "cell_type": "markdown",
   "id": "e2986029-1118-49c0-b607-490a7576e47e",
   "metadata": {},
   "source": [
    "Список"
   ]
  }
 ],
 "metadata": {
  "kernelspec": {
   "display_name": "C++14",
   "language": "C++14",
   "name": "xcpp14"
  },
  "language_info": {
   "codemirror_mode": "text/x-c++src",
   "file_extension": ".cpp",
   "mimetype": "text/x-c++src",
   "name": "c++",
   "version": "14"
  }
 },
 "nbformat": 4,
 "nbformat_minor": 5
}
