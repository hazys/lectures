{
 "cells": [
  {
   "cell_type": "markdown",
   "id": "a7c9ec6a-672a-4679-927d-b1eaea7fc6f3",
   "metadata": {},
   "source": [
    "# Разновидности куч"
   ]
  },
  {
   "cell_type": "markdown",
   "id": "4ecd221e-83e4-4aac-81df-d8fc6b6fb46c",
   "metadata": {},
   "source": [
    "Для куч свойственны основные операции:\n",
    "* add\n",
    "* getMax\n",
    "* remove"
   ]
  },
  {
   "cell_type": "markdown",
   "id": "7ceb776e-1251-45da-a5d4-03ec8f46dc21",
   "metadata": {},
   "source": [
    "Но зачастую возникает необходимость иметь дополнительные операции. Например операции быстрого объединения двух куч, поэтому существует такое большое количество их разновидностей."
   ]
  },
  {
   "cell_type": "markdown",
   "id": "fe92c3a6-f168-46af-aeae-ad5078eb89f9",
   "metadata": {},
   "source": [
    "### Эйлеров обход"
   ]
  },
  {
   "cell_type": "markdown",
   "id": "fa2dce4e-b8f5-4184-aee1-855818f63ecb",
   "metadata": {},
   "source": [
    "Виды обхода:\n",
    "* рекурсивный\n",
    "* циклический"
   ]
  },
  {
   "cell_type": "markdown",
   "id": "2e7fe13d-9630-4fc0-8bb0-630548a60f13",
   "metadata": {},
   "source": [
    "Замена рекурсии на цикл. На примере деструктора."
   ]
  },
  {
   "cell_type": "markdown",
   "id": "0db58078-39ce-4b5f-81d9-bd1e0a188697",
   "metadata": {},
   "source": [
    "## Бинарная куча (дерево)"
   ]
  },
  {
   "cell_type": "code",
   "execution_count": null,
   "id": "9c1f5b1b-fb43-4022-9e89-0e2f534d048e",
   "metadata": {},
   "outputs": [],
   "source": []
  },
  {
   "cell_type": "code",
   "execution_count": null,
   "id": "eff72f52-f938-4ede-8ba8-2a2b711d3abb",
   "metadata": {},
   "outputs": [],
   "source": []
  },
  {
   "cell_type": "code",
   "execution_count": null,
   "id": "dc2e2a60-7a1e-4fb5-a122-7b97a6944e37",
   "metadata": {},
   "outputs": [],
   "source": []
  },
  {
   "cell_type": "code",
   "execution_count": null,
   "id": "50028d20-f032-466a-931b-7ddcc145e819",
   "metadata": {},
   "outputs": [],
   "source": []
  },
  {
   "cell_type": "markdown",
   "id": "783c2a24-b6e5-4cdb-a2ea-22628cae0fb0",
   "metadata": {
    "tags": []
   },
   "source": [
    "## Биноминальная куча (Binomial Heap)"
   ]
  },
  {
   "cell_type": "markdown",
   "id": "ec214038-4456-442b-95c8-d68c10972afa",
   "metadata": {},
   "source": [
    "Описание узла"
   ]
  },
  {
   "cell_type": "code",
   "execution_count": 1,
   "id": "3e52fb60-3bac-4b52-9fdd-0506c3ec8100",
   "metadata": {},
   "outputs": [],
   "source": [
    "template <typename T>\n",
    "struct BinomialNode\n",
    "{\n",
    "    float key;\n",
    "    int degree;\n",
    "    BinomialNode *child, *sibling, *parent;\n",
    "    T data;\n",
    "};"
   ]
  },
  {
   "cell_type": "markdown",
   "id": "a848c5d7-e244-4a1c-8fa1-d910c3164be9",
   "metadata": {},
   "source": [
    "Интерфейс кучи"
   ]
  },
  {
   "cell_type": "code",
   "execution_count": 2,
   "id": "258f36c8-3cc4-489c-9e71-b347ea8d6a24",
   "metadata": {},
   "outputs": [],
   "source": [
    "template <typename T>\n",
    "class BinomialHeap {\n",
    "public:\n",
    "    BinomialNode<T> root;\n",
    "    T invalid;\n",
    "\n",
    "    BinomialHeap(T invalidValue);\n",
    "    virtual ~BinomialHeap();\n",
    "\n",
    "    void insert(T data, float key = 0.0);\n",
    "    T getMinimum(T data);\n",
    "    T extractMin();\n",
    "    void merge(BinomialHeap<T>* heap);\n",
    "\n",
    "    void decreaseKey(BinomialNode<T>* node, float key);\n",
    "    void remove(BinomialNode<T>* node);\n",
    "    };"
   ]
  },
  {
   "cell_type": "markdown",
   "id": "1598d503-a90e-45ae-bd5e-9b41fcc8906a",
   "metadata": {},
   "source": [
    "Создание нового узла"
   ]
  },
  {
   "cell_type": "code",
   "execution_count": 3,
   "id": "37e99423-c55f-45c1-b90c-37daf8e6b316",
   "metadata": {},
   "outputs": [],
   "source": [
    "template <typename T>\n",
    "BinomialNode<T>* newNode(){\n",
    "    auto result = new BinomialNode<T>;\n",
    "    result->sibling = nullptr;\n",
    "    result->child = nullptr;\n",
    "    result->parent = nullptr;\n",
    "    result->degree = 1;\n",
    "    result->key = 0.0;\n",
    "    return result;\n",
    "}"
   ]
  },
  {
   "cell_type": "markdown",
   "id": "7983a249-eff4-4c3f-97c5-64542fa1925c",
   "metadata": {},
   "source": [
    "Разновидность создания"
   ]
  },
  {
   "cell_type": "code",
   "execution_count": 4,
   "id": "e9bbb388-c26e-48d8-b82c-65dd6df53c73",
   "metadata": {},
   "outputs": [],
   "source": [
    "template <typename T>\n",
    "BinomialNode<T>* newNodeInit(T data, float key = 0.0){\n",
    "    BinomialNode<T>* result = newNode<T>();\n",
    "    result->data = data;\n",
    "    result->key = key;\n",
    "    return result;\n",
    "}"
   ]
  },
  {
   "cell_type": "markdown",
   "id": "127e674b-7f7c-4824-8418-94ce8b9ead3c",
   "metadata": {},
   "source": [
    "Слияние куч"
   ]
  },
  {
   "cell_type": "code",
   "execution_count": 5,
   "id": "a54613e1-8afb-4431-8981-fd56b91eb4d8",
   "metadata": {},
   "outputs": [],
   "source": [
    "template <typename T>\n",
    "BinomialNode<T>* mergeBinomialHeaps(BinomialNode<T>* H1Root, BinomialNode<T>* H2Root)  {\n",
    "    if (H1Root == nullptr)\n",
    "        return H2Root;\n",
    "    if (H2Root == nullptr)\n",
    "        return H1Root;\n",
    "\n",
    "    BinomialNode<T> result;\n",
    "    BinomialNode<T>* curRes = &result;\n",
    "    BinomialNode<T>* curH1 = H1Root;\n",
    "    BinomialNode<T>* curH2 = H2Root;\n",
    "\n",
    "    // вставка неповторяющихся куч\n",
    "    while ((curH1 != nullptr) && (curH2 != nullptr))\n",
    "        if (curH1->degree > curH2->degree) {\n",
    "            curRes->sibling = curH1;\n",
    "            curRes = curH1;\n",
    "            curH1 = curH1->sibling;\n",
    "        } else {\n",
    "            curRes->sibling = curH2;\n",
    "            curRes = curH2;\n",
    "            curH2 = curH2->sibling;\n",
    "        }\n",
    "\n",
    "    // довставка элементов, когда одна из куч закончилась\n",
    "    if (curH1 == nullptr)\n",
    "        while (curH2 != nullptr) {\n",
    "            curRes->sibling = curH2;\n",
    "            curH2 = curH2->sibling;\n",
    "            curRes = curRes->sibling;\n",
    "        }\n",
    "    else\n",
    "        while (curH1 != nullptr) {\n",
    "            curRes->sibling = curH1;\n",
    "            curH1 = curH1->sibling;\n",
    "            curRes = curRes->sibling;\n",
    "        }\n",
    "\n",
    "    // слияние куч\n",
    "    bool fl = true;\n",
    "    while (fl){\n",
    "        fl = false;\n",
    "        curRes = result.sibling;\n",
    "        while ((curRes != nullptr) && (curRes->sibling != nullptr)) {\n",
    "            if (curRes->degree == curRes->sibling->degree) {\n",
    "                auto h1 = curRes, h2 = curRes->sibling;\n",
    "                auto tmp = h1->child;\n",
    "                auto degree = curRes->degree + curRes->sibling->degree;\n",
    "                fl = true;\n",
    "                h1->child = h2;\n",
    "                h2->parent = h1;\n",
    "                h1->sibling = h2->sibling;\n",
    "                h2->sibling = tmp;\n",
    "                if (h1->key > h2->key) {\n",
    "                    std::swap(h1->data, h2->data);\n",
    "                    std::swap(h1->key, h2->key);\n",
    "                    std::swap(h1->degree, h2->degree);\n",
    "                }\n",
    "                curRes->degree = degree;\n",
    "            } else\n",
    "                curRes = curRes->sibling;\n",
    "        }\n",
    "    }\n",
    "    return result.sibling;\n",
    "}"
   ]
  },
  {
   "cell_type": "markdown",
   "id": "974a3459-5c8f-4092-9db9-b5a68c1bc9da",
   "metadata": {},
   "source": [
    "Извлечение минимума"
   ]
  },
  {
   "cell_type": "code",
   "execution_count": 6,
   "id": "1912cc17-e3cc-48dc-8a17-d41887598103",
   "metadata": {},
   "outputs": [],
   "source": [
    "template <typename T>\n",
    "BinomialNode<T>* extractMin(BinomialNode<T>* root){\n",
    "    if (root == nullptr)\n",
    "        return nullptr;\n",
    "    if (root->child == nullptr)\n",
    "        return nullptr;\n",
    "\n",
    "    float best = root->child->key;\n",
    "\n",
    "    BinomialNode<T>* x = root->child;\n",
    "    BinomialNode<T>* xBefore = nullptr;\n",
    "    BinomialNode<T>* curx = root->child;\n",
    "    BinomialNode<T>* curxBefore = nullptr;\n",
    "    while (curx != nullptr) {\n",
    "        if (curx->key < best) {\n",
    "            best = curx->key;\n",
    "            x = curx;\n",
    "            xBefore = curxBefore;\n",
    "        }\n",
    "        curxBefore = curx;\n",
    "        curx = curx->sibling;\n",
    "    }\n",
    "    if (xBefore == nullptr)\n",
    "        root->child = x->sibling;\n",
    "    else\n",
    "        xBefore->sibling = x->sibling;\n",
    "\n",
    "    BinomialNode<T> temp_heap;\n",
    "\n",
    "    temp_heap.sibling = x->child;\n",
    "\n",
    "    root->child = mergeBinomialHeaps(root->child, temp_heap.sibling);\n",
    "    return x;\n",
    "}"
   ]
  },
  {
   "cell_type": "markdown",
   "id": "80b1f729-eb53-4b86-9d57-68798949b064",
   "metadata": {},
   "source": [
    "Уменьшение ключа"
   ]
  },
  {
   "cell_type": "code",
   "execution_count": 7,
   "id": "8c997a8f-987b-4921-b655-2c075ad17429",
   "metadata": {},
   "outputs": [],
   "source": [
    "template <typename T>\n",
    "void decreaseKey(BinomialNode<T>* root, BinomialNode<T>* x, float key){\n",
    "    if (key > x->key) return;\n",
    "    x->key = key;\n",
    "    auto y = x;\n",
    "    auto z = y->parent;\n",
    "    while ((z != root) and (y->key < z->key)){\n",
    "        std::swap(y->key, z->key);\n",
    "        std::swap(y->data, z->data);\n",
    "        y = z;\n",
    "        z = y->parent;\n",
    "    }\n",
    "}"
   ]
  },
  {
   "cell_type": "markdown",
   "id": "e3db8dc0-7daf-4a46-a0d3-23eff520fdc5",
   "metadata": {},
   "source": [
    "Удаление узла"
   ]
  },
  {
   "cell_type": "code",
   "execution_count": 8,
   "id": "f92aeaee-b762-4269-ad3d-1b41d018feef",
   "metadata": {},
   "outputs": [],
   "source": [
    "template <typename T>\n",
    "void deleteNode(BinomialNode<T>* root, BinomialNode<T>* node){\n",
    "    decreaseKey(root, node, -1);\n",
    "    auto tmp = extractMin(root);\n",
    "    delete tmp;\n",
    "}"
   ]
  },
  {
   "cell_type": "markdown",
   "id": "ef68223f-73db-4a03-a099-f740de3cffc9",
   "metadata": {},
   "source": [
    "Конструктор"
   ]
  },
  {
   "cell_type": "code",
   "execution_count": 9,
   "id": "67a8966c-c37b-42f7-88d0-c064ac64075b",
   "metadata": {},
   "outputs": [],
   "source": [
    "template <typename T>\n",
    "BinomialHeap<T>::BinomialHeap(T invalidValue) {\n",
    "    //root = nullptr;\n",
    "    invalid = invalidValue;\n",
    "    root.child = nullptr;\n",
    "    root.sibling = nullptr;\n",
    "    root.sibling = nullptr;\n",
    "    root.degree = 0;\n",
    "    root.key = 0.0;\n",
    "}"
   ]
  },
  {
   "cell_type": "markdown",
   "id": "ec7dbeb8-72f5-42a8-a060-4f4324a1d43e",
   "metadata": {},
   "source": [
    "Деструктор"
   ]
  },
  {
   "cell_type": "code",
   "execution_count": 10,
   "id": "33cd1c30-3eb9-4125-a020-763f56552df4",
   "metadata": {},
   "outputs": [
    {
     "name": "stderr",
     "output_type": "stream",
     "text": [
      "\u001b[1minput_line_16:3:10: \u001b[0m\u001b[0;1;31merror: \u001b[0m\u001b[1mno member named 'stack' in namespace 'std'\u001b[0m\n",
      "    std::stack<BinomialNode<T>*> stack;\n",
      "\u001b[0;1;32m    ~~~~~^\n",
      "\u001b[0m\u001b[1minput_line_16:3:31: \u001b[0m\u001b[0;1;31merror: \u001b[0m\u001b[1mexpected '(' for function-style cast or type construction\u001b[0m\n",
      "    std::stack<BinomialNode<T>*> stack;\n",
      "\u001b[0;1;32m               ~~~~~~~~~~~~~~~^\n",
      "\u001b[0m\u001b[1minput_line_16:3:32: \u001b[0m\u001b[0;1;31merror: \u001b[0m\u001b[1mexpected expression\u001b[0m\n",
      "    std::stack<BinomialNode<T>*> stack;\n",
      "\u001b[0;1;32m                               ^\n",
      "\u001b[0m\u001b[1minput_line_16:3:34: \u001b[0m\u001b[0;1;31merror: \u001b[0m\u001b[1muse of undeclared identifier 'stack'\u001b[0m\n",
      "    std::stack<BinomialNode<T>*> stack;\n",
      "\u001b[0;1;32m                                 ^\n",
      "\u001b[0m\u001b[1minput_line_16:4:5: \u001b[0m\u001b[0;1;31merror: \u001b[0m\u001b[1muse of undeclared identifier 'stack'\u001b[0m\n",
      "    stack.push(root.child);\n",
      "\u001b[0;1;32m    ^\n",
      "\u001b[0m\u001b[1minput_line_16:6:13: \u001b[0m\u001b[0;1;31merror: \u001b[0m\u001b[1muse of undeclared identifier 'stack'\u001b[0m\n",
      "        if (stack.empty())\n",
      "\u001b[0;1;32m            ^\n",
      "\u001b[0m\u001b[1minput_line_16:8:21: \u001b[0m\u001b[0;1;31merror: \u001b[0m\u001b[1muse of undeclared identifier 'stack'\u001b[0m\n",
      "        auto curr = stack.top(); stack.pop();\n",
      "\u001b[0;1;32m                    ^\n",
      "\u001b[0m\u001b[1minput_line_16:8:34: \u001b[0m\u001b[0;1;31merror: \u001b[0m\u001b[1muse of undeclared identifier 'stack'\u001b[0m\n",
      "        auto curr = stack.top(); stack.pop();\n",
      "\u001b[0;1;32m                                 ^\n",
      "\u001b[0m\u001b[1minput_line_16:10:13: \u001b[0m\u001b[0;1;31merror: \u001b[0m\u001b[1muse of undeclared identifier 'stack'\u001b[0m\n",
      "            stack.push(curr->sibling);\n",
      "\u001b[0;1;32m            ^\n",
      "\u001b[0m\u001b[1minput_line_16:11:13: \u001b[0m\u001b[0;1;31merror: \u001b[0m\u001b[1muse of undeclared identifier 'stack'\u001b[0m\n",
      "            stack.push(curr->child);\n",
      "\u001b[0;1;32m            ^\n",
      "\u001b[0m"
     ]
    },
    {
     "ename": "Interpreter Error",
     "evalue": "",
     "output_type": "error",
     "traceback": [
      "Interpreter Error: "
     ]
    }
   ],
   "source": [
    "template <typename T>\n",
    "BinomialHeap<T>::~BinomialHeap() {\n",
    "    std::stack<BinomialNode<T>*> stack;\n",
    "    stack.push(root.child);\n",
    "\n",
    "    while (true){\n",
    "        if (stack.empty())\n",
    "            break;\n",
    "\n",
    "        auto curr = stack.top(); stack.pop();\n",
    "\n",
    "        if (curr != nullptr){\n",
    "            stack.push(curr->sibling);\n",
    "            stack.push(curr->child);\n",
    "            delete curr;\n",
    "        }\n",
    "    }\n",
    "}"
   ]
  },
  {
   "cell_type": "markdown",
   "id": "170ac0bc-a88a-4604-a886-300c11abc354",
   "metadata": {},
   "source": [
    "Вставка"
   ]
  },
  {
   "cell_type": "code",
   "execution_count": null,
   "id": "48b9c569-7687-46ba-b984-80c162ecfeaf",
   "metadata": {},
   "outputs": [],
   "source": [
    "template <typename T>\n",
    "void BinomialHeap<T>::insert(T data, float key){\n",
    "    auto node = newNodeInit(data, key);\n",
    "    root.child = mergeBinomialHeaps(root.child, node);\n",
    "    root.child->parent = &root;\n",
    "}"
   ]
  },
  {
   "cell_type": "markdown",
   "id": "bba82fc6-77dd-4242-85a0-af37be4775bf",
   "metadata": {},
   "source": [
    "Получение минимума"
   ]
  },
  {
   "cell_type": "code",
   "execution_count": null,
   "id": "0e38e063-3efd-4c83-ba91-a69c1f0c5675",
   "metadata": {},
   "outputs": [],
   "source": [
    "доделать\n",
    "\n",
    "\n",
    "template <typename T>\n",
    "T BinomialHeap<T>::getMinimum(T data)  {\n",
    "    return root.child->data;\n",
    "}"
   ]
  },
  {
   "cell_type": "markdown",
   "id": "60563f0c-cd71-41b7-b48a-7944b76c346d",
   "metadata": {},
   "source": [
    "Извлечение минимума"
   ]
  },
  {
   "cell_type": "code",
   "execution_count": null,
   "id": "27b716ef-ad6a-4cbe-b888-cc7a0492ee63",
   "metadata": {},
   "outputs": [],
   "source": [
    "template <typename T>\n",
    "T BinomialHeap<T>::extractMin() {\n",
    "    auto min = ::extractMin(&root);\n",
    "    if (min != nullptr) {\n",
    "        T data = min->data;\n",
    "        delete min;\n",
    "        return data;\n",
    "    }\n",
    "    return invalid;\n",
    "}"
   ]
  },
  {
   "cell_type": "markdown",
   "id": "0da56a10-6750-40e1-b61e-535edcc94bf6",
   "metadata": {},
   "source": [
    "Слияние"
   ]
  },
  {
   "cell_type": "code",
   "execution_count": null,
   "id": "d7626b48-81bf-417b-af65-d6c613a747ea",
   "metadata": {},
   "outputs": [],
   "source": [
    "template <typename T>\n",
    "void BinomialHeap<T>::merge(BinomialHeap<T>* heap){\n",
    "    root.child = mergeBinomialHeaps(root.child, heap->root.child);\n",
    "}"
   ]
  },
  {
   "cell_type": "markdown",
   "id": "ce81c580-c205-4ef2-bcb6-9f157bfa2b9c",
   "metadata": {},
   "source": [
    "Уменьшение ключа"
   ]
  },
  {
   "cell_type": "code",
   "execution_count": null,
   "id": "0c1612ce-5461-4959-88af-208b539412a3",
   "metadata": {},
   "outputs": [],
   "source": [
    "template <typename T>\n",
    "void BinomialHeap<T>::decreaseKey(BinomialNode<T>* node, float key) {\n",
    "    decreaseKey(&root, key);\n",
    "}"
   ]
  },
  {
   "cell_type": "markdown",
   "id": "8adc6f6a-0ca2-4da4-84ca-a79ef6fadfb0",
   "metadata": {},
   "source": [
    "Удаление"
   ]
  },
  {
   "cell_type": "code",
   "execution_count": null,
   "id": "167b8e53-accb-45db-b035-ec60d96338ea",
   "metadata": {},
   "outputs": [],
   "source": [
    "template <typename T>\n",
    "void BinomialHeap<T>::remove(BinomialNode<T>* node){\n",
    "    deleteNode(&root, node);\n",
    "}"
   ]
  },
  {
   "cell_type": "markdown",
   "id": "3dc80166-39c7-4083-a27e-bc4f86d9b1c9",
   "metadata": {},
   "source": [
    "## Левацкая куча"
   ]
  },
  {
   "cell_type": "code",
   "execution_count": null,
   "id": "e1dcba0e-1dad-40ac-83a7-96f725649f95",
   "metadata": {},
   "outputs": [],
   "source": [
    "template <typename T>\n",
    "struct LeftistNode\n",
    "{\n",
    "    float key;\n",
    "    int dist;\n",
    "    LeftistNode *left, *right, *parent;\n",
    "    T data;\n",
    "};"
   ]
  },
  {
   "cell_type": "code",
   "execution_count": null,
   "id": "a3f678c9-ce11-4758-9ead-cba7b73faaf9",
   "metadata": {},
   "outputs": [],
   "source": [
    "template <typename T>\n",
    "class LeftistHeap {\n",
    "public:\n",
    "    LeftistNode<T>* root;\n",
    "    T invalid;\n",
    "\n",
    "    LeftistHeap(T invalidValue);\n",
    "    virtual ~LeftistHeap();\n",
    "\n",
    "    void merge(LeftistHeap<T>* heap);\n",
    "    void insert(T data, float key);\n",
    "    T getMinimum();\n",
    "    T extractMin();\n",
    "    void decreaseKey(LeftistNode<T>* node, float key = -1);\n",
    "    void remove(LeftistNode<T>* node);\n",
    "\n",
    "};"
   ]
  },
  {
   "cell_type": "code",
   "execution_count": null,
   "id": "cccd36ba-b852-49a3-98a6-e1d774dcf226",
   "metadata": {},
   "outputs": [],
   "source": [
    "template <typename T>\n",
    "int getDist(LeftistNode<T>* node){\n",
    "    if (node == nullptr){\n",
    "        return -1;\n",
    "    }else{\n",
    "        return node->dist;\n",
    "    }\n",
    "}\n"
   ]
  },
  {
   "cell_type": "code",
   "execution_count": null,
   "id": "d3f069fc-6a27-4994-bc30-8808eda9a911",
   "metadata": {},
   "outputs": [],
   "source": [
    "\n",
    "template <typename T>\n",
    "LeftistNode<T>* newLeftistNode(){\n",
    "    auto result = new LeftistNode<T>;\n",
    "    result->left = nullptr;\n",
    "    result->right = nullptr;\n",
    "    result->parent = nullptr;\n",
    "    result->dist = 0;\n",
    "    result->key = 0.0;\n",
    "    return result;\n",
    "}"
   ]
  },
  {
   "cell_type": "code",
   "execution_count": null,
   "id": "e8bd7818-975c-47a7-846e-eae4c4501186",
   "metadata": {},
   "outputs": [],
   "source": [
    "template <typename T>\n",
    "LeftistNode<T>* newLeftistNodeInit(T data, float key = 0.0){\n",
    "    LeftistNode<T>* result = newLeftistNode<T>();\n",
    "    result->data = data;\n",
    "    result->key = key;\n",
    "    return result;\n",
    "}"
   ]
  },
  {
   "cell_type": "code",
   "execution_count": null,
   "id": "b0c9d7e8-7de5-4282-ba8b-b6e9c493f4f1",
   "metadata": {},
   "outputs": [],
   "source": [
    "template <typename T>\n",
    "LeftistNode<T>* merge(LeftistNode<T>* a, LeftistNode<T>* b){\n",
    "    if (a == nullptr)\n",
    "        return b;\n",
    "    if (b == nullptr)\n",
    "        return  a;\n",
    "    if(a->key > b->key)\n",
    "        swap(a, b);\n",
    "\n",
    "    a->right = merge(a->right, b);\n",
    "    a->right->parent = a;\n",
    "\n",
    "    if (a->left == nullptr) {\n",
    "        swap(a->left, a->right);\n",
    "        a->dist = 0; //ToDo\n",
    "    } else if (a->right and a->left and (getDist(a->right) > getDist(a->left))){\n",
    "        swap(a->right, a->left);\n",
    "    }\n",
    "\n",
    "    a->dist = min(getDist(a->right), getDist(a->left) )+ 1;\n",
    "    return a;\n",
    "}"
   ]
  },
  {
   "cell_type": "code",
   "execution_count": null,
   "id": "f22db1ec-5c77-412e-ac88-7ac7d0d5f232",
   "metadata": {},
   "outputs": [],
   "source": [
    "template <typename T>\n",
    "LeftistNode<T>* decreaseKey(LeftistNode<T>* node, LeftistNode<T>* root, float key){\n",
    "    if (key < node->key)\n",
    "        node->key = key;\n",
    "    else\n",
    "        return root;\n",
    "\n",
    "    auto cur = node->parent;\n",
    "    if (cur->left == node)\n",
    "        cur->left = nullptr;\n",
    "    else\n",
    "        cur->right = nullptr;\n",
    "    node->parent = nullptr;\n",
    "    cur->dist = 0;\n",
    "\n",
    "    while (cur != root){\n",
    "        if ((cur->left == nullptr) or (cur->right == nullptr))\n",
    "            cur->dist = 0;\n",
    "        else\n",
    "            cur->dist = min(cur->left->dist, cur->right->dist) + 1;\n",
    "\n",
    "        if (cur->right->dist > cur->left->dist){\n",
    "            auto tmp = cur->right;\n",
    "            cur->right = cur->left;\n",
    "            cur->left = tmp;\n",
    "        }\n",
    "\n",
    "        cur  = cur->parent;\n",
    "    }\n",
    "\n",
    "    //root = merge(root, node->left);\n",
    "    //root = merge(root, node->right);\n",
    "    root = merge(root, node);\n",
    "    return root;\n",
    "}"
   ]
  },
  {
   "cell_type": "code",
   "execution_count": null,
   "id": "be5df6b3-b11b-4dbf-97eb-5a424fff66cc",
   "metadata": {},
   "outputs": [],
   "source": [
    "template <typename T>\n",
    "LeftistHeap<T>::LeftistHeap(T invalidValue) {\n",
    "    root = nullptr;\n",
    "    invalid = invalidValue;\n",
    "}"
   ]
  },
  {
   "cell_type": "code",
   "execution_count": null,
   "id": "769aef6c-4000-4381-ab9e-c6c7bffb30f0",
   "metadata": {},
   "outputs": [],
   "source": [
    "template <typename T>\n",
    "LeftistHeap<T>::~LeftistHeap() {\n",
    "    if(root == nullptr)\n",
    "        return;\n",
    "\n",
    "    std::stack<LeftistNode<T>*> stack;\n",
    "    stack.push(root);\n",
    "\n",
    "    while (!stack.empty()){\n",
    "\n",
    "        auto curr = stack.top(); stack.pop();\n",
    "\n",
    "        if (curr != nullptr){\n",
    "            stack.push(curr->left);\n",
    "            stack.push(curr->right);\n",
    "            delete curr;\n",
    "        }\n",
    "    }\n",
    "\n",
    "}"
   ]
  },
  {
   "cell_type": "code",
   "execution_count": null,
   "id": "90a865d1-3849-4f11-9785-557e36c0c442",
   "metadata": {},
   "outputs": [],
   "source": [
    "template <typename T>\n",
    "void LeftistHeap<T>::merge(LeftistHeap<T>* heap){\n",
    "    root = merge(root, heap->root);\n",
    "}"
   ]
  },
  {
   "cell_type": "code",
   "execution_count": null,
   "id": "add8716b-a700-4af6-bbf5-6eff519460a5",
   "metadata": {},
   "outputs": [],
   "source": [
    "template <typename T>\n",
    "void LeftistHeap<T>::insert(T data, float key){\n",
    "    auto tmp = newLeftistNodeInit<T>(data, key);\n",
    "    root = merge(root, tmp);\n",
    "}\n"
   ]
  },
  {
   "cell_type": "code",
   "execution_count": null,
   "id": "5535f5d4-53c8-4645-8f05-31513781e911",
   "metadata": {},
   "outputs": [],
   "source": [
    "template <typename T>\n",
    "T LeftistHeap<T>::getMinimum(){\n",
    "    if (root != nullptr)\n",
    "        return root->data;\n",
    "    return invalid;\n",
    "}"
   ]
  },
  {
   "cell_type": "code",
   "execution_count": null,
   "id": "567199b3-c498-42e5-8e64-de21792aa5de",
   "metadata": {},
   "outputs": [],
   "source": [
    "template <typename T>\n",
    "T LeftistHeap<T>::extractMin(){\n",
    "    auto best = getMinimum();\n",
    "    if (best != invalid) {\n",
    "        auto tmp = merge(root->left, root->right);\n",
    "        delete root;\n",
    "        root = tmp;\n",
    "        //root = ::merge(root->left, root->right);\n",
    "    }\n",
    "    return best;\n",
    "}"
   ]
  },
  {
   "cell_type": "code",
   "execution_count": null,
   "id": "3830b3f4-6462-480b-b86f-09e3158695d8",
   "metadata": {},
   "outputs": [],
   "source": [
    "template <typename T>\n",
    "void LeftistHeap<T>::decreaseKey(LeftistNode<T>* node, float key){\n",
    "    root = ::decreaseKey(node, root, key);\n",
    "}"
   ]
  },
  {
   "cell_type": "code",
   "execution_count": null,
   "id": "805ae925-2c85-4a26-82d5-ae8bc52dee41",
   "metadata": {},
   "outputs": [],
   "source": [
    "template <typename T>\n",
    "void LeftistHeap<T>::remove(LeftistNode<T>* node){\n",
    "    //node->key = -1; // минус бесконечность.\n",
    "    decreaseKey(node, -1);\n",
    "    auto tmp = merge(root->left, root->right);\n",
    "    delete root;\n",
    "    root = tmp;\n",
    "}\n"
   ]
  },
  {
   "cell_type": "markdown",
   "id": "7f711953-6b53-40dc-9725-ac85c2c20b72",
   "metadata": {},
   "source": [
    "## Косая куча"
   ]
  },
  {
   "cell_type": "code",
   "execution_count": null,
   "id": "b2162941-eea4-47ba-845a-079a44004a8a",
   "metadata": {},
   "outputs": [],
   "source": [
    "template <typename T>\n",
    "struct SkewNode\n",
    "{\n",
    "    float key;\n",
    "    SkewNode *left, *right, *parent;\n",
    "    T data;\n",
    "};"
   ]
  },
  {
   "cell_type": "code",
   "execution_count": null,
   "id": "f2b24404-48ab-489e-aeae-8e1d35d00be6",
   "metadata": {},
   "outputs": [],
   "source": [
    "template<typename T>\n",
    "class SkewHeap {\n",
    "private:\n",
    "    SkewNode<T>* root;\n",
    "    T invalid;\n",
    "public:\n",
    "    SkewHeap(T invalidValue);\n",
    "    virtual ~SkewHeap();\n",
    "\n",
    "    void merge(SkewHeap<T>* heap);\n",
    "    void insert(T data, float key);\n",
    "    T getMinimum();\n",
    "    T extractMin();\n",
    "};"
   ]
  },
  {
   "cell_type": "code",
   "execution_count": null,
   "id": "5a27265e-a1d1-4733-9a58-994fda10f21e",
   "metadata": {},
   "outputs": [],
   "source": [
    "template <typename T>\n",
    "SkewNode<T>* newSkewNode(){\n",
    "    auto result = new SkewNode<T>;\n",
    "    result->left = nullptr;\n",
    "    result->right = nullptr;\n",
    "    result->parent = nullptr;\n",
    "    result->dist = 0;\n",
    "    result->key = 0.0;\n",
    "    return result;\n",
    "}"
   ]
  },
  {
   "cell_type": "code",
   "execution_count": null,
   "id": "9ee0a3c9-cb4f-49fa-93fd-3e053a39a9c2",
   "metadata": {},
   "outputs": [],
   "source": [
    "template <typename T>\n",
    "SkewNode<T>* newSkewNodeInit(T data, float key = 0.0){\n",
    "    SkewNode<T>* result = newSkewNode<T>();\n",
    "    result->data = data;\n",
    "    result->key = key;\n",
    "    return result;\n",
    "}\n"
   ]
  },
  {
   "cell_type": "code",
   "execution_count": null,
   "id": "755058eb-3a1a-420d-b353-40e0ab9a56fa",
   "metadata": {},
   "outputs": [],
   "source": [
    "template<class T>\n",
    "SkewNode<T>* merge(SkewNode<T>* root_1, SkewNode<T>* root_2)\n",
    "{\n",
    "    SkewNode<T>* firstRoot = root_1;\n",
    "    SkewNode<T>* secondRoot = root_2;\n",
    "\n",
    "    if (firstRoot == nullptr)\n",
    "        return secondRoot;\n",
    "\n",
    "    else if (secondRoot == nullptr)\n",
    "        return firstRoot;\n",
    "\n",
    "    if (firstRoot->key < secondRoot->key)\n",
    "    {\n",
    "        SkewNode<T>* tempHeap = firstRoot->right;\n",
    "        firstRoot->right = firstRoot->left;\n",
    "        firstRoot->left = merge(secondRoot, tempHeap);\n",
    "        return firstRoot;\n",
    "    }\n",
    "    else\n",
    "        return merge(secondRoot, firstRoot);\n",
    "}"
   ]
  },
  {
   "cell_type": "code",
   "execution_count": null,
   "id": "792a8148-f25b-4584-bb84-54f8a1772e0b",
   "metadata": {},
   "outputs": [],
   "source": [
    "template<typename T>\n",
    "SkewHeap<T>::SkewHeap(T invalidValue) {\n",
    "    root = nullptr;\n",
    "    invalid = invalidValue;\n",
    "}"
   ]
  },
  {
   "cell_type": "code",
   "execution_count": null,
   "id": "2edcd429-a7fe-4994-af8f-1dde6409e3ab",
   "metadata": {},
   "outputs": [],
   "source": [
    "template<typename T>\n",
    "SkewHeap<T>::~SkewHeap() {\n",
    "    if(root == nullptr)\n",
    "        return;\n",
    "\n",
    "    std::stack<SkewNode<T>*> stack;\n",
    "    stack.push(root);\n",
    "\n",
    "    while (!stack.empty()){\n",
    "\n",
    "        auto curr = stack.top(); stack.pop();\n",
    "\n",
    "        if (curr != nullptr){\n",
    "            stack.push(curr->left);\n",
    "            stack.push(curr->right);\n",
    "            delete curr;\n",
    "        }\n",
    "    }\n",
    "\n",
    "}"
   ]
  },
  {
   "cell_type": "code",
   "execution_count": null,
   "id": "2867307c-f922-4e43-b8ec-1f0b438f49ed",
   "metadata": {},
   "outputs": [],
   "source": [
    "template<typename T>\n",
    "void SkewHeap<T>::merge(SkewHeap<T>* heap){\n",
    "    root = merge(root, heap->root);\n",
    "}"
   ]
  },
  {
   "cell_type": "code",
   "execution_count": null,
   "id": "bd83b7a3-efa7-447b-b7ee-b5d191e7b93e",
   "metadata": {},
   "outputs": [],
   "source": [
    "template<typename T>\n",
    "void SkewHeap<T>::insert(T data, float key){\n",
    "    auto tmp = newSkewNodeInit(data, key);\n",
    "    root = merge(root, tmp);\n",
    "}"
   ]
  },
  {
   "cell_type": "code",
   "execution_count": null,
   "id": "3252a259-894a-4a26-9a82-042f9ad08d6c",
   "metadata": {},
   "outputs": [],
   "source": [
    "template<typename T>\n",
    "T SkewHeap<T>::getMinimum(){\n",
    "    if (root == nullptr)\n",
    "        return invalid;\n",
    "    return root->data;\n",
    "}"
   ]
  },
  {
   "cell_type": "code",
   "execution_count": null,
   "id": "a378ec53-724c-44a0-aa03-8cef85cf64d8",
   "metadata": {},
   "outputs": [],
   "source": [
    "template<typename T>\n",
    "T SkewHeap<T>::extractMin(){\n",
    "    auto data = getMinimum();\n",
    "    if (data == invalid)\n",
    "        return invalid;\n",
    "    auto tmp = merge(root->left, root->right);\n",
    "    delete root;\n",
    "    root = tmp;\n",
    "    return  data;\n",
    "}"
   ]
  },
  {
   "cell_type": "markdown",
   "id": "131febd2-aaa1-4fa7-91b0-86e55fc2ea26",
   "metadata": {},
   "source": [
    "## Фиббоначева куча"
   ]
  },
  {
   "cell_type": "markdown",
   "id": "f744b474-7069-4efa-870d-f4bd41f8f06a",
   "metadata": {},
   "source": [
    "Амортизированная сложность операций:\n",
    "* add O(1)\n",
    "* merge O(1)\n",
    "* getBest O(1)\n",
    "* deleteBest O(logN)\n",
    "* changeKey O(logN)"
   ]
  },
  {
   "cell_type": "code",
   "execution_count": null,
   "id": "8590a244-99d2-4694-bbd7-7c61e6f72141",
   "metadata": {},
   "outputs": [],
   "source": [
    "template <typename DataType, typename KeyType>\n",
    "struct FibonacciNode{\n",
    "    KeyType key;      // ключ\n",
    "    FibonacciNode* parent;  // указатель на родительский узел\n",
    "    FibonacciNode* child;   // указатель на один из дочерних узлов\n",
    "    FibonacciNode* prev;    // указатель на левый узел того же предка\n",
    "    FibonacciNode* next;   // указатель на правый узел того же предка\n",
    "    int degree;   // степень вершины\n",
    "    bool mark; // был ли удален в процессе изменения ключа ребенок этой вершины)\n",
    "    DataType data;\n",
    "    FibonacciNode(){\n",
    "        parent = child = prev = next = nullptr;\n",
    "        degree = 0;\n",
    "        mark = false;\n",
    "    }\n",
    "    FibonacciNode(KeyType Key, DataType Data){\n",
    "        parent = child = prev = next = nullptr;\n",
    "        degree = 0;\n",
    "        mark = false;\n",
    "        key = Key;\n",
    "        data = Data;\n",
    "    }\n",
    "    ~FibonacciNode(){\n",
    "        parent = child = prev = next = nullptr;\n",
    "        degree = 0;\n",
    "        mark = false;\n",
    "    }\n",
    "};\n"
   ]
  },
  {
   "cell_type": "code",
   "execution_count": null,
   "id": "edf5f972-478a-4dbb-bc8d-eea4346c0175",
   "metadata": {},
   "outputs": [],
   "source": [
    "template <typename DataType, typename KeyType, typename Comporator>\n",
    "class FibonacciHeap {\n",
    "private:\n",
    "    void reset();\n",
    "    void uniteRings(FibonacciNode<DataType, KeyType>* mainRing, FibonacciNode<DataType, KeyType>* otherRing);\n",
    "    void consolidate();\n",
    "\n",
    "    void cut(FibonacciNode<DataType, KeyType>* node);\n",
    "    void cascadingCut(FibonacciNode<DataType, KeyType>* node);\n",
    "\n",
    "\n",
    "\n",
    "public:\n",
    "    FibonacciNode<DataType, KeyType>* best;\n",
    "    DataType infinity;\n",
    "    int size;\n",
    "\n",
    "    FibonacciHeap(DataType MinusInfinity);\n",
    "    ~FibonacciHeap();\n",
    "    void merge(FibonacciHeap<DataType, KeyType, Comporator>* heap);\n",
    "    void insert(DataType data, float key);\n",
    "    DataType getBest();\n",
    "    void deleteBest();\n",
    "    void changeKey(FibonacciNode<DataType, KeyType>* node, KeyType key);\n",
    "    void remove(FibonacciNode<DataType, KeyType>* node);\n",
    "};\n"
   ]
  },
  {
   "cell_type": "code",
   "execution_count": null,
   "id": "e37e0401-f696-42d6-9ee4-fb05358c5d85",
   "metadata": {},
   "outputs": [],
   "source": [
    "template <typename DataType, typename KeyType>\n",
    "FibonacciNode<DataType, KeyType>* newFibonacciNode(){\n",
    "    auto res = new FibonacciNode<DataType, KeyType>;\n",
    "    res->parent = res->child = res->prev = res->next = nullptr;\n",
    "    res->degree = 0;\n",
    "    res->mark = false;\n",
    "    return res;\n",
    "}\n"
   ]
  },
  {
   "cell_type": "code",
   "execution_count": null,
   "id": "e425dc9c-26f5-4ab9-b5a0-005805f3c233",
   "metadata": {},
   "outputs": [],
   "source": [
    "template <typename DataType, typename KeyType>\n",
    "FibonacciNode<DataType, KeyType>* initFibonacciNode(DataType Data, KeyType Key){\n",
    "    auto res = newFibonacciNode<DataType, KeyType>();\n",
    "    res->key = Key;\n",
    "    res->data = Data;\n",
    "    return res;\n",
    "}"
   ]
  },
  {
   "cell_type": "code",
   "execution_count": null,
   "id": "99510e73-8a31-4594-9f68-ab4ac655b55d",
   "metadata": {},
   "outputs": [],
   "source": [
    "template <typename DataType, typename KeyType, bool (*Comparator)(DataType a, DataType b)>\n",
    "FibonacciHeap<DataType, KeyType, Comparator>::FibonacciHeap(DataType MinusInfinity){\n",
    "    infinity = MinusInfinity;\n",
    "    best = nullptr;\n",
    "    size = 0;\n",
    "\n",
    "}"
   ]
  },
  {
   "cell_type": "code",
   "execution_count": null,
   "id": "7389856c-1543-4e90-9ec8-edcd947e00b6",
   "metadata": {},
   "outputs": [],
   "source": [
    "template <typename DataType, typename KeyType, bool (*Comparator)(DataType a, DataType b)>\n",
    "FibonacciHeap<DataType, KeyType, Comparator>::~FibonacciHeap(){\n",
    "    if(best == nullptr)\n",
    "        return;\n",
    "\n",
    "    stack<FibonacciNode<DataType, KeyType>*> stack;\n",
    "    stack.push(best);\n",
    "\n",
    "    while (!stack.empty()){\n",
    "        auto curr = stack.top(); stack.pop();\n",
    "        if (curr != nullptr){\n",
    "            if (curr->prev != nullptr)\n",
    "                stack.push(curr->prev);\n",
    "            if (curr->next != nullptr)\n",
    "                stack.push(curr->next);\n",
    "            delete curr;\n",
    "        }\n",
    "    }\n",
    "}\n"
   ]
  },
  {
   "cell_type": "code",
   "execution_count": null,
   "id": "f9e51132-4733-48d8-9b2c-1409203452c3",
   "metadata": {},
   "outputs": [],
   "source": [
    "template <typename DataType, typename KeyType, bool (*Comparator)(DataType a, DataType b)>\n",
    "void FibonacciHeap<DataType, KeyType, Comparator>::insert(DataType data, KeyType key){\n",
    "\n",
    "    FibonacciNode<DataType, KeyType>* node = initFibonacciNode(data, key);\n",
    "    if(size == 0){\n",
    "        best = node;\n",
    "        best->next = best;\n",
    "        best->prev = best;\n",
    "    } else {\n",
    "        auto tmp = best->next;\n",
    "        best->next = node;\n",
    "        node->next = tmp;\n",
    "        if (tmp != nullptr)\n",
    "            tmp->prev = node;\n",
    "        node->prev = best;\n",
    "    }\n",
    "    if (Comparator(node->key, best->key))\n",
    "        best = node;\n",
    "    size++;\n",
    "}"
   ]
  },
  {
   "cell_type": "code",
   "execution_count": null,
   "id": "dc4b3eeb-7d9b-4763-8141-ca0748624e14",
   "metadata": {},
   "outputs": [],
   "source": [
    "template <typename DataType, typename KeyType, bool (*Comparator)(DataType a, DataType b)>\n",
    "DataType FibonacciHeap<DataType, KeyType, Comparator>::getBest() {\n",
    "    if (best == nullptr)\n",
    "        return infinity;\n",
    "    return best->data;\n",
    "}\n"
   ]
  },
  {
   "cell_type": "code",
   "execution_count": null,
   "id": "46f72556-e9f0-4f8c-b69b-ffb892563768",
   "metadata": {},
   "outputs": [],
   "source": [
    "template <typename DataType, typename KeyType, bool (*Comparator)(DataType a, DataType b)>\n",
    "void FibonacciHeap<DataType, KeyType, Comparator>::reset()  {\n",
    "    best = nullptr;\n",
    "    size = 0;\n",
    "}"
   ]
  },
  {
   "cell_type": "code",
   "execution_count": null,
   "id": "3b027f45-4b19-4c96-9ba1-3357898154a3",
   "metadata": {},
   "outputs": [],
   "source": [
    "template <typename DataType, typename KeyType, bool (*Comparator)(DataType a, DataType b)>\n",
    "FibonacciNode<DataType, KeyType>* FibonacciHeap<DataType, KeyType, Comparator>::uniteRings(FibonacciNode<DataType, KeyType>* mainRing, FibonacciNode<DataType, KeyType>* otherRing){\n",
    "    if (otherRing == nullptr)\n",
    "        return mainRing;\n",
    "    if (mainRing == nullptr)\n",
    "        return otherRing;\n",
    "    auto mainEnd = mainRing->prev;\n",
    "    auto otherEnd = otherRing->prev;\n",
    "    mainEnd->next = otherRing;\n",
    "    otherRing->prev = mainEnd;\n",
    "    otherEnd->next = mainRing;\n",
    "    mainRing->prev = otherEnd;\n",
    "    return mainRing;\n",
    "}\n"
   ]
  },
  {
   "cell_type": "code",
   "execution_count": null,
   "id": "b593b08a-34f4-4dc0-8f2b-f74144285d7b",
   "metadata": {},
   "outputs": [],
   "source": [
    "template <typename DataType, typename KeyType, bool (*Comparator)(DataType a, DataType b)>\n",
    "FibonacciNode<DataType, KeyType>* FibonacciHeap<DataType, KeyType, Comparator>::addTree\n",
    "                            (FibonacciNode<DataType, KeyType>* Tree1, FibonacciNode<DataType, KeyType>* Tree2){\n",
    "    if (Tree1 == nullptr)\n",
    "        return Tree2;\n",
    "    if (Tree2 == nullptr)\n",
    "        return Tree1;\n",
    "\n",
    "    FibonacciNode<DataType, KeyType> *main, *other;\n",
    "    if(Comparator(Tree1->key, Tree2->key)){\n",
    "        main = Tree1;\n",
    "        other = Tree2;\n",
    "    } else {\n",
    "        main = Tree2;\n",
    "        other = Tree1;\n",
    "    }\n",
    "\n",
    "    auto prev = other->prev;\n",
    "    auto next = other->next;\n",
    "\n",
    "    prev->next = next;\n",
    "    next->prev = prev;\n",
    "\n",
    "    other->parent = main;\n",
    "    if (main->child != nullptr){\n",
    "        auto tmp = main->child->next;\n",
    "        main->child->next = other;\n",
    "        other->next = tmp;\n",
    "        tmp->prev = other;\n",
    "        other->prev = main->child;\n",
    "    } else {\n",
    "        main->child = other;\n",
    "        other->next = other;\n",
    "        other->prev = other;\n",
    "    }\n",
    "    main->degree++;\n",
    "    return main;\n",
    "}"
   ]
  },
  {
   "cell_type": "code",
   "execution_count": null,
   "id": "631ca863-c709-4488-943b-9b388eef97af",
   "metadata": {},
   "outputs": [],
   "source": [
    "template <typename DataType, typename KeyType, bool (*Comparator)(DataType a, DataType b)>\n",
    "void FibonacciHeap<DataType, KeyType, Comparator>::merge(FibonacciHeap<DataType, KeyType, Comparator>* heap){\n",
    "    if (heap->size == 0)\n",
    "        return;\n",
    "    if (size == 0){\n",
    "        best = heap->best;\n",
    "        size = heap->size;\n",
    "    } else {\n",
    "        if (Comporator(heap->best->key, best->key))\n",
    "            best = heap->best;\n",
    "        best = uniteRings(best, heap->best);\n",
    "        size += heap->size;\n",
    "        heap->reset();\n",
    "    }\n",
    "}"
   ]
  },
  {
   "cell_type": "code",
   "execution_count": null,
   "id": "81a21607-60dc-4203-9692-b11cec5e288d",
   "metadata": {},
   "outputs": [],
   "source": [
    "template <typename DataType, typename KeyType, bool (*Comparator)(DataType a, DataType b)>\n",
    "void FibonacciHeap<DataType, KeyType, Comparator>::consolidate(){\n",
    "    FibonacciNode<DataType, KeyType>* map[65] = {nullptr};\n",
    "    map[best->degree] = best;\n",
    "    auto cur = best->next;\n",
    "    while (cur != map[cur->degree]){ //???\n",
    "        if(!map[cur->degree]){\n",
    "            map[cur->degree] = cur;\n",
    "            cur = cur->next;\n",
    "        }else{\n",
    "            auto degree = cur->degree;\n",
    "            auto conflict = map[degree];\n",
    "            FibonacciNode<DataType, KeyType> *main, *other;\n",
    "            cur = addTree(conflict, cur);\n",
    "            map[degree] = nullptr;\n",
    "        }\n",
    "        if(Comparator(cur->key, best->key))\n",
    "            best = cur;\n",
    "    }\n",
    "}"
   ]
  },
  {
   "cell_type": "code",
   "execution_count": null,
   "id": "3958492b-b172-458d-9f45-670c030f6f2b",
   "metadata": {},
   "outputs": [],
   "source": [
    "template <typename DataType, typename KeyType, bool (*Comparator)(DataType a, DataType b)>\n",
    "void FibonacciHeap<DataType, KeyType, Comparator>::deleteBest(){\n",
    "    if (best == nullptr)\n",
    "        return;\n",
    "    auto tmpBest = best;\n",
    "    best = uniteRings(best, best->child);\n",
    "    if (size == 1) {\n",
    "        delete best;\n",
    "        best = nullptr;\n",
    "        size = 0;\n",
    "        return;\n",
    "    }\n",
    "    auto prev = best->prev;\n",
    "    auto next = best->next;\n",
    "    prev->next = next;\n",
    "    next->prev = prev;\n",
    "\n",
    "    best = best->next;\n",
    "    consolidate();\n",
    "\n",
    "    delete tmpBest;\n",
    "    size--;\n",
    "}"
   ]
  },
  {
   "cell_type": "code",
   "execution_count": null,
   "id": "e42e23dc-d62f-4d67-bf09-7c47df1bdc8f",
   "metadata": {},
   "outputs": [],
   "source": [
    "template <typename DataType, typename KeyType, bool (*Comparator)(DataType a, DataType b)>\n",
    "DataType FibonacciHeap<DataType, KeyType, Comparator>::extractBest(){\n",
    "    auto result = getBest();\n",
    "    deleteBest();\n",
    "    return result;\n",
    "}"
   ]
  },
  {
   "cell_type": "code",
   "execution_count": null,
   "id": "97b81c2b-8925-4208-92e1-a5e170ceef35",
   "metadata": {},
   "outputs": [],
   "source": [
    "template <typename DataType, typename KeyType, bool (*Comparator)(DataType a, DataType b)>\n",
    "void FibonacciHeap<DataType, KeyType, Comparator>::cut(FibonacciNode<DataType, KeyType>* node){\n",
    "    auto prev = node->prev;\n",
    "    auto next = node->next;\n",
    "    next->prev = prev;\n",
    "    prev->next = next;\n",
    "    node->parent->degree--;\n",
    "    if (node->parent->child == node)\n",
    "        if (node->next == node)\n",
    "            node->parent->child = nullptr;\n",
    "        else\n",
    "            node->parent->child = node->next;\n",
    "    node->next = node;\n",
    "    node->prev = node;\n",
    "    node->parent = nullptr;\n",
    "    best = uniteRings(best, node);\n",
    "\n",
    "}\n"
   ]
  },
  {
   "cell_type": "code",
   "execution_count": null,
   "id": "fb4f7031-1d41-42f9-8e23-856862b324a6",
   "metadata": {},
   "outputs": [],
   "source": [
    "template <typename DataType, typename KeyType, bool (*Comparator)(DataType a, DataType b)>\n",
    "void FibonacciHeap<DataType, KeyType, Comparator>::cascadingCut(FibonacciNode<DataType, KeyType>* node){\n",
    "    while(node->mark){\n",
    "        cut(node);\n",
    "        node = node->parent;\n",
    "    }\n",
    "    node->mark = true;\n",
    "}"
   ]
  },
  {
   "cell_type": "code",
   "execution_count": null,
   "id": "39f44b71-6da7-4ca9-9644-e2644762330a",
   "metadata": {},
   "outputs": [],
   "source": [
    "template <typename DataType, typename KeyType, bool (*Comparator)(DataType a, DataType b)>\n",
    "void FibonacciHeap<DataType, KeyType, Comparator>::changeKey(FibonacciNode<DataType, KeyType>* node, KeyType key){\n",
    "    if (Comparator(node->parent->key, key)){\n",
    "        node->key = key;\n",
    "        return;\n",
    "    }\n",
    "    auto parent = node->parent;\n",
    "    cut(node);\n",
    "    cascadingCut(parent);\n",
    "}"
   ]
  },
  {
   "cell_type": "code",
   "execution_count": null,
   "id": "4959076c-12fa-4cd5-9a42-682d5aabcea4",
   "metadata": {},
   "outputs": [],
   "source": [
    "template <typename DataType, typename KeyType, bool (*Comparator)(DataType a, DataType b)>\n",
    "void FibonacciHeap<DataType, KeyType, Comparator>::remove(FibonacciNode<DataType, KeyType>* node){\n",
    "    changeKey(node, infinity);\n",
    "    deleteBest();\n",
    "}"
   ]
  },
  {
   "cell_type": "code",
   "execution_count": null,
   "id": "f8eebc58-131c-41a0-ab15-80149bc99159",
   "metadata": {},
   "outputs": [],
   "source": []
  },
  {
   "cell_type": "code",
   "execution_count": null,
   "id": "224c1914-e822-4fae-9007-24dee6c6a457",
   "metadata": {},
   "outputs": [],
   "source": []
  },
  {
   "cell_type": "code",
   "execution_count": null,
   "id": "934be698-477d-4b8c-8efe-583125fefb90",
   "metadata": {},
   "outputs": [],
   "source": []
  },
  {
   "cell_type": "code",
   "execution_count": null,
   "id": "91f62f27-d060-4e7b-a2f0-d6fc0b8e34e4",
   "metadata": {},
   "outputs": [],
   "source": []
  },
  {
   "cell_type": "code",
   "execution_count": null,
   "id": "4799d7ae-0675-4b11-92b2-97e8c27ca9ee",
   "metadata": {},
   "outputs": [],
   "source": []
  },
  {
   "cell_type": "markdown",
   "id": "a8011e7b-f415-4789-8b81-bf580fcba983",
   "metadata": {},
   "source": [
    "## Толстая куча"
   ]
  },
  {
   "cell_type": "markdown",
   "id": "e9a30b5c-ddc7-4cb9-8e37-b9570665a887",
   "metadata": {},
   "source": [
    "## Тонкая куча"
   ]
  },
  {
   "cell_type": "markdown",
   "id": "b1511163-3d34-439a-a4a3-755e32571c45",
   "metadata": {},
   "source": [
    "## Толстая куча на избыточном счетчике"
   ]
  },
  {
   "cell_type": "markdown",
   "id": "8da10554-482f-4a69-baee-913b6d7a0fd8",
   "metadata": {},
   "source": [
    "## Куча Бродала-Окасаки"
   ]
  },
  {
   "cell_type": "code",
   "execution_count": null,
   "id": "e3989e71-98f5-4ee4-b8e7-315a4b7ea9d3",
   "metadata": {},
   "outputs": [],
   "source": []
  }
 ],
 "metadata": {
  "kernelspec": {
   "display_name": "C++14",
   "language": "C++14",
   "name": "xcpp14"
  },
  "language_info": {
   "codemirror_mode": "text/x-c++src",
   "file_extension": ".cpp",
   "mimetype": "text/x-c++src",
   "name": "c++",
   "version": "14"
  }
 },
 "nbformat": 4,
 "nbformat_minor": 5
}
