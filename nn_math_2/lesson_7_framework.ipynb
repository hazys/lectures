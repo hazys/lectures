{
 "cells": [
  {
   "cell_type": "markdown",
   "id": "23cebf1a-718e-4201-bbae-a192219eb4db",
   "metadata": {},
   "source": [
    "# Нейронные сети. Понятно. Детально."
   ]
  },
  {
   "cell_type": "markdown",
   "id": "c05dba51-8947-41b0-b519-280d91cdfd38",
   "metadata": {
    "tags": []
   },
   "source": [
    "## Раздел 7. Разработка фреймворка глубокого обучения."
   ]
  },
  {
   "cell_type": "markdown",
   "id": "4507227e-3047-4ff7-b1c9-8b393549bfb3",
   "metadata": {},
   "source": [
    "<h1>Разработка фреймворка глубокого обучения</h1>"
   ]
  },
  {
   "cell_type": "markdown",
   "id": "bd88ffdf-b892-4dbd-bbc6-31c7582e5379",
   "metadata": {},
   "source": [
    "В качестве иллюстрации всех описанных идей разработаем фреймворк машинного обучения подобный PyTorch."
   ]
  },
  {
   "cell_type": "markdown",
   "id": "541f96fc-559a-4a50-8f28-cba2dc8f10e3",
   "metadata": {},
   "source": [
    "<h2> Архитектура </h2>"
   ]
  },
  {
   "cell_type": "markdown",
   "id": "8502d2ff-84b2-4807-bb2b-3ef60b72c9c9",
   "metadata": {},
   "source": [
    "В данном проекте будет 4 основных вида объектов:\n",
    "* тензор - основной класс фреймворка, отвечает за всю основную обработку\n",
    "* операции - классы отвечающие за конкреиные реализации операций\n",
    "* функции - функции, которые дают интерфейс для доступа к некоторым операциям в виде функций, а не методов класса\n",
    "* модели - слои нейронных сетей и другие модели необходимые для фреймворка"
   ]
  },
  {
   "cell_type": "markdown",
   "id": "d1e1d020-7410-4b47-a36a-ebc016e99e69",
   "metadata": {},
   "source": [
    "Данный фремворк написан в учебных целях и как демонстрация математических принципов лежащих в основе работы нейронных сетей, поэтому в нем используется малое уоличество приемов оптимизации и численных алгоритмов."
   ]
  },
  {
   "cell_type": "markdown",
   "id": "14cbf32e-a242-4d96-a743-a29c35aff248",
   "metadata": {},
   "source": [
    "<h2>Тензор</h2>"
   ]
  },
  {
   "cell_type": "markdown",
   "id": "06b9c132-ec22-48c9-bb0a-e1fe8c9cb038",
   "metadata": {},
   "source": [
    "Начнем рассмотрение данного фреймворка с онсновного класса тензора."
   ]
  },
  {
   "cell_type": "markdown",
   "id": "0872116a-4c8b-41ae-a0ca-d541d10271e5",
   "metadata": {},
   "source": [
    "Для корректной работы необходимо подкоючить следующие заголовочные файлы:"
   ]
  },
  {
   "cell_type": "code",
   "execution_count": 1,
   "id": "f60e124d-e44e-49d0-a930-9c4e8ba13512",
   "metadata": {},
   "outputs": [],
   "source": [
    "import numpy as np"
   ]
  },
  {
   "cell_type": "markdown",
   "id": "54c21b19-158b-4836-a518-d8128605663b",
   "metadata": {},
   "source": [
    "Конструктор класса имеет следующий вид:"
   ]
  },
  {
   "cell_type": "code",
   "execution_count": 2,
   "id": "6f69160f-4d7c-4a83-8b3c-b80c222e8f1f",
   "metadata": {},
   "outputs": [],
   "source": [
    "class Tensor:\n",
    "\n",
    "    def __init__(self, data, calc_grad=False):\n",
    "        self._data = np.array(data)\n",
    "\n",
    "        self._old_shape = None\n",
    "        if self._data.ndim == 0:\n",
    "            self._old_shape = self._data.shape\n",
    "            self._data = self._data[None, None]\n",
    "        elif self._data.ndim == 1:\n",
    "            self._old_shape = self._data.shape\n",
    "            self._data = self._data[..., None]\n",
    "\n",
    "        self._calc_grad = calc_grad\n",
    "        self._operation = operations.VariableOperation(self)\n",
    "        self._grad = None"
   ]
  },
  {
   "cell_type": "markdown",
   "id": "f8b7d171-7380-4276-be27-d6e175406fa1",
   "metadata": {},
   "source": [
    "Класс Tensor содержит слелующие основные поля:\n",
    "* _data - данные хранимые в виде numpy array\n",
    "* _calc_grad - переменная, показывающая необходимость расчета градиента\n",
    "* _operation - операция, пораждающая данный тензор\n",
    "* _grad - градиент рассчитанный для данного тензора (если такой расчет производился)"
   ]
  },
  {
   "cell_type": "code",
   "execution_count": 3,
   "id": "736ba275-8ece-4f2b-bdd2-a2ccd8328b6a",
   "metadata": {},
   "outputs": [],
   "source": [
    "class Tensor:\n",
    "\n",
    "\n",
    "    @property\n",
    "    def data(self):\n",
    "        if self._old_shape is not None:\n",
    "            return self._data.reshape(self._old_shape)\n",
    "        else:\n",
    "            return self._data\n",
    "\n",
    "    \n",
    "    @property\n",
    "    def matrix(self):\n",
    "        return self._data\n",
    "\n",
    "    \n",
    "    @property\n",
    "    def calc_grad(self):\n",
    "        return self._calc_grad\n",
    "\n",
    "    \n",
    "    @property\n",
    "    def grad(self):\n",
    "        if self._grad is not None:\n",
    "            if self._old_shape is not None:\n",
    "                return Tensor(self._grad._data.reshape(self._old_shape), calc_grad=self._calc_grad)\n",
    "            else:\n",
    "                return self._grad\n",
    "        else:\n",
    "            return None\n",
    "\n",
    "\n",
    "    @property\n",
    "    def grad_matrix(self):\n",
    "        return self._grad\n",
    "\n",
    "\n",
    "    @grad_matrix.setter\n",
    "    def grad_matrix(self, grad):\n",
    "        self._grad = grad\n",
    "\n",
    "\n",
    "    @property\n",
    "    def T(self):\n",
    "        return self.t()\n",
    "\n",
    "    \n",
    "    def __repr__(self):\n",
    "        return str(self.data)"
   ]
  },
  {
   "cell_type": "markdown",
   "id": "4ecc5aca-74fa-451b-816e-f52475620639",
   "metadata": {},
   "source": [
    "Методы data и matrix дают доступ к данным, но метод matrix возвращает данные всегда приведенные в наиболее удобную для расчетов форму. Метод data всегда возвращает данные в том виде, в котором они были заданны."
   ]
  },
  {
   "cell_type": "markdown",
   "id": "ba11ac69-44e4-4b06-89ea-9e95e2effed0",
   "metadata": {},
   "source": [
    "Данная проблема вызвана тем, что для расчетов вектора должны быть в форме \n",
    "$\\vec v = \\begin{pmatrix} \n",
    "     x_1 \\\\\n",
    "     x_2 \\\\\n",
    "     ... \\\\\n",
    "     x_n\n",
    "\\end{pmatrix}$, а массивы зачастую храняться и задаются в виде $\\vec v = (x_1, x_2, ... c_n)$."
   ]
  },
  {
   "cell_type": "code",
   "execution_count": 4,
   "id": "1c5dc5ff-3273-44bb-b063-b4fe0a2dbcd9",
   "metadata": {},
   "outputs": [],
   "source": [
    "class Tensor:  \n",
    "\n",
    "    def forward(self):\n",
    "        return self._operation.forward()\n",
    "\n",
    "    def backward(self, tensor=None):\n",
    "        if self.calc_grad:\n",
    "            self._operation.backward(tensor)"
   ]
  },
  {
   "cell_type": "markdown",
   "id": "79ac4d97-8f9c-4854-b58d-2dfd48a611e0",
   "metadata": {},
   "source": [
    "Операция forward вечает за вычисление операции порадившей тензор. Операция backward отвечает за расчет обратного хода алгоритма градиентного спуска."
   ]
  },
  {
   "cell_type": "markdown",
   "id": "4a17b111-f3d0-47e1-b0d3-4bfacf265945",
   "metadata": {},
   "source": [
    "Для упрощения кода и объединения всех однотипных действий используется функция __prepare_operation."
   ]
  },
  {
   "cell_type": "code",
   "execution_count": 5,
   "id": "35d147aa-e6e1-4d32-9e39-aac055d51e57",
   "metadata": {},
   "outputs": [],
   "source": [
    "class Tensor:\n",
    "    \n",
    "    def __prepare_operation(self, operation, other_grad=False):\n",
    "        data = operation.forward()\n",
    "        data._operation = operation\n",
    "        return data"
   ]
  },
  {
   "cell_type": "markdown",
   "id": "dda8ff3f-85ed-4703-adfb-0a9a778d996a",
   "metadata": {},
   "source": [
    "Далее идут унарные операции."
   ]
  },
  {
   "cell_type": "code",
   "execution_count": 6,
   "id": "c8c16629-da21-4e39-a9f4-18f404d26c40",
   "metadata": {},
   "outputs": [],
   "source": [
    "class Tensor:\n",
    "    \n",
    "    def sqr(self):\n",
    "        op = operations.SqrOperation(self)\n",
    "        return self.__prepare_operation(op)\n",
    "\n",
    "    def sqrt(self):\n",
    "        op = operations.SqrtOperation(self)\n",
    "        return self.__prepare_operation(op)\n",
    "\n",
    "    def exp(self):\n",
    "        op = operations.ExpOperation(self)\n",
    "        return self.__prepare_operation(op)\n",
    "\n",
    "    def sigmoid(self):\n",
    "        op = operations.SigmoidOperation(self)\n",
    "        return self.__prepare_operation(op)\n"
   ]
  },
  {
   "cell_type": "markdown",
   "id": "a16eff8c-f4ec-4601-825d-ec46f1c16224",
   "metadata": {},
   "source": [
    "Операция транспонирования."
   ]
  },
  {
   "cell_type": "code",
   "execution_count": 7,
   "id": "91c752df-395a-4a24-baa5-8344a2079b72",
   "metadata": {},
   "outputs": [],
   "source": [
    "class Tensor:\n",
    "    \n",
    "    def t(self):\n",
    "        op = operations.TransposeOperation(self)\n",
    "        return self.__prepare_operation(op)"
   ]
  },
  {
   "cell_type": "markdown",
   "id": "3a405b39-d059-4711-a74f-85193fd34028",
   "metadata": {},
   "source": [
    "Операция суммирования."
   ]
  },
  {
   "cell_type": "code",
   "execution_count": 8,
   "id": "934075d2-1d9d-460f-b1ae-15b6fbb8e916",
   "metadata": {},
   "outputs": [],
   "source": [
    " class Tensor:\n",
    "    \n",
    "    def sum(self):\n",
    "        op = operations.SumOperation(self)\n",
    "        return self.__prepare_operation(op)"
   ]
  },
  {
   "cell_type": "markdown",
   "id": "94d88446-57ec-4c76-a4b1-8c3a7b488b78",
   "metadata": {},
   "source": [
    "Операции hardmax и softmax."
   ]
  },
  {
   "cell_type": "code",
   "execution_count": 9,
   "id": "2322cf27-272f-4ee4-b363-7aa707577bb0",
   "metadata": {},
   "outputs": [],
   "source": [
    "class Tensor:\n",
    "    \n",
    "    def softmax(self):\n",
    "        op = operations.SoftMaxOperation(self)\n",
    "        return self.__prepare_operation(op)\n",
    "\n",
    "    def hardmax(self):\n",
    "        op = operations.HardMaxOperation(self)\n",
    "        return self.__prepare_operation(op)"
   ]
  },
  {
   "cell_type": "markdown",
   "id": "1e110bcc-54c0-456c-b3b1-84ad0b489bb1",
   "metadata": {},
   "source": [
    "Операция индексирования."
   ]
  },
  {
   "cell_type": "code",
   "execution_count": 10,
   "id": "fae2176d-066a-4c1c-a533-2c0c147cf4ad",
   "metadata": {},
   "outputs": [],
   "source": [
    "class Tensor:\n",
    "    \n",
    "    def __getitem__(self, item):\n",
    "        op = operations.IndexOperation(self, item)\n",
    "        return self.__prepare_operation(op)"
   ]
  },
  {
   "cell_type": "markdown",
   "id": "7e81c482-4594-4b49-b457-b0c8bcfc3355",
   "metadata": {},
   "source": [
    "Бинарные операции поиска минимума и максимума."
   ]
  },
  {
   "cell_type": "code",
   "execution_count": 11,
   "id": "4634ef11-46a5-4799-b387-d3e9531e3636",
   "metadata": {},
   "outputs": [],
   "source": [
    "class Tensor:\n",
    "    \n",
    "    def min(self, other):\n",
    "        op = operations.MinOperation(self, other)\n",
    "        return self.__prepare_operation(op)\n",
    "\n",
    "\n",
    "    def max(self, other):\n",
    "        op = operations.MaxOperation(self, other)\n",
    "        return self.__prepare_operation(op)\n"
   ]
  },
  {
   "cell_type": "markdown",
   "id": "a89a10ef-30a0-475d-bba2-368e570f1def",
   "metadata": {},
   "source": [
    "Бинарные операции: +, -, /, *."
   ]
  },
  {
   "cell_type": "code",
   "execution_count": 12,
   "id": "e192a30f-83c3-431c-b450-aa280dc6db42",
   "metadata": {},
   "outputs": [],
   "source": [
    "class Tensor:\n",
    "\n",
    "    def __add__(self, other):\n",
    "        op = operations.AddOperation(self, other)\n",
    "        return self.__prepare_operation(op)\n",
    "\n",
    "\n",
    "    def __sub__(self, other):\n",
    "        op = operations.SubOperation(self, other)\n",
    "        return self.__prepare_operation(op)\n",
    "\n",
    "\n",
    "    def __mul__(self, other):\n",
    "        op = operations.MulOperation(self, other)\n",
    "        return self.__prepare_operation(op)\n",
    "\n",
    "\n",
    "    def __truediv__(self, other):\n",
    "        op = operations.DivOperation(self, other)\n",
    "        return self.__prepare_operation(op)   "
   ]
  },
  {
   "cell_type": "markdown",
   "id": "e11f495e-8594-41fb-b98c-8097efcada78",
   "metadata": {},
   "source": [
    "Операция матричного умножения."
   ]
  },
  {
   "cell_type": "code",
   "execution_count": 13,
   "id": "e36e3cf6-a1ca-4deb-9cf7-62bd9c36b691",
   "metadata": {},
   "outputs": [],
   "source": [
    " def __matmul__(self, other):\n",
    "        op = operations.MatMulOperation(self, other)\n",
    "        return self.__prepare_operation(op)\n"
   ]
  },
  {
   "cell_type": "markdown",
   "id": "0f2e44c0-1faa-489e-8043-e53cf61480d2",
   "metadata": {},
   "source": [
    "<h2> Утилитарные функции </h2>"
   ]
  },
  {
   "cell_type": "markdown",
   "id": "60fb106c-1ef9-4f81-af7f-315ad42fb785",
   "metadata": {},
   "source": [
    "В данном разделе представленны все утилитарные функции, использующиеся в фреймворке."
   ]
  },
  {
   "cell_type": "markdown",
   "id": "0e73ac9d-e6c4-46c6-92ac-247b930dbe79",
   "metadata": {},
   "source": [
    "Для вычислений потребуются функции сравнения размеров двух тензоров. Функции shape_greater и shape_less сравнивает два размера тензоров."
   ]
  },
  {
   "cell_type": "code",
   "execution_count": 14,
   "id": "a12bcf2f-0129-4e18-8e73-b8ce21015162",
   "metadata": {},
   "outputs": [],
   "source": [
    "def shape_greater(shape1, shape2):\n",
    "    if len(shape1) == len(shape2):\n",
    "        if shape1 > shape2:\n",
    "            return True\n",
    "        else:\n",
    "            return False\n",
    "    elif len(shape1) > len(shape2):\n",
    "        return True\n",
    "    else:\n",
    "        return False\n",
    "\n",
    "def shape_less(shape1, shape2):\n",
    "    if len(shape1) == len(shape2):\n",
    "        if shape1 < shape2:\n",
    "            return True\n",
    "        else:\n",
    "            return False\n",
    "    elif len(shape1) < len(shape2):\n",
    "        return True\n",
    "    else:\n",
    "        return False"
   ]
  },
  {
   "cell_type": "markdown",
   "id": "91c48fe9-ce4b-4e30-9463-9cadebb724b5",
   "metadata": {},
   "source": [
    "Транспонирование матрицы, тензора и многомерной матрицы отличаются в значительной степени. Основной операцие фреймворка является транспонирование многомерной матрицы. Оно отличается от транспонирования вектора тем, что меняются местами только два последних измерения."
   ]
  },
  {
   "cell_type": "code",
   "execution_count": 15,
   "id": "ba370d4e-e885-47af-b236-2cd1f3f92dc9",
   "metadata": {},
   "outputs": [],
   "source": [
    "def grad_transpose(np_tensor):\n",
    "    if np_tensor.ndim == 0:\n",
    "        return np.array([[np_tensor]])\n",
    "    elif np_tensor.ndim == 1:\n",
    "        return np.expand_dims(np_tensor)\n",
    "    elif np_tensor.ndim == 2:\n",
    "        return np_tensor.T\n",
    "    else:\n",
    "        return np.swapaxes(np_tensor, -1, -2)"
   ]
  },
  {
   "cell_type": "markdown",
   "id": "189cdb79-5097-4c7e-9c40-c30335b11036",
   "metadata": {},
   "source": [
    "Далее идет операция уменьшения размерности многомерной матрицы за счет суммирования по координатам."
   ]
  },
  {
   "cell_type": "code",
   "execution_count": 16,
   "id": "4762ff3d-28f2-4a8d-8b83-3764013400d6",
   "metadata": {},
   "outputs": [],
   "source": [
    "def grad_zip_variable(np_tensor, np_same_as):\n",
    "    shape_in = np_tensor.shape\n",
    "    shape_out = np_same_as.shape\n",
    "\n",
    "    if shape_in == shape_out:\n",
    "        return np_tensor\n",
    "    else:\n",
    "        res = []\n",
    "        for i, (si, so) in enumerate(itertools.zip_longest(shape_in[::-1], shape_out[::-1])):\n",
    "            if si != so:\n",
    "                res.append(-i - 1)\n",
    "        return np.sum(np_tensor, axis=tuple(res)).reshape(np_same_as.shape)"
   ]
  },
  {
   "cell_type": "markdown",
   "id": "fefe44c7-81d7-4e18-85a3-d15935686726",
   "metadata": {},
   "source": [
    "Операция увеличения размерности матрицы за счет операции broadcasting."
   ]
  },
  {
   "cell_type": "code",
   "execution_count": 17,
   "id": "98cdda9c-b3be-4875-93b7-73b6026aa590",
   "metadata": {},
   "outputs": [],
   "source": [
    "def grad_extend(np_tensor, np_same_as):\n",
    "    return np.broadcast_arrays(np_tensor, np_same_as)[0]"
   ]
  },
  {
   "cell_type": "markdown",
   "id": "9f460aac-4660-4235-8b3d-7b8c4ac4b10f",
   "metadata": {},
   "source": [
    "Нормализация размера матрицы для выполнения бинарных операций при обратном течении градиента."
   ]
  },
  {
   "cell_type": "code",
   "execution_count": 18,
   "id": "5c90b29c-8c3d-465e-b41f-7bc3933ce747",
   "metadata": {},
   "outputs": [],
   "source": [
    "def grad_reshape(np_tensor, np_same_as):\n",
    "    shape1 = np_tensor.shape\n",
    "    shape2 = np_same_as.shape\n",
    "    if shape1 == shape2:\n",
    "        return np_tensor\n",
    "    elif shape_greater(shape1, shape2):\n",
    "        return grad_zip_variable(np_tensor, np_same_as)\n",
    "    else:\n",
    "        return grad_extend(np_tensor, np_same_as)"
   ]
  },
  {
   "cell_type": "markdown",
   "id": "892fc5f2-fff8-4d1e-907d-4ed97b2003eb",
   "metadata": {},
   "source": [
    "<h2>Операции над тензорами</h2>"
   ]
  },
  {
   "cell_type": "markdown",
   "id": "217aeba7-3f09-41f8-b060-ae2366d40b08",
   "metadata": {},
   "source": [
    "В данном разделе будут приведены коды непосредственного дифференциирования различных операций."
   ]
  },
  {
   "cell_type": "markdown",
   "id": "fa1a7447-9e30-497f-bd5c-a76ae2398075",
   "metadata": {},
   "source": [
    "Корневой класс операции."
   ]
  },
  {
   "cell_type": "code",
   "execution_count": 19,
   "id": "ddf18ab7-7b0b-4d47-ae71-6e0d228de3f5",
   "metadata": {},
   "outputs": [],
   "source": [
    "class Operation:\n",
    "\n",
    "    def __init__(self):\n",
    "        self._res = None\n",
    "\n",
    "    def forward(self):\n",
    "        pass\n",
    "\n",
    "    def backward(self, np_tensor):\n",
    "        pass"
   ]
  },
  {
   "cell_type": "markdown",
   "id": "2df1cca2-10ab-4e70-ab99-37fb55f84571",
   "metadata": {},
   "source": [
    "Класс для обработки переменных."
   ]
  },
  {
   "cell_type": "code",
   "execution_count": 20,
   "id": "38dbf7e0-691b-4981-9e54-13d517cdf5ba",
   "metadata": {},
   "outputs": [],
   "source": [
    "class VariableOperation(Operation):\n",
    "\n",
    "    def __init__(self, x):\n",
    "        super().__init__()\n",
    "        self._x = x\n",
    "\n",
    "    def forward(self):\n",
    "        self._res = Tensor(self._x.matrix, self._x.calc_grad)\n",
    "        return self._res\n",
    "\n",
    "    def backward(self, np_tensor):\n",
    "        if self._x.calc_grad:\n",
    "            if self._x.grad_matrix is None:\n",
    "                if np_tensor is None:\n",
    "                    self._x.grad_matrix = Tensor(np.ones_like(self._x.matrix))\n",
    "                else:\n",
    "                    self._x.grad_matrix = Tensor(grad_reshape(np_tensor, self._x.matrix))\n",
    "            else:\n",
    "                if np_tensor is None:\n",
    "                    self._x.grad_matrix = Tensor(grad_reshape(np.ones_like(self._x.matrix) + self._x.matrix, self._x.matrix))\n",
    "                else:\n",
    "                    self._x.grad_matrix = Tensor(grad_reshape(self._x.grad_matrix.matrix + np_tensor, self._x.matrix))"
   ]
  },
  {
   "cell_type": "markdown",
   "id": "3bdc1628-7216-4c40-b468-c3bcdfcbc90d",
   "metadata": {},
   "source": [
    "Класс для обработки транспонирования."
   ]
  },
  {
   "cell_type": "code",
   "execution_count": 21,
   "id": "32717902-b252-4cbd-b284-90ae86e2ad9b",
   "metadata": {},
   "outputs": [],
   "source": [
    "class TransposeOperation(Operation):\n",
    "\n",
    "    def __init__(self, x):\n",
    "        super().__init__()\n",
    "        self._x = x\n",
    "\n",
    "    def forward(self):\n",
    "        self._res = Tensor(self._x.matrix.T, self._x.calc_grad)\n",
    "        return self._res\n",
    "\n",
    "    def backward(self, np_tensor):\n",
    "        if self._x.calc_grad:\n",
    "            if np_tensor is None:\n",
    "                self._x.backward(np.ones_like(self._x.matrix))\n",
    "            else:\n",
    "                self._x.backward(np_tensor.T)"
   ]
  },
  {
   "cell_type": "markdown",
   "id": "29f29b13-0858-4562-ad36-389288d7e295",
   "metadata": {},
   "source": [
    "Класс для обработки операции суммирования тензора."
   ]
  },
  {
   "cell_type": "code",
   "execution_count": 22,
   "id": "90cf7110-3997-4972-810a-c312bd6b8cb6",
   "metadata": {},
   "outputs": [],
   "source": [
    "class SumOperation(Operation):\n",
    "\n",
    "    def __init__(self, x):\n",
    "        super().__init__()\n",
    "        self._x = x\n",
    "\n",
    "    def forward(self):\n",
    "        self._res = Tensor((np.sum(self._x.matrix),), self._x.calc_grad)\n",
    "        return self._res\n",
    "\n",
    "    def backward(self, np_tensor):\n",
    "        if self._x.calc_grad:\n",
    "            tensor = np.ones_like(self._x.matrix)\n",
    "            if np_tensor is None:\n",
    "                self._x.backward(grad_reshape(np_tensor, self._x.matrix))\n",
    "            else:\n",
    "                self._x.backward(grad_reshape(np_tensor, self._x.matrix))"
   ]
  },
  {
   "cell_type": "markdown",
   "id": "dc999bf3-da3b-4233-aa73-de2cd69dad18",
   "metadata": {},
   "source": [
    "Класс для обработки операции softmax."
   ]
  },
  {
   "cell_type": "code",
   "execution_count": 23,
   "id": "03dc1f56-d1e1-44fc-b650-b7a5ee06b0f5",
   "metadata": {},
   "outputs": [],
   "source": [
    "class SoftMaxOperation(Operation):\n",
    "\n",
    "    def __init__(self, x):\n",
    "        super().__init__()\n",
    "        self._x = x\n",
    "\n",
    "    def forward(self):\n",
    "        exp = self._x.exp()\n",
    "        sum = exp.sum()\n",
    "        self._res = exp / sum\n",
    "        return Tensor(self._res.matrix, self._res.calc_grad)\n",
    "\n",
    "    def backward(self, np_tensor):\n",
    "        if self._x.calc_grad:\n",
    "            self._res.backward(np_tensor)"
   ]
  },
  {
   "cell_type": "markdown",
   "id": "ca08291f-2292-4d12-9f9e-3a114c3e6fcb",
   "metadata": {},
   "source": [
    "Класс для обработки операции hardmax."
   ]
  },
  {
   "cell_type": "code",
   "execution_count": 24,
   "id": "50a65a7b-b85b-4cbc-a3cd-804215ecfa55",
   "metadata": {},
   "outputs": [],
   "source": [
    "class HardMaxOperation(Operation):\n",
    "\n",
    "    def __init__(self, x):\n",
    "        super().__init__()\n",
    "        self._x = x\n",
    "\n",
    "    def forward(self):\n",
    "        sum = self._x.sum()\n",
    "        self._res = self._x / sum\n",
    "        return self._x / sum\n",
    "\n",
    "    def backward(self, np_tensor):\n",
    "        if self._x.calc_grad:\n",
    "            self._res.backward(np_tensor)"
   ]
  },
  {
   "cell_type": "markdown",
   "id": "9c4821d9-4334-48ad-8aff-c25476c05995",
   "metadata": {},
   "source": [
    "Класс для обработки операции возведения в квадрат."
   ]
  },
  {
   "cell_type": "code",
   "execution_count": 25,
   "id": "321f0d8f-b6c7-445d-8637-dc978155c920",
   "metadata": {},
   "outputs": [],
   "source": [
    "class SqrOperation(Operation):\n",
    "\n",
    "    def __init__(self, x):\n",
    "        super().__init__()\n",
    "        self._x = x\n",
    "\n",
    "    def forward(self):\n",
    "        self._res = Tensor(self._x.matrix * self._x.matrix, self._x.calc_grad)\n",
    "        return self._res\n",
    "\n",
    "    def backward(self, np_tensor):\n",
    "        if self._x.calc_grad:\n",
    "            data = 2 * self._x.matrix\n",
    "            if np_tensor is None:\n",
    "                self._x.backward(data)\n",
    "            else:\n",
    "                self._x.backward(np_tensor * data)"
   ]
  },
  {
   "cell_type": "markdown",
   "id": "30524225-3f3c-47af-8983-b1829a7752af",
   "metadata": {},
   "source": [
    "Класс для извлечения квадратного корня."
   ]
  },
  {
   "cell_type": "code",
   "execution_count": 26,
   "id": "bd50ef2b-fcb0-4e2c-99b0-f72dbed355a1",
   "metadata": {},
   "outputs": [],
   "source": [
    "class SqrtOperation(Operation):\n",
    "\n",
    "    def __init__(self, x):\n",
    "        super().__init__()\n",
    "        self._x = x\n",
    "\n",
    "    def forward(self):\n",
    "        self._res = Tensor(np.sqrt(self._x.matrix), self._x.calc_grad)\n",
    "        return self._res\n",
    "\n",
    "    def backward(self, np_tensor):\n",
    "        if self._x.calc_grad:\n",
    "            data = 0.5 / np.sqrt(self._x.matrix)\n",
    "            if np_tensor is None:\n",
    "                self._x.backward(data)\n",
    "            else:\n",
    "                self._x.backward(np_tensor * data)"
   ]
  },
  {
   "cell_type": "markdown",
   "id": "6e2aa25e-7408-41a4-a040-5bb3434e336c",
   "metadata": {},
   "source": [
    "Класс для вычисления экспоненты."
   ]
  },
  {
   "cell_type": "code",
   "execution_count": 27,
   "id": "6633e4d6-8ee2-43db-a724-625d6c3ab624",
   "metadata": {},
   "outputs": [],
   "source": [
    "class ExpOperation(Operation):\n",
    "\n",
    "    def __init__(self, x):\n",
    "        super().__init__()\n",
    "        self._x = x\n",
    "\n",
    "    def forward(self):\n",
    "        self._res = Tensor(np.exp(self._x.matrix), self._x.calc_grad)\n",
    "        return self._res\n",
    "\n",
    "    def backward(self, np_tensor):\n",
    "        if self._x.calc_grad:\n",
    "            data = np.exp(self._x.matrix)\n",
    "            if np_tensor is None:\n",
    "                self._x.backward(data)\n",
    "            else:\n",
    "                self._x.backward(np_tensor * data)"
   ]
  },
  {
   "cell_type": "markdown",
   "id": "f18a6cfa-30f3-4e41-b2ec-007f841a54b3",
   "metadata": {},
   "source": [
    "Класс для обработки сигмоиды."
   ]
  },
  {
   "cell_type": "code",
   "execution_count": 28,
   "id": "704d61b8-06df-479d-a7bc-76de27eb391e",
   "metadata": {},
   "outputs": [],
   "source": [
    "class SigmoidOperation(Operation):\n",
    "\n",
    "    def __init__(self, x):\n",
    "        super().__init__()\n",
    "        self._x = x\n",
    "\n",
    "    def forward(self):\n",
    "        ex = np.exp(self._x.matrix)\n",
    "        self._res = Tensor(ex / (ex + 1), self._x.calc_grad)\n",
    "        return self._res\n",
    "\n",
    "    def backward(self, np_tensor):\n",
    "        if self._x.calc_grad:\n",
    "            data = self._res.matrix * (1 - self._res.matrix)\n",
    "            if np_tensor is None:\n",
    "                self._x.backward(data)\n",
    "            else:\n",
    "                self._x.backward(np_tensor * data)\n"
   ]
  },
  {
   "cell_type": "markdown",
   "id": "3e54fde0-82dd-4f92-a931-81c2ff8339cf",
   "metadata": {},
   "source": [
    "Обработка операции поиска минимума двух многомерных матриц."
   ]
  },
  {
   "cell_type": "code",
   "execution_count": 29,
   "id": "c95407cf-04f2-47f9-a24e-006ace928449",
   "metadata": {},
   "outputs": [],
   "source": [
    "class MinOperation(Operation):\n",
    "    def __init__(self, x, y):\n",
    "        super().__init__()\n",
    "        self._x = x\n",
    "        self._y = y\n",
    "\n",
    "    def forward(self):\n",
    "        self._res = tensor.Tensor(np.minimum(self._x.matrix, self._y.matrix), self._x.calc_grad or self._y.calc_grad)\n",
    "        return self._res\n",
    "\n",
    "    def backward(self, np_tensor):\n",
    "        if self._x.calc_grad:\n",
    "            if np_tensor is None:\n",
    "                one = np.ones_like(self._res.matrix)\n",
    "                res = np.zeros_like(self._res.matrix)\n",
    "                idx = self._x.matrix <= self._y.matrix\n",
    "                res[idx] = one[idx]\n",
    "                self._x.backward(grad_reshape(res, self._x.matrix))\n",
    "            else:\n",
    "                res = np.zeros_like(np_tensor)\n",
    "                idx = self._x.matrix <= self._y.matrix\n",
    "                res[idx] = np_tensor[idx]\n",
    "                self._x.backward(grad_reshape(res, self._x.matrix))\n",
    "        if self._y.calc_grad:\n",
    "            if np_tensor is None:\n",
    "                one = np.ones_like(self._res.matrix)\n",
    "                res = np.zeros_like(self._res.matrix)\n",
    "                idx = self._x.matrix > self._y.matrix\n",
    "                res[idx] = one[idx]\n",
    "                self._y.backward(grad_reshape(res, self._y.matrix))\n",
    "            else:\n",
    "                res = np.zeros_like(np_tensor)\n",
    "                idx = self._x.matrix > self._y.matrix\n",
    "                res[idx] = np_tensor[idx]\n",
    "                self._y.backward(grad_reshape(res, self._y.matrix))"
   ]
  },
  {
   "cell_type": "markdown",
   "id": "bb573864-6dfe-4101-a0af-2e300eaa13a6",
   "metadata": {},
   "source": [
    "Обработка операции поиска максимума двух многомерных матриц."
   ]
  },
  {
   "cell_type": "code",
   "execution_count": 30,
   "id": "e830135b-35bf-4128-a59a-78cae9e75caf",
   "metadata": {},
   "outputs": [],
   "source": [
    "class MaxOperation(Operation):\n",
    "    def __init__(self, x, y):\n",
    "        super().__init__()\n",
    "        self._x = x\n",
    "        self._y = y\n",
    "\n",
    "    def forward(self):\n",
    "        self._res = Tensor(np.maximum(self._x.matrix, self._y.matrix), self._x.calc_grad or self._y.calc_grad)\n",
    "        return self._res\n",
    "\n",
    "    def backward(self, np_tensor):\n",
    "        if self._x.calc_grad:\n",
    "            if np_tensor is None:\n",
    "                one = np.ones_like(self._res.matrix)\n",
    "                res = np.zeros_like(self._res.matrix)\n",
    "                idx = self._x.matrix >= self._y.matrix\n",
    "                res[idx] = one[idx]\n",
    "                self._x.backward(grad_reshape(res, self._x.matrix))\n",
    "            else:\n",
    "                res = np.zeros_like(np_tensor)\n",
    "                idx = self._x.matrix >= self._y.matrix\n",
    "                res[idx] = np_tensor[idx]\n",
    "                self._x.backward(grad_reshape(res, self._x.matrix))\n",
    "        if self._y.calc_grad:\n",
    "            if np_tensor is None:\n",
    "                one = np.ones_like(self._res.matrix)\n",
    "                res = np.zeros_like(self._res.matrix)\n",
    "                idx = self._x.matrix < self._y.matrix\n",
    "                res[idx] = one[idx]\n",
    "                self._y.backward(grad_reshape(res, self._y.matrix))\n",
    "            else:\n",
    "                res = np.zeros_like(np_tensor)\n",
    "                idx = self._x.matrix < self._y.matrix\n",
    "                res[idx] = np_tensor[idx]\n",
    "                self._y.backward(grad_reshape(res, self._y.matrix))\n",
    "\n"
   ]
  },
  {
   "cell_type": "markdown",
   "id": "b3d8a16d-524c-436c-b2bf-3ff1d54226e5",
   "metadata": {},
   "source": [
    "Обработка операции сложения двух многомерных матриц."
   ]
  },
  {
   "cell_type": "code",
   "execution_count": 31,
   "id": "ea6c5e1b-a86d-4d15-a93f-92dfb7e72947",
   "metadata": {},
   "outputs": [],
   "source": [
    "class AddOperation(Operation):\n",
    "    def __init__(self, x, y):\n",
    "        super().__init__()\n",
    "        self._x = x\n",
    "        self._y = y\n",
    "\n",
    "    def forward(self):\n",
    "        self._res = Tensor(self._x.matrix + self._y.matrix, self._x.calc_grad or self._y.calc_grad)\n",
    "        return self._res\n",
    "\n",
    "    def backward(self, np_tensor):\n",
    "        if self._x.calc_grad:\n",
    "            if np_tensor is None:\n",
    "                self._x.backward(np.ones_like(self._res.matrix))\n",
    "            else:\n",
    "                self._x.backward(grad_reshape(np_tensor, self._x.matrix))\n",
    "        if self._y.calc_grad:\n",
    "            if np_tensor is None:\n",
    "                self._y.backward(np.ones_like(self._res.matrix))\n",
    "            else:\n",
    "                self._y.backward(grad_reshape(np_tensor, self._y.matrix))"
   ]
  },
  {
   "cell_type": "markdown",
   "id": "fa8e438f-6c04-47e8-a188-6d2f890e4609",
   "metadata": {},
   "source": [
    "Обработка операции поиска разности двух многомерных матриц."
   ]
  },
  {
   "cell_type": "code",
   "execution_count": 32,
   "id": "88d18b7b-73b9-4efe-8607-4bb85120f5ff",
   "metadata": {},
   "outputs": [],
   "source": [
    "class SubOperation(Operation):\n",
    "    def __init__(self, x, y):\n",
    "        super().__init__()\n",
    "        self._x = x\n",
    "        self._y = y\n",
    "\n",
    "    def forward(self):\n",
    "        self._res = Tensor(self._x.matrix - self._y.matrix, self._x.calc_grad or self._y.calc_grad)\n",
    "        return self._res\n",
    "\n",
    "\n",
    "    def backward(self, np_tensor):\n",
    "        if self._x.calc_grad:\n",
    "            if np_tensor is None:\n",
    "                self._x.backward(np.ones_like(self._res.matrix))\n",
    "            else:\n",
    "                self._x.backward(grad_reshape(np_tensor, self._x.matrix))\n",
    "        if self._y.calc_grad:\n",
    "            if np_tensor is None:\n",
    "                self._y.backward(- np.ones_like(self._res.matrix))\n",
    "            else:\n",
    "                self._y.backward(grad_reshape(- np_tensor, self._y.matrix))\n"
   ]
  },
  {
   "cell_type": "markdown",
   "id": "7d58b3c4-b527-4bef-b7da-1957fc6d2f7f",
   "metadata": {},
   "source": [
    "Обработка операции произведения двух многомерных матриц."
   ]
  },
  {
   "cell_type": "code",
   "execution_count": 33,
   "id": "0c645135-ebd5-4a2f-9287-6daf37d7812d",
   "metadata": {},
   "outputs": [],
   "source": [
    "class MulOperation(Operation):\n",
    "    def __init__(self, x, y):\n",
    "        super().__init__()\n",
    "        self._x = x\n",
    "        self._y = y\n",
    "\n",
    "    def forward(self):\n",
    "        self._res = Tensor(self._x.matrix * self._y.matrix, self._x.calc_grad or self._y.calc_grad)\n",
    "        return self._res\n",
    "\n",
    "\n",
    "    def backward(self, np_tensor):\n",
    "        if self._x.calc_grad:\n",
    "            if np_tensor is None:\n",
    "                self._x.backward(grad_reshape(self._y.matrix, self._x.matrix))\n",
    "            else:\n",
    "                self._x.backward(grad_reshape(np_tensor * self._y.matrix, self._x.matrix))\n",
    "        if self._y.calc_grad:\n",
    "            if np_tensor is None:\n",
    "                self._y.backward(grad_reshape(self._x.matrix, self._y.matrix))\n",
    "            else:\n",
    "                self._y.backward(grad_reshape(np_tensor * self._x.matrix, self._y.matrix))"
   ]
  },
  {
   "cell_type": "markdown",
   "id": "25670586-64e0-43c7-b0d5-b871d7d94644",
   "metadata": {},
   "source": [
    "Обработка операции деления двух многомерных матриц."
   ]
  },
  {
   "cell_type": "code",
   "execution_count": 34,
   "id": "cf41c0d6-f146-4c7f-998d-fa486a5affc9",
   "metadata": {},
   "outputs": [],
   "source": [
    "class DivOperation(Operation):\n",
    "    def __init__(self, x, y):\n",
    "        super().__init__()\n",
    "        self._x = x\n",
    "        self._y = y\n",
    "\n",
    "    def forward(self):\n",
    "        self._res = Tensor(self._x.matrix / self._y.matrix, self._x.calc_grad or self._y.calc_grad)\n",
    "        return self._res\n",
    "\n",
    "\n",
    "    def backward(self, np_tensor):\n",
    "        if self._x.calc_grad:\n",
    "            if np_tensor is None:\n",
    "                self._x.backward(grad_reshape(1 / self._y.matrix, self._x.matrix))\n",
    "            else:\n",
    "                self._x.backward(grad_reshape(np_tensor / self._y.matrix, self._x.matrix))\n",
    "        if self._y.calc_grad:\n",
    "            if np_tensor is None:\n",
    "                self._y.backward(grad_reshape(- self._x.matrix / (self._y.matrix * self._y.matrix), self._y.matrix))\n",
    "            else:\n",
    "                self._y.backward(grad_reshape(np_tensor * (-self._x.matrix / (self._y.matrix * self._y.matrix)), self._y.matrix))"
   ]
  },
  {
   "cell_type": "markdown",
   "id": "f7f967f0-61cf-4f16-9f68-40b226e73524",
   "metadata": {},
   "source": [
    "Обработка операции матричного умножения двух многомерных матриц."
   ]
  },
  {
   "cell_type": "code",
   "execution_count": 35,
   "id": "2f528f18-4715-40e5-bd3d-9d138c989f5a",
   "metadata": {},
   "outputs": [],
   "source": [
    "class MatMulOperation(Operation):\n",
    "\n",
    "    def __init__(self, x, y):\n",
    "        super().__init__()\n",
    "        self._x = x\n",
    "        self._y = y\n",
    "\n",
    "    def forward(self):\n",
    "        self._res = Tensor(self._x.matrix @ self._y.matrix, self._x.calc_grad or self._y.calc_grad)\n",
    "        return self._res\n",
    "\n",
    "    def backward(self, np_tensor):\n",
    "        if self._x.calc_grad:\n",
    "            if np_tensor is None:\n",
    "                self._x.backward(grad_reshape(grad_transpose(self._y.matrix), self._x.matrix))\n",
    "            else:\n",
    "                self._x.backward(grad_reshape(np_tensor @ grad_transpose(self._y.matrix), self._x.matrix))\n",
    "        if self._y.calc_grad:\n",
    "            if np_tensor is None:\n",
    "                self._y.backward(grad_reshape(grad_transpose(self._x.matrix), self._y.matrix))\n",
    "            else:\n",
    "                self._y.backward(grad_reshape(grad_transpose(self._x.matrix) @ np_tensor, self._y.matrix))\n"
   ]
  },
  {
   "cell_type": "markdown",
   "id": "6fa66c6c-ea5c-4752-a631-3b867f8621b7",
   "metadata": {},
   "source": [
    "Обработка операции индексирования двух многомерных матриц."
   ]
  },
  {
   "cell_type": "code",
   "execution_count": 36,
   "id": "8e559826-652d-4803-a208-68dfd6e1c581",
   "metadata": {},
   "outputs": [],
   "source": [
    "class IndexOperation(Operation):\n",
    "    def __init__(self, x, index):\n",
    "        super().__init__()\n",
    "        self._x = x\n",
    "        self._index = index\n",
    "\n",
    "    def forward(self):\n",
    "        zero = np.zeros_like(self._x.matrix)\n",
    "        data = self._x.matrix[self._index]\n",
    "        zero[self._index] = data\n",
    "        self._res = Tensor(zero)\n",
    "        return Tensor(data, self._x.calc_grad)\n",
    "\n",
    "    def backward(self, np_tensor):\n",
    "        if self._x.calc_grad:\n",
    "            # ToDo check\n",
    "            if np_tensor is None:\n",
    "                ex_tensor = np.zeros_like(self._x.matrix)\n",
    "                ex_tensor[self._index] = np.ones_like(self._res.matrix)[self._index]\n",
    "                self._x.backward(ex_tensor)\n",
    "            else:\n",
    "                ex_tensor = np.zeros_like(self._x.matrix)\n",
    "                #!!!\n",
    "                #ex_tensor[self._index] = np_tensor.squeeze()\n",
    "                # ToDo ???\n",
    "                ex_tensor[self._index] = np_tensor #.squeeze()\n",
    "                self._x.backward(ex_tensor)\n",
    "\n",
    "\n"
   ]
  },
  {
   "cell_type": "markdown",
   "id": "5d7ca266-da96-4bcc-8d9a-fbfe0abe04f7",
   "metadata": {},
   "source": [
    "<h2> Функции </h2>"
   ]
  },
  {
   "cell_type": "markdown",
   "id": "b76d67d0-638e-4509-8987-cecd6a7cc1f1",
   "metadata": {},
   "source": [
    "В данном разделе приведены интерфейсные функции для более удобных расчетов. Все приведенные функции полностью зеркалируют соответствующие функции, приведенные в разделе с описанием класса тензора."
   ]
  },
  {
   "cell_type": "code",
   "execution_count": 37,
   "id": "417747ba-7673-4b49-afda-316be8d6d235",
   "metadata": {},
   "outputs": [],
   "source": [
    "def min(x, y):\n",
    "    return x.min(y)\n",
    "\n",
    "\n",
    "def max(x, y):\n",
    "    return y.max(y)\n",
    "\n",
    "def transpose(x):\n",
    "    return x.T\n",
    "\n",
    "def sum(x):\n",
    "    return x.sum()\n",
    "\n",
    "def hardmax(x):\n",
    "    return x.hardmax()\n",
    "\n",
    "def softmax(x):\n",
    "    return x.softmax()\n",
    "\n",
    "def sqr(x):\n",
    "    return x.sqr()\n",
    "\n",
    "def sqrt(x):\n",
    "    return x.sqrt()\n",
    "\n",
    "def exp(x):\n",
    "    return x.exp()\n",
    "\n",
    "def sigmoid(x):\n",
    "    return x.sigmoid()\n",
    "\n",
    "def add(x, y):\n",
    "    return x + y\n",
    "\n",
    "def sub(x, y):\n",
    "    return x - y\n",
    "\n",
    "def div(x, y):\n",
    "    return x / y\n",
    "\n",
    "def mul(x, y):\n",
    "    x * y\n",
    "\n",
    "def matmul(x, y):\n",
    "    return x * y\n",
    "\n"
   ]
  },
  {
   "cell_type": "markdown",
   "id": "3ac7e0b2-608f-45b6-9f0b-01ed83b608a6",
   "metadata": {},
   "source": [
    "<h2> Слои нейронной сети </h2>"
   ]
  },
  {
   "cell_type": "markdown",
   "id": "56e7a3f9-0e5a-4055-998c-d00df9dd47fc",
   "metadata": {},
   "source": [
    "Разработаем на основе приведенного фреймворка нейронную сеть. Для этого необходимо создать корневой класс, от которого будут наследоваться все остальные слои сети."
   ]
  },
  {
   "cell_type": "code",
   "execution_count": 38,
   "id": "254ade99-a15f-4890-a39f-74a5914f795c",
   "metadata": {},
   "outputs": [],
   "source": [
    "class Model:\n",
    "    def __init__(self):\n",
    "        self._parameters = []\n",
    "\n",
    "    def __call__(self, *args, **kwargs):\n",
    "        return self.forward(args[0])\n",
    "\n",
    "    def forward(self, x):\n",
    "        return x\n",
    "\n",
    "    @property\n",
    "    def parameters(self):\n",
    "        return self._parameters\n",
    "\n",
    "    def zero_grad(self):\n",
    "        for i in self._parameters:\n",
    "            if i.grad is not None:\n",
    "                i.grad.matrix.fill(0)\n"
   ]
  },
  {
   "cell_type": "markdown",
   "id": "335321a3-8582-460d-9e45-d2b18cc774e9",
   "metadata": {},
   "source": [
    "Разработаем на его основе линейный слой нейронной сети."
   ]
  },
  {
   "cell_type": "code",
   "execution_count": 39,
   "id": "0a413b22-5d9d-4c68-bd25-00c3eb3be5db",
   "metadata": {},
   "outputs": [],
   "source": [
    "class Linear(Model):\n",
    "\n",
    "    def __init__(self, in_features, out_features, bias=True):\n",
    "        super().__init__()\n",
    "        self._in_features = in_features\n",
    "        self._out_features = out_features\n",
    "        self._bias = bias\n",
    "\n",
    "        data = np.random.random((in_features, out_features))\n",
    "\n",
    "        self._w = Tensor(data, True)\n",
    "        self._parameters.append(self._w)\n",
    "\n",
    "        if self._bias:\n",
    "            self._b = Tensor([1.], True)\n",
    "            self._parameters.append(self._b)\n",
    "\n",
    "\n",
    "\n",
    "    def forward(self, x):\n",
    "        if self._bias:\n",
    "            return x @ self._w + self._b\n",
    "        else:\n",
    "            return x @ self._w\n"
   ]
  },
  {
   "cell_type": "markdown",
   "id": "62787637-4f62-42d6-8a4f-274aa9f5883f",
   "metadata": {},
   "source": [
    "<h2> Пример обучения нейронной сети на данном фреймворке </h2>"
   ]
  },
  {
   "cell_type": "markdown",
   "id": "b1d8ddae-86fb-4bb9-930d-9280dc2c0ba1",
   "metadata": {},
   "source": [
    "Рассмотрим конкретный пример обучения нейронной сети на разработанном фреймворке."
   ]
  },
  {
   "cell_type": "code",
   "execution_count": 40,
   "id": "e4c90f25-a3b1-4c55-8a04-6dbb995e7597",
   "metadata": {},
   "outputs": [
    {
     "name": "stdout",
     "output_type": "stream",
     "text": [
      "epoch: [0] loss: [[8.76790461]]\n",
      "epoch: [100] loss: [[0.06511864]]\n",
      "epoch: [200] loss: [[0.00122022]]\n",
      "epoch: [300] loss: [[1.61212188e-05]]\n",
      "epoch: [400] loss: [[6.34445084e-07]]\n",
      "epoch: [500] loss: [[6.13473101e-08]]\n",
      "epoch: [600] loss: [[4.0658064e-09]]\n",
      "epoch: [700] loss: [[1.89654001e-10]]\n",
      "epoch: [800] loss: [[6.59559012e-12]]\n",
      "epoch: [900] loss: [[1.69769416e-13]]\n",
      "w= [[0.2760121 ]\n",
      " [0.72398792]]\n",
      "b= [-0.72398796]\n"
     ]
    }
   ],
   "source": [
    "from tensor import Tensor\n",
    "from model import Linear\n",
    "\n",
    "alpha = 0.001\n",
    "epochs = 1000\n",
    "\n",
    "x = [[1., 2], [2., 3.], [3., 4.], [4., 5.], [5., 6.]]\n",
    "y = [1., 2., 3., 4., 5.]\n",
    "\n",
    "x = Tensor(x)\n",
    "y = Tensor(y)\n",
    "\n",
    "m = Linear(2, 1)\n",
    "\n",
    "for i in range(epochs):\n",
    "    m.zero_grad()\n",
    "    z = (m(x) - y).sqr().sum()\n",
    "    z.backward()\n",
    "    for j in m.parameters:\n",
    "        j.update(j.matrix - alpha * j.grad.matrix)\n",
    "    if i % 100 == 0:\n",
    "        print('epoch: [{}] loss: [{}]'.format(i, z))\n",
    "\n",
    "p = m.parameters\n",
    "w = p[0]\n",
    "b = p[1]\n",
    "\n",
    "print('w=', w.data)\n",
    "print('b=', b.data)\n"
   ]
  },
  {
   "cell_type": "markdown",
   "id": "dac7cf35-dfe5-495f-9b7d-12527e61f2d0",
   "metadata": {},
   "source": []
  }
 ],
 "metadata": {
  "kernelspec": {
   "display_name": "Python 3",
   "language": "python",
   "name": "python3"
  },
  "language_info": {
   "codemirror_mode": {
    "name": "ipython",
    "version": 3
   },
   "file_extension": ".py",
   "mimetype": "text/x-python",
   "name": "python",
   "nbconvert_exporter": "python",
   "pygments_lexer": "ipython3",
   "version": "3.7.11"
  }
 },
 "nbformat": 4,
 "nbformat_minor": 5
}
