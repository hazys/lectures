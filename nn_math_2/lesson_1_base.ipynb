{
 "cells": [
  {
   "cell_type": "markdown",
   "id": "af0861b6-f7ea-481a-b870-044982d03d69",
   "metadata": {},
   "source": [
    "# Нейронные сети. Понятно. Детально."
   ]
  },
  {
   "cell_type": "markdown",
   "id": "8ae880ad-e1c2-4add-a235-0c4d561756f9",
   "metadata": {},
   "source": [
    "## Раздел 1. Базовые понятия нейронных сетей."
   ]
  },
  {
   "cell_type": "markdown",
   "id": "e7832acb-1ab4-43f0-b545-267bb8886131",
   "metadata": {},
   "source": [
    "Требования для прохождения курса (математика):\n",
    "* понятие производной и ее свойства\n",
    "* градиент\n",
    "* понятие вектора и операций над ним\n",
    "* понятие матрицы и ее свойства\n",
    "* понятие многомерной матрицы и ее свойства\n",
    "* понятие тензора"
   ]
  },
  {
   "cell_type": "markdown",
   "id": "4cb2cf0f-2625-4629-b913-7216a4973947",
   "metadata": {},
   "source": [
    "Требования для прохождения курса (программирование):\n",
    "* ООП\n",
    "* Python\n",
    "* перегрузка арифметических операций в Python\n",
    "* numpy"
   ]
  },
  {
   "cell_type": "markdown",
   "id": "613c8dd1-b267-4458-a3f2-b85d5090a899",
   "metadata": {},
   "source": [
    "Обозначения:"
   ]
  },
  {
   "cell_type": "markdown",
   "id": "635893a5-b6b1-401d-ac26-00c766237c66",
   "metadata": {},
   "source": [
    "* $x$ - переменная x (скаляр)\n",
    "* $\\vec x$ - вектор x\n",
    "* $X$ - матрица, многомерная матрица или тензор X (в зависимости от контекста)\n",
    "* a * b = \n",
    "* A $\\cdot$ B - поэлементное умножение\n",
    "* AB - матричное умножение"
   ]
  },
  {
   "cell_type": "markdown",
   "id": "83017e73-bf35-43e8-9a84-63dcee57be44",
   "metadata": {},
   "source": [
    "Современные фреймвоки глубокого обучения такие как PyTorch и TenzorFlow содержат в себе все необходимые иструменты для автоматического дифференцииорования. Данный раздел необходим для углубленного понимания того что происходит \"под капотом\" этих фреймворков."
   ]
  },
  {
   "cell_type": "markdown",
   "id": "bb56fcf8-6e10-4d42-8f60-27dabc96e613",
   "metadata": {},
   "source": [
    "### Уравнения прямых"
   ]
  },
  {
   "cell_type": "markdown",
   "id": "222fed72-3120-448d-ae67-d8d8440a554c",
   "metadata": {},
   "source": [
    "Уравнение прямой y = kx + b"
   ]
  },
  {
   "cell_type": "markdown",
   "id": "fa275aaa-0ce0-4039-8440-88d7fafb7907",
   "metadata": {},
   "source": [
    "![title](img/lesson_1_kx_plus_b.jpg)"
   ]
  },
  {
   "cell_type": "markdown",
   "id": "a2412ef7-ae8d-49c2-a7a2-03ebbfee0d1b",
   "metadata": {},
   "source": [
    "Свойства уравнения y=kx+b:\n",
    "* k - тангенс угла наклона касательной, k - производная для функции\n",
    "*2\n",
    "\n"
   ]
  },
  {
   "cell_type": "code",
   "execution_count": null,
   "id": "78f159e3-5c82-4e39-852b-1b357327e43e",
   "metadata": {},
   "outputs": [],
   "source": []
  },
  {
   "cell_type": "code",
   "execution_count": null,
   "id": "86c024d2-72f0-48eb-8115-79d71a0138e6",
   "metadata": {},
   "outputs": [],
   "source": []
  },
  {
   "cell_type": "markdown",
   "id": "f75b1425-5b49-442e-8ad8-2a81cf9a0338",
   "metadata": {},
   "source": [
    "Уравнение ax+by+c=0"
   ]
  },
  {
   "cell_type": "markdown",
   "id": "c2eeb771-4031-4080-a3ae-db021756a2a7",
   "metadata": {},
   "source": [
    "![title](img/lesson_1_ax_by_c.png)"
   ]
  },
  {
   "cell_type": "markdown",
   "id": "9928d0bc-1924-4da3-976c-95b3854c06e8",
   "metadata": {},
   "source": [
    "Свойства уравнения ax+by+c=0:\n",
    "* вектор перпендикуляра\n",
    "* точки ниже линии, точки выше оси"
   ]
  },
  {
   "cell_type": "markdown",
   "id": "86a3ec41-97d5-49ea-9f8f-57c3480dbdff",
   "metadata": {},
   "source": [
    "Переход от одного уравнения к другому"
   ]
  },
  {
   "cell_type": "markdown",
   "id": "b70fd38f-7f5a-4a08-b1df-679d5c5c372e",
   "metadata": {},
   "source": [
    "формулы"
   ]
  },
  {
   "cell_type": "markdown",
   "id": "a47725e8-6b72-45a7-9268-09073a942a47",
   "metadata": {},
   "source": [
    "Зная свойства уравнений прямых можно составить с помощью прямой решить 2 задачи:\n",
    "* задача классификации\n",
    "* задача регрессии"
   ]
  },
  {
   "cell_type": "markdown",
   "id": "fcb6203b-de7b-4eea-a434-8a64e2eed4c7",
   "metadata": {},
   "source": [
    "### Задача классификации"
   ]
  },
  {
   "cell_type": "code",
   "execution_count": null,
   "id": "1d7bc3b1-e8d8-4ad6-9e24-d57e201992f4",
   "metadata": {},
   "outputs": [],
   "source": []
  },
  {
   "cell_type": "code",
   "execution_count": null,
   "id": "792af72b-bf7b-4910-9f71-1902f789ebb1",
   "metadata": {},
   "outputs": [],
   "source": []
  },
  {
   "cell_type": "code",
   "execution_count": null,
   "id": "bf8f740e-21a3-4a17-8310-44d68b79bc31",
   "metadata": {},
   "outputs": [],
   "source": []
  },
  {
   "cell_type": "code",
   "execution_count": null,
   "id": "4a9d8a35-a5f0-41bb-992b-779562b1f579",
   "metadata": {},
   "outputs": [],
   "source": []
  },
  {
   "cell_type": "markdown",
   "id": "c7e6e230-e41d-48ba-a116-b5c779a318ff",
   "metadata": {},
   "source": [
    "### Задача регрессии"
   ]
  },
  {
   "cell_type": "code",
   "execution_count": null,
   "id": "3bd097ea-69fd-4fde-9275-a61b3dfa8073",
   "metadata": {},
   "outputs": [],
   "source": []
  },
  {
   "cell_type": "code",
   "execution_count": null,
   "id": "19325928-385c-432e-b5b2-079f08bfcf7b",
   "metadata": {},
   "outputs": [],
   "source": []
  },
  {
   "cell_type": "code",
   "execution_count": null,
   "id": "a18b073d-61b4-4f65-a01e-3e5cffe31c61",
   "metadata": {},
   "outputs": [],
   "source": []
  },
  {
   "cell_type": "code",
   "execution_count": null,
   "id": "74d93828-fa58-4996-b6e7-97c8b66cd7a6",
   "metadata": {},
   "outputs": [],
   "source": []
  },
  {
   "cell_type": "markdown",
   "id": "b2662c90-93d1-480c-87fd-70f8535e3593",
   "metadata": {},
   "source": [
    "### Взвешенное голосование"
   ]
  },
  {
   "cell_type": "code",
   "execution_count": null,
   "id": "c9533540-0d9b-4cb2-bd34-bc205bbd82ca",
   "metadata": {},
   "outputs": [],
   "source": []
  },
  {
   "cell_type": "code",
   "execution_count": null,
   "id": "4d3265ca-4fe1-47b8-b3c0-7bc8792692ab",
   "metadata": {},
   "outputs": [],
   "source": []
  },
  {
   "cell_type": "markdown",
   "id": "6d5cfe77-4a6b-400e-b26f-6d9fd14ac808",
   "metadata": {},
   "source": [
    "### Аналогия взвешенного голосования и логических операций"
   ]
  },
  {
   "cell_type": "code",
   "execution_count": null,
   "id": "46f7debf-d34b-4189-8dc0-283d5943846d",
   "metadata": {},
   "outputs": [],
   "source": []
  },
  {
   "cell_type": "code",
   "execution_count": null,
   "id": "5240af88-12a9-48b5-b34c-cd0be561e070",
   "metadata": {},
   "outputs": [],
   "source": []
  },
  {
   "cell_type": "markdown",
   "id": "facb4efd-0c93-4b5c-86a5-4328044c5acd",
   "metadata": {},
   "source": [
    "### Перцептрон"
   ]
  },
  {
   "cell_type": "code",
   "execution_count": null,
   "id": "d8972b5a-c9d4-438e-94f3-5b97cacb4c3d",
   "metadata": {},
   "outputs": [],
   "source": []
  },
  {
   "cell_type": "code",
   "execution_count": null,
   "id": "0261bbe4-2bcd-41b2-b9c1-f59c8564e6db",
   "metadata": {},
   "outputs": [],
   "source": []
  },
  {
   "cell_type": "code",
   "execution_count": null,
   "id": "67518ab8-3ef0-4fc1-99cf-1e8006fef43d",
   "metadata": {},
   "outputs": [],
   "source": []
  },
  {
   "cell_type": "markdown",
   "id": "cc2ea7bb-3ffd-4226-829d-9ca2ef8619ea",
   "metadata": {},
   "source": [
    "### Нейронная сеть"
   ]
  },
  {
   "cell_type": "code",
   "execution_count": null,
   "id": "eaa540ea-1856-4e2d-b475-0d8c5330d452",
   "metadata": {},
   "outputs": [],
   "source": []
  },
  {
   "cell_type": "code",
   "execution_count": null,
   "id": "a824ab3b-198e-488c-9ba9-b9025d4a2606",
   "metadata": {},
   "outputs": [],
   "source": []
  },
  {
   "cell_type": "code",
   "execution_count": null,
   "id": "e7285679-0930-4fa9-bc32-bd7191ffa33d",
   "metadata": {},
   "outputs": [],
   "source": []
  },
  {
   "cell_type": "code",
   "execution_count": null,
   "id": "0e2664bb-0902-462e-8488-575b6b3d4196",
   "metadata": {},
   "outputs": [],
   "source": []
  },
  {
   "cell_type": "markdown",
   "id": "a67ad7b0-f2c1-464b-b2c7-7707526a363c",
   "metadata": {},
   "source": [
    "### Обучение нейронов"
   ]
  },
  {
   "cell_type": "code",
   "execution_count": null,
   "id": "42221e7e-84ea-406c-b3ad-642b20cdb813",
   "metadata": {},
   "outputs": [],
   "source": []
  },
  {
   "cell_type": "code",
   "execution_count": null,
   "id": "71b492ac-2ebe-418c-acd9-7c75d784eafa",
   "metadata": {},
   "outputs": [],
   "source": []
  },
  {
   "cell_type": "code",
   "execution_count": null,
   "id": "784459d6-795f-4ccf-8927-22e437a5a019",
   "metadata": {},
   "outputs": [],
   "source": []
  },
  {
   "cell_type": "code",
   "execution_count": null,
   "id": "7c482e86-e9b6-49ab-8064-77f88c6ec964",
   "metadata": {},
   "outputs": [],
   "source": []
  }
 ],
 "metadata": {
  "kernelspec": {
   "display_name": "Python 3",
   "language": "python",
   "name": "python3"
  },
  "language_info": {
   "codemirror_mode": {
    "name": "ipython",
    "version": 3
   },
   "file_extension": ".py",
   "mimetype": "text/x-python",
   "name": "python",
   "nbconvert_exporter": "python",
   "pygments_lexer": "ipython3",
   "version": "3.7.11"
  }
 },
 "nbformat": 4,
 "nbformat_minor": 5
}
