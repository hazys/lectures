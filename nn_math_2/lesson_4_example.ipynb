{
 "cells": [
  {
   "cell_type": "markdown",
   "id": "1e58140d-c9ab-42da-b5b1-9d0e660ddd65",
   "metadata": {},
   "source": [
    "# Нейронные сети. Понятно. Детально."
   ]
  },
  {
   "cell_type": "markdown",
   "id": "334240ae-6414-4498-b0c1-9992ead026fc",
   "metadata": {
    "tags": []
   },
   "source": [
    "## Раздел 4. Пример обучение простейшей нейронной сети."
   ]
  },
  {
   "cell_type": "markdown",
   "id": "eeb0e1d6-1ae8-43e0-a427-57d4a20fe5c2",
   "metadata": {},
   "source": [
    "<h2>Градиентный спуск в нейронных сетях</h2>"
   ]
  },
  {
   "cell_type": "markdown",
   "id": "62d8bc30-1598-4c6a-97bc-49aa6f768c4b",
   "metadata": {},
   "source": [
    "Теперь имеются все необходимые элементы для рассчета градиентного спуска в нейронных сетях. Простейшая нейронная сеть имеет вид $z(x)=actiavation(\\vec w \\vec x + b)$, где $\\vec x$ - вектор признаков, $\\vec w$ - веса нейронной сети, $b$ - смещение нейронной сети, $\\vec w, b$ - обучаемые параметры, $z(x)=activation(x)=max(0, x)$ (функция активации ReLU). Тогда $z(x)=max(0, \\vec w \\vec x + b)$. Оптимизация данной нейронной сети сводится к оптимизации параметров $\\vec w, b$ с помощью алгоритма градментного спуска. Для этого необходимо рассчитать производные $\\frac{\\partial z(x)}{\\partial \\vec w}$ и $\\frac{\\partial z(x)}{\\partial b}$. Для того чтобы определить насколько сильно нейронная сеть ошибается необходимо ввести функцию потерь (loss function). Для примера возьмем функцию потерь $l(x)=\\frac{1}{N}\\sum\\limits_{i}(z(x) - y_i)^2$. Для вычисления данных производных необходимо определить порядок действий $l(x)=loss(max(0, sum(dot(W, x), b)))$. Чтобы найти частные производные необходимо уметь вычислять производные следующих операций:"
   ]
  },
  {
   "cell_type": "markdown",
   "id": "860fd9e5-a57e-4e4d-b655-8d228d690f6c",
   "metadata": {},
   "source": [
    "* вычисление производной суммы\n",
    "* вычисление производной скалярного произведения векторов\n",
    "* вычисление производной max\n",
    "* вычисление производной функции потерь"
   ]
  },
  {
   "cell_type": "markdown",
   "id": "73db6e7f-2693-463d-9839-bbc591c8c7a0",
   "metadata": {},
   "source": [
    "<h4>Вычисление частных производных суммы</h4>"
   ]
  },
  {
   "cell_type": "markdown",
   "id": "3e2f16cc-b01f-4d69-99c1-8a4355e9fab2",
   "metadata": {},
   "source": [
    "Как было описано выше частные производные суммы имеют следующий вид:"
   ]
  },
  {
   "cell_type": "markdown",
   "id": "a54c30f9-b6e3-49b0-97c9-48eddd81fe90",
   "metadata": {},
   "source": [
    "$\\frac{\\partial \\sum\\limits_{i} (x_i) }{\\partial x_1} = \\sum\\limits_{i=1}^n \\frac{\\partial x_i}{\\partial x_1} = 1$"
   ]
  },
  {
   "cell_type": "markdown",
   "id": "ee5d8858-2355-403c-970d-45ccdea8101e",
   "metadata": {},
   "source": [
    "$\\frac{\\partial \\sum\\limits_{i} (x_i) }{\\partial \\vec x} = \n",
    "\\big(\\sum\\limits_{i=1}^n \\frac{\\partial x_i}{\\partial x_1}, \\sum\\limits_{i=1}^n \\frac{\\partial x_i}{\\partial x_2}, ..., \\sum\\limits_{i=1}^n \\frac{\\partial x_i}{\\partial x_n}  \\big) = \n",
    "(1, 1, ... 1) = \\vec 1 ^ T$"
   ]
  },
  {
   "cell_type": "markdown",
   "id": "42132da8-f8f8-4440-a32b-9e326f3ad57e",
   "metadata": {},
   "source": [
    "$\\frac{\\partial \\sum\\limits_{i} (k_ix_i) }{\\partial \\vec x} = \n",
    "\\big(\\sum\\limits_{i=1}^n \\frac{\\partial k_ix_i}{\\partial x_1}, \\sum\\limits_{i=1}^n \\frac{\\partial k_ix_i}{\\partial x_2}, ..., \\sum\\limits_{i=1}^n \\frac{\\partial k_ix_i}{\\partial x_n}  \\big) = \n",
    "(k_1, k_2, ... k_n) = \\vec k_i ^ T$"
   ]
  },
  {
   "cell_type": "markdown",
   "id": "93debe8e-fb6c-4101-b7a7-7e11560a9356",
   "metadata": {},
   "source": [
    "<h4>Вычисление частных производных скалярного произведения векторов</h4>"
   ]
  },
  {
   "cell_type": "markdown",
   "id": "dacff48b-d1d1-4680-932e-54d7db466028",
   "metadata": {},
   "source": [
    "Скалярное произведение $\\vec w \\vec x$ можно представить в виде $\\sum\\limits_{i}w_ix_i$. Тогда:"
   ]
  },
  {
   "cell_type": "markdown",
   "id": "2f7fc0c2-6322-4fe5-bbd4-2c3475fdb757",
   "metadata": {},
   "source": [
    "$ \\frac{\\partial \\sum\\limits_{i}w_ix_i}{\\partial \\vec w} = (x_1, x_2, ... x_n)^T$"
   ]
  },
  {
   "cell_type": "markdown",
   "id": "1f1f0228-44ff-47f0-be97-7bf677e29ae4",
   "metadata": {},
   "source": [
    "<h4>Вычисление частных производных функции активации</h4>"
   ]
  },
  {
   "cell_type": "markdown",
   "id": "07181c02-be5b-4265-9af0-665131b35445",
   "metadata": {},
   "source": [
    "Как было описанно выше производная функции max:"
   ]
  },
  {
   "cell_type": "markdown",
   "id": "682c13cd-9fa9-464b-99b5-42670f748af5",
   "metadata": {},
   "source": [
    "$\n",
    "\\frac{\\partial}{\\partial x}max(f, g)=\n",
    "\\begin{equation*}\n",
    " \\begin{cases}\n",
    "   \\frac{\\partial f}{\\partial x} \\ ,если\\ f > g\\\\\n",
    "   \\frac{\\partial g}{\\partial x} \\ ,если\\ f \\leq g\\\\\n",
    "\\end{cases}\n",
    "\\end{equation*}$"
   ]
  },
  {
   "cell_type": "markdown",
   "id": "4c97b4e2-7e82-4aae-a14b-d72c9b0238b5",
   "metadata": {},
   "source": [
    "Для случая $max(0, \\vec w \\vec x+b)$:"
   ]
  },
  {
   "cell_type": "markdown",
   "id": "3bbd0888-e332-413a-b0de-b0d969040f47",
   "metadata": {},
   "source": [
    "$\n",
    "\\frac{\\partial}{\\partial \\vec w}max(0, \\vec w \\vec x + b)=\n",
    "\\begin{equation*}\n",
    " \\begin{cases}\n",
    "   \\vec 0 \\ ,если\\ 0 > \\vec w \\vec x + b \\\\\n",
    "   \\vec x^T \\ ,если\\ 0 \\leq \\vec w \\vec x + b\\\\\n",
    "\\end{cases}\n",
    "\\end{equation*}$"
   ]
  },
  {
   "cell_type": "markdown",
   "id": "338243b1-5a3e-4399-813d-d00d7d6d1252",
   "metadata": {},
   "source": [
    "$\n",
    "\\frac{\\partial}{\\partial b}max(0, \\vec w \\vec x + b)=\n",
    "\\begin{equation*}\n",
    " \\begin{cases}\n",
    "   \\vec 0 \\ ,если\\ 0 > \\vec w \\vec x + b \\\\\n",
    "   1 \\ ,если\\ 0 \\leq \\vec w \\vec x + b\\\\\n",
    "\\end{cases}\n",
    "\\end{equation*}$"
   ]
  },
  {
   "cell_type": "markdown",
   "id": "85624a7b-91d7-41da-9bf5-204a5d40b1c6",
   "metadata": {},
   "source": [
    "<h4>Вычисление частных производных функции потерь</h4>"
   ]
  },
  {
   "cell_type": "markdown",
   "id": "9c3067f3-c479-4128-91e1-478ddcb1a982",
   "metadata": {},
   "source": [
    "Функция потерь имеет следующий вид:"
   ]
  },
  {
   "cell_type": "markdown",
   "id": "bc723103-69e1-4fc0-ae30-3f61996e2f0f",
   "metadata": {},
   "source": [
    "$l(x) = \\frac{1}{N}\\sum\\limits_{i}(y_i - z(x))^2$"
   ]
  },
  {
   "cell_type": "markdown",
   "id": "34e982e5-a8f9-4acc-a200-9c47a842dc2a",
   "metadata": {},
   "source": [
    "$\\frac{\\partial l}{\\partial x} = \\frac{1}{N} \\frac{\\partial}{\\partial x}\\sum\\limits_{i}(y_i - z(x, \\vec w, b))^2 = \\frac{1}{N} \\sum\\limits_{i} \\frac{\\partial}{\\partial x}(y_i - z(x, \\vec w, b))^2 = \\frac{1}{N} \\sum\\limits_{i} 2(y_i - z(x, \\vec w ,b)) \\frac{\\partial}{\\partial x} (y_i - z(x, \\vec w, b)) = \\frac{1}{N} \\sum\\limits_{i} 2(y_i - z(x, \\vec w ,b)) \\frac{\\partial}{\\partial x} (- z(x, \\vec w, b))) = \\frac{1}{N} \\sum\\limits_{i} 2(z(x, \\vec w ,b) - y_i) \\frac{\\partial z(x, \\vec w, b)}{\\partial x} )$"
   ]
  },
  {
   "cell_type": "markdown",
   "id": "64ae9ecf-8389-4ab8-b82c-c565f60a0560",
   "metadata": {},
   "source": [
    "Аналогично:"
   ]
  },
  {
   "cell_type": "markdown",
   "id": "0a453470-9ef2-4257-9d08-f81a9cd0f025",
   "metadata": {},
   "source": [
    "$\\frac{\\partial l}{\\partial \\vec w} = \\frac{1}{N} \\sum\\limits_{i} 2(z(x, \\vec w ,b) - y_i) \\frac{\\partial z(x, \\vec w, b)}{\\partial \\vec w}$"
   ]
  },
  {
   "cell_type": "markdown",
   "id": "447d0434-300f-46e3-bb6d-867d2d016ca7",
   "metadata": {},
   "source": [
    "$\\frac{\\partial l}{\\partial w} = \\frac{1}{N} \\sum\\limits_{i} 2(z(x, \\vec w ,b) - y_i) \\frac{\\partial z(x, \\vec w, b)}{\\partial b}$"
   ]
  },
  {
   "cell_type": "markdown",
   "id": "de58afdd-7166-470a-b31f-097e679f3822",
   "metadata": {},
   "source": [
    "Рассчитаем производную $\\frac{\\partial l}{\\partial \\vec w}$ до конца:"
   ]
  },
  {
   "cell_type": "markdown",
   "id": "105bc14a-0fff-468d-957b-a235ff8f04e4",
   "metadata": {},
   "source": [
    "$\\frac{\\partial l}{\\partial \\vec w} = \\frac{1}{N} \\sum\\limits_{i} 2(z(x, \\vec w ,b) - y_i) \\frac{\\partial z(x, \\vec w, b)}{\\partial \\vec w}$"
   ]
  },
  {
   "cell_type": "markdown",
   "id": "21e99005-0cf4-4840-a46c-63896c9a9cae",
   "metadata": {},
   "source": [
    "$\n",
    "\\frac{\\partial z(x, \\vec w, b)}{\\partial \\vec w}=\n",
    "\\begin{equation*}\n",
    " \\begin{cases}\n",
    "   \\vec 0 \\ ,если\\ 0 > \\vec w \\vec x + b \\\\\n",
    "   \\vec x^T \\ ,если\\ 0 \\leq \\vec w \\vec x + b\\\\\n",
    "\\end{cases}\n",
    "\\end{equation*}$"
   ]
  },
  {
   "cell_type": "markdown",
   "id": "4a5d8966-d4ae-4ed7-94b8-96da1d5ca30b",
   "metadata": {},
   "source": [
    "Тогда для случая $0 > \\vec w \\vec x + b$:"
   ]
  },
  {
   "cell_type": "markdown",
   "id": "0cbcc4fd-f3c3-4853-825e-c98175e844be",
   "metadata": {},
   "source": [
    "$\\frac{\\partial l}{\\partial \\vec w} = \\frac{1}{N} \\sum\\limits_{i} 2(z(x, \\vec w ,b) - y_i) \\vec 0 = \\vec 0$"
   ]
  },
  {
   "cell_type": "markdown",
   "id": "23d34e49-e765-4b66-8436-74b66f13a4e3",
   "metadata": {},
   "source": [
    "Для случая $0 \\leq \\vec w \\vec x + b$:"
   ]
  },
  {
   "cell_type": "markdown",
   "id": "2b73b7fa-8f3a-4bca-9dfa-244a57bba1b5",
   "metadata": {},
   "source": [
    "$\\frac{\\partial l}{\\partial \\vec w} = \\frac{1}{N} \\sum\\limits_{i} 2(z(x, \\vec w ,b) - y_i) ( \\vec x)^T = \\frac{2}{N} \\sum\\limits_{i} (z(x, \\vec w ,b) - y_i) \\vec x ^ T$"
   ]
  },
  {
   "cell_type": "markdown",
   "id": "79652337-e49f-4ee0-ba01-be63f03df511",
   "metadata": {},
   "source": [
    "Отсюда получаем:"
   ]
  },
  {
   "cell_type": "markdown",
   "id": "86ab15e4-5719-49e5-9f68-9c2d811b1558",
   "metadata": {},
   "source": [
    "$\\frac{\\partial l}{\\partial \\vec w}=\n",
    "\\begin{equation*}\n",
    " \\begin{cases}\n",
    "   \\vec 0 \\ ,если\\ 0 > \\vec w \\vec x + b \\\\\n",
    "   \\frac{2}{N} \\sum\\limits_{i} (z(x, \\vec w ,b) - y_i) \\vec x ^ T \\ ,если\\ 0 \\leq \\vec w \\vec x + b\\\\\n",
    "\\end{cases}\n",
    "\\end{equation*}\n",
    "$"
   ]
  },
  {
   "cell_type": "markdown",
   "id": "84f6e22b-5e46-427a-a429-64ae4f7bc2df",
   "metadata": {},
   "source": [
    "Аналогично получаем:"
   ]
  },
  {
   "cell_type": "markdown",
   "id": "098fef15-a320-4014-9c76-f85be9e62c1b",
   "metadata": {},
   "source": [
    "$\\frac{\\partial l}{\\partial b}=\n",
    "\\begin{equation*}\n",
    " \\begin{cases}\n",
    "   0 \\ ,если\\ 0 > \\vec w \\vec x + b \\\\\n",
    "    \\frac{2}{N} \\sum\\limits_{i} (z(x, \\vec w ,b) - y_i) \\ ,если\\ 0 \\leq \\vec w \\vec x + b\\\\\n",
    "\\end{cases}\n",
    "\\end{equation*}\n",
    "$"
   ]
  },
  {
   "cell_type": "markdown",
   "id": "3e4b65bf-170e-4e27-b717-334a2084714c",
   "metadata": {},
   "source": [
    "<h4>Градиентный спуск</h4>"
   ]
  },
  {
   "cell_type": "markdown",
   "id": "1ab682a2-cba9-4846-86d2-3fc061badc09",
   "metadata": {},
   "source": [
    "Зная частные производные $\\frac{\\partial l}{\\partial \\vec w}$ и $\\frac{\\partial l}{\\partial b}$ можно оптимизировать эти параметры с помощью градиентного спуска. Для этого необхожимо давать небольшие приращения для $w$ и $b$ в направлении противоположном градиенту."
   ]
  },
  {
   "cell_type": "markdown",
   "id": "9d90c349-e754-4e0f-a244-7b645139c87e",
   "metadata": {},
   "source": [
    "$\\vec w_{t+1} = \\vec w_t - \\alpha \\frac{\\partial l}{\\partial \\vec w}$"
   ]
  },
  {
   "cell_type": "markdown",
   "id": "4b6b36c8-2dfe-4743-bf58-8b63eeb0965a",
   "metadata": {},
   "source": [
    "$b_{t+1} = b_t - \\alpha \\frac{\\partial l}{\\partial \\vec b}$"
   ]
  },
  {
   "cell_type": "markdown",
   "id": "796db2ce-9742-4431-ac3e-3d4671202c75",
   "metadata": {},
   "source": [
    "где $\\alpha$ - коэффициент скорости обучения. "
   ]
  },
  {
   "cell_type": "code",
   "execution_count": null,
   "id": "d625e8ae-8a15-4216-a955-6421593e1e84",
   "metadata": {},
   "outputs": [],
   "source": []
  },
  {
   "cell_type": "code",
   "execution_count": null,
   "id": "15fa1241-f37f-434e-883d-8ed671556ac4",
   "metadata": {},
   "outputs": [],
   "source": []
  },
  {
   "cell_type": "code",
   "execution_count": null,
   "id": "eb843c1d-92ce-44c8-a32c-d4ca24b3eeaa",
   "metadata": {},
   "outputs": [],
   "source": []
  },
  {
   "cell_type": "code",
   "execution_count": null,
   "id": "7517497e-623d-48bc-9002-50c1674a7438",
   "metadata": {},
   "outputs": [],
   "source": []
  },
  {
   "cell_type": "code",
   "execution_count": null,
   "id": "56f46a53-4fa6-4184-891b-7ec96b6ebf8c",
   "metadata": {},
   "outputs": [],
   "source": []
  },
  {
   "cell_type": "code",
   "execution_count": null,
   "id": "1887e31d-d979-4961-a6b4-ae88eadad06b",
   "metadata": {},
   "outputs": [],
   "source": []
  }
 ],
 "metadata": {
  "kernelspec": {
   "display_name": "Python 3",
   "language": "python",
   "name": "python3"
  },
  "language_info": {
   "codemirror_mode": {
    "name": "ipython",
    "version": 3
   },
   "file_extension": ".py",
   "mimetype": "text/x-python",
   "name": "python",
   "nbconvert_exporter": "python",
   "pygments_lexer": "ipython3",
   "version": "3.7.11"
  }
 },
 "nbformat": 4,
 "nbformat_minor": 5
}
