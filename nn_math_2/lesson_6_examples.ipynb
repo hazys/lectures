{
 "cells": [
  {
   "cell_type": "markdown",
   "id": "67593eb2-776d-4d29-b0ee-6945ddce0d4e",
   "metadata": {},
   "source": [
    "# Нейронные сети. Понятно. Детально."
   ]
  },
  {
   "cell_type": "markdown",
   "id": "30d718cd-4e32-451f-b2df-d381f1c34696",
   "metadata": {
    "tags": []
   },
   "source": [
    "## Раздел 6. Примеры дифференциирования операций с многомерными матрицами."
   ]
  },
  {
   "cell_type": "code",
   "execution_count": null,
   "id": "f2bd69a1-9f8e-48b0-b7f7-dd3382a15f73",
   "metadata": {},
   "outputs": [],
   "source": []
  },
  {
   "cell_type": "code",
   "execution_count": null,
   "id": "eab20197-1480-4ee3-b173-08d420d3055e",
   "metadata": {},
   "outputs": [],
   "source": []
  },
  {
   "cell_type": "code",
   "execution_count": null,
   "id": "180b80eb-5491-462f-8ac2-dd8df80e2c42",
   "metadata": {},
   "outputs": [],
   "source": []
  },
  {
   "cell_type": "code",
   "execution_count": null,
   "id": "a8f52726-8045-42b1-8dc4-a3f3c169e663",
   "metadata": {},
   "outputs": [],
   "source": []
  },
  {
   "cell_type": "code",
   "execution_count": null,
   "id": "52368f51-7b55-46b7-af4a-060b9d4d496e",
   "metadata": {},
   "outputs": [],
   "source": []
  },
  {
   "cell_type": "markdown",
   "id": "4bffa815-8673-41ea-b464-287d05ad99a8",
   "metadata": {},
   "source": [
    "<h3>Градиентный спуск в нейронных сетях на основе цепного правила в тензорной форме</h3>"
   ]
  },
  {
   "cell_type": "markdown",
   "id": "e66803f8-e9d9-4648-8a8b-f142a1ac4510",
   "metadata": {},
   "source": [
    "Градиентный спуск в тензорной форме имеет такойй же вид, как и в матричной с одним отличием: вместо матриц в нем применяются многомерные матрицы и операции над ними."
   ]
  },
  {
   "cell_type": "markdown",
   "id": "4fa9fe20-b197-4ff6-a3e4-39f35b488dae",
   "metadata": {},
   "source": [
    "$$\\vec w_{t+1} = \\vec w_t - \\alpha \\frac{\\partial l}{\\partial \\vec w}$$"
   ]
  },
  {
   "cell_type": "markdown",
   "id": "126c2495-c3cf-41ec-979f-d0abd0e265c3",
   "metadata": {},
   "source": [
    "где $\\alpha$ - коэффициент скорости обучения, $\\vec w_{t}$ - итерация шага $t$, $l$ - рассчетная функция."
   ]
  }
 ],
 "metadata": {
  "kernelspec": {
   "display_name": "Python 3",
   "language": "python",
   "name": "python3"
  },
  "language_info": {
   "codemirror_mode": {
    "name": "ipython",
    "version": 3
   },
   "file_extension": ".py",
   "mimetype": "text/x-python",
   "name": "python",
   "nbconvert_exporter": "python",
   "pygments_lexer": "ipython3",
   "version": "3.7.11"
  }
 },
 "nbformat": 4,
 "nbformat_minor": 5
}
