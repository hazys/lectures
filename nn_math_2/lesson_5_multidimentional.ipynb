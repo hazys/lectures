{
 "cells": [
  {
   "cell_type": "markdown",
   "id": "1c1ead81-0b2d-4e78-932c-9659a997d33e",
   "metadata": {},
   "source": [
    "# Нейронные сети. Понятно. Детально."
   ]
  },
  {
   "cell_type": "markdown",
   "id": "2d4c2c32-34ff-4e7d-94bb-da58d06ddc7f",
   "metadata": {
    "tags": []
   },
   "source": [
    "## Раздел 5. Дифференциирование в векторно-матричной форме."
   ]
  },
  {
   "cell_type": "code",
   "execution_count": null,
   "id": "4ad90f56-2b51-47f5-95d7-f7656282dee6",
   "metadata": {},
   "outputs": [],
   "source": []
  },
  {
   "cell_type": "markdown",
   "id": "43bc6e93-0034-43f0-b6f0-13f23b592d24",
   "metadata": {},
   "source": [
    "<h3>Дифференциирование сложных функций многих переменных в векторно-матричной форме</h3>"
   ]
  },
  {
   "cell_type": "markdown",
   "id": "a634d9d0-8552-45a1-b9ae-2b76b77480b6",
   "metadata": {},
   "source": [
    "Выше были рассмотрены правила дифференциирования сложной функции одной переменной в векторно-матричной форме. Для получения общего правила дифференциирования сложных функций многих переменных в векторно-матричной форме необходимо рассмотреть пример. Предположим $\\vec f = \\vec f (x)$:"
   ]
  },
  {
   "cell_type": "markdown",
   "id": "1a79612d-6445-420a-8554-28ca0b7ae249",
   "metadata": {},
   "source": [
    "$\n",
    "\\begin{pmatrix} \n",
    "    f_1(x) \\\\\n",
    "    f_2(x) \\\\\n",
    "\\end{pmatrix} =\n",
    "\\begin{pmatrix} \n",
    "    cos(x^3)\\\\\n",
    "    ln(2x)  \\\\\n",
    "\\end{pmatrix}\n",
    "$"
   ]
  },
  {
   "cell_type": "markdown",
   "id": "c9eaba77-2e12-46fd-917e-284d389c3f3f",
   "metadata": {},
   "source": [
    "Произведём замену переменных:"
   ]
  },
  {
   "cell_type": "markdown",
   "id": "e019f386-01cf-4cc1-8206-c7471f42c9b9",
   "metadata": {},
   "source": [
    "$\n",
    "\\begin{pmatrix} \n",
    "    g_1(x) \\\\\n",
    "    g_2(x) \\\\\n",
    "\\end{pmatrix} =\n",
    "\\begin{pmatrix} \n",
    "    x^3\\\\\n",
    "    2x  \\\\\n",
    "\\end{pmatrix}\n",
    "$"
   ]
  },
  {
   "cell_type": "markdown",
   "id": "80f88b57-878a-4ae4-899a-977a490311cd",
   "metadata": {},
   "source": [
    "$\n",
    "\\begin{pmatrix} \n",
    "    f_1(x) \\\\\n",
    "    f_2(x) \\\\\n",
    "\\end{pmatrix} =\n",
    "\\begin{pmatrix} \n",
    "    cos(g_1)\\\\\n",
    "    ln(g_2)  \\\\\n",
    "\\end{pmatrix}\n",
    "$"
   ]
  },
  {
   "cell_type": "markdown",
   "id": "a0b2a11c-f7f9-4c73-aa1d-a61d74b190d1",
   "metadata": {},
   "source": [
    "Тогда цепное правило примет вид:"
   ]
  },
  {
   "cell_type": "markdown",
   "id": "15e87a87-4bf2-40d7-93de-caa6da0bab66",
   "metadata": {},
   "source": [
    "$\\frac{\\partial \\vec f}{\\partial x} = \n",
    "\\begin{pmatrix} \n",
    "    \\frac{\\partial f_1(g)}{\\partial x} \\\\\n",
    "    \\frac{\\partial f_2(g)}{\\partial x} \\\\\n",
    "\\end{pmatrix} = \n",
    "\\begin{pmatrix} \n",
    "    \\frac{\\partial f_1}{\\partial g_1}\\frac{\\partial g_1}{\\partial x} + \\frac{\\partial f_1}{\\partial g_2}\\frac{\\partial f_2}{\\partial x} \\\\\n",
    "    \\frac{\\partial f_2}{\\partial g_1}\\frac{\\partial g_1}{\\partial x} + \\frac{\\partial f_2}{\\partial g_2}\\frac{\\partial f_2}{\\partial x} \\\\\n",
    "\\end{pmatrix} =\n",
    "\\begin{pmatrix} \n",
    "    -sin(g1)*3x^2 + 0 \\\\\n",
    "    0 + \\frac{1}{g_2}*2 \\\\\n",
    "\\end{pmatrix} = \n",
    "\\begin{pmatrix} \n",
    "    -3x^2sin(x^3) \\\\\n",
    "    \\frac{1}{x} \\\\\n",
    "\\end{pmatrix}\n",
    "$ "
   ]
  },
  {
   "cell_type": "markdown",
   "id": "2ce1bcc8-2f15-4fbf-ade2-f947bde3c936",
   "metadata": {},
   "source": [
    "Для того, чтобы получить цепное правило в векторно-матричеой форме необходимо понять как представить \n",
    "$\\begin{pmatrix} \n",
    "    \\frac{\\partial f_1}{\\partial g_1}\\frac{\\partial g_1}{\\partial x} + \\frac{\\partial f_1}{\\partial g_2}\\frac{\\partial f_2}{\\partial x} \\\\\n",
    "    \\frac{\\partial f_2}{\\partial g_1}\\frac{\\partial g_1}{\\partial x} + \\frac{\\partial f_2}{\\partial g_2}\\frac{\\partial f_2}{\\partial x} \\\\\n",
    "\\end{pmatrix}$\n",
    "в виде вектрно-матричных операций.\n",
    "$\\begin{pmatrix} \n",
    "    \\frac{\\partial f_1}{\\partial g_1}\\frac{\\partial g_1}{\\partial x} + \\frac{\\partial f_1}{\\partial g_2}\\frac{\\partial f_2}{\\partial x} \\\\\n",
    "    \\frac{\\partial f_2}{\\partial g_1}\\frac{\\partial g_1}{\\partial x} + \\frac{\\partial f_2}{\\partial g_2}\\frac{\\partial f_2}{\\partial x} \\\\\n",
    "\\end{pmatrix}$\n",
    "можно представить в виде произведения двух матриц\n",
    "$\\begin{pmatrix} \n",
    "    \\frac{\\partial f_1}{\\partial g_1} & \\frac{\\partial f_1}{\\partial g_2} \\\\\n",
    "    \\frac{\\partial f_2}{\\partial g_1} & \\frac{\\partial f_2}{\\partial g_2} \\\\\n",
    "\\end{pmatrix}$\n",
    "$\\begin{pmatrix} \n",
    "    \\frac{\\partial g_1}{\\partial x} \\\\\n",
    "    \\frac{\\partial g_2}{\\partial x} \\\\\n",
    "\\end{pmatrix}$,\n",
    "что в свою очередь равняется $\\frac{\\partial \\vec f}{\\partial \\vec g}\\frac{\\partial \\vec g}{\\partial x}$.\n"
   ]
  },
  {
   "cell_type": "markdown",
   "id": "5cf54c10-b89e-48ee-a376-545ac936bd3c",
   "metadata": {},
   "source": [
    "$$ \\frac{\\partial \\vec f}{\\partial x} = \\frac{\\partial \\vec f}{\\partial \\vec g}\\frac{\\partial \\vec g}{\\partial x}$$"
   ]
  },
  {
   "cell_type": "markdown",
   "id": "95b02447-f5fb-45d8-af66-fccee37e3b89",
   "metadata": {},
   "source": [
    "Для того, чтобы можно было дифференциировать сложную функцию многих переменных достаточно в данном правиле заменить $x$ на $\\vec x$. Тогда полное правило дифференциирования сложной функции многих переменных в векторно-матричной форме примет вид:"
   ]
  },
  {
   "cell_type": "markdown",
   "id": "93015367-6133-4b1a-b460-f22ce0c92dc3",
   "metadata": {},
   "source": [
    "$$\n",
    "\\frac{\\partial \\vec f}{\\partial \\vec x}= \n",
    "\\frac{\\partial \\vec f}{\\partial \\vec g}\\frac{\\partial \\vec g}{\\partial \\vec x}=\n",
    "\\begin{pmatrix} \n",
    "    \\frac{\\partial f_1}{\\partial g_1} & \\frac{\\partial f_1}{\\partial g_2} & ... & \\frac{\\partial f_1}{\\partial g_k} \\\\\n",
    "    \\frac{\\partial f_2}{\\partial g_1} & \\frac{\\partial f_2}{\\partial g_2} & ... & \\frac{\\partial f_2}{\\partial g_k} \\\\\n",
    "    ... & ... & ... & ... \\\\\n",
    "    \\frac{\\partial f_m}{\\partial g_1} & \\frac{\\partial f_m}{\\partial g_2} & ... & \\frac{\\partial f_m}{\\partial g_k} \\\\\n",
    "\\end{pmatrix}\n",
    "\\begin{pmatrix} \n",
    "    \\frac{\\partial g_1}{\\partial x_1} & \\frac{\\partial g_1}{\\partial x_2} & ... & \\frac{\\partial g_1}{\\partial x_n} \\\\\n",
    "    \\frac{\\partial g_2}{\\partial x_1} & \\frac{\\partial g_2}{\\partial x_2} & ... & \\frac{\\partial g_2}{\\partial x_n} \\\\\n",
    "    ... & ... & ... & ... \\\\\n",
    "    \\frac{\\partial g_k}{\\partial x_1} & \\frac{\\partial g_k}{\\partial x_2} & ... & \\frac{\\partial g_k}{\\partial x_n} \\\\\n",
    "\\end{pmatrix}=\n",
    "\\begin{pmatrix} \n",
    "    \\sum\\limits_{i=1}^{k}\\frac{\\partial f_1}{\\partial g_k}\\frac{\\partial g_k}{\\partial x_1} &\n",
    "    \\sum\\limits_{i=1}^{k}\\frac{\\partial f_2}{\\partial g_k}\\frac{\\partial g_k}{\\partial x_2} &\n",
    "    ... &\n",
    "    \\sum\\limits_{i=1}^{k}\\frac{\\partial f_m}{\\partial g_k}\\frac{\\partial g_k}{\\partial x_n} \\\\    \n",
    "    \\sum\\limits_{i=1}^{k}\\frac{\\partial f_1}{\\partial g_k}\\frac{\\partial g_k}{\\partial x_1} &\n",
    "    \\sum\\limits_{i=1}^{k}\\frac{\\partial f_2}{\\partial g_k}\\frac{\\partial g_k}{\\partial x_2} &\n",
    "    ... &\n",
    "    \\sum\\limits_{i=1}^{k}\\frac{\\partial f_m}{\\partial g_k}\\frac{\\partial g_k}{\\partial x_n} \\\\    \n",
    "    ... & ... & ... & ... \\\\    \n",
    "    \\sum\\limits_{i=1}^{k}\\frac{\\partial f_1}{\\partial g_k}\\frac{\\partial g_k}{\\partial x_1} &\n",
    "    \\sum\\limits_{i=1}^{k}\\frac{\\partial f_2}{\\partial g_k}\\frac{\\partial g_k}{\\partial x_2} &\n",
    "    ... &\n",
    "    \\sum\\limits_{i=1}^{k}\\frac{\\partial f_m}{\\partial g_k}\\frac{\\partial g_k}{\\partial x_n} \\\\\n",
    "\\end{pmatrix}\n",
    "$$"
   ]
  },
  {
   "cell_type": "markdown",
   "id": "015db2f6-a1e0-4c20-8fa8-b84457fe17e4",
   "metadata": {},
   "source": [
    "где m - количество функций f, n - количество переменных x, k - количество функций g. Результирующая матрица Якоби будет иметь размер m на n, так как приведенные матрицы имеют размер m на k и k на n. Зачастую функции $f$ и $g$ зависят от одной соответствующей переменной x, при этом матрицы становятся квадратными. Поэтому вычисления производных в векторно-матричной форме можно значительно упростить, т.к. для их проведения зачастую бывает достаточно диагональной матрицы, а не матрицы Якоби. Как было показано выше если функция $y_i$ не содержит $z_j$ то $\\frac{\\partial y}{\\partial z}$=0, а матрица Якоби превращается в диагональню. По аналогии если $f_i$ зависит только от $g_i$, а $g_i$ от $x_i$, то:"
   ]
  },
  {
   "cell_type": "markdown",
   "id": "a332bb36-5189-4bfa-b4f1-f2c8f052c611",
   "metadata": {},
   "source": [
    "$\\frac{\\partial \\vec f}{\\partial \\vec g} = diag(\\frac{\\partial f_i}{\\partial g_i})$"
   ]
  },
  {
   "cell_type": "markdown",
   "id": "8b9bb002-7b8f-459b-a32d-d5b4e8b36adb",
   "metadata": {},
   "source": [
    "$\\frac{\\partial \\vec g}{\\partial \\vec x} = diag(\\frac{\\partial g_i}{\\partial x_i})$"
   ]
  },
  {
   "cell_type": "markdown",
   "id": "b2ee8516-4a91-4c53-970b-3cb69f1eec94",
   "metadata": {},
   "source": [
    "$\\frac{\\partial \\vec f}{\\partial \\vec x}=diag(\\frac{\\partial f_i}{\\partial g_i})diag(\\frac{\\partial g_i}{\\partial x_i})=diag(\\frac{\\partial f_i}{\\partial g_i}\\frac{\\partial g_i}{\\partial x_i})$"
   ]
  },
  {
   "cell_type": "markdown",
   "id": "8ff75e8a-728a-4190-9657-411e7493f468",
   "metadata": {},
   "source": [
    "В таком случае матрица Якоби превращается в диагональную, элементами которой являются производные сложной функции одной переменной."
   ]
  },
  {
   "cell_type": "markdown",
   "id": "91f186c8-cbf1-45bb-afdd-854e12ff70ed",
   "metadata": {},
   "source": [
    "Обощив все вышесказанное можно составить таблицу, описывающую все возможные варианты цепного правила."
   ]
  },
  {
   "cell_type": "markdown",
   "id": "dddc6d05-f407-4373-a89f-0131dec70b07",
   "metadata": {},
   "source": [
    "<table width=1000 border=\"1\">\n",
    "    <tr>\n",
    "        <td rowspan=\"2\">\n",
    "            $\\frac{\\partial}{\\partial \\vec x} \\vec f(\\vec g(\\vec x))=\\frac{\\partial \\vec f}{\\partial \\vec x}\\frac{\\partial \\vec g}{\\partial \\vec x}$\n",
    "        </td>\n",
    "        <td colspan=\"2\" align=\"center\">\n",
    "            $x$\n",
    "        </td>\n",
    "        <td>\n",
    "            $\\vec x$\n",
    "        </td>\n",
    "    </tr>            \n",
    "    <tr>\n",
    "        <td>\n",
    "            $g$\n",
    "        </td>        \n",
    "        <td>\n",
    "            $\\vec g$\n",
    "        </td>\n",
    "        <td>\n",
    "            $\\vec g$\n",
    "        </td>\n",
    "    </tr>\n",
    "    <tr>\n",
    "        <td>\n",
    "            $f$\n",
    "        </td>        \n",
    "        <td>\n",
    "            $\\frac{\\partial f}{\\partial g}\\frac{\\partial g}{\\partial x}$\n",
    "        </td>\n",
    "        <td>\n",
    "            $\\frac{\\partial f}{\\partial \\vec g}\\frac{\\partial \\vec g}{\\partial x}=            \n",
    "            (\\frac{\\partial f}{\\partial g_1}, \\frac{\\partial f}{\\partial g_2}, ..., \\frac{\\partial f}{\\partial g_k})\n",
    "            \\begin{pmatrix} \n",
    "                \\frac{\\partial g_1}{\\partial x} \\\\ \n",
    "                \\frac{\\partial g_2}{\\partial x} \\\\ \n",
    "                ... \\\\\n",
    "                \\frac{\\partial g_k}{\\partial x} \\\\ \n",
    "            \\end{pmatrix}            \n",
    "            $\n",
    "        </td>\n",
    "        <td>\n",
    "            $\\frac{\\partial f}{\\partial \\vec g}\\frac{\\partial \\vec g}{\\partial \\vec x}=            \n",
    "            (\\frac{\\partial f}{\\partial g_1}, \\frac{\\partial f}{\\partial g_2}, ..., \\frac{\\partial f}{\\partial g_k})*\n",
    "            \\begin{pmatrix} \n",
    "                \\frac{\\partial g_1}{\\partial x_1} & \\frac{\\partial g_1}{\\partial x_2} & ... & \\frac{\\partial g_1}{\\partial x_n} \\\\ \n",
    "                \\frac{\\partial g_2}{\\partial x_1} & \\frac{\\partial g_2}{\\partial x_2} & ... & \\frac{\\partial g_2}{\\partial x_n} \\\\ \n",
    "                ... & ... & ... & ... \\\\\n",
    "                \\frac{\\partial g_k}{\\partial x_1} & \\frac{\\partial g_k}{\\partial x_2} & ... & \\frac{\\partial g_k}{\\partial x_n} \\\\ \n",
    "            \\end{pmatrix}            \n",
    "            $\n",
    "        </td>\n",
    "    </tr>\n",
    "    <tr>\n",
    "        <td>\n",
    "            $\\vec f$\n",
    "        </td>        \n",
    "        <td>\n",
    "            $\\frac{\\partial \\vec f}{\\partial g}=\n",
    "            \\begin{pmatrix} \n",
    "                \\frac{\\partial f_1}{\\partial g} \\\\ \n",
    "                \\frac{\\partial f_2}{\\partial g} \\\\ \n",
    "                ... \\\\\n",
    "                \\frac{\\partial f_m}{\\partial g} \\\\ \n",
    "            \\end{pmatrix}\n",
    "            \\frac{\\partial g}{\\partial x}\n",
    "            $\n",
    "        </td>\n",
    "        <td>\n",
    "            $\\frac{\\partial \\vec f}{\\partial \\vec g}\\frac{\\partial \\vec g}{\\partial x}=            \n",
    "            \\begin{pmatrix} \n",
    "                \\frac{\\partial f_1}{\\partial g_1} & \\frac{\\partial f_1}{\\partial g_2} & ... & \\frac{\\partial f_1}{\\partial g_k} \\\\ \n",
    "                \\frac{\\partial f_2}{\\partial g_1} & \\frac{\\partial f_2}{\\partial g_2} & ... & \\frac{\\partial f_2}{\\partial g_k} \\\\ \n",
    "                ... & ... & ... & ... \\\\\n",
    "                \\frac{\\partial f_m}{\\partial g_1} & \\frac{\\partial f_m}{\\partial g_2} & ... & \\frac{\\partial f_m}{\\partial g_k} \\\\ \n",
    "            \\end{pmatrix}\n",
    "            \\begin{pmatrix} \n",
    "                \\frac{\\partial g_1}{\\partial x} \\\\ \n",
    "                \\frac{\\partial g_2}{\\partial x} \\\\ \n",
    "                ... \\\\\n",
    "                \\frac{\\partial g_k}{\\partial x} \\\\ \n",
    "            \\end{pmatrix}            \n",
    "            $\n",
    "        </td>\n",
    "        <td>\n",
    "            $\\frac{\\partial \\vec f}{\\partial \\vec g}\\frac{\\partial \\vec g}{\\partial \\vec x}=            \n",
    "            \\begin{pmatrix} \n",
    "                \\frac{\\partial f_1}{\\partial g_1} & \\frac{\\partial f_1}{\\partial g_2} & ... & \\frac{\\partial f_1}{\\partial g_k} \\\\ \n",
    "                \\frac{\\partial f_2}{\\partial g_1} & \\frac{\\partial f_2}{\\partial g_2} & ... & \\frac{\\partial f_2}{\\partial g_k} \\\\ \n",
    "                ... & ... & ... & ... \\\\\n",
    "                \\frac{\\partial f_m}{\\partial g_1} & \\frac{\\partial f_m}{\\partial g_2} & ... & \\frac{\\partial f_m}{\\partial g_k} \\\\ \n",
    "            \\end{pmatrix}*\n",
    "            \\begin{pmatrix} \n",
    "                \\frac{\\partial g_1}{\\partial x_1} & \\frac{\\partial g_1}{\\partial x_2} & ... & \\frac{\\partial g_1}{\\partial x_n} \\\\ \n",
    "                \\frac{\\partial g_2}{\\partial x_1} & \\frac{\\partial g_2}{\\partial x_2} & ... & \\frac{\\partial g_2}{\\partial x_n} \\\\ \n",
    "                ... & ... & ... & ... \\\\\n",
    "                \\frac{\\partial g_k}{\\partial x_1} & \\frac{\\partial g_k}{\\partial x_2} & ... & \\frac{\\partial g_k}{\\partial x_n} \\\\ \n",
    "            \\end{pmatrix}            \n",
    "            $\n",
    "        </td>\n",
    "    </tr>\n",
    "</table>"
   ]
  },
  {
   "cell_type": "markdown",
   "id": "45a6ad03-feb6-4ad7-a6a5-71e9e1b42769",
   "metadata": {},
   "source": [
    "<h3>Вычисление частной производной матричного умножения</h3>"
   ]
  },
  {
   "cell_type": "markdown",
   "id": "fb829a49-ad40-4519-be96-74e86659f3ab",
   "metadata": {},
   "source": [
    "Рассмотрим пример: пусть имееются матрицы A и B"
   ]
  },
  {
   "cell_type": "markdown",
   "id": "af86d7d1-83b0-4fe7-ad6b-26612b905bdc",
   "metadata": {},
   "source": [
    "$\n",
    "A = \n",
    "\\begin{pmatrix} \n",
    "     a_{11} & a_{12} \\\\\n",
    "     a_{21} & a_{22} \\\\\n",
    "\\end{pmatrix}$"
   ]
  },
  {
   "cell_type": "markdown",
   "id": "501e2494-09ed-4954-9137-1b54b5ef3a4e",
   "metadata": {},
   "source": [
    "$\n",
    "B = \n",
    "\\begin{pmatrix} \n",
    "     b_{11} & b_{12} \\\\\n",
    "     b_{21} & b_{22} \\\\\n",
    "\\end{pmatrix}$"
   ]
  },
  {
   "cell_type": "markdown",
   "id": "3e946a06-3ed7-4e06-8ba7-0312857e853f",
   "metadata": {},
   "source": [
    "Если $C = AB$, то $C$ примет вид:"
   ]
  },
  {
   "cell_type": "markdown",
   "id": "77e8e00f-246a-4186-8db7-23414bc41933",
   "metadata": {},
   "source": [
    "$\n",
    "С = \n",
    "\\begin{pmatrix} \n",
    "     a_{11}b_{11} + a_{12}b_{21} & a_{11}b_{12} + a_{12}b_{22} \\\\\n",
    "     a_{21}b_{11} + a_{22}b_{21} & a_{21}b_{12} + a_{22}b_{22} \\\\\n",
    "\\end{pmatrix}$"
   ]
  },
  {
   "cell_type": "markdown",
   "id": "1dcdc523-041c-467a-9a83-40e20291a1c1",
   "metadata": {},
   "source": [
    "Отсюда получаем:"
   ]
  },
  {
   "cell_type": "markdown",
   "id": "d69d5f7d-7276-46ae-a4db-d9b3e1fddcce",
   "metadata": {},
   "source": [
    "$\\frac{\\partial C}{\\partial a_{11}}=\n",
    "\\begin{pmatrix} \n",
    "     b_{11} & b_{12} \\\\\n",
    "     0 & 0 \\\\\n",
    "\\end{pmatrix}\n",
    "$"
   ]
  },
  {
   "cell_type": "markdown",
   "id": "871e3f6f-2d0d-4609-93c0-98b0dd1a9426",
   "metadata": {},
   "source": [
    "$\\frac{\\partial C}{\\partial a_{12}}=\n",
    "\\begin{pmatrix} \n",
    "     b_{21} & b_{22} \\\\\n",
    "     0 & 0 \\\\\n",
    "\\end{pmatrix}\n",
    "$"
   ]
  },
  {
   "cell_type": "markdown",
   "id": "2b535355-73a7-4609-95b6-9736735ffd2b",
   "metadata": {},
   "source": [
    "$\\frac{\\partial C}{\\partial a_{21}}=\n",
    "\\begin{pmatrix} \n",
    "     0 & 0 \\\\\n",
    "     b_{11} & b_{12} \\\\\n",
    "\\end{pmatrix}\n",
    "$"
   ]
  },
  {
   "cell_type": "markdown",
   "id": "7fbc608f-c782-4529-a500-011724e4618b",
   "metadata": {},
   "source": [
    "$\\frac{\\partial C}{\\partial a_{22}}=\n",
    "\\begin{pmatrix} \n",
    "     0 & 0 \\\\\n",
    "     b_{21} & b_{22} \\\\\n",
    "\\end{pmatrix}\n",
    "$"
   ]
  },
  {
   "cell_type": "markdown",
   "id": "566bebc6-9877-47bf-9fbe-2e7c4392ea36",
   "metadata": {},
   "source": [
    "Тогда получаем $\\frac{\\partial C}{\\partial A}$"
   ]
  },
  {
   "cell_type": "markdown",
   "id": "21320bb2-d0e1-404a-bf7b-51f1c3516745",
   "metadata": {},
   "source": [
    "$\\frac{\\partial C}{\\partial A}=\n",
    "\\begin{pmatrix} \n",
    "     \\sum\\frac{\\partial C}{\\partial a_{11}} & \\sum\\frac{\\partial C}{\\partial a_{12}} \\\\\n",
    "     \\sum\\frac{\\partial C}{\\partial a_{21}} & \\sum\\frac{\\partial C}{\\partial a_{22}} \\\\\n",
    "\\end{pmatrix} =\n",
    "\\begin{pmatrix} \n",
    "     b_{11} + b_{12} &  b_{21} + b_{22}\\\\\n",
    "     b_{11} + b_{12} &  b_{21} + b_{22}\\\\\n",
    "\\end{pmatrix}\n",
    "$"
   ]
  },
  {
   "cell_type": "markdown",
   "id": "ece24d37-4e4f-42e3-9e02-149ca716cbc4",
   "metadata": {},
   "source": [
    "В общем случае данные вычисления примут вид:"
   ]
  },
  {
   "cell_type": "markdown",
   "id": "c6e0130f-90fe-4adf-8cb4-c64a5e87ac86",
   "metadata": {},
   "source": [
    "$$\\frac{\\partial C}{\\partial A}=\n",
    "\\begin{pmatrix} \n",
    "     \\sum\\frac{\\partial C}{\\partial a_{11}} & \\sum\\frac{\\partial C}{\\partial a_{12}} \\\\\n",
    "     \\sum\\frac{\\partial C}{\\partial a_{21}} & \\sum\\frac{\\partial C}{\\partial a_{22}} \\\\\n",
    "\\end{pmatrix} \\frac{\\partial A}{\\partial A}= B^T \\frac{\\partial A}{\\partial A}\n",
    "$$"
   ]
  },
  {
   "cell_type": "markdown",
   "id": "d980e140-ee04-4883-b2c9-80db83bed00d",
   "metadata": {},
   "source": [
    "где матрица $C = AB$ (матричное умножение). Аналогично можно найти формулу расчетов для $\\frac{\\partial C}{\\partial B}$."
   ]
  },
  {
   "cell_type": "markdown",
   "id": "d8cede9d-9695-443e-b175-6da1018fbbc0",
   "metadata": {},
   "source": [
    "$$\\frac{\\partial C}{\\partial B}=\n",
    "\\begin{pmatrix} \n",
    "     \\sum\\frac{\\partial C}{\\partial b_{11}} & \\sum\\frac{\\partial C}{\\partial b_{12}} \\\\\n",
    "     \\sum\\frac{\\partial C}{\\partial b_{21}} & \\sum\\frac{\\partial C}{\\partial b_{22}} \\\\\n",
    "\\end{pmatrix} \\frac{\\partial B}{\\partial B}=  \\frac{\\partial B}{\\partial B} A^T\n",
    "$$"
   ]
  },
  {
   "cell_type": "code",
   "execution_count": null,
   "id": "abf18491-14b7-4e9a-b0a8-2d99067eafec",
   "metadata": {},
   "outputs": [],
   "source": []
  },
  {
   "cell_type": "code",
   "execution_count": null,
   "id": "5130faf8-305e-4f59-acaf-74b3f654d418",
   "metadata": {},
   "outputs": [],
   "source": []
  },
  {
   "cell_type": "markdown",
   "id": "8688426d-76ea-42c5-8520-f53a34f2afd7",
   "metadata": {},
   "source": [
    "<h2> Операции дифференциирования в тензорно-матричной форме форме </h2>"
   ]
  },
  {
   "cell_type": "markdown",
   "id": "8825e673-2241-4d5e-9906-b706aef9c60a",
   "metadata": {},
   "source": [
    "Для рассчета некоторых операций связанных с нейронными сетями необходимо обобщить операции дифференциирования в векторно-матричной форме до операций над многомерными матрицами и разработать для них спецефические операции и правила их дифференциирования."
   ]
  },
  {
   "cell_type": "markdown",
   "id": "764d2155-78b3-4fa6-a207-616c759b8df5",
   "metadata": {},
   "source": [
    "<h3> Различие понятий матрицы, многомерные матрицы, тензора </h3>"
   ]
  },
  {
   "cell_type": "markdown",
   "id": "01607792-e809-4193-8242-7265ba9f80f5",
   "metadata": {},
   "source": [
    "Для рассчетов глубоких нейронных зачастую требуется проводить операции над объектами с размерностью более двух. В математике такие объекты называются тензорами. Но для расчета нейронных сетей зачастую необходимо иметь возможность обрабатывать и хранить матрицы в сложных иерархических структурах и проводит над этими матрицами операции. Самым банальным примером такой работы является набор фильтров в CNN. Поэтому в нейронных сетях используются многомерные матрицы. По сути это многомерные массивы, которые хранят матрицы и имеют ряд спецефических операций."
   ]
  },
  {
   "cell_type": "markdown",
   "id": "4a844818-f57b-495f-9bc0-93c4fd8f700d",
   "metadata": {},
   "source": [
    "* операция индексирования\n",
    "* операция увеличения размерности\n",
    "* операция уменьшения размерности\n",
    "* операция транспонирования"
   ]
  },
  {
   "cell_type": "markdown",
   "id": "553ab89a-4da7-462e-9ca7-c200bda34329",
   "metadata": {},
   "source": [
    "Так как при расчете нейронных сетей не применяются тензорные операции, то здесь и далее все многомерные объекты хранящие данные (многомерные матрицы), для простоты описания, будут называться тензорами. А все операции над ними будут производится по правилам многомерных матриц."
   ]
  },
  {
   "cell_type": "code",
   "execution_count": null,
   "id": "bf266b1a-0dc5-42f3-833b-f2614baff478",
   "metadata": {},
   "outputs": [],
   "source": []
  },
  {
   "cell_type": "markdown",
   "id": "02772b16-1192-4ce6-a8f7-9a2a8e0f29a9",
   "metadata": {},
   "source": [
    "возможно стоит добавить рисунки"
   ]
  },
  {
   "cell_type": "code",
   "execution_count": null,
   "id": "1f536e96-136c-4e62-b9cf-b3b5574719ff",
   "metadata": {},
   "outputs": [],
   "source": []
  },
  {
   "cell_type": "markdown",
   "id": "5cf13a52-1509-4e13-b109-0cc4f9909c6f",
   "metadata": {},
   "source": [
    "<h3> Дифференциирование операции увеличения размерности (broadcasting) </h3>"
   ]
  },
  {
   "cell_type": "markdown",
   "id": "481b1540-7f7b-44ed-ae30-09d8ec787ad3",
   "metadata": {},
   "source": [
    "В математике не существует операции увеличения размерности матрицы(broadcasting), тем боле не вычисляется ее производная. Но для работы системы автоматического вычисления производных необходимо уметь данную операцию выполнять и рассчитывать производную для этой операции. Приведем пример такой операции."
   ]
  },
  {
   "cell_type": "markdown",
   "id": "983e3379-168f-4a30-bc5b-8083b1f2768b",
   "metadata": {},
   "source": [
    "Рассмотрим операцию прибавления числа $x = 3$ к матрице $A = \n",
    "\\begin{pmatrix} \n",
    "     1 & 2 \\\\\n",
    "     3 & 4 \\\\\n",
    "\\end{pmatrix}$. На самом деле данная операция равнозначна следующей цепочки действий:\n",
    "* $x = 3$ превращается в матрицу $X = \n",
    "\\begin{pmatrix} \n",
    "     3 & 3 \\\\\n",
    "     3 & 3 \\\\\n",
    "\\end{pmatrix}$, где размер $X$ равен размеру $A$.\n",
    "* производится сложение $A$ и $X$"
   ]
  },
  {
   "cell_type": "markdown",
   "id": "da9407f0-4b68-485b-be00-b10f9bd54bfa",
   "metadata": {},
   "source": [
    "Расширение $x$ до $X$ называется broadcasting. Операция увеличения размерности создает для матрицы или вектора дополнительные измерения (ячейки памяти) и копирует в них соответствующие значения. Например: имеется вектор $v = (1,2)$ необходимо расширить его до тензора размера (3, 2, 2). Для этого размер вектора надо представить в виде (1, 1, 2). Тогда расширенный тензор примет вид:"
   ]
  },
  {
   "cell_type": "markdown",
   "id": "ccbe7293-fc6b-4356-a467-701d8b6f7603",
   "metadata": {},
   "source": [
    "$ T = \n",
    "\\begin{pmatrix} \n",
    "    \\begin{pmatrix} \n",
    "        1 & 2 \\\\\n",
    "        1 & 2 \\\\\n",
    "    \\end{pmatrix} \\\\\n",
    "    \\begin{pmatrix} \n",
    "        1 & 2 \\\\\n",
    "        1 & 2 \\\\\n",
    "    \\end{pmatrix} \\\\\n",
    "    \\begin{pmatrix} \n",
    "        1 & 2 \\\\\n",
    "        1 & 2 \\\\\n",
    "    \\end{pmatrix} \\\\  \n",
    "\\end{pmatrix}$"
   ]
  },
  {
   "cell_type": "markdown",
   "id": "2d7d285c-23ed-4d4a-95fa-931cad7dbdc1",
   "metadata": {},
   "source": [
    "Рассмотрим задачу в общем виде: имеется тензор $T_1$ размерностью n = $(d_1, d_2, ..., d_n)$   необходимо расширить до тензор $T_2$ размера m = $(d_1, d_2, ..., d_m)$. То есть $T_2 = broadcast(T_1)$. Необходимо вычислить производную $\\frac{\\partial broadcast(T_1)}{\\partial T_1}$. Данную операцию возможно произвести если:\n",
    "* i-е измерения $d_i$ тензоров $T_1$ и $T_2$ совпадают;\n",
    "* одно из i-х измерений тензоров $T_1$ и $T_2$ равно единице или не задано явно. \n"
   ]
  },
  {
   "cell_type": "markdown",
   "id": "7d3b938b-849c-455c-b3e0-6035c61bfd75",
   "metadata": {},
   "source": [
    "Тогда финальная версия операции в общем виде принимает вид:"
   ]
  },
  {
   "cell_type": "markdown",
   "id": "ea09005c-cf69-4afb-a0d1-33648e36a4f3",
   "metadata": {},
   "source": [
    "$$T_2[d_1][d_2]...[d_{m-n}] = T_1$$"
   ]
  },
  {
   "cell_type": "markdown",
   "id": "d7661768-c7c0-4a7b-aba9-253ea3263f26",
   "metadata": {},
   "source": [
    "где $d_1,\\ d_2,\\ ...\\ d_n$ - несовпавшие измерения $T_1$ и $T_2$."
   ]
  },
  {
   "cell_type": "markdown",
   "id": "a25ad16b-57f7-4ba3-9937-d3a1bb6a1fe5",
   "metadata": {},
   "source": [
    "Тогда операция дифференциирования данной операция сводится к суммированию ячеек тензора по определенным осям. Поэтому производная тензора $T_1$ с размерами $(d_1, d_2, ..., d_n)$  по тензору $T_2$ с размерами $(d_1, d_2, ... d_m)$ - $\\frac{\\partial T}{\\partial X}$ примет вид:"
   ]
  },
  {
   "cell_type": "markdown",
   "id": "acec1aa5-16ac-45ad-9084-2367529a9f1b",
   "metadata": {},
   "source": [
    "$$ \\frac{\\partial T}{\\partial X}[d_1][d_3][d_5]...[d_n] = \\sum\\limits_{i\\ по\\ d_2,j\\ по d_4...}T_2[d_1][i][d_3][j]...[d_m] $$"
   ]
  },
  {
   "cell_type": "markdown",
   "id": "430c5230-b57d-4372-9579-7f1458717b2f",
   "metadata": {},
   "source": [
    "где $d_2,\\ d_4,\\ ...$ измерения для суммирования, которые есть в $T_2$, но отсутствуют в $T_1$."
   ]
  },
  {
   "cell_type": "markdown",
   "id": "8a23570a-c8bc-4859-a95a-0c95e15bae03",
   "metadata": {},
   "source": [
    "Рассмотрим пример дифференциирования операции увеличения размерности:"
   ]
  },
  {
   "cell_type": "markdown",
   "id": "059121c9-95cf-452d-b83d-d33cee39ee34",
   "metadata": {},
   "source": [
    "Предположим имеется вектор $\\vec v = \n",
    " \\begin{pmatrix} \n",
    "        sin(x) \\\\\n",
    "        cos(x) \\\\\n",
    " \\end{pmatrix}$ после операции увеличения размерности до матрицы размера 2*2 он превратиться в матрицу $M = \n",
    " \\begin{pmatrix} \n",
    "        sin(x) & sin(x) \\\\\n",
    "        cos(x) & cos(x) \\\\\n",
    " \\end{pmatrix}$."
   ]
  },
  {
   "cell_type": "markdown",
   "id": "db43af19-f804-415f-afa8-eb69f53d7b1e",
   "metadata": {},
   "source": [
    "Для дифференциирования данной операции необходимо проссумировать строки матрицы:"
   ]
  },
  {
   "cell_type": "markdown",
   "id": "db33c6fb-39e9-49f0-9652-7dffb9fac19f",
   "metadata": {},
   "source": [
    "$$\\frac{\\partial M}{\\partial v} = \\frac{\\partial M}{\\partial brodcasing}\\frac{\\partial broadcasting}{\\partial v} = \n",
    "\\begin{pmatrix} \n",
    "        2sin(x) \\\\\n",
    "        2cos(x) \\\\\n",
    " \\end{pmatrix}\n",
    "\\begin{pmatrix} \n",
    "        cos(x) \\\\\n",
    "        -sin(x) \\\\\n",
    " \\end{pmatrix} =\n",
    "\\begin{pmatrix} \n",
    "        2sin(x)cos(x) \\\\\n",
    "        -2cos(x)sin(x) \\\\\n",
    " \\end{pmatrix} \n",
    "$$"
   ]
  },
  {
   "cell_type": "code",
   "execution_count": null,
   "id": "3e26d848-1e65-4e17-9e58-e3ca9fcf275b",
   "metadata": {},
   "outputs": [],
   "source": []
  },
  {
   "cell_type": "code",
   "execution_count": null,
   "id": "2472d8b3-4f99-4bd1-bc04-7d7fc470b70a",
   "metadata": {},
   "outputs": [],
   "source": []
  },
  {
   "cell_type": "code",
   "execution_count": null,
   "id": "25dd308b-a5f7-4eac-b71e-e7d8e9c2e32e",
   "metadata": {},
   "outputs": [],
   "source": []
  },
  {
   "cell_type": "markdown",
   "id": "8282c882-1c2c-4814-98e4-b131716b5a1d",
   "metadata": {},
   "source": [
    "<h3>Дифференциирование операции уменьшения размерности (суммирования) </h3>"
   ]
  },
  {
   "cell_type": "markdown",
   "id": "9e08ee81-e730-459b-8ab1-5629c126e2c7",
   "metadata": {},
   "source": [
    "В процесс расчетов может возникнуть необходимость уменьшить количество измерений тензора, например после операции суммирования его элементов по некоторым осям. Данная операция имеет вид: "
   ]
  },
  {
   "cell_type": "markdown",
   "id": "eba214ea-8b44-4d15-9a85-dd04ea1828e9",
   "metadata": {},
   "source": [
    "$$ T_1[d_1][d_3][d_5]...[d_n] = \\sum\\limits_{i\\ по\\ d_2,j\\ по d_4...}T_2[d_1][i][d_3][j]...[d_m] $$"
   ]
  },
  {
   "cell_type": "markdown",
   "id": "266e14da-6ec0-4282-b41c-d5e9e81c7312",
   "metadata": {},
   "source": [
    "где $T_1$ и $T_2$ - тензоры, $d_2$, $d_4$ и т.д. измерения для суммирования, $i$, $j$, ... индексы для суммирования."
   ]
  },
  {
   "cell_type": "markdown",
   "id": "2ba080af-723f-4392-8c8c-637523b69a0a",
   "metadata": {},
   "source": [
    "Если $T_1$ = $sum(T_2)$, то $\\frac{\\partial sum(T_2)}{\\partial X}$ примет вид:"
   ]
  },
  {
   "cell_type": "markdown",
   "id": "117da422-28d6-4556-9fea-be2e5c212c8f",
   "metadata": {},
   "source": [
    "$$\\frac{\\partial sum(T_2)}{\\partial X} = broadcast(T_2, X)$$"
   ]
  },
  {
   "cell_type": "markdown",
   "id": "72e74851-3fcb-4c5d-9027-4fb77397cedc",
   "metadata": {},
   "source": [
    "где операция $broadcast(T_2, X)$ - операция увеличения размерности тензора от размеров $T_2$ до размеров $X$."
   ]
  },
  {
   "cell_type": "markdown",
   "id": "0f2e869b-24a1-40c0-bafe-bb67c0bbe3fd",
   "metadata": {},
   "source": [
    "Рассмотрим пример."
   ]
  },
  {
   "cell_type": "markdown",
   "id": "185e9887-c433-4693-b857-94d53db8920e",
   "metadata": {},
   "source": [
    "Пусть имеется матрица $M = \n",
    " \\begin{pmatrix} \n",
    "        sin(x) \\ sin(x) \\\\\n",
    "        cos(x) \\ cos(x) \\\\\n",
    " \\end{pmatrix}$ после применения операции уменьшения размерности ($zip$) получается вектор \n",
    " $\\vec v = \n",
    " \\begin{pmatrix} \n",
    "        sin(x) \\\\\n",
    "        cos(x) \\\\\n",
    " \\end{pmatrix}$."
   ]
  },
  {
   "cell_type": "markdown",
   "id": "46cde289-77ba-4b2f-bdba-e94d0809202c",
   "metadata": {},
   "source": [
    "Тогда для дифференциирования операции уменьшения размерности необходимо применить операцию увеличения размерности, то есть:"
   ]
  },
  {
   "cell_type": "markdown",
   "id": "53300ed3-b7d2-471e-ae2f-a678e8d5d964",
   "metadata": {},
   "source": [
    "$$\\frac{\\partial M}{\\partial \\vec v} = \\frac{\\partial M}{\\partial broadcast}\\frac{\\partial broadcast}{\\partial \\vec v} = broadcast(\\vec v \\rightarrow M) \\frac{\\partial broadcast}{\\partial M} = \n",
    " \\begin{pmatrix} \n",
    "        sin(x) & sin(x) \\\\\n",
    "        cos(x) & cos(x) \\\\\n",
    " \\end{pmatrix}\n",
    " \\begin{pmatrix} \n",
    "        cos(x) & cos(x) \\\\\n",
    "        -sin(x) & -sin(x) \\\\\n",
    " \\end{pmatrix} = \n",
    " \\begin{pmatrix} \n",
    "        sin(x)cos(x) & sin(x)cos(x) \\\\\n",
    "        -sin(x)cos(x) & -sin(x)cos(x) \\\\\n",
    " \\end{pmatrix} \n",
    "$$"
   ]
  },
  {
   "cell_type": "code",
   "execution_count": null,
   "id": "e7c1f2b2-f55c-4dfe-82b1-1c3ae34d9521",
   "metadata": {},
   "outputs": [],
   "source": []
  },
  {
   "cell_type": "markdown",
   "id": "e5eacabf-f040-42b8-afb5-efc14314344e",
   "metadata": {},
   "source": [
    "<h3> Дифференциирование операции приведения размера </h3>"
   ]
  },
  {
   "cell_type": "markdown",
   "id": "d0978281-0a86-47ce-8d69-5b8db358a236",
   "metadata": {},
   "source": [
    "Для дальнейших расчетов, особенно при дифференциировании операции матричного умножения многомерных матриц потребуется операция приведения размера. Дифференциирование операции приведения размера включает в себя использование двцх операций: дифференциирования опеации увелечения размера и дифференциирование операции уменьшения размера. Она имеет следующий псевдокод:"
   ]
  },
  {
   "cell_type": "raw",
   "id": "89876f61-3cfa-49a2-85b4-7a2bbe291f45",
   "metadata": {},
   "source": [
    "norm(A, B)\n",
    "    если многомерная матрица A имеет меньший, чем B размер,\n",
    "        то используем операцию broadcasting для приведения размеров\n",
    "    если многомерная матрица A имеет больший размер, чем B,\n",
    "        то используем операцию уменьшения размерности для приведения размеров\n",
    "    если размеры равны,\n",
    "        то ничего не делаем.        "
   ]
  },
  {
   "cell_type": "markdown",
   "id": "84749ff4-9a56-4a8b-bae4-79665cb7b9c0",
   "metadata": {},
   "source": [
    "<h3>Дифференциирование операции индексации</h3>"
   ]
  },
  {
   "cell_type": "markdown",
   "id": "72aea780-0392-42ba-a6a6-ca82dc0bd602",
   "metadata": {},
   "source": [
    "Рассмотрим пример: пусть имеем матрицу $F=\n",
    "\\begin{pmatrix} \n",
    "     f_{11}(X) & f_{12}(X) \\\\\n",
    "     f_{21}(X) & f_{22}(X) \\\\\n",
    "\\end{pmatrix}$ и матрицу переменных $X =\n",
    "\\begin{pmatrix} \n",
    "     x_{11} & x_{12} \\\\\n",
    "     x_{21} & x_{22} \\\\\n",
    "\\end{pmatrix}$,рассмотрим чему будет равна производная операции $X[1]$. Операция $X[1]$ вернет 1-ю строку таблицы, т.е. $X[1] = (f_{11}(X)\\ f_{12}(X))$.Тогда $\\frac{\\partial F}{\\partial X} = (\\frac{\\partial f_{11}}{\\partial X}\\ \\frac{\\partial f_{12}}{\\partial X})=(\\frac{\\partial f_{11}}{\\partial x_{11}}+\\frac{\\partial f_{11}}{\\partial x_{12}}+\\frac{\\partial f_{11}}{\\partial x_{21}}+\\frac{\\partial f_{11}}{\\partial x_{22}};\\ \\frac{\\partial f_{12}}{\\partial x_{11}}+\\frac{\\partial f_{12}}{\\partial x_{12}}+\\frac{\\partial f_{12}}{\\partial x_{21}}+\\frac{\\partial f_{11}}{\\partial x_{22}}).\n",
    "$"
   ]
  },
  {
   "cell_type": "markdown",
   "id": "0b4659c1-6e5b-4872-b71a-02036a5b3271",
   "metadata": {},
   "source": [
    "Аналогично можно показать, что для каждого элемента результирующей матрицы  $X_{1n}$ выполняется равенство:"
   ]
  },
  {
   "cell_type": "markdown",
   "id": "79e95d70-4d00-4f59-bb7c-9e32adf9dfe1",
   "metadata": {},
   "source": [
    "$$X[i_1][i_2]=(\\frac{\\partial f_{11} }{\\partial x_{i_1i_2}} + \\frac{\\partial f_{12} }{\\partial x_{i_1i_2}}+ ... +\\frac{\\partial f_{mn-1} }{\\partial x_{i_1i_2}} + \\frac{\\partial f_{mn} }{\\partial x_{i_1i_2}})$$"
   ]
  },
  {
   "cell_type": "markdown",
   "id": "09de49f9-4dcb-487c-a0f2-2dbf0165cfaa",
   "metadata": {},
   "source": [
    "где $n, m$ - размерности соответствующих измерений."
   ]
  },
  {
   "cell_type": "markdown",
   "id": "87c4fe13-38b4-4b3f-9a75-c6f1bc3c858c",
   "metadata": {},
   "source": [
    "В общем случае для $n$-мерного тензора $X=index(T)$ производная индексирования примет вид:"
   ]
  },
  {
   "cell_type": "markdown",
   "id": "fb3f4e83-ef9c-43f4-86b7-442bcff5a7da",
   "metadata": {},
   "source": [
    "$$X[i_1][i_2]...[i_n] = 0,$$ если упорядоченный кортеж $(i_1, i_2, ..., i_n)$ не содержится в наборе индексов."
   ]
  },
  {
   "cell_type": "markdown",
   "id": "2d119e9c-5b2d-44c5-a018-21f42fac9e34",
   "metadata": {},
   "source": [
    "$$X[i_1][i_2]...[i_n] = \\sum\\limits_{}\\frac{\\partial f[i_1][i_2]...[i_n]}{\\partial x[j_1][j_2][j_n]},$$ если упорядоченный кортеж $(i_1, i_2, ..., i_n)$ содержится в наборе индексов."
   ]
  },
  {
   "cell_type": "markdown",
   "id": "7dc36189-5241-469f-8dd6-166c8f9112c4",
   "metadata": {},
   "source": [
    "Рассмотрим пример:"
   ]
  },
  {
   "cell_type": "markdown",
   "id": "32e75c80-b810-4062-a345-0a2f8fb6a174",
   "metadata": {},
   "source": [
    "Пусть имеем матрицу \n",
    "$M = \n",
    "\\begin{pmatrix} \n",
    "     sin(x) & cos(x) \\\\\n",
    "     sin(x) & cos(x) \\\\\n",
    "\\end{pmatrix}$ \n",
    "и матрицу переменных \n",
    "$X =\n",
    "\\begin{pmatrix} \n",
    "     x & x \\\\\n",
    "     x & x \\\\\n",
    "\\end{pmatrix}$\n",
    ", где все переменные $x$ совпадают.\n"
   ]
  },
  {
   "cell_type": "markdown",
   "id": "e486d8e5-df45-41a6-ae32-970aa28ddc3d",
   "metadata": {},
   "source": [
    "Тогда операция \n",
    "$M[1] = \n",
    "\\begin{pmatrix} \n",
    "     sin(x) & cos(x) \\\\\n",
    "\\end{pmatrix}$."
   ]
  },
  {
   "cell_type": "markdown",
   "id": "9b63d70a-7a11-4b2f-9f16-5882dc9a4c4a",
   "metadata": {},
   "source": [
    "Рассчитаем чему равна производная: "
   ]
  },
  {
   "cell_type": "markdown",
   "id": "9a711cd0-3ada-4e62-b48c-8afe08a2f91c",
   "metadata": {},
   "source": [
    "$$\\frac{\\partial M[1]}{\\partial X} = \\frac{\\partial M[1]}{\\partial M}\\frac{\\partial M}{\\partial X} = \n",
    "\\begin{pmatrix} \n",
    "     sin(x) & cos(x) \\\\\n",
    "     0 & 0 \\\\\n",
    "\\end{pmatrix}\n",
    "\\begin{pmatrix} \n",
    "     cos(x) & -sin(x) \\\\\n",
    "     0 & 0 \\\\\n",
    "\\end{pmatrix} \n",
    "=\n",
    "\\begin{pmatrix} \n",
    "     sin(x)cos(x) & -sin(x)cos(x) \\\\\n",
    "     0 & 0 \\\\\n",
    "\\end{pmatrix}\n",
    "$$"
   ]
  },
  {
   "cell_type": "code",
   "execution_count": null,
   "id": "dbf26796-13ff-46ff-9299-08a824712712",
   "metadata": {},
   "outputs": [],
   "source": []
  },
  {
   "cell_type": "markdown",
   "id": "1970f0f2-9760-4c41-a79f-8927ee86a2da",
   "metadata": {},
   "source": [
    "<h3>Дифференциирование унарных операций в тензорной форме</h3>"
   ]
  },
  {
   "cell_type": "markdown",
   "id": "3cca8aa6-b59a-493e-b3ea-b6b26f2ba2ee",
   "metadata": {},
   "source": [
    "Дифференциирование унарных операций в тензорной форме в значительной степени похоже на дифференциирование в векторно-матричной форме, что облегчает вычисления. "
   ]
  },
  {
   "cell_type": "markdown",
   "id": "3994fd84-9795-467e-8a06-b958e730007f",
   "metadata": {},
   "source": [
    "$$\\frac{\\partial T}{\\partial X}[d_1][d_2][...][d_n] = \\frac{\\partial T_{d_1d_2...d_n}}{\\partial X_{d_1d_2...d_n}}\\frac{\\partial X}{\\partial X}$$"
   ]
  },
  {
   "cell_type": "markdown",
   "id": "b6238414-a7ea-4766-a85b-a7641877a409",
   "metadata": {},
   "source": [
    "Рассмотрим пример."
   ]
  },
  {
   "cell_type": "markdown",
   "id": "ec906c24-26cb-4900-96d3-6c816e2b5033",
   "metadata": {},
   "source": [
    "Пусть имеем \n",
    "$Y = \n",
    "\\begin{pmatrix} \n",
    "     sin(x) & cos(y) \\\\\n",
    "     tg(z) & ctg(p) \\\\\n",
    "\\end{pmatrix}$ \n",
    "и матрицу\n",
    "$X = \n",
    "\\begin{pmatrix} \n",
    "     x & y \\\\\n",
    "     z & p \\\\\n",
    "\\end{pmatrix}$, необходимо найти частную производную\n",
    "$$\\frac{Y}{X} = \n",
    "\\begin{pmatrix} \n",
    "     cos(x) & -sin(y) \\\\\n",
    "     \\frac{1}{cos^2(z)} & \\frac{1}{-sin^2(p)} \\\\\n",
    "\\end{pmatrix}$$\n"
   ]
  },
  {
   "cell_type": "code",
   "execution_count": null,
   "id": "e9cd2c5a-3245-4430-b06a-e146e78d934a",
   "metadata": {},
   "outputs": [],
   "source": []
  },
  {
   "cell_type": "markdown",
   "id": "06c8af4b-987a-45db-aedc-b52ca224eff0",
   "metadata": {},
   "source": [
    "<h3>Дифференциирование бинарных операций в тензорной форме</h3>"
   ]
  },
  {
   "cell_type": "markdown",
   "id": "76b0df72-ac21-498d-b419-e963dfbeb6cf",
   "metadata": {},
   "source": [
    "Дифференциирование бинарных операций в тензорной форме тоже очень похоже на векторно-матричную форму."
   ]
  },
  {
   "cell_type": "markdown",
   "id": "28ca99b6-95b1-445b-af49-5bd1ff38c60f",
   "metadata": {},
   "source": [
    "Для сложения имеет вид:"
   ]
  },
  {
   "cell_type": "markdown",
   "id": "962caaa0-0b88-4fb1-b7ae-0e3463eebf42",
   "metadata": {},
   "source": [
    "$$\\frac{\\partial (X+Y)}{\\partial X} = T(1)$$"
   ]
  },
  {
   "cell_type": "markdown",
   "id": "3da6f3ed-ca14-4002-ad18-e25000b3aac0",
   "metadata": {},
   "source": [
    "$$\\frac{\\partial (X+Y)}{\\partial Y} = T(1)$$"
   ]
  },
  {
   "cell_type": "markdown",
   "id": "ac16bbcf-efe6-4799-a8de-4898a5c8a581",
   "metadata": {},
   "source": [
    "где T(1) - тензор заполненый единицами."
   ]
  },
  {
   "cell_type": "markdown",
   "id": "04f48a1e-db82-4ee9-b5d3-6c0566035e80",
   "metadata": {},
   "source": [
    "Для вычитания имеет вид:"
   ]
  },
  {
   "cell_type": "markdown",
   "id": "4f1e6521-1d99-4d4c-a472-cf5caf917f41",
   "metadata": {},
   "source": [
    "$$\\frac{\\partial (X-Y)}{\\partial X} = T(1)$$"
   ]
  },
  {
   "cell_type": "markdown",
   "id": "844715f7-1505-413d-956b-f3fa2c36721b",
   "metadata": {},
   "source": [
    "$$\\frac{\\partial (X-Y)}{\\partial Y} = T(-1)$$"
   ]
  },
  {
   "cell_type": "markdown",
   "id": "4831ed1c-892b-47cf-a6fb-b9b7927376e4",
   "metadata": {},
   "source": [
    "Для умножения имеет вид:"
   ]
  },
  {
   "cell_type": "markdown",
   "id": "143a63d9-3720-48d3-b8de-636eb2d93966",
   "metadata": {},
   "source": [
    "$$\\frac{\\partial (X*Y)}{\\partial X} = Y$$"
   ]
  },
  {
   "cell_type": "markdown",
   "id": "ec7ae3d5-22e5-43a4-afa4-0ef1ecac4061",
   "metadata": {},
   "source": [
    "$$\\frac{\\partial (X*Y)}{\\partial Y} = X$$"
   ]
  },
  {
   "cell_type": "markdown",
   "id": "637827aa-77b9-4c20-b505-96d8cd9a30a3",
   "metadata": {},
   "source": [
    "Для деления имеет вид:"
   ]
  },
  {
   "cell_type": "markdown",
   "id": "89f91562-3da9-4d56-9bb8-188bcaaba41b",
   "metadata": {},
   "source": [
    "$$\\frac{\\partial (X/Y)}{\\partial X} = \\frac{1}{Y}$$"
   ]
  },
  {
   "cell_type": "markdown",
   "id": "1f84ac52-eb49-479b-bf61-390df43d256d",
   "metadata": {},
   "source": [
    "$$\\frac{\\partial (X/Y)}{\\partial Y} = -\\frac{X}{Y^2}$$"
   ]
  },
  {
   "cell_type": "markdown",
   "id": "50544506-9845-475a-9eea-edbeb93aea64",
   "metadata": {},
   "source": [
    "Рассмотрим пример."
   ]
  },
  {
   "cell_type": "markdown",
   "id": "965eaaf3-7b0b-45d2-ace3-9c5396a31d91",
   "metadata": {},
   "source": [
    "Пусть имеем \n",
    "$A = \n",
    "\\begin{pmatrix} \n",
    "     sin(x) & sin(x) \\\\\n",
    "     sin(x) & sin(x) \\\\\n",
    "\\end{pmatrix}$ \n",
    ",\n",
    "$B = \n",
    "\\begin{pmatrix} \n",
    "     cos(x) & cos(x) \\\\\n",
    "     cos(x) & cos(x) \\\\\n",
    "\\end{pmatrix}$\n",
    ",\n",
    "$X = \n",
    "\\begin{pmatrix} \n",
    "     x & x \\\\\n",
    "     x & x \\\\\n",
    "\\end{pmatrix}$, \n",
    "$F(X) = A + B$, необходимо найти производную $\\frac{\\partial F}{\\partial X}$.\n"
   ]
  },
  {
   "cell_type": "markdown",
   "id": "67b163ba-769b-488d-95fd-dfac45602a47",
   "metadata": {},
   "source": [
    "$$\\frac{\\partial F}{\\partial X} = \\frac{\\partial F}{\\partial sum}\\frac{\\partial sum}{\\partial X} = \\frac{\\partial F}{\\partial A}\\frac{\\partial A}{\\partial X} + \\frac{\\partial F}{\\partial B}\\frac{\\partial B}{\\partial X} = \n",
    "\\begin{pmatrix} \n",
    "     cos(x) & cos(x) \\\\\n",
    "     cos(x) & cos(x) \\\\\n",
    "\\end{pmatrix}\n",
    "+\n",
    "\\begin{pmatrix} \n",
    "     -sin(x) & -sin(x) \\\\\n",
    "     -sin(x) & -sin(x) \\\\\n",
    "\\end{pmatrix}\n",
    "=\n",
    "\\begin{pmatrix} \n",
    "     cos(x) - sin(x) & cos(x) - sin(x) \\\\\n",
    "     cos(x) - sin(x) & cos(x) - sin(x) \\\\\n",
    "\\end{pmatrix}\n",
    "$$"
   ]
  },
  {
   "cell_type": "code",
   "execution_count": null,
   "id": "30cdd863-5b02-4fff-88e8-43ba0580d036",
   "metadata": {},
   "outputs": [],
   "source": []
  },
  {
   "cell_type": "code",
   "execution_count": null,
   "id": "12eacfad-3280-4b04-8048-c013b3ab7570",
   "metadata": {},
   "outputs": [],
   "source": []
  },
  {
   "cell_type": "markdown",
   "id": "bcaf556b-e01f-4641-a3cf-c310b93b4b55",
   "metadata": {},
   "source": [
    "<h3>Дифференциирование умножения многомерных матриц в тензорной форме </h3>"
   ]
  },
  {
   "cell_type": "markdown",
   "id": "38a99187-313e-4a21-8979-ce9ed6e03b76",
   "metadata": {},
   "source": [
    "Для расчетов производной матричного умножения в тензорной форме необходимо представить данную операцию в виде набора нескольких более простых операций. "
   ]
  },
  {
   "cell_type": "markdown",
   "id": "6b4ae8cc-f07d-4680-b032-e50b7617588b",
   "metadata": {},
   "source": [
    "* операцию транспонирования многомерных матриц\n",
    "* операцию изменения размерности\n",
    "* операцию матричного умножения (для многомерных матриц)"
   ]
  },
  {
   "cell_type": "markdown",
   "id": "13efc1ce-e487-4c5d-898e-c25f924c054d",
   "metadata": {},
   "source": [
    "Тогда операцию дифференциирования умножения многомерных матриц $\\frac{\\partial (M_1*M_2)}{\\partial M_1}$ и $\\frac{\\partial (M_1*M_2)}{\\partial M_2}$ (не путать с операцией поэлементного умножения) можно представить в виде:"
   ]
  },
  {
   "cell_type": "markdown",
   "id": "388516aa-d68d-43ea-b7f0-bbebd90f2cab",
   "metadata": {},
   "source": [
    "$$\\frac{\\partial (M_1*M_2)}{\\partial M_1} = norm(M_2^T)\\frac{\\partial M_1}{\\partial M_1} $$"
   ]
  },
  {
   "cell_type": "markdown",
   "id": "27d7f4e2-f273-4aee-967f-936e5b7bd693",
   "metadata": {},
   "source": [
    "$$\\frac{\\partial (M_1*M_2)}{\\partial M_2} = norm(M_1^T)\\frac{\\partial M_2}{\\partial M_2} $$"
   ]
  },
  {
   "cell_type": "markdown",
   "id": "e6817d23-f0c2-4690-9883-1db7c76b5b1d",
   "metadata": {},
   "source": [
    "где функция norm является функцией приведения размера."
   ]
  },
  {
   "cell_type": "markdown",
   "id": "039cc304-d88c-4d50-8c3a-fa17d31ade56",
   "metadata": {},
   "source": [
    "Если операция дифференциирования умножения многомерных матриц в тензорной форме происходит на некотором этапе работы алгоритма, то формулы расчктов примут вид:"
   ]
  },
  {
   "cell_type": "markdown",
   "id": "06bbb8c3-dc86-46bd-8bf1-dddf4e2cd0bd",
   "metadata": {},
   "source": [
    "$$\\frac{\\partial (M_1*M_2)}{\\partial M_1} = norm(T * M_2^T)\\cdot\\frac{\\partial M_1}{\\partial M_1} $$"
   ]
  },
  {
   "cell_type": "markdown",
   "id": "5ac17790-1a54-4281-8e0e-635a75a62832",
   "metadata": {},
   "source": [
    "$$\\frac{\\partial (M_1*M_2)}{\\partial M_2} = norm(M_1^T * T)\\cdot\\frac{\\partial M_2}{\\partial M_2} $$"
   ]
  },
  {
   "cell_type": "markdown",
   "id": "176a1dfa-cd03-4ae9-922d-75bd5b7bf758",
   "metadata": {},
   "source": [
    "где операция $*$ - матричное умножение, а операция $\\cdot$ - поэлементное умножение, многомерная матрица T - результат, полученный с предыдущего шага алгоритма рассчета градиента."
   ]
  },
  {
   "cell_type": "markdown",
   "id": "904c8e02-944c-40e3-b8d0-0b456730a20e",
   "metadata": {},
   "source": [
    "Рассмотрим пример."
   ]
  },
  {
   "cell_type": "markdown",
   "id": "f83c93f4-a12e-4eb4-9b50-0da60c68c5bf",
   "metadata": {},
   "source": []
  },
  {
   "cell_type": "code",
   "execution_count": null,
   "id": "8a7a936b-05a6-4d57-b705-616a61374ed1",
   "metadata": {},
   "outputs": [],
   "source": []
  },
  {
   "cell_type": "code",
   "execution_count": null,
   "id": "c47108a3-ae1d-46ed-98db-aa41c1e34603",
   "metadata": {},
   "outputs": [],
   "source": []
  },
  {
   "cell_type": "code",
   "execution_count": null,
   "id": "6ce006b8-74b8-495a-ab19-af9c41bf5496",
   "metadata": {},
   "outputs": [],
   "source": []
  }
 ],
 "metadata": {
  "kernelspec": {
   "display_name": "Python 3",
   "language": "python",
   "name": "python3"
  },
  "language_info": {
   "codemirror_mode": {
    "name": "ipython",
    "version": 3
   },
   "file_extension": ".py",
   "mimetype": "text/x-python",
   "name": "python",
   "nbconvert_exporter": "python",
   "pygments_lexer": "ipython3",
   "version": "3.7.11"
  }
 },
 "nbformat": 4,
 "nbformat_minor": 5
}
