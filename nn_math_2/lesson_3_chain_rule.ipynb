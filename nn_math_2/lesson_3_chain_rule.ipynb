{
 "cells": [
  {
   "cell_type": "markdown",
   "id": "d3fda4f8-4355-4da9-b36f-115049d8935b",
   "metadata": {},
   "source": [
    "# Нейронные сети. Понятно. Детально."
   ]
  },
  {
   "cell_type": "markdown",
   "id": "7be985c2-d239-4c3d-82ad-692735ddf80d",
   "metadata": {
    "tags": []
   },
   "source": [
    "## Раздел 3. Цепное правило."
   ]
  },
  {
   "cell_type": "markdown",
   "id": "b1cd6d44-d040-49f2-ab7d-8fa8b26dafdf",
   "metadata": {},
   "source": [
    "<h2>Цепное правило. Дифференциирование сложных функций.</h2>"
   ]
  },
  {
   "cell_type": "markdown",
   "id": "a04124bd-ed97-4dab-8358-2cf4a619145f",
   "metadata": {},
   "source": [
    "Для дифференциирования сложных функций в матрично-векторной форме необходимо обобщить правила дифференциирования для одной и многих переменных. В литературе по высшей математике существуют три операции, которые называются \"цепное правило\":"
   ]
  },
  {
   "cell_type": "markdown",
   "id": "56bc938b-cec2-4f37-99a4-37a3950a6b90",
   "metadata": {},
   "source": [
    "* дифференциирование сложной функции одной переменной\n",
    "* полное дифференциирование сложной функции одной переменной\n",
    "* дифференциирование сложной функции многих переменных"
   ]
  },
  {
   "cell_type": "markdown",
   "id": "db4aba63-ef35-488e-b969-68e18317dcd1",
   "metadata": {},
   "source": [
    "Основной задачи, которые поможет решить применение цепного правила для дифференциирования сложных функций многих переменных для нейронных сетей"
   ]
  },
  {
   "cell_type": "markdown",
   "id": "31713dd0-14db-47ef-83d9-7f43415458cf",
   "metadata": {},
   "source": [
    "* Унификация всех операций. Все операции будут представлены однотипными кострукциями, которые легко запрограммировать.\n",
    "* Ускорение расчетов. Цепное правило можно запрограммировать с помощью метода \"разделяй и властвуй\" (динамического программирования), что значительно экономит вычислительные ресурсы.\n",
    "* Простота. С программной точки зрения системы состоящие их единообразных элементов проще поддерживать, расширять и понимать."
   ]
  },
  {
   "cell_type": "markdown",
   "id": "4094b31b-dc0a-4982-b56d-ca9388b7a21e",
   "metadata": {},
   "source": [
    "<h3>Дифференциирование сложной функции одной переменной</h3>"
   ]
  },
  {
   "cell_type": "markdown",
   "id": "6d48d281-0340-481c-8fc4-13497f2d6e22",
   "metadata": {},
   "source": [
    "Сложная функция – функция от функции. Если f – функция от g, т.е. f(g), а g, в свою очередь, – функция от х, т.е. g(х), то функция f(x) = f(g(x)) называется сложной функцией (или композицией, или суперпозицией функций) от х."
   ]
  },
  {
   "cell_type": "markdown",
   "id": "4bd96fe4-7add-462d-b946-2e38df9d7e26",
   "metadata": {},
   "source": [
    "Рассмотрим операцию, которую называют \"цепное правило\" или дифференциирование сложной функции одной переменной."
   ]
  },
  {
   "cell_type": "markdown",
   "id": "9941f8b4-ca76-4737-bb31-0b01b41043bc",
   "metadata": {},
   "source": [
    "$$ \\frac{df}{dx} = \\frac{df}{dg} \\frac{dg}{dx}$$"
   ]
  },
  {
   "cell_type": "markdown",
   "id": "e2c6575a-fdd1-4d20-829d-8b5ec6f92921",
   "metadata": {},
   "source": [
    "Например имеем $f(x) = cos(x^3)$ необходимо вычислить $\\frac{df}{dx}$. Для этого необходимо сделать следующие действия:"
   ]
  },
  {
   "cell_type": "markdown",
   "id": "efe03db5-4cbb-4741-8803-bda44b7f0ca3",
   "metadata": {},
   "source": [
    "1. Определим порядок действий $f(x)=cos(x^3)$: $(x^3) \\rightarrow cos(x^3)$\n",
    "2. Обозначим $g=g(x)=x^3$. Тогда f(x) = cos(g(x)), $ \\frac{df}{dx} = \\frac{d}{dg}cos(g) \\frac{d}{dx}x^3$\n",
    "3. $\\frac{d}{dg}cos(g) = -cos(g)$\n",
    "   $\\frac{d}{dx}x^3 = 3x^2$\n",
    "4. если $\\frac{d}{dg}cos(g) = -cos(g)$, а $g=g(x)=x^3$, то $\\frac{d}{dg}cos(g) = -cos(g) = -cos(x^3)$\n",
    "5. $ \\frac{df}{dx} = \\frac{d}{dg}cos(g) \\frac{d}{dx}x^3 = -cos(g) * (3x^2) = -cos(x^3) * (3x^2) = -3x^2cos(x^3)$"
   ]
  },
  {
   "cell_type": "markdown",
   "id": "24c11565-bafc-402e-b495-495fcddebce7",
   "metadata": {},
   "source": [
    "Сформулируем общий алгоритм применения цепного правила при дифференциировании функции одной переменной:"
   ]
  },
  {
   "cell_type": "markdown",
   "id": "e82bae2b-8870-402e-b68d-53e19d50d5cd",
   "metadata": {},
   "source": [
    "1. Определить порядок операций.\n",
    "2. Сделать замены переменных.\n",
    "3. Вычислить все частные производные.\n",
    "4. Сделать все обратные подстановки. \n",
    "5. Получить результат, перемножив все производные, полученные на шаге 4."
   ]
  },
  {
   "cell_type": "markdown",
   "id": "2b05aada-0620-4086-9c3c-d2ad474dd3a6",
   "metadata": {},
   "source": [
    "Предположим необходимо рассчитать более сложную функцию вида $f=f(x)=ln(sin(x^3)^2)$. В таком случае необхожимо выявить порядок вызова функций и многократно применить цепное правило. Для приведенного примера будем иметь сдедующий порядок функций: логарифм -> возведение в квадрат-> синус -> возведение в куб. Тогда данную функцию можно переписать в следующий вид: $f=f(x)=ln(sqr(sin(cube(x))))$. Вычислим $\\frac{df}{dx}$."
   ]
  },
  {
   "cell_type": "markdown",
   "id": "ca7e9e7a-165c-4202-86e4-7cc892fdb890",
   "metadata": {},
   "source": [
    "1. Определим порядок операций: $cube(x) \\rightarrow sin(cube) \\rightarrow sqr(sin) \\rightarrow ln(sqr)$."
   ]
  },
  {
   "cell_type": "markdown",
   "id": "8ff7dd53-79d6-4422-9b32-c8e2c4853cc0",
   "metadata": {},
   "source": [
    "2. Произведем замену переменных\n",
    "- $g_1 = cube(x) = x^3$ \n",
    "- $g_2 = sin(g_1)$\n",
    "- $g_3 = sqr(g_2) = g_2^2$\n",
    "- $g_4 = ln(g3)$"
   ]
  },
  {
   "cell_type": "markdown",
   "id": "d5bba4c7-4316-4c92-b81e-62650e4f6fb0",
   "metadata": {},
   "source": [
    "Тогда $\\frac{df}{dx}$ примет вид $\\frac{df}{dx}=\\frac{dg_4}{dg_3}\\frac{dg_3}{dg_2}\\frac{dg_2}{dg_1}\\frac{dg_1}{dx}$"
   ]
  },
  {
   "cell_type": "markdown",
   "id": "07be5b35-f72b-4dd7-a17f-ca8f557f07ac",
   "metadata": {},
   "source": [
    "3. Вычислим частные призводные\n",
    "- $\\frac{dg_1}{dx} = \\frac{dx^3}{dx} = 3x^2$\n",
    "- $\\frac{dg_2}{dg_1} = \\frac{d}{dg_1}sin(g_1) = cos(g_1)$\n",
    "- $\\frac{dg_3}{dg_2} = \\frac{d}{dg_2}g_2^2 = 2g_2$\n",
    "- $\\frac{dg_4}{dg_3} = \\frac{d}{dg_3}ln(g_3) = \\frac{1}{g_3}$"
   ]
  },
  {
   "cell_type": "markdown",
   "id": "4d57b0db-b666-42a2-87bf-99beb0df2be1",
   "metadata": {},
   "source": [
    "4. Сделаем обратную подстановку\n",
    "- $\\frac{dg_1}{dx} = 3x^2$\n",
    "- $\\frac{dg_2}{dg_1} = cos(g_1) = cos(x^3)$\n",
    "- $\\frac{dg_3}{dg_2} = 2g_2 = 2sin(g_1) = 2sin(x^3)$\n",
    "- $\\frac{dg_4}{dg_3} = \\frac{1}{g_3} = \\frac{1}{g_2^2} = \\frac{1}{sin(g_1)^2}=\\frac{1}{sin(x_3)^2}$"
   ]
  },
  {
   "cell_type": "markdown",
   "id": "ab1a8690-f21e-4e0a-9283-9835487db327",
   "metadata": {},
   "source": [
    "5. Собираем результат\n"
   ]
  },
  {
   "cell_type": "markdown",
   "id": "2a2f1ad3-b0fe-483d-8739-bb6059260978",
   "metadata": {},
   "source": [
    "$\\frac{df}{dx}=\\frac{dg_4}{dg_3}\\frac{dg_3}{dg_2}\\frac{dg_2}{dg_1}\\frac{dg_1}{dx}=3x^2*cos(x^3)*2sin(x^3)*\\frac{1}{sin(x_3)^2}=\\frac{6x^2cos(x^3)}{sin(x^3)}$"
   ]
  },
  {
   "cell_type": "markdown",
   "id": "6f68f02a-e631-49ef-bda8-a211a4df2651",
   "metadata": {},
   "source": [
    "Рассмотрие еще один пример. Предположим имеем $f=f(x)=x+x^2$. Легко понять что производная данной функции $\\frac{df}{dx} = 2x + 1$. Но попробуем расчитать эту производную с помощью цепного правила. $f=f(x)=x+x^2=sum(x, sqr(x))$"
   ]
  },
  {
   "cell_type": "markdown",
   "id": "93070859-00dc-4dde-8966-fd80707cf8ac",
   "metadata": {},
   "source": [
    "1. Определим порядок операций: $sqr(x) \\rightarrow sum(x, sqr(x))$"
   ]
  },
  {
   "cell_type": "markdown",
   "id": "9859a853-3c4b-4eb5-b62b-90f021dc98ed",
   "metadata": {},
   "source": [
    "2. Произведем замену переменных\n",
    "- $g_1 = g_1(x) = x^2$\n",
    "- $g_2 = g_2(x, g_1) = x + g_1$"
   ]
  },
  {
   "cell_type": "markdown",
   "id": "1591ad12-ea75-455d-938b-cb76347cf067",
   "metadata": {},
   "source": [
    "3. Вычислим частные производные\n",
    "- $\\frac{dg_1}{dx} = 2x$\n",
    "- $\\frac{dg_2}{dg_1} = \\frac{dx}{dg_1} + \\frac{dg_1}{dg_1} = 0 + 1 = 1$"
   ]
  },
  {
   "cell_type": "markdown",
   "id": "22e8d2f0-8e3d-441d-8083-39e2d9adb72e",
   "metadata": {},
   "source": [
    "4. Обратная подстановка не требуется"
   ]
  },
  {
   "cell_type": "markdown",
   "id": "f4dd450a-b8d3-4221-abf6-820de6fa8739",
   "metadata": {},
   "source": [
    "5. Получим результат"
   ]
  },
  {
   "cell_type": "markdown",
   "id": "82116670-2452-4349-a426-989cebf4e71e",
   "metadata": {},
   "source": [
    "$\\frac{df}{dx}=\\frac{dg_2}{dg_1}\\frac{dg_1}{dx}=2x * 1 = 2x$"
   ]
  },
  {
   "cell_type": "markdown",
   "id": "9ef3f5cf-0c0a-4453-aac9-c3ef59252c39",
   "metadata": {},
   "source": [
    "В ходе вычисления цепного правила получен ответ 2x, хотя правильный ответ 2x+1. Причина данной ошибки заключается в том, что при дифференциировании $\\frac{dg_2}{dg_1}$ $\\frac{dx}{dg_1} = 0$. Но подобное вычисление не возможно провести, т.к. $dg_1=x^2$ и зависит от x. Поэтому дифференцииорование сложной функции одной переменной применимо только в тех случаях, когда при замене переменных не возникает скрытых зависимостей дифференциирования."
   ]
  },
  {
   "cell_type": "markdown",
   "id": "bdaef5a7-1e37-4ad0-856a-85adfa3ffab0",
   "metadata": {},
   "source": [
    "<h3>Полное дифференциирование сложной функции одной переменной</h3>"
   ]
  },
  {
   "cell_type": "markdown",
   "id": "ab73e319-2c26-46ab-bdad-15599a7f83df",
   "metadata": {},
   "source": [
    "Для решения описанной выше проблемы существует правило полного дифференциирования сложной функции одной переменной. Данное правило утверждает, что для вычисления $\\frac{d}{dx}f(x, g_1(x), g_2(x), ..., g_n(x))$ необходимо просуммировать все возможные производные $\\frac{df}{dx},\\ \\frac{dg_1}{dx},\\ \\frac{dg_2}{dx},\\ ,...,\\ \\frac{dg_n}{dx}$ зависящие от x. Тогда формула правила полного дифференциирования функции одной переменной примет вид:"
   ]
  },
  {
   "cell_type": "markdown",
   "id": "dbccced9-b9b6-4cf8-9616-5799e9905b1b",
   "metadata": {},
   "source": [
    "$$\\frac{\\partial f(x, g_1, g_2, ..., g_n)}{\\partial x}=\\frac{\\partial f}{\\partial x} + \\frac{\\partial f}{\\partial g_1}\\frac{\\partial g_1}{\\partial x} + \\frac{\\partial f}{\\partial g_2}\\frac{\\partial g_2}{\\partial x} + ... + \\frac{\\partial f}{\\partial g_n}\\frac{\\partial g_n}{\\partial x} =\\frac{\\partial f}{\\partial x} + \\sum\\limits_{i=1}^n \\frac{\\partial f}{\\partial g_i}\\frac{\\partial g_i}{\\partial x}$$"
   ]
  },
  {
   "cell_type": "markdown",
   "id": "df87e007-3083-4a00-a673-f57d7163e005",
   "metadata": {},
   "source": [
    "Для простоты записи предположим $x=g_1(x)$, тогда правило упростится до:"
   ]
  },
  {
   "cell_type": "markdown",
   "id": "b86e443a-d058-4bc4-92ba-484f145bc03f",
   "metadata": {},
   "source": [
    "$$\\frac{\\partial f(g_1, g_2, ..., g_{n+1})}{\\partial x}= \\sum\\limits_{i=1}^{n+1} \\frac{\\partial f}{\\partial g_i}\\frac{\\partial g_i}{\\partial x}$$"
   ]
  },
  {
   "cell_type": "markdown",
   "id": "7752a509-bb19-421b-a26f-c7ac796f3b2b",
   "metadata": {},
   "source": [
    "Следует отметить, что ф-ии $g_i$ могут иметь вид $g_i(x, y, z, ...)$, но в данном случае имеет только значение, что они зависят от $x$. Как видно из приведенных правил полное дифференциирование сводится к суммированию цепных правил отдельных функций зависящих от $x$."
   ]
  },
  {
   "cell_type": "markdown",
   "id": "0e2c6e76-aa93-4d0d-845f-4e0f2197e1bf",
   "metadata": {},
   "source": [
    "Продифференциируем $f(x) = x + x^2$, приведенную в предыдущей главе."
   ]
  },
  {
   "cell_type": "markdown",
   "id": "c452ec1c-4644-4511-9437-8c5816f546b1",
   "metadata": {},
   "source": [
    "1. Определим порядок операций $x^2 \\rightarrow x + x^2 $"
   ]
  },
  {
   "cell_type": "markdown",
   "id": "716c74a9-11cc-427d-b9cf-a3a28332a976",
   "metadata": {},
   "source": [
    "2. Сделаем замены переменных"
   ]
  },
  {
   "cell_type": "markdown",
   "id": "6c9cef64-c487-4156-9f74-64047799087d",
   "metadata": {},
   "source": [
    "- $g_1(x) = x^2$\n",
    "- $g_2(x, g_1) = x + g_1$"
   ]
  },
  {
   "cell_type": "markdown",
   "id": "a705e2f5-8b0f-404c-92ad-562605373fef",
   "metadata": {},
   "source": [
    "3. Вычислить все частные производные"
   ]
  },
  {
   "cell_type": "markdown",
   "id": "05465eee-2ce7-415d-978b-11cf370ed686",
   "metadata": {},
   "source": [
    "- $\\frac{\\partial g_1}{\\partial x} = 2x$\n",
    "- $\\frac{\\partial g_2}{\\partial g_1} = 1$"
   ]
  },
  {
   "cell_type": "markdown",
   "id": "a116f6e5-1a8e-4fca-b612-15f0a5eee41e",
   "metadata": {},
   "source": [
    "4. Делать обратные подстановки не нужно"
   ]
  },
  {
   "cell_type": "markdown",
   "id": "9a8aa95d-d1b6-4685-96f8-a55afc845ad7",
   "metadata": {},
   "source": [
    "5. Дополнительные вычисление не нужны"
   ]
  },
  {
   "cell_type": "markdown",
   "id": "2e5f1b93-17e4-423c-890c-8ef85852cc23",
   "metadata": {},
   "source": [
    "6. Получим результат"
   ]
  },
  {
   "cell_type": "markdown",
   "id": "67d3f2b2-371a-46e8-a8f9-b63715df8e92",
   "metadata": {},
   "source": [
    "$\\frac{\\partial f}{\\partial x} = \\frac{\\partial g_2}{\\partial g_1}\\frac{\\partial g_1}{\\partial x} + \\frac{\\partial g_1}{\\partial x}=2x+1$"
   ]
  },
  {
   "cell_type": "markdown",
   "id": "bdb8a97d-856a-4d25-8194-4bf533db21dd",
   "metadata": {},
   "source": [
    "Получен верный ответ."
   ]
  },
  {
   "cell_type": "markdown",
   "id": "6ac8acf0-31ad-4ec7-9c08-8b59c644694a",
   "metadata": {},
   "source": [
    "Рассмотрим ещё один пример: необходимо вычислить производную $f(x) = cos (x + x^3)$.Необходимо вычислить производную $f(x) = cos (x + x^3)$."
   ]
  },
  {
   "cell_type": "markdown",
   "id": "5aebd11b-f01a-4e84-8e3d-ab03d378252d",
   "metadata": {},
   "source": [
    "1. Определим порядок операций. $x^3 \\rightarrow sum(x, x^3) \\rightarrow cos(sum(x, x^3))$."
   ]
  },
  {
   "cell_type": "markdown",
   "id": "af75c366-6f58-4cf3-aee7-825ccefa6ec7",
   "metadata": {},
   "source": [
    "2. Произведем замену переменных"
   ]
  },
  {
   "cell_type": "markdown",
   "id": "29f53740-9372-4479-a8f7-0af377f23b90",
   "metadata": {},
   "source": [
    "- $g_1(x) = x^3$ \n",
    "- $g_2(x, g_1) = x+g_1$\n",
    "- $g_3(g_2) = cos(g_2)$"
   ]
  },
  {
   "cell_type": "markdown",
   "id": "e7070f3f-a832-4f55-9b88-47e96c6117e0",
   "metadata": {},
   "source": [
    "3. Вычислим частные производные"
   ]
  },
  {
   "cell_type": "markdown",
   "id": "69fb2613-7fdb-4871-9d2f-a1b5b3ba2e78",
   "metadata": {},
   "source": [
    "- $\\frac{\\partial g_1}{\\partial x} = 3x^2$\n",
    "- $\\frac{\\partial g_2}{\\partial g_1} = 0 + 1$\n",
    "- $\\frac{\\partial g_3}{\\partial g2} = -sin(g_2)$"
   ]
  },
  {
   "cell_type": "markdown",
   "id": "5eb49551-b9ac-4f32-a802-88f458d32213",
   "metadata": {},
   "source": [
    "4. Сделаем обратную подстановку"
   ]
  },
  {
   "cell_type": "markdown",
   "id": "1a2b16bf-139a-4595-b7a0-49f26b5ddf99",
   "metadata": {},
   "source": [
    "$\\frac{\\partial g_3}{\\partial g2} = -sin(g_2) = -sin(x+x^3)$"
   ]
  },
  {
   "cell_type": "markdown",
   "id": "25a26f74-1c07-4ab4-a5b3-0f2ffca8eae3",
   "metadata": {},
   "source": [
    "5. Произведем промежуточные вычисления"
   ]
  },
  {
   "cell_type": "markdown",
   "id": "cfc95b7b-2633-435d-996f-6c9eefe890f8",
   "metadata": {},
   "source": [
    "- $\\frac{\\partial g_1}{\\partial x} = 3x^2$\n",
    "- $\\frac{\\partial g_2}{\\partial x} = \\frac{\\partial x}{\\partial x} + \\frac{\\partial g_2}{\\partial g_1}\\frac{\\partial g_1}{\\partial x} = 1 + 3x^2$"
   ]
  },
  {
   "cell_type": "markdown",
   "id": "4f7d0c55-6403-4b4d-bcca-a05d5c93944c",
   "metadata": {},
   "source": [
    "6. Получим результат"
   ]
  },
  {
   "cell_type": "markdown",
   "id": "7dd6c3d0-9084-4c4b-9633-819224da0ef8",
   "metadata": {},
   "source": [
    "$\\frac{\\partial f}{\\partial x} = \\frac{\\partial g_3}{\\partial x} + \\frac{\\partial g_3}{\\partial g_2}\\frac{\\partial g_2}{\\partial x} = 0 - sin(g_2)\\frac{\\partial g_2}{\\partial x} = -sin(x+x^3)(1+3x^2)$"
   ]
  },
  {
   "cell_type": "markdown",
   "id": "df54ee82-4a95-4f04-8cf1-d3e7c65363c4",
   "metadata": {},
   "source": [
    "Как видно из приведенного примера для расчета некоторых производных используются производные рассчитанные на предъидущих шагах (динамическое программирование). Это даёт выигрыш в скорости расчетов на вычислительной технике."
   ]
  },
  {
   "cell_type": "markdown",
   "id": "00c17dd3-8dc3-455e-9243-25cbbab93e8e",
   "metadata": {},
   "source": [
    "Сформулируем общий алгоритм применения цепного правила для полного дифференциировании функции одной переменной:"
   ]
  },
  {
   "cell_type": "markdown",
   "id": "f89cb482-681e-4341-89e4-8ed172acfec8",
   "metadata": {},
   "source": [
    "1. Определить порядок операций.\n",
    "2. Сделать замены переменных.\n",
    "3. Вычислить все частные производные.\n",
    "4. Сделать все обратные подстановки. \n",
    "5. Произведем промежуточные вычисления, перемножив соответствующие производные, полученные на шаге 4.\n",
    "6. Сложить все результаты, полученные на шаге 5."
   ]
  },
  {
   "cell_type": "markdown",
   "id": "ffcfd794-6610-4c6f-9f6e-df6001cbe773",
   "metadata": {},
   "source": [
    "Разберем более сложный пример $f(x)=x^x$"
   ]
  },
  {
   "cell_type": "markdown",
   "id": "9c68c8c1-972c-43eb-a5fa-ae805861edaf",
   "metadata": {},
   "source": [
    "1. Определим порядок операций: $x \\rightarrow x^x$"
   ]
  },
  {
   "cell_type": "markdown",
   "id": "30c72eb4-0d03-4bd9-8693-c94b83ff230b",
   "metadata": {},
   "source": [
    "2. Сделаем замену переменных"
   ]
  },
  {
   "cell_type": "markdown",
   "id": "8a9e568a-8ed8-450c-bd6b-b310c7394709",
   "metadata": {},
   "source": [
    "- $g_1(x) = x$\n",
    "- $g_2(x) = x$\n",
    "- $g_3(g_1, g_2) = g_1^{g_2}$"
   ]
  },
  {
   "cell_type": "markdown",
   "id": "1b7a3334-af68-4cde-ab2d-36671a7fb70e",
   "metadata": {},
   "source": [
    "3. Вычислим частные производные"
   ]
  },
  {
   "cell_type": "markdown",
   "id": "ae671960-1f3e-4100-a14b-5862165e3c2d",
   "metadata": {},
   "source": [
    "- $\\frac{\\partial g_1}{\\partial x} = 1$\n",
    "- $\\frac{\\partial g_2}{\\partial x} = 1$\n",
    "- $\\frac{\\partial g_2}{\\partial g_1} = g_1^{g_2}ln(g_1)$\n",
    "- $\\frac{\\partial g_1}{\\partial g_2} = g_2g_1^{g_2-1}$"
   ]
  },
  {
   "cell_type": "markdown",
   "id": "a2fe6180-9910-4f9f-ad6e-094104cab5a2",
   "metadata": {},
   "source": [
    "Производные $\\frac{\\partial g_1}{\\partial g_2}$ и $\\frac{\\partial g_2}{\\partial g_1}$ берутся, т.к. каждая из функций $g_1$, $g_2$ зависит от x."
   ]
  },
  {
   "cell_type": "markdown",
   "id": "b121b03c-7b32-499a-8b33-c889a327fe7c",
   "metadata": {},
   "source": [
    "4. сделаем обратные подстановки"
   ]
  },
  {
   "cell_type": "markdown",
   "id": "9f3b7326-e064-4f1f-a8c8-41ebff4f750d",
   "metadata": {},
   "source": [
    "- $\\frac{\\partial g_2}{\\partial g_1} = g_1^{g_2}ln(g_1) = x^{x}ln(x)$\n",
    "- $\\frac{\\partial g_1}{\\partial g_2} = g_2g_1^{g_2-1} = xx^{x-1} = x^x$"
   ]
  },
  {
   "cell_type": "markdown",
   "id": "253c7608-1912-41b2-b061-e7d5c80f288b",
   "metadata": {},
   "source": [
    "5. Произведем промежуточные вычисления"
   ]
  },
  {
   "cell_type": "markdown",
   "id": "ce869ec3-b8c8-435f-9f67-a059fd4bd35e",
   "metadata": {},
   "source": [
    "- $\\frac{\\partial g1}{\\partial x} = \\frac{\\partial g1}{\\partial g2}\\frac{\\partial g2}{\\partial x} = x^{x}ln(x) * 1 = x^{x}ln(x)$\n",
    "- $\\frac{\\partial g2}{\\partial x} = \\frac{\\partial g2}{\\partial g1}\\frac{\\partial g1}{\\partial x} = x^{x} * 1 = x^{x}$"
   ]
  },
  {
   "cell_type": "markdown",
   "id": "32c57b3c-e18a-4d5a-b75a-7b1c4fe0ee3d",
   "metadata": {},
   "source": [
    "6. Получим результат"
   ]
  },
  {
   "cell_type": "markdown",
   "id": "41918541-ca77-4d5a-87d5-412bac2fbe67",
   "metadata": {},
   "source": [
    "$\\frac{\\partial f}{\\partial x} = \\frac{\\partial g_2}{\\partial x} + \\frac{\\partial g_1}{\\partial x} = x^{x}+x^{x}ln(x) $"
   ]
  },
  {
   "cell_type": "markdown",
   "id": "8240b936-bf57-4150-9174-f41b2a0f9245",
   "metadata": {},
   "source": [
    "Можно заметить, что формулу $\\frac{\\partial f(g_1, g_2, ..., g_{n+1})}{\\partial x}= \\sum\\limits_{i=1}^{n+1} \\frac{\\partial f}{\\partial g_i}\\frac{\\partial g_i}{\\partial x}$ можно записать в более лаконичной векторной форме:"
   ]
  },
  {
   "cell_type": "markdown",
   "id": "c465c6d1-6c6e-4141-b91b-d1368efbf867",
   "metadata": {},
   "source": [
    "$$\\frac{\\partial f(g_1, g_2, ..., g_{n+1})}{\\partial x}= \\frac{\\partial f}{\\partial \\vec g}\\frac{\\partial \\vec g}{\\partial x}$$"
   ]
  }
 ],
 "metadata": {
  "kernelspec": {
   "display_name": "Python 3",
   "language": "python",
   "name": "python3"
  },
  "language_info": {
   "codemirror_mode": {
    "name": "ipython",
    "version": 3
   },
   "file_extension": ".py",
   "mimetype": "text/x-python",
   "name": "python",
   "nbconvert_exporter": "python",
   "pygments_lexer": "ipython3",
   "version": "3.7.11"
  }
 },
 "nbformat": 4,
 "nbformat_minor": 5
}
