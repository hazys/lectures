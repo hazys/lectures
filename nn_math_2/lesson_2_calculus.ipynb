{
 "cells": [
  {
   "cell_type": "markdown",
   "id": "372e8a27-2417-482a-9f8d-dd8bd7f835cb",
   "metadata": {},
   "source": [
    "# Нейронные сети. Понятно. Детально."
   ]
  },
  {
   "cell_type": "markdown",
   "id": "abae7bf2-d593-48ac-aebc-0af43bbaae2e",
   "metadata": {
    "tags": []
   },
   "source": [
    "## Раздел 2. Математический анализ для нейронных сетей."
   ]
  },
  {
   "cell_type": "code",
   "execution_count": null,
   "id": "ce1550d1-01b1-48cd-be18-3ba0518e7327",
   "metadata": {},
   "outputs": [],
   "source": []
  },
  {
   "cell_type": "markdown",
   "id": "19ed13e9-c168-46a9-92df-87f8e784f4b2",
   "metadata": {
    "tags": []
   },
   "source": [
    "## Производная одной переменной"
   ]
  },
  {
   "cell_type": "markdown",
   "id": "99fd2598-30d7-4491-9da4-71527cd521fa",
   "metadata": {},
   "source": [
    "Вспомним таблицу основных переменных"
   ]
  },
  {
   "cell_type": "markdown",
   "id": "db492899-2473-480a-a201-9ba45f1ef4a4",
   "metadata": {},
   "source": [
    "<table width = 600>\n",
    "    <tr>\n",
    "        <td>Название</td>\n",
    "        <td>$f(x)$</td>\n",
    "        <td>Производная</td>\n",
    "        <td>Пример</td>\n",
    "    </tr>    \n",
    "    <tr>\n",
    "        <td>Константа</td>\n",
    "        <td>$с$</td>\n",
    "        <td>0</td>\n",
    "        <td>${\\frac{df}{dx}}10$=0</td>\n",
    "    </tr>    \n",
    "    <tr>\n",
    "        <td>Умножение на константу</td>\n",
    "        <td>$сf(x)$</td>\n",
    "        <td>$c\\frac{df}{dx}$</td>\n",
    "        <td>$\\frac{d}{dx}2x$=$2$</td>\n",
    "    </tr>    \n",
    "    <tr>\n",
    "        <td>Возведение в степень</td>\n",
    "        <td>$x^n$</td>\n",
    "        <td>$nx^{n-1}$</td>\n",
    "        <td>$\\frac{d}{dx}x^3$=$2x^2$</td>\n",
    "    </tr>    \n",
    "    <tr>\n",
    "        <td>Сумма</td>\n",
    "        <td>$f+g$</td>\n",
    "        <td>$\\frac{df}{dx} + \\frac{dg}{dx}$</td>\n",
    "        <td>$\\frac{d}{dx}(x^2+3x)$=$2x+3$</td>\n",
    "    </tr>    \n",
    "    <tr>\n",
    "        <td>Разность</td>\n",
    "        <td>$f-g$</td>\n",
    "        <td>$\\frac{df}{dx} - \\frac{dg}{dx}$</td>\n",
    "        <td>$\\frac{d}{dx}(x^2-3x)$=$2x-3$</td>\n",
    "    </tr>    \n",
    "   <tr>\n",
    "        <td>Произведение</td>\n",
    "        <td>$fg$</td>\n",
    "        <td>$f\\frac{dg}{dx} + g\\frac{df}{dx}$</td>\n",
    "        <td>$\\frac{d}{dx}(x^2*x)$=$x^2+x*2x$=$3x^2$</td>\n",
    "    </tr>    \n",
    "   <tr>\n",
    "        <td>Цепное правило</td>\n",
    "        <td>$f(g(x))$</td>\n",
    "        <td>$\\frac{df}{dg}\\frac{dg}{dx}$</td>\n",
    "        <td>$\\frac{d}{dx}ln(x^2)=\\frac{1}{x^2}2x=\\frac{2}{x}$</td>\n",
    "    </tr>    \n",
    "\n",
    "\n",
    "</table>\n"
   ]
  },
  {
   "cell_type": "markdown",
   "id": "6e77e6a1-65c8-463c-b8ef-e00257ea6040",
   "metadata": {},
   "source": [
    "## Векторы, матрицы и частные производные"
   ]
  },
  {
   "cell_type": "markdown",
   "id": "b45240af-1bff-4987-a54b-7d2f5a130a6e",
   "metadata": {},
   "source": [
    "Слои нейронных сетей содержат большое количество переменных для которых надо расчитывать производные. Поэтому необходимо уметь рассчитывать производные для функций многих переменных. Например чему равна производная $f(x, y) = x * y$? То есть как меняется значение функции в зависимости от изменений переменных. В первую очередь это зависит от того какую именно переменную мы изменяем? Поэтому получаем не одну производную, а две:"
   ]
  },
  {
   "cell_type": "markdown",
   "id": "d78e6741-7fb5-4353-85eb-8cd2a2f04536",
   "metadata": {},
   "source": [
    "$$вместо\\ одной\\ \\frac{df}{dx}\\ имеем\\ две\\ \\frac{\\partial f(x, y)}{\\partial x}\\ и\\ \\frac{\\partial f(x, y)}{\\partial y},\\ где\\ вместо\\ знака\\ \\frac{d}{dx}\\ используется\\ \\frac{\\partial}{\\partial x}.$$"
   ]
  },
  {
   "cell_type": "markdown",
   "id": "dbae90c0-2753-4847-9599-6bbb83072827",
   "metadata": {},
   "source": [
    "Для функций одной переменной $\\frac{df(x)}{dx}$ и $\\frac{\\partial f(x)}{\\partial y}$ имеют одно и тоже значение, но для большей понятности лучше использовать $\\frac{df(x)}{dx}$. Для простоты для функции одной переменной $f(x)$ производную иногда записывают $f'$. Когда необходимо взять производную $\\frac{\\partial f}{\\partial x}$ все остальные переменные кроме x рассматриваются как константы. Например: $f(x, y) = 4 x^2 y^3$, необходимо вычислить $\\frac{\\partial f}{\\partial x}$ и $\\frac{\\partial f}{\\partial y}$."
   ]
  },
  {
   "cell_type": "markdown",
   "id": "7df6f5a3-d385-4e08-a618-a64056e9f6d6",
   "metadata": {},
   "source": [
    "Вычислим $\\frac{\\partial f}{\\partial x}4 x^2 y^3$, т.к. расчет производной производится по x, то y-константа, а следовательно $4 y^3$ тоже константа. Тогда $\\frac{\\partial f}{\\partial x}4 x^2 y^3$ = $4 y^3\\frac{\\partial f}{\\partial x} x^2$ = $4 y^3 (2 x)$ = $8 y^3 x$. Аналогичным образом рассчитаем $\\frac{\\partial f}{\\partial y}4 x^2 y^3$ = $4 x^2\\frac{\\partial f}{\\partial y} y^3$ = $4 x^2 (3 y^2)$ = $12 x^2 y^2$. Аналогичным образом можно вычислять производные для любых других функций многих переменных."
   ]
  },
  {
   "cell_type": "markdown",
   "id": "ac83280f-1579-4ada-992c-b6629fb61bb7",
   "metadata": {},
   "source": [
    "Возможно заметить, что переменные x и y можно записать в виде вектора $\\vec{v}(x, y)$. Тогда выражение $\\frac{df(x, y)}{d \\vec{v}}$ = $(\\frac{\\partial f(x, y)}{\\partial x}, \\frac{\\partial f(x, y)}{\\partial y} )$, что на самом деле является градиентом $\\nabla f(x,y)$. Поэтому можно думать, что градиент является дифференциированием функции по вектору ее переменных."
   ]
  },
  {
   "cell_type": "markdown",
   "id": "3e7f7afe-1045-4f13-9fbf-0bde9542bb06",
   "metadata": {},
   "source": [
    "$$ \\nabla f(x,y) = \\frac{df(x, y)}{d \\vec{v}} = (\\frac{\\partial f(x, y)}{\\partial x}, \\frac{\\partial f(x, y)}{\\partial y} )$$"
   ]
  },
  {
   "cell_type": "markdown",
   "id": "504b94e1-ee67-46c6-8dea-16766de0a86f",
   "metadata": {},
   "source": [
    "Когда происходит расчет производной одной переменной получается скаляр (одно число). Когда происходит расчет всех частных производных функции многих переменных получается вектор. Что получится если необходимо рассчитать сразу все частные производные нескольких функций от нескольких переменных?"
   ]
  },
  {
   "cell_type": "markdown",
   "id": "5ab543f4-f005-41d7-ae95-3ea4971539b0",
   "metadata": {},
   "source": [
    "Предположим, имеем $f(x, y) = 4 x^2 y^3$ и $g(x, y) = 3 x^3  + y^2$. Необходимо рассчитать все частные производные. Далее для простоты расчетов перечень параметров функции будет опускаться."
   ]
  },
  {
   "cell_type": "markdown",
   "id": "b54956cd-d2c0-48c8-9dc5-3441ce58e7a7",
   "metadata": {},
   "source": [
    "$\\frac{\\partial f}{\\partial x} = \\frac{\\partial f}{\\partial x}4 x^2 y^3$ = $4 y^3\\frac{\\partial f}{\\partial x} x^2$ = $4 y^3 (2 x)$ = $8 y^3 x$"
   ]
  },
  {
   "cell_type": "markdown",
   "id": "5304085f-300d-4c73-8a08-63aedf3dcf01",
   "metadata": {},
   "source": [
    "$\\frac{\\partial f}{\\partial y} = \\frac{\\partial f}{\\partial y}4 x^2 y^3$ = $4 x^2\\frac{\\partial f}{\\partial y} y^3$ = $4 x^2 (3 y^2)$ = $12 x^2 y^2$"
   ]
  },
  {
   "cell_type": "markdown",
   "id": "dea07596-5fc7-4a29-bd99-8f950d0c55ce",
   "metadata": {},
   "source": [
    "$\\frac{\\partial g}{\\partial x} = \\frac{\\partial g}{\\partial x} (3x^3+y^2) = \\frac{\\partial g}{\\partial x} 3x^3 + \\frac{\\partial g}{\\partial x^2} y = 9x^2 + 0 = 9x^2$"
   ]
  },
  {
   "cell_type": "markdown",
   "id": "3c4a5167-a6c8-4449-b119-cd6928858032",
   "metadata": {},
   "source": [
    "$\\frac{\\partial g}{\\partial y} = \\frac{\\partial g}{\\partial y} (3x^3+y^2) = \\frac{\\partial g}{\\partial y} 3x^3 + \\frac{\\partial g}{\\partial y} y^2 = 0 + 2y = 2y$"
   ]
  },
  {
   "cell_type": "markdown",
   "id": "85f8e778-207c-4028-8034-29c8e6c62e8e",
   "metadata": {},
   "source": [
    "Если $ \\vec x = (x, y)$, то получаем:"
   ]
  },
  {
   "cell_type": "markdown",
   "id": "9b668d2f-22a2-49b5-8685-87241c5f649b",
   "metadata": {},
   "source": [
    "$\\nabla f = \\frac{\\partial f}{\\partial \\vec x} = (8y^3x, 12x^2y^2)$"
   ]
  },
  {
   "cell_type": "markdown",
   "id": "fdd772d8-dd79-42e6-92e2-30a82f141b15",
   "metadata": {},
   "source": [
    "$\\nabla g = \\frac{\\partial g}{\\partial \\vec x} = (9x^2, 2y)$"
   ]
  },
  {
   "cell_type": "markdown",
   "id": "3cc21ea1-ebf7-466d-bc4c-5590f1ed65be",
   "metadata": {},
   "source": [
    "Если $\\vec f = ( f, g)$, тогда:"
   ]
  },
  {
   "cell_type": "markdown",
   "id": "87b61364-c3bd-4ca9-8482-822c742963d3",
   "metadata": {},
   "source": [
    "$$\\frac{d \\vec f}{d \\vec x} = \\begin{pmatrix} \\nabla f \\\\ \\nabla g \\\\ \\end{pmatrix} = \\begin{pmatrix} \\frac{\\partial f}{\\partial \\vec x} \\\\ \\frac{\\partial g}{\\partial \\vec x} \\\\ \\end{pmatrix} = \\begin{pmatrix}   \\frac{\\partial f(x,y)}{\\partial x} & \\frac{\\partial f(x,y)}{\\partial y} \\\\ \\frac{\\partial g(x,y)}{\\partial x} & \\frac{\\partial g(x,y)}{\\partial y} \\\\ \\end{pmatrix} = \\begin{pmatrix}  8𝑦^3x & 12x^2y^2 \\\\  9x^2 & 2y \\\\ \\end{pmatrix} $$"
   ]
  },
  {
   "cell_type": "markdown",
   "id": "91cf2a7b-5e46-4906-b5b6-34009d1967e4",
   "metadata": {
    "tags": []
   },
   "source": [
    "Как видно из приведенных расчетов $\\frac{d \\vec f}{d \\vec x}$ становится матрицей. Данная матрица называется матрицей Якоби, обозначается буквой $J$."
   ]
  },
  {
   "cell_type": "markdown",
   "id": "a0f5e9e3-ff96-472a-8bfe-a812c893653c",
   "metadata": {},
   "source": [
    "$$J = \\begin{pmatrix} \\frac{\\partial f}{\\partial \\vec x} \\\\ \\frac{\\partial g}{\\partial \\vec x} \\\\ \\end{pmatrix} =  \\begin{pmatrix} \\nabla f \\\\ \\nabla g \\\\ \\end{pmatrix}$$"
   ]
  },
  {
   "cell_type": "markdown",
   "id": "b26b99f4-15af-4aa6-adf3-2bbdc25a5e44",
   "metadata": {},
   "source": [
    "Матрица Якоби содержит все частные производные ф-ий $f\\ и\\ g$, от переменных $x\\ и\\ y$ в упорядоченном(матрица) виде. Обобщим построение матрицы Якоби на случай n функций и m переменных. Предположим что имеется набор функций $f_1,f_2,f_3,...f_n$ от переменных $x_1, x_2, x_3,...,x_n$, тогда матрица Якоби примет вид:"
   ]
  },
  {
   "cell_type": "markdown",
   "id": "62c1d0e4-2417-4a89-8893-f1cc5db9ca26",
   "metadata": {},
   "source": [
    "$$J \n",
    "= \n",
    "\\begin{pmatrix} \n",
    "    \\nabla f_1 \\\\ \n",
    "    \\nabla f_2 \\\\ \n",
    "    ... \\\\ \n",
    "    \\nabla f_n \\\\\n",
    "\\end{pmatrix}\n",
    "= \n",
    "\\begin{pmatrix} \n",
    "    \\frac{\\partial f_1}{\\partial \\vec x} \\\\ \n",
    "    \\frac{\\partial f_2}{\\partial \\vec x}  \\\\ \n",
    "    ... \\\\ \n",
    "    \\frac{\\partial f_n}{\\partial \\vec x}  \\\\\n",
    "\\end{pmatrix}\n",
    "=\n",
    "\\begin{pmatrix} \n",
    "    \\frac{\\partial f_1}{\\partial x_1} & \\frac{\\partial f_1}{\\partial x_2} & ... & \\frac{\\partial f_1}{\\partial x_m} \\\\ \n",
    "    \\frac{\\partial f_2}{\\partial x_1} & \\frac{\\partial f_1}{\\partial x_2} & ... & \\frac{\\partial f_2}{\\partial x_m} \\\\ \n",
    "    ...                               & ...                               & ... & ...                               \\\\ \n",
    "    \\frac{\\partial f_n}{\\partial x_1} & \\frac{\\partial f_1}{\\partial x_2} & ... & \\frac{\\partial f_n}{\\partial x_m} \\\\\n",
    "\\end{pmatrix}\n",
    "$$ \n"
   ]
  },
  {
   "cell_type": "markdown",
   "id": "e82c06c4-ae3f-45a5-a008-d8dc8393236c",
   "metadata": {},
   "source": [
    "Как видно из приведенной формулы матрица Якоби имеет размер n * m."
   ]
  },
  {
   "cell_type": "markdown",
   "id": "17b110ff-bb51-4265-babd-0c5b53458d2f",
   "metadata": {},
   "source": [
    "Обобщая все вышесказанное можно сделать вывод, что операцию дифференциирования является всего лишь оператором, результаты работы которого приведены в таблице ниже."
   ]
  },
  {
   "cell_type": "markdown",
   "id": "98ec1de5-df5c-470d-9719-28d32203e59b",
   "metadata": {},
   "source": [
    "<table width=600>\n",
    "    <tr>\n",
    "        <td></td>\n",
    "        <td>Скаляр (x)</td>\n",
    "        <td>Вектор ($\\vec x$)</td>\n",
    "    </tr>\n",
    "    <tr>\n",
    "        <td>Скаляр ($f$)</td>\n",
    "        <td>$ \\frac{df}{dx} $</td>\n",
    "        <td>$ \\frac{\\partial f}{\\partial \\vec x} = (\\frac{\\partial f}{\\partial x_1}, \\frac{\\partial f}{\\partial x_2}, ... , \\frac{\\partial f}{\\partial x_m})$ </td>\n",
    "    </tr>\n",
    "    <tr>\n",
    "        <td>Вектор ($\\vec f$)</td>\n",
    "        <td>$\n",
    "            \\frac{\\partial \\vec f}{\\partial x} = \n",
    "            \\begin{pmatrix} \n",
    "                \\frac{\\partial f_1}{\\partial x} \\\\ \n",
    "                \\frac{\\partial f_2}{\\partial x}  \\\\ \n",
    "                ... \\\\ \n",
    "                \\frac{\\partial f_n}{\\partial x}  \\\\\n",
    "            \\end{pmatrix}$</td>\n",
    "        <td>$\n",
    "            \\frac{\\partial \\vec f}{\\partial \\vec x} = \n",
    "            \\begin{pmatrix} \n",
    "                \\frac{\\partial f_1}{\\partial x_1} & \\frac{\\partial f_1}{\\partial x_2} & ... & \\frac{\\partial f_1}{\\partial x_m} \\\\ \n",
    "                \\frac{\\partial f_2}{\\partial x_1} & \\frac{\\partial f_1}{\\partial x_2} & ... & \\frac{\\partial f_2}{\\partial x_m} \\\\ \n",
    "                ...                               & ...                               & ... & ...                               \\\\ \n",
    "                \\frac{\\partial f_n}{\\partial x_1} & \\frac{\\partial f_1}{\\partial x_2} & ... & \\frac{\\partial f_n}{\\partial x_m} \\\\\n",
    "            \\end{pmatrix}$</td>\n",
    "    </tr>\n",
    "</table>"
   ]
  },
  {
   "cell_type": "markdown",
   "id": "58be1bd7-a634-40ab-912d-6963371e4ac8",
   "metadata": {},
   "source": [
    "## Вычисление частных производных в векторно-матричной форме "
   ]
  },
  {
   "cell_type": "markdown",
   "id": "b52d749c-be2e-4f26-8279-30f132304131",
   "metadata": {},
   "source": [
    "Предположим имеется множество (вектор) $\\vec f = (f_1, f_2, ... f_n)$ и множество (вектор) переменных $\\vec x = (x_1, x_2, ... x_m)$."
   ]
  },
  {
   "cell_type": "markdown",
   "id": "14e7a28e-526f-43c6-8f5b-4da87d8617a7",
   "metadata": {},
   "source": [
    "<h3> Вычисление частных производных для констант в векторно-матричной форме </h3>"
   ]
  },
  {
   "cell_type": "markdown",
   "id": "a9c822fc-e1be-4305-a278-b4b3d47753b3",
   "metadata": {},
   "source": [
    " Если $f_1=c_1,\\ f_2=с_2,\\ ...,\\ f_n=c_n$, тогда:"
   ]
  },
  {
   "cell_type": "markdown",
   "id": "dd656a7e-1d4b-4770-8d09-e797811fcb33",
   "metadata": {},
   "source": [
    "<table width=600>\n",
    "    <tr>\n",
    "        <td></td>\n",
    "        <td>Скаляр (x)</td>\n",
    "        <td>Вектор ($\\vec x$)</td>\n",
    "    </tr>\n",
    "    <tr>\n",
    "        <td>Скаляр ($f$)</td>\n",
    "        <td>$ \\frac{df}{dx} $</td>\n",
    "        <td>$ \\frac{\\partial f}{\\partial \\vec x} = (0, 0, ... , 0)$ </td>\n",
    "    </tr>\n",
    "    <tr>\n",
    "        <td>Вектор ($\\vec f$)</td>\n",
    "        <td>$\n",
    "            \\frac{\\partial \\vec f}{\\partial x} = \n",
    "            \\begin{pmatrix} \n",
    "                0 \\\\ \n",
    "                0 \\\\ \n",
    "                ... \\\\ \n",
    "                0 \\\\\n",
    "            \\end{pmatrix}$</td>\n",
    "        <td>$\n",
    "            \\frac{\\partial \\vec f}{\\partial \\vec x} = \n",
    "            \\begin{pmatrix} \n",
    "                0 & 0 & ... & 0 \\\\ \n",
    "                0 & 0 & ... & 0 \\\\ \n",
    "                ... & ... & ... & ...\\\\ \n",
    "                0 & 0 & ... & 0 \\\\\n",
    "            \\end{pmatrix}$</td>\n",
    "    </tr>\n",
    "</table>"
   ]
  },
  {
   "cell_type": "markdown",
   "id": "02572821-8cac-4e23-a7a0-4dfcb6ee0e1d",
   "metadata": {},
   "source": [
    "<h3>Вычисление частных производных для скаляного умножения в векторно-матричной форме</h3>"
   ]
  },
  {
   "cell_type": "markdown",
   "id": "70d5577c-2406-47b1-8c34-0c3418cc7435",
   "metadata": {},
   "source": [
    "Если $f_1=k_1g_1(\\vec x),\\ f_2=k_2g_2(\\vec x),\\ ...,\\ f_n=k_ng_n(\\vec x)$, тогда:"
   ]
  },
  {
   "cell_type": "markdown",
   "id": "7430b946-97f8-4da9-a962-9346c79b28d9",
   "metadata": {},
   "source": [
    "<table width=800>\n",
    "    <tr>\n",
    "        <td></td>\n",
    "        <td>Скаляр (x)</td>\n",
    "        <td>Вектор ($\\vec x$)</td>\n",
    "    </tr>\n",
    "    <tr>\n",
    "        <td>Скаляр ($f$)</td>\n",
    "        <td>$ k\\frac{df}{dx} $</td>\n",
    "        <td>$ \\frac{\\partial f}{\\partial \\vec x} = \n",
    "            (k\\frac{\\partial g}{\\partial x_1}, \n",
    "             k\\frac{\\partial g}{\\partial x_2}, \n",
    "             ... , \n",
    "             k\\frac{\\partial g}{\\partial x_m})$ \n",
    "        </td>\n",
    "    </tr>\n",
    "    <tr>\n",
    "        <td>Вектор ($\\vec f$)</td>\n",
    "        <td>$\n",
    "            \\frac{\\partial \\vec f}{\\partial x} = \n",
    "            \\begin{pmatrix} \n",
    "                 k_1\\frac{\\partial g_1}{\\partial x} \\\\\n",
    "                 k_2\\frac{\\partial g_2}{\\partial x} \\\\\n",
    "                 ... \\\\\n",
    "                 k_n\\frac{\\partial g_n}{\\partial x} \\\\\n",
    "            \\end{pmatrix}$\n",
    "        </td>\n",
    "        <td>$\n",
    "            \\frac{\\partial \\vec f}{\\partial \\vec x} = \n",
    "            \\begin{pmatrix} \n",
    "                k_1\\frac{\\partial f_1}{\\partial x_1} & k_1\\frac{\\partial f_1}{\\partial x_2} & ... & k_1\\frac{\\partial f_1}{\\partial x_m} \\\\ \n",
    "                k_2\\frac{\\partial f_2}{\\partial x_1} & k_2\\frac{\\partial f_1}{\\partial x_2} & ... & k_2\\frac{\\partial f_2}{\\partial x_m} \\\\ \n",
    "                ...                               & ...                               & ... & ...                               \\\\ \n",
    "                k_n\\frac{\\partial f_n}{\\partial x_1} & k_n\\frac{\\partial f_1}{\\partial x_2} & ... & k_n\\frac{\\partial f_n}{\\partial x_m} \\\\\n",
    "            \\end{pmatrix}$</td>\n",
    "    </tr>\n",
    "</table>"
   ]
  },
  {
   "cell_type": "markdown",
   "id": "26c6b833-2304-43ea-b810-39258e57c26a",
   "metadata": {},
   "source": [
    "<h3>Вычисление частных производных функции одной переменной</h3>"
   ]
  },
  {
   "cell_type": "markdown",
   "id": "df02cb09-edcb-4eb5-8d17-a9ca481dfd3a",
   "metadata": {},
   "source": [
    "Если $f_1=g(x_1),\\ f_2=g(x_2),\\ ...,\\ f_n=g(x_n)$, то есть $\\vec f = g(\\vec x)$, например $\\vec f = sin(\\vec x)$ или $\\vec f = e^{\\vec x}$, тогда:"
   ]
  },
  {
   "cell_type": "markdown",
   "id": "6ef69571-536b-48a0-868f-0de5aba3ab0c",
   "metadata": {},
   "source": [
    "<table width=800>\n",
    "    <tr>\n",
    "        <td></td>\n",
    "        <td>Скаляр (x)</td>\n",
    "        <td>Вектор ($\\vec x$)</td>\n",
    "    </tr>\n",
    "    <tr>\n",
    "        <td>Скаляр ($f$)</td>\n",
    "        <td>$ \\frac{df}{dx} $</td>\n",
    "        <td>$ \\frac{\\partial f}{\\partial \\vec x} = \n",
    "            (\\frac{\\partial f}{\\partial g}\\frac{\\partial g}{\\partial x_1}, \n",
    "             \\frac{\\partial f}{\\partial g}\\frac{\\partial g}{\\partial x_2}, \n",
    "             ... , \n",
    "             \\frac{\\partial f}{\\partial g}\\frac{\\partial g}{\\partial x_m})$ \n",
    "        </td>\n",
    "    </tr>    \n",
    "</table>"
   ]
  },
  {
   "cell_type": "markdown",
   "id": "a39df42b-4860-437e-bf93-15a505405f7d",
   "metadata": {},
   "source": [
    "<h3>Вычисление частных производных для бинарных операций в векторно-матричной форме</h3>"
   ]
  },
  {
   "cell_type": "markdown",
   "id": "fa918f75-dc37-43b2-99f9-8ba1c4fa7769",
   "metadata": {},
   "source": [
    "Бинарной $\\circ$ считается такая операция, что если существуют функции $f(g, p)$ (например $f(x)=g(x)+p(x)=sin(x)+cos(x)$) то:"
   ]
  },
  {
   "cell_type": "markdown",
   "id": "509ad89d-d4ae-4d24-9cb3-a35b90fe6b58",
   "metadata": {},
   "source": [
    "$$\\frac{\\partial f}{\\partial x} = \\frac{\\partial g}{\\partial x} \\circ \\frac{\\partial p}{\\partial x}$$"
   ]
  },
  {
   "cell_type": "markdown",
   "id": "3dc93c18-6341-44ca-b075-47e36f9739fe",
   "metadata": {},
   "source": [
    "Многие операции, такие как сложение, вычитание, умножение на скаляр являются бинарными. Бинарные операции имеют ондинаковый алгорит дифференциирования в матрично-векторной форме. "
   ]
  },
  {
   "cell_type": "markdown",
   "id": "907190fd-64f9-40ae-bed7-597c1ccee6b4",
   "metadata": {},
   "source": [
    "Если $f_1=g_1(\\vec x) \\circ p_1(\\vec x),\\ f_2=g_2(\\vec x) \\circ p_2(\\vec x),\\ ...,\\ f_n=g_n(\\vec x) \\circ p_n(\\vec x)$, где $\\circ$ - бинарная операция (+, - и т.д.), тогда:"
   ]
  },
  {
   "cell_type": "markdown",
   "id": "4bf4c2f9-e57c-441e-b1dd-f56f56e67c50",
   "metadata": {},
   "source": [
    "<table width=1000>\n",
    "    <tr>\n",
    "        <td></td>\n",
    "        <td>Скаляр (x)</td>\n",
    "        <td>Вектор ($\\vec x$)</td>\n",
    "    </tr>\n",
    "    <tr>\n",
    "        <td>Скаляр ($f$)</td>\n",
    "        <td>$ \\frac{\\partial g}{\\partial x} \\circ \\frac{\\partial p}{\\partial x} $</td>\n",
    "        <td>$ \\frac{\\partial f}{\\partial \\vec x} = \n",
    "            (\\frac{\\partial g}{\\partial x_1} \\circ \\frac{\\partial p}{\\partial x_1}, \n",
    "             \\frac{\\partial g}{\\partial x_2} \\circ \\frac{\\partial p}{\\partial x_2}, \n",
    "             ... , \n",
    "             \\frac{\\partial g}{\\partial x_m} \\circ \\frac{\\partial p}{\\partial x_m})$ \n",
    "        </td>\n",
    "    </tr>\n",
    "    <tr>\n",
    "        <td>Вектор ($\\vec f$)</td>\n",
    "        <td>$\n",
    "            \\frac{\\partial \\vec f}{\\partial x} = \n",
    "            \\begin{pmatrix} \n",
    "                 \\frac{\\partial g_1}{\\partial x} \\circ \\frac{\\partial p_1}{\\partial x} \\\\\n",
    "                 \\frac{\\partial g_2}{\\partial x} \\circ \\frac{\\partial p_2}{\\partial x} \\\\\n",
    "                 ... \\\\\n",
    "                 \\frac{\\partial g_n}{\\partial x} \\circ \\frac{\\partial p_n}{\\partial x} \\\\\n",
    "            \\end{pmatrix}$\n",
    "        </td>\n",
    "        <td>$\n",
    "            \\frac{\\partial \\vec f}{\\partial \\vec x} = \n",
    "            \\begin{pmatrix} \n",
    "                \\frac{\\partial g_1}{\\partial x_1} \\circ \\frac{\\partial p_1}{\\partial x_1} \n",
    "                    & \\frac{\\partial g_1}{\\partial x_2} \\circ \\frac{\\partial p_1}{\\partial x_2} \n",
    "                    & ... \n",
    "                    & \\frac{\\partial g_1}{\\partial x_m} \\circ \\frac{\\partial p_1}{\\partial x_m} \\\\ \n",
    "                \\frac{\\partial g_2}{\\partial x_1} \\circ \\frac{\\partial p_2}{\\partial x_1} \n",
    "                    & \\frac{\\partial g_2}{\\partial x_2} \\circ \\frac{\\partial p_2}{\\partial x_2} \n",
    "                    & ... \n",
    "                    & \\frac{\\partial g_2}{\\partial x_m} \\circ \\frac{\\partial p_2}{\\partial x_m} \\\\ \n",
    "                ...                               \n",
    "                    &...\n",
    "                    &...\n",
    "                    &...                                    \\\\ \n",
    "                \\frac{\\partial g_n}{\\partial x_1} \\circ \\frac{\\partial p_n}{\\partial x_1} \n",
    "                    & \\frac{\\partial g_n}{\\partial x_2} \\circ \\frac{\\partial p_n}{\\partial x_2} \n",
    "                    & ... \n",
    "                    & \\frac{\\partial g_n}{\\partial x_m} \\circ \\frac{\\partial p_n}{\\partial x_m} \\\\ \n",
    "            \\end{pmatrix}$</td>\n",
    "    </tr>\n",
    "</table>"
   ]
  },
  {
   "cell_type": "markdown",
   "id": "0c7a5180-a23a-4f0b-a9a1-f3bef7ac09ff",
   "metadata": {},
   "source": [
    "Зачастую фунции $g_i = g_i(\\vec x) = g_i(x_1, x_2, ..., x_n)$ и $p_i = p_i(\\vec x) = p_i(x_1, x_2, ..., x_n)$ имеют не весь набор параметров $\\vec x$, а только $x_i$.  Тогда $g_i = g_i(x_i)$ и $p_i = p_i(x_i)$. При дифференциировании $f_i$ по $x_k$ получим $\\frac{\\partial}{\\partial x_k}f_i(x_i)$ = $\\frac{\\partial}{\\partial x_k}g_i(x_i) = 0$, потому что дифференциирование функции по любой переменной не содержащейся в этой функции обратит ее производную в 0. Тогда матрица примет вид "
   ]
  },
  {
   "cell_type": "markdown",
   "id": "74655b7d-c117-493a-be1b-261d55f88cde",
   "metadata": {},
   "source": [
    "$$ \\frac{\\partial \\vec f}{\\partial \\vec x} = \n",
    "            \\begin{pmatrix} \n",
    "                \\frac{\\partial g_1}{\\partial x_1} \\circ \\frac{\\partial p_1}{\\partial x_1} \n",
    "                    & 0 \n",
    "                    & ... \n",
    "                    & 0 \\\\ \n",
    "                0\n",
    "                    & \\frac{\\partial g_2}{\\partial x_2} \\circ \\frac{\\partial p_2}{\\partial x_2} \n",
    "                    & ... \n",
    "                    & 0 \\\\ \n",
    "                ...                               \n",
    "                    &...\n",
    "                    &...\n",
    "                    &...                                    \\\\ \n",
    "                0 \n",
    "                    &0\n",
    "                    & ... \n",
    "                    & \\frac{\\partial g_n}{\\partial x_m} \\circ \\frac{\\partial p_n}{\\partial x_m} \\\\ \n",
    "            \\end{pmatrix}  =   diag(\\frac{\\partial g_1}{\\partial x_1} \\circ \\frac{\\partial p_1}{\\partial x_1} ,\\frac{\\partial g_2}{\\partial x_2} \\circ \\frac{\\partial p_2}{\\partial x_2},...,\\frac{\\partial g_n}{\\partial x_m} \\circ \\frac{\\partial p_n}{\\partial x_m})\n",
    "          $$\n"
   ]
  },
  {
   "cell_type": "markdown",
   "id": "47f6de06-8ee4-486a-a913-922b49b8f670",
   "metadata": {},
   "source": [
    "Например имеем функцию $\\vec f_i(x, w) = g_i(x_i) + p_i(w_i) = x_i + w_i$, тогда "
   ]
  },
  {
   "cell_type": "markdown",
   "id": "16fd5dbf-cc3a-4db3-8619-c4a800d5ef2d",
   "metadata": {},
   "source": [
    "$\\frac{\\partial}{\\partial w_i}(g_i(x_i) + p_i(w_i)) = \\frac{\\partial}{\\partial w_i}w_i+\\frac{\\partial}{\\partial w_i}x_i=1 + 0 = 1$"
   ]
  },
  {
   "cell_type": "markdown",
   "id": "53237ba8-8e56-4a87-8270-5b1e10ae190a",
   "metadata": {},
   "source": [
    "$\\frac{\\partial}{\\partial x_i}(g_i(x_i) + p_i(w_i)) = \\frac{\\partial}{\\partial x_i}w_i+\\frac{\\partial}{\\partial x_i}x_i=0 + 1 = 1$"
   ]
  },
  {
   "cell_type": "markdown",
   "id": "a29bedfd-fe02-460a-b43a-be0c1fa7f48e",
   "metadata": {},
   "source": [
    "И получается, что $\\frac{\\partial \\vec f}{\\partial (\\vec x = (x, w))} = \n",
    "\\begin{pmatrix} \n",
    "                1 & 0 \\\\\n",
    "                0 & 1 \\\\\n",
    "\\end{pmatrix} = diag(1, 1)$"
   ]
  },
  {
   "cell_type": "markdown",
   "id": "ad004bb6-8a54-4af4-b033-f8347e28d191",
   "metadata": {},
   "source": [
    "Отсюда можно рассчитать несколько частных случаев."
   ]
  },
  {
   "cell_type": "markdown",
   "id": "95af5434-996d-429e-8c84-8d801bf75386",
   "metadata": {},
   "source": [
    "* $f = w + x$, $\\frac{\\partial (w+x)}{\\partial w} = diag(...\\frac{\\partial (w_i+x_i)}{\\partial w_i}...) = diag(\\vec 1) = I, \\frac{\\partial (w+x)}{\\partial x} = I$"
   ]
  },
  {
   "cell_type": "markdown",
   "id": "b2ada2ca-dd4c-447f-b6bb-f5398be359f0",
   "metadata": {},
   "source": [
    "* $f = w - x$, $\\frac{\\partial (w-x)}{\\partial w} = diag(...\\frac{\\partial (w_i-x_i)}{\\partial w_i}...) = diag(\\vec 1) = I, \\frac{\\partial (w-x)}{\\partial x} = -I$"
   ]
  },
  {
   "cell_type": "markdown",
   "id": "8eb400b6-a77b-41ff-a7a5-37001c045fd0",
   "metadata": {},
   "source": [
    "* $f = w * x$, $\\frac{\\partial (w*x)}{\\partial w} = diag(...\\frac{\\partial (w_i*x_i)}{\\partial w_i}...) = diag(\\vec x), \\frac{\\partial (w*x)}{\\partial x} = w$"
   ]
  },
  {
   "cell_type": "markdown",
   "id": "3c64293d-a91d-45b6-82f4-c5c9d4ae549b",
   "metadata": {},
   "source": [
    "* $f = w / x$, $\\frac{\\partial ( w/x)}{\\partial w} = diag(...\\frac{\\partial (w_i/x_i)}{\\partial w_i}...) = diag(... \\frac{1}{x_i} ...), \\frac{\\partial (w/x)}{\\partial x} = diag(... \\frac {-w_i}{x_i^2} ...)$"
   ]
  },
  {
   "cell_type": "markdown",
   "id": "75b396c1-cfda-4fce-b0dc-d754fcab958b",
   "metadata": {},
   "source": [
    "Когда необходимо поэлементово умножить вектор на число или прибавить к каждому элементу вектора число, то данное действие можно представить с помощью увеличения размерности. \n",
    "Для этого данное число расширяется до размеров заданного вектора, потом происходит необходимая операция. Пример $\\vec x=(1,2,3)$, необходимо умножить на $k=2$. Тогда необходимо расширить k=2 до вектора $\\vec k=(2, 2, 2)$ и произвести умножение $\\vec k \\vec x = (1 * 2, 2 * 2, 2 * 3) = (2, 4, 6)$. Данную операцию можно записать в виде $y = x * (I * k)$.\n",
    "Аналогичные действия можно сделать и для поэлементного сложения и подобных операций.  Данная операция подчиняется правилу $\\frac{\\partial y}{\\partial x} = diag(... \\frac{\\partial}{\\partial x_i}(f_i(x_i) \\circ g_i(z)) ...)$"
   ]
  },
  {
   "cell_type": "markdown",
   "id": "86836d5d-4cef-4361-ba2e-c0b6b7726739",
   "metadata": {},
   "source": [
    "<h3>Вычисление частных производных суммы </h3>"
   ]
  },
  {
   "cell_type": "markdown",
   "id": "4b2c630f-2790-4bcc-9a25-a4ba385bbdea",
   "metadata": {},
   "source": [
    "Суммирование элементов часто встречающаяся операция в глубоком обучении. Предположим имеем $f(\\vec x) = \\sum_{i=1}^n g_i(\\vec x)$. Необходимо посчитать, чему будет равен $\\frac{\\partial f}{\\partial \\vec x}$. Как описывалось выше \n",
    "$$\\frac{\\partial f}{\\partial \\vec x} = \\big(\\frac{\\partial g}{\\partial x_1}, \\frac{\\partial g}{\\partial x_2}, ... , \\frac{\\partial g}{\\partial x_m} \\big)\n",
    "=\\big(\\frac{\\partial}{\\partial x_1} \\sum\\limits_{i=1}^ng_i(\\vec x), \\frac{\\partial}{\\partial x_2} \\sum\\limits_{i=1}^ng_i(\\vec x), ..., \\frac{\\partial}{\\partial x_n} \\sum\\limits_{i=1}^n g_i(\\vec x)\\big) = \n",
    "\\big(\\sum\\limits_{i=1}^n \\frac{\\partial g_i(\\vec x)}{\\partial x_1}, \\sum\\limits_{i=1}^n \\frac{\\partial g_i(\\vec x)}{\\partial x_2}, ..., \\sum\\limits_{i=1}^n \\frac{\\partial g_i(\\vec x)}{\\partial x_n}\\big)\n",
    "$$."
   ]
  },
  {
   "cell_type": "markdown",
   "id": "a6878f66-e294-4767-aa1a-06675848c737",
   "metadata": {},
   "source": [
    "Рассмотрим случай, когда $f = \\sum x$. Тогда $g_i(\\vec x) = x_i$. Градиент примет вид:"
   ]
  },
  {
   "cell_type": "markdown",
   "id": "8d3aa822-2ffb-4bc2-8e22-c733b328c8c6",
   "metadata": {},
   "source": [
    "$$\\frac{\\partial f}{\\partial \\vec x} = \n",
    "\\big(\\sum\\limits_{i=1}^n \\frac{\\partial g_i(\\vec x)}{\\partial x_1}, \\sum\\limits_{i=1}^n \\frac{\\partial g_i(\\vec x)}{\\partial x_2}, ..., \\sum\\limits_{i=1}^n \\frac{\\partial g_i(\\vec x)}{\\partial x_n}\\big)= \n",
    "\\big(\\sum\\limits_{i=1}^n \\frac{\\partial x_i}{\\partial x_1}, \\sum\\limits_{i=1}^n \\frac{\\partial x_i}{\\partial x_2}, ..., \\sum\\limits_{i=1}^n \\frac{\\partial x_i}{\\partial x_n}  \\big)$$"
   ]
  },
  {
   "cell_type": "markdown",
   "id": "14404b95-4ae0-4cf3-88da-df0a4ff34bb4",
   "metadata": {},
   "source": [
    "т.к. $\\frac{\\partial}{\\partial x_j}x_i = 0$ при $i \\neq j$, то выражение упрощается до"
   ]
  },
  {
   "cell_type": "markdown",
   "id": "2b9220e8-d736-480b-8187-f2e161c33898",
   "metadata": {},
   "source": [
    "$$\\frac{\\partial f}{\\partial \\vec x} = \n",
    "\\big(\\sum\\limits_{i=1}^n \\frac{\\partial x_i}{\\partial x_1}, \\sum\\limits_{i=1}^n \\frac{\\partial x_i}{\\partial x_2}, ..., \\sum\\limits_{i=1}^n \\frac{\\partial x_i}{\\partial x_n}  \\big) = \n",
    "(1, 1, ... 1) = \\vec 1 ^ T$$"
   ]
  },
  {
   "cell_type": "markdown",
   "id": "94307717-a67a-48c7-a225-d5e7f619b602",
   "metadata": {},
   "source": [
    "Необходимо помнить, что при матричном дифференциировании сложной функции важны верные размеры вектора, поэтому вектор $(1, 1, ... 1)$ обязательно должен быть транспонированным $\\vec 1 ^ T$."
   ]
  },
  {
   "cell_type": "markdown",
   "id": "256461c6-c54a-4b11-b9ec-23a33061c249",
   "metadata": {},
   "source": [
    "Рассмотрим другой пример $f(x, k) = \\sum(k \\vec x)$, где k - является скаляром"
   ]
  },
  {
   "cell_type": "markdown",
   "id": "fbbb6697-3b5c-414d-9e07-41c32adf490d",
   "metadata": {},
   "source": [
    "$$\\frac{\\partial f}{\\partial \\vec x} = \n",
    "\\big(\\sum\\limits_{i=1}^n \\frac{\\partial}{\\partial x_1}kx_i, \\sum\\limits_{i=1}^n \\frac{\\partial}{\\partial x_2}kx_i, ..., \\sum\\limits_{i=1}^n \\frac{\\partial}{\\partial x_n}kx_i \\big) =\n",
    "\\big( \\frac{\\partial}{\\partial x_1}kx_1, \\frac{\\partial}{\\partial x_2}kx_2, ..., \\frac{\\partial}{\\partial x_n}kx_n \\big) = \n",
    "(k, k, ..., k)\n",
    "$$"
   ]
  },
  {
   "cell_type": "markdown",
   "id": "1cc37304-b9ac-4b40-9e84-c40a3db3665f",
   "metadata": {},
   "source": [
    "Дифференциирование относительно скаляра k"
   ]
  },
  {
   "cell_type": "markdown",
   "id": "2f2a00df-cdda-4507-aa72-c3bae04009fa",
   "metadata": {},
   "source": [
    "$$\\frac{\\partial f}{\\partial k} = \n",
    "\\frac{\\partial}{\\partial k} \\sum\\limits_{i=1}^n  kx_i = \n",
    "\\sum\\limits_{i=1}^n \\frac{\\partial}{\\partial k}  kx_i = \n",
    "\\sum\\limits_{i=1}^n x_i $$"
   ]
  },
  {
   "cell_type": "markdown",
   "id": "97a4535b-1c2d-41f2-bb5b-8406ec9ddb71",
   "metadata": {},
   "source": [
    "<h3>Вычисление частной производной функций max и min</h3>"
   ]
  },
  {
   "cell_type": "markdown",
   "id": "4604555a-c422-4db1-8267-c3ce8e41d51a",
   "metadata": {},
   "source": [
    "Функция min имеет вид:"
   ]
  },
  {
   "cell_type": "markdown",
   "id": "03c650bb-f08e-4e6d-b19a-3221c24661ac",
   "metadata": {},
   "source": [
    "$\n",
    "min(f, g)=\n",
    "\\begin{equation*}\n",
    " \\begin{cases}\n",
    "   f \\ ,если\\ f < g\\\\\n",
    "   g \\ ,если\\ f \\geq g\\\\\n",
    "\\end{cases}\n",
    "\\end{equation*}$"
   ]
  },
  {
   "cell_type": "markdown",
   "id": "4ee1e369-f4df-4d11-957a-1a6e6f200480",
   "metadata": {},
   "source": [
    "Функция max имеет вид:"
   ]
  },
  {
   "cell_type": "markdown",
   "id": "aabd6e3d-d197-411d-9953-6ead054cdf4b",
   "metadata": {},
   "source": [
    "$\n",
    "max(f, g)=\n",
    "\\begin{equation*}\n",
    " \\begin{cases}\n",
    "   f \\ ,если\\ f > g\\\\\n",
    "   g \\ ,если\\ f \\leq g\\\\\n",
    "\\end{cases}\n",
    "\\end{equation*}$"
   ]
  },
  {
   "cell_type": "markdown",
   "id": "ef7c36ee-735c-4e83-9de8-a5eca232e464",
   "metadata": {},
   "source": [
    "Где $f, g$ - некоторые функции. Тогда производные данных функций примут вид:"
   ]
  },
  {
   "cell_type": "markdown",
   "id": "6064b1cf-4075-4dbd-9046-956cccaad65d",
   "metadata": {},
   "source": [
    "$\n",
    "\\frac{\\partial}{\\partial x}min(f, g)=\n",
    "\\begin{equation*}\n",
    " \\begin{cases}\n",
    "   \\frac{\\partial f}{\\partial x} \\ ,если\\ f < g\\\\\n",
    "   \\frac{\\partial g}{\\partial x} \\ ,если\\ f \\geq g\\\\\n",
    "\\end{cases}\n",
    "\\end{equation*}$"
   ]
  },
  {
   "cell_type": "markdown",
   "id": "e6d56fe2-762b-4424-b079-9da9851b80da",
   "metadata": {},
   "source": [
    "$\n",
    "\\frac{\\partial}{\\partial x}max(f, g)=\n",
    "\\begin{equation*}\n",
    " \\begin{cases}\n",
    "   \\frac{\\partial f}{\\partial x} \\ ,если\\ f > g\\\\\n",
    "   \\frac{\\partial g}{\\partial x} \\ ,если\\ f \\leq g\\\\\n",
    "\\end{cases}\n",
    "\\end{equation*}$"
   ]
  },
  {
   "cell_type": "markdown",
   "id": "49dee03b-e4b6-4933-a0fc-17b8a1ce1d06",
   "metadata": {},
   "source": [
    "### Вычисление частной производной модуля"
   ]
  },
  {
   "cell_type": "code",
   "execution_count": null,
   "id": "2d8f31db-1ac7-4208-a572-4ed8564b99b8",
   "metadata": {},
   "outputs": [],
   "source": []
  },
  {
   "cell_type": "code",
   "execution_count": null,
   "id": "f5389003-192f-4eb4-8ee1-6921d2ceaec5",
   "metadata": {},
   "outputs": [],
   "source": []
  },
  {
   "cell_type": "code",
   "execution_count": null,
   "id": "0ba6ff24-efb3-45d2-9746-378bc0b22646",
   "metadata": {},
   "outputs": [],
   "source": []
  },
  {
   "cell_type": "code",
   "execution_count": null,
   "id": "adae5da4-7780-4ec5-8e14-2337cdc519d4",
   "metadata": {},
   "outputs": [],
   "source": []
  },
  {
   "cell_type": "code",
   "execution_count": null,
   "id": "2ce8ec20-dad7-4668-bc9c-cfc336d47a1e",
   "metadata": {},
   "outputs": [],
   "source": []
  },
  {
   "cell_type": "code",
   "execution_count": null,
   "id": "bc56df38-bff5-419a-8994-f1dde2352d59",
   "metadata": {},
   "outputs": [],
   "source": []
  },
  {
   "cell_type": "code",
   "execution_count": null,
   "id": "33eebc0d-9c39-4659-9090-0614d17d387e",
   "metadata": {},
   "outputs": [],
   "source": []
  },
  {
   "cell_type": "code",
   "execution_count": null,
   "id": "38535498-9397-441a-8f73-68f7f440134c",
   "metadata": {},
   "outputs": [],
   "source": []
  },
  {
   "cell_type": "code",
   "execution_count": null,
   "id": "e6ca6e76-e5b1-4ac4-a602-a28e131b4cb3",
   "metadata": {},
   "outputs": [],
   "source": []
  },
  {
   "cell_type": "code",
   "execution_count": null,
   "id": "8a0882a6-683d-4d81-8fcd-6e6626f78cb5",
   "metadata": {},
   "outputs": [],
   "source": []
  }
 ],
 "metadata": {
  "kernelspec": {
   "display_name": "Python 3",
   "language": "python",
   "name": "python3"
  },
  "language_info": {
   "codemirror_mode": {
    "name": "ipython",
    "version": 3
   },
   "file_extension": ".py",
   "mimetype": "text/x-python",
   "name": "python",
   "nbconvert_exporter": "python",
   "pygments_lexer": "ipython3",
   "version": "3.7.11"
  }
 },
 "nbformat": 4,
 "nbformat_minor": 5
}
